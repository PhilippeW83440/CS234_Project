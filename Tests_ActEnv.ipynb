{
 "cells": [
  {
   "cell_type": "code",
   "execution_count": 1,
   "metadata": {
    "collapsed": true
   },
   "outputs": [],
   "source": [
    "import gym"
   ]
  },
  {
   "cell_type": "code",
   "execution_count": 2,
   "metadata": {},
   "outputs": [
    {
     "name": "stderr",
     "output_type": "stream",
     "text": [
      "[2019-03-10 13:25:41,188] Making new env: Act-v0\n"
     ]
    },
    {
     "name": "stdout",
     "output_type": "stream",
     "text": [
      "SEED 13163959562449809558\n",
      "CV Driver Model\n",
      "CV Driver Model\n",
      "CV Driver Model\n",
      "CV Driver Model\n",
      "CV Driver Model\n",
      "CV Driver Model\n",
      "CV Driver Model\n",
      "CV Driver Model\n",
      "CV Driver Model\n",
      "CV Driver Model\n"
     ]
    }
   ],
   "source": [
    "# to install gym_act:\n",
    "# git clone https://github.com/PhilippeW83440/CS234_Project.git\n",
    "# cd gym-act\n",
    "# pip install -e .\n",
    "import gym_act\n",
    "\n",
    "# source code is in https://github.com/PhilippeW83440/CS234_Project/blob/master/gym-act/gym_act/envs/act_env.py\n",
    "# or if you did: git clone https://github.com/PhilippeW83440/CS234_Project.git\n",
    "# in CS234_Project/gym-act/gym_act/envs/act_env.py\n",
    "env = gym.make(\"Act-v0\")"
   ]
  },
  {
   "cell_type": "code",
   "execution_count": 3,
   "metadata": {},
   "outputs": [
    {
     "name": "stdout",
     "output_type": "stream",
     "text": [
      "reward 0\n"
     ]
    }
   ],
   "source": [
    "action = 0\n",
    "obs, reward, done, info = env.step(action)\n",
    "print(\"reward {}\".format(reward))\n",
    "img = env.render()"
   ]
  },
  {
   "cell_type": "code",
   "execution_count": 4,
   "metadata": {
    "collapsed": true
   },
   "outputs": [],
   "source": [
    "import matplotlib.pyplot as plt\n",
    "import cv2\n",
    "\n",
    "def show_img(img):\n",
    "    plt.imshow(img)\n",
    "    plt.show()\n",
    "    \n",
    "def  resize_images(images, f=3):\n",
    "    big_images = []\n",
    "    for img in images:\n",
    "        big_images.append(cv2.resize(img, None, fx=f, fy=f))\n",
    "    return big_images\n",
    "\n",
    "plt.rcParams[\"figure.figsize\"]=10,10"
   ]
  },
  {
   "cell_type": "code",
   "execution_count": 5,
   "metadata": {},
   "outputs": [
    {
     "name": "stdout",
     "output_type": "stream",
     "text": [
      "====> Start episode 0\n",
      "CV Driver Model\n",
      "CV Driver Model\n",
      "CV Driver Model\n",
      "CV Driver Model\n",
      "CV Driver Model\n",
      "CV Driver Model\n",
      "CV Driver Model\n",
      "CV Driver Model\n",
      "CV Driver Model\n",
      "CV Driver Model\n",
      "Step 0: action=0.0 reward=0.0 done=False\n",
      "Step 1: action=0.0 reward=0.0 done=False\n",
      "Step 2: action=0.0 reward=0.0 done=False\n",
      "Step 3: action=0.0 reward=0.0 done=False\n",
      "Step 4: action=0.0 reward=0.0 done=False\n",
      "Step 5: action=0.0 reward=0.0 done=False\n",
      "Step 6: action=0.0 reward=0.0 done=False\n",
      "Step 7: action=0.0 reward=0.0 done=False\n",
      "Step 8: action=0.0 reward=0.0 done=False\n",
      "Step 9: action=0.0 reward=0.0 done=False\n",
      "Step 10: action=0.0 reward=0.0 done=False\n",
      "Step 11: action=0.0 reward=0.0 done=False\n",
      "Step 12: action=0.0 reward=0.0 done=False\n",
      "Step 13: action=0.0 reward=0.0 done=False\n",
      "Step 14: action=0.0 reward=0.0 done=False\n",
      "Step 15: action=0.0 reward=0.0 done=False\n",
      "Step 16: action=0.0 reward=0.0 done=False\n",
      "Step 17: action=0.0 reward=0.0 done=False\n",
      "Step 18: action=0.0 reward=0.0 done=False\n",
      "Step 19: action=0.0 reward=0.0 done=False\n",
      "Step 20: action=0.0 reward=0.0 done=False\n",
      "Step 21: action=0.0 reward=-1000.0 done=True\n",
      "End of episode 0 with cumulated_reward -1000.0\n",
      "====> Start episode 1\n",
      "CV Driver Model\n",
      "CV Driver Model\n",
      "CV Driver Model\n",
      "CV Driver Model\n",
      "CV Driver Model\n",
      "CV Driver Model\n",
      "CV Driver Model\n",
      "CV Driver Model\n",
      "CV Driver Model\n",
      "CV Driver Model\n",
      "Step 0: action=0.0 reward=0.0 done=False\n",
      "Step 1: action=0.0 reward=0.0 done=False\n",
      "Step 2: action=0.0 reward=0.0 done=False\n",
      "Step 3: action=0.0 reward=0.0 done=False\n",
      "Step 4: action=0.0 reward=0.0 done=False\n",
      "Step 5: action=0.0 reward=0.0 done=False\n",
      "Step 6: action=0.0 reward=0.0 done=False\n",
      "Step 7: action=0.0 reward=0.0 done=False\n",
      "Step 8: action=0.0 reward=0.0 done=False\n",
      "Step 9: action=0.0 reward=0.0 done=False\n",
      "Step 10: action=0.0 reward=0.0 done=False\n",
      "Step 11: action=0.0 reward=0.0 done=False\n",
      "Step 12: action=0.0 reward=0.0 done=False\n",
      "Step 13: action=0.0 reward=0.0 done=False\n",
      "Step 14: action=0.0 reward=0.0 done=False\n",
      "Step 15: action=0.0 reward=0.0 done=False\n",
      "Step 16: action=0.0 reward=0.0 done=False\n",
      "Step 17: action=0.0 reward=0.0 done=False\n",
      "Step 18: action=0.0 reward=-1000.0 done=True\n",
      "End of episode 1 with cumulated_reward -1000.0\n",
      "====> Start episode 2\n",
      "CV Driver Model\n",
      "CV Driver Model\n",
      "CV Driver Model\n",
      "CV Driver Model\n",
      "CV Driver Model\n",
      "CV Driver Model\n",
      "CV Driver Model\n",
      "CV Driver Model\n",
      "CV Driver Model\n",
      "CV Driver Model\n",
      "Step 0: action=0.0 reward=0.0 done=False\n",
      "Step 1: action=0.0 reward=0.0 done=False\n",
      "Step 2: action=0.0 reward=0.0 done=False\n",
      "Step 3: action=0.0 reward=0.0 done=False\n",
      "Step 4: action=0.0 reward=0.0 done=False\n",
      "Step 5: action=0.0 reward=0.0 done=False\n",
      "Step 6: action=0.0 reward=0.0 done=False\n",
      "Step 7: action=0.0 reward=0.0 done=False\n",
      "Step 8: action=0.0 reward=-1000.0 done=True\n",
      "End of episode 2 with cumulated_reward -1000.0\n",
      "====> Start episode 3\n",
      "CV Driver Model\n",
      "CV Driver Model\n",
      "CV Driver Model\n",
      "CV Driver Model\n",
      "CV Driver Model\n",
      "CV Driver Model\n",
      "CV Driver Model\n",
      "CV Driver Model\n",
      "CV Driver Model\n",
      "CV Driver Model\n",
      "Step 0: action=0.0 reward=0.0 done=False\n",
      "Step 1: action=0.0 reward=0.0 done=False\n",
      "Step 2: action=0.0 reward=0.0 done=False\n",
      "Step 3: action=0.0 reward=0.0 done=False\n",
      "Step 4: action=0.0 reward=0.0 done=False\n",
      "Step 5: action=0.0 reward=0.0 done=False\n",
      "Step 6: action=0.0 reward=0.0 done=False\n",
      "Step 7: action=0.0 reward=0.0 done=False\n",
      "Step 8: action=0.0 reward=0.0 done=False\n",
      "Step 9: action=0.0 reward=0.0 done=False\n",
      "Step 10: action=0.0 reward=0.0 done=False\n",
      "Step 11: action=0.0 reward=0.0 done=False\n",
      "Step 12: action=0.0 reward=0.0 done=False\n",
      "Step 13: action=0.0 reward=0.0 done=False\n",
      "Step 14: action=0.0 reward=0.0 done=False\n",
      "Step 15: action=0.0 reward=0.0 done=False\n",
      "Step 16: action=0.0 reward=0.0 done=False\n",
      "Step 17: action=0.0 reward=0.0 done=False\n",
      "Step 18: action=0.0 reward=0.0 done=False\n",
      "Step 19: action=0.0 reward=0.0 done=False\n",
      "Step 20: action=0.0 reward=0.0 done=False\n",
      "Step 21: action=0.0 reward=0.0 done=False\n",
      "Step 22: action=0.0 reward=0.0 done=False\n",
      "Step 23: action=0.0 reward=0.0 done=False\n",
      "Step 24: action=0.0 reward=0.0 done=False\n",
      "Step 25: action=0.0 reward=0.0 done=False\n",
      "Step 26: action=0.0 reward=0.0 done=False\n",
      "Step 27: action=0.0 reward=-1000.0 done=True\n",
      "End of episode 3 with cumulated_reward -1000.0\n",
      "====> Start episode 4\n",
      "CV Driver Model\n",
      "CV Driver Model\n",
      "CV Driver Model\n",
      "CV Driver Model\n",
      "CV Driver Model\n",
      "CV Driver Model\n",
      "CV Driver Model\n",
      "CV Driver Model\n",
      "CV Driver Model\n",
      "CV Driver Model\n",
      "Step 0: action=0.0 reward=0.0 done=False\n",
      "Step 1: action=0.0 reward=0.0 done=False\n",
      "Step 2: action=0.0 reward=0.0 done=False\n",
      "Step 3: action=0.0 reward=0.0 done=False\n",
      "Step 4: action=0.0 reward=0.0 done=False\n",
      "Step 5: action=0.0 reward=0.0 done=False\n",
      "Step 6: action=0.0 reward=0.0 done=False\n",
      "Step 7: action=0.0 reward=0.0 done=False\n",
      "Step 8: action=0.0 reward=0.0 done=False\n",
      "Step 9: action=0.0 reward=0.0 done=False\n",
      "Step 10: action=0.0 reward=0.0 done=False\n",
      "Step 11: action=0.0 reward=0.0 done=False\n",
      "Step 12: action=0.0 reward=0.0 done=False\n",
      "Step 13: action=0.0 reward=0.0 done=False\n",
      "Step 14: action=0.0 reward=-1000.0 done=True\n",
      "End of episode 4 with cumulated_reward -1000.0\n",
      "METRICS: SAFETY %collisions = 1.0, COMFORT MeanHardBrake = nan, EFFICIENCY MeanStepsToGoal = nan\n"
     ]
    },
    {
     "name": "stderr",
     "output_type": "stream",
     "text": [
      "/home/phw/anaconda3/envs/py36/lib/python3.6/site-packages/numpy/core/fromnumeric.py:2957: RuntimeWarning: Mean of empty slice.\n",
      "  out=out, **kwargs)\n",
      "/home/phw/anaconda3/envs/py36/lib/python3.6/site-packages/numpy/core/_methods.py:80: RuntimeWarning: invalid value encountered in double_scalars\n",
      "  ret = ret.dtype.type(ret / rcount)\n"
     ]
    }
   ],
   "source": [
    "import numpy as np\n",
    "\n",
    "max_episodes = 5\n",
    "max_steps = 120\n",
    "\n",
    "# METRICS\n",
    "metric_success = 0 # EFFICIENCY\n",
    "metric_steps_to_goal = [] # SAFETY\n",
    "metric_hardbrake = [] # COMFORT\n",
    "\n",
    "for episode in range(max_episodes):\n",
    "    print(\"====> Start episode {}\".format(episode))\n",
    "    env.reset()\n",
    "    cumulated_reward = 0\n",
    "    images = []\n",
    "    \n",
    "    hardbrake = 0    \n",
    "    for n in range(max_steps):\n",
    "        action = 0.0\n",
    "        if action <= -2:\n",
    "            hardbrake += 1\n",
    "        state, reward, done, info = env.step(action)\n",
    "        cumulated_reward += reward\n",
    "        print(\"Step {}: action={} reward={} done={}\".format(n, action, reward, done)) # PHW DEBUG\n",
    "        img = env.render()\n",
    "        images.append(img)\n",
    "        if done is True:\n",
    "            if info == \"success\":\n",
    "                metric_success += 1\n",
    "                metric_steps_to_goal.append(n)\n",
    "                metric_hardbrake.append(hardbrake)\n",
    "            print(\"End of episode {} with cumulated_reward {}\".format(episode, cumulated_reward))\n",
    "            break\n",
    "            \n",
    "print(\"METRICS: SAFETY %collisions = {}, COMFORT MeanHardBrake = {}, EFFICIENCY MeanStepsToGoal = {}\".format(1-metric_success/max_episodes, np.mean(metric_hardbrake), np.mean(metric_steps_to_goal)))"
   ]
  },
  {
   "cell_type": "code",
   "execution_count": 6,
   "metadata": {},
   "outputs": [
    {
     "name": "stdout",
     "output_type": "stream",
     "text": [
      "[]\n",
      "0\n",
      "[]\n",
      "5\n"
     ]
    }
   ],
   "source": [
    "print(metric_hardbrake)\n",
    "print(metric_success)\n",
    "print(metric_steps_to_goal)\n",
    "print(max_episodes)"
   ]
  },
  {
   "cell_type": "code",
   "execution_count": 7,
   "metadata": {},
   "outputs": [
    {
     "data": {
      "image/png": "[encoded data removed]",
      "text/plain": [
       "<Figure size 720x720 with 1 Axes>"
      ]
     },
     "metadata": {},
     "output_type": "display_data"
    }
   ],
   "source": [
    "show_img(images[8])"
   ]
  },
  {
   "cell_type": "markdown",
   "metadata": {},
   "source": [
    "# Visualization"
   ]
  },
  {
   "cell_type": "code",
   "execution_count": 8,
   "metadata": {
    "collapsed": true
   },
   "outputs": [],
   "source": [
    "import imageio\n",
    "from IPython.core.display import HTML"
   ]
  },
  {
   "cell_type": "code",
   "execution_count": 9,
   "metadata": {},
   "outputs": [
    {
     "data": {
      "text/html": [
       "<img src=\"img/visu.gif\"/>"
      ],
      "text/plain": [
       "<IPython.core.display.HTML object>"
      ]
     },
     "execution_count": 9,
     "metadata": {},
     "output_type": "execute_result"
    }
   ],
   "source": [
    "imageio.mimsave('img/visu.gif', images, duration=0.2)\n",
    "HTML(\"\"\"<img src=\"img/visu.gif\"/>\"\"\")"
   ]
  },
  {
   "cell_type": "code",
   "execution_count": 10,
   "metadata": {},
   "outputs": [
    {
     "data": {
      "text/html": [
       "<img src=\"img/visu2.gif\"/>"
      ],
      "text/plain": [
       "<IPython.core.display.HTML object>"
      ]
     },
     "execution_count": 10,
     "metadata": {},
     "output_type": "execute_result"
    }
   ],
   "source": [
    "big_images = resize_images(images, f=2)\n",
    "imageio.mimsave('img/visu2.gif', big_images, duration=0.2)\n",
    "HTML(\"\"\"<img src=\"img/visu2.gif\"/>\"\"\")"
   ]
  },
  {
   "cell_type": "code",
   "execution_count": null,
   "metadata": {
    "collapsed": true
   },
   "outputs": [],
   "source": []
  }
 ],
 "metadata": {
  "kernelspec": {
   "display_name": "Python [conda env:py36]",
   "language": "python",
   "name": "conda-env-py36-py"
  },
  "language_info": {
   "codemirror_mode": {
    "name": "ipython",
    "version": 3
   },
   "file_extension": ".py",
   "mimetype": "text/x-python",
   "name": "python",
   "nbconvert_exporter": "python",
   "pygments_lexer": "ipython3",
   "version": "3.6.2"
  }
 },
 "nbformat": 4,
 "nbformat_minor": 2
}
