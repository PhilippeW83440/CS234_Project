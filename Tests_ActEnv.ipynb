{
 "cells": [
  {
   "cell_type": "code",
   "execution_count": 1,
   "metadata": {
    "collapsed": true
   },
   "outputs": [],
   "source": [
    "import gym"
   ]
  },
  {
   "cell_type": "code",
   "execution_count": 2,
   "metadata": {},
   "outputs": [
    {
     "name": "stderr",
     "output_type": "stream",
     "text": [
      "[2019-03-05 16:51:28,700] Making new env: Act-v0\n"
     ]
    },
    {
     "name": "stdout",
     "output_type": "stream",
     "text": [
      "SEED 17460018659593759927\n",
      "[100   0   0  20  43 181  13   4  36  25  19   2  33  87  19   0  20  63\n",
      "  16   0   6  47  17   4 151 110 -16  -4 169  91 -16  -3 175 161 -16   0\n",
      " 171 164 -18  -1 170  49 -13  -2]\n"
     ]
    }
   ],
   "source": [
    "# to install gym_act:\n",
    "# git clone https://github.com/PhilippeW83440/CS234_Project.git\n",
    "# cd gym-act\n",
    "# pip install -e .\n",
    "import gym_act\n",
    "\n",
    "# source code is in https://github.com/PhilippeW83440/CS234_Project/blob/master/gym-act/gym_act/envs/act_env.py\n",
    "# or if you did: git clone https://github.com/PhilippeW83440/CS234_Project.git\n",
    "# in CS234_Project/gym-act/gym_act/envs/act_env.py\n",
    "env = gym.make(\"Act-v0\")"
   ]
  },
  {
   "cell_type": "code",
   "execution_count": 3,
   "metadata": {},
   "outputs": [
    {
     "name": "stdout",
     "output_type": "stream",
     "text": [
      "reward -76.68876729219286\n"
     ]
    }
   ],
   "source": [
    "action = 0\n",
    "obs, reward, done, info = env.step(action)\n",
    "print(\"reward {}\".format(reward))\n",
    "img = env.render()"
   ]
  },
  {
   "cell_type": "code",
   "execution_count": 4,
   "metadata": {
    "collapsed": true
   },
   "outputs": [],
   "source": [
    "import matplotlib.pyplot as plt\n",
    "import cv2\n",
    "\n",
    "def show_img(img):\n",
    "    plt.imshow(img)\n",
    "    plt.show()\n",
    "    \n",
    "def  resize_images(images, f=3):\n",
    "    big_images = []\n",
    "    for img in images:\n",
    "        big_images.append(cv2.resize(img, None, fx=f, fy=f))\n",
    "    return big_images\n",
    "\n",
    "plt.rcParams[\"figure.figsize\"]=10,10"
   ]
  },
  {
   "cell_type": "code",
   "execution_count": 5,
   "metadata": {},
   "outputs": [
    {
     "name": "stdout",
     "output_type": "stream",
     "text": [
      "====> Start episode 0\n",
      "[100   0   0  20  35  83  20   2  22  76  10   1   7 182  10   1  45 164\n",
      "  14   0  18  34  20   2 174  72 -16  -2 180 160 -11   0 181  96 -21  -2\n",
      " 156 125 -21  -3 155 180 -19   0]\n",
      "Step 0: action=0.0 reward=-75.30370087968163 done=False\n",
      "Step 1: action=0.0 reward=-77.5942966206093 done=False\n",
      "Step 2: action=0.0 reward=-79.88391016722936 done=False\n",
      "Step 3: action=0.0 reward=-82.17251655448307 done=False\n",
      "Step 4: action=0.0 reward=-84.46008920152308 done=False\n",
      "Step 5: action=0.0 reward=-86.74659977248324 done=False\n",
      "Step 6: action=0.0 reward=-89.03201802091131 done=False\n",
      "Step 7: action=0.0 reward=-91.31631161546605 done=False\n",
      "Step 8: action=0.0 reward=-94.53116479902133 done=False\n",
      "Step 9: action=0.0 reward=-97.43793671352891 done=False\n",
      "Step 10: action=0.0 reward=-100.16644677563656 done=False\n",
      "Step 11: action=0.0 reward=-102.8197390199079 done=False\n",
      "Step 12: action=0.0 reward=-105.42808463986196 done=False\n",
      "Step 13: action=0.0 reward=-108.00542885607774 done=False\n",
      "Step 14: action=0.0 reward=-107.27161935678625 done=False\n",
      "Step 15: action=0.0 reward=-109.54542333082486 done=False\n",
      "Step 16: action=0.0 reward=-109.51877995333014 done=False\n",
      "Step 17: action=0.0 reward=-107.14412778116684 done=False\n",
      "done: dist_nearest_obj 7.280109889280518, y-ego 76\n",
      "Step 18: action=0.0 reward=-1109.5238453979225 done=True\n",
      "End of episode 0 with cumulated_reward -2817.902039456452\n",
      "====> Start episode 1\n",
      "[100   0   0  20  47 143  16   4  31  51  12   3  35  99  24   0  27 115\n",
      "  13   4  24 140  21   2 187 109 -23   0 196 137 -10  -4 192 133 -10  -1\n",
      " 166  69 -15   0 163 129 -17   0]\n",
      "Step 0: action=0.0 reward=-77.97953843422526 done=False\n",
      "Step 1: action=0.0 reward=-79.97953843422526 done=False\n",
      "Step 2: action=0.0 reward=-81.97953843422526 done=False\n",
      "Step 3: action=0.0 reward=-83.97953843422526 done=False\n",
      "Step 4: action=0.0 reward=-85.97953843422526 done=False\n",
      "Step 5: action=0.0 reward=-87.97953843422526 done=False\n",
      "Step 6: action=0.0 reward=-89.97953843422526 done=False\n",
      "Step 7: action=0.0 reward=-91.97953843422526 done=False\n",
      "Step 8: action=0.0 reward=-93.97953843422526 done=False\n",
      "Step 9: action=0.0 reward=-95.97953843422528 done=False\n",
      "Step 10: action=0.0 reward=-97.97953843422526 done=False\n",
      "Step 11: action=0.0 reward=-99.97953843422525 done=False\n",
      "Step 12: action=0.0 reward=-101.97953843422526 done=False\n",
      "Step 13: action=0.0 reward=-103.97953843422526 done=False\n",
      "Step 14: action=0.0 reward=-105.97953843422528 done=False\n",
      "Step 15: action=0.0 reward=-107.97953843422526 done=False\n",
      "Step 16: action=0.0 reward=-109.97953843422525 done=False\n",
      "Step 17: action=0.0 reward=-104.18046156577473 done=False\n",
      "Step 18: action=0.0 reward=-106.18046156577475 done=False\n",
      "Step 19: action=0.0 reward=-108.18046156577473 done=False\n",
      "Step 20: action=0.0 reward=-95.78628088138043 done=False\n",
      "Step 21: action=0.0 reward=-97.73758074536603 done=False\n",
      "Step 22: action=0.0 reward=-99.65106350547359 done=False\n",
      "Step 23: action=0.0 reward=-101.52306701455774 done=False\n",
      "Step 24: action=0.0 reward=-103.34852492935559 done=False\n",
      "Step 25: action=0.0 reward=-105.1202648944905 done=False\n",
      "Step 26: action=0.0 reward=-106.82772941899371 done=False\n",
      "Step 27: action=0.0 reward=-108.45441334695549 done=False\n",
      "Step 28: action=0.0 reward=-109.97197379216807 done=False\n",
      "Step 29: action=0.0 reward=-104.4883618531077 done=False\n",
      "Step 30: action=0.0 reward=-107.69709042930668 done=False\n",
      "Step 31: action=0.0 reward=0.0 done=False\n",
      "Step 32: action=0.0 reward=0.0 done=False\n",
      "Step 33: action=0.0 reward=0.0 done=False\n",
      "Step 34: action=0.0 reward=0.0 done=False\n",
      "Step 35: action=0.0 reward=0.0 done=False\n",
      "Step 36: action=0.0 reward=0.0 done=False\n",
      "Step 37: action=0.0 reward=0.0 done=False\n",
      "Step 38: action=0.0 reward=0.0 done=False\n",
      "Step 39: action=0.0 reward=0.0 done=False\n",
      "Step 40: action=0.0 reward=0.0 done=False\n",
      "Step 41: action=0.0 reward=0.0 done=False\n",
      "Step 42: action=0.0 reward=0.0 done=False\n",
      "Step 43: action=0.0 reward=0.0 done=False\n",
      "Step 44: action=0.0 reward=0.0 done=False\n",
      "Step 45: action=0.0 reward=0.0 done=False\n",
      "Step 46: action=0.0 reward=0.0 done=False\n",
      "Step 47: action=0.0 reward=0.0 done=False\n",
      "Step 48: action=0.0 reward=0.0 done=False\n",
      "done: dist_nearest_obj 85.0235261559999, y-ego 200\n",
      "Step 49: action=0.0 reward=0.0 done=True\n",
      "End of episode 1 with cumulated_reward -3056.79988889031\n",
      "====> Start episode 2\n",
      "[100   0   0  20  20  96  21   2  25 103  17   1  31  47  18   4  47  74\n",
      "  20   4  21 127  23   1 195 160 -18  -4 162  44 -12   0 172  60 -24  -3\n",
      " 196  38 -19   0 191 152 -16  -1]\n",
      "Step 0: action=0.0 reward=-88.0449957911259 done=False\n",
      "Step 1: action=0.0 reward=-90.14900313804468 done=False\n",
      "Step 2: action=0.0 reward=-92.25236980405907 done=False\n",
      "Step 3: action=0.0 reward=-94.35508450826832 done=False\n",
      "Step 4: action=0.0 reward=-96.45713537672509 done=False\n",
      "Step 5: action=0.0 reward=-98.55850990440614 done=False\n",
      "Step 6: action=0.0 reward=-100.65919491376546 done=False\n",
      "Step 7: action=0.0 reward=-102.75917650949332 done=False\n",
      "Step 8: action=0.0 reward=-104.8584400290535 done=False\n",
      "Step 9: action=0.0 reward=-106.95696998851267 done=False\n",
      "Step 10: action=0.0 reward=-109.05475002310807 done=False\n",
      "Step 11: action=0.0 reward=-103.6355674948223 done=False\n",
      "done: dist_nearest_obj 8.602325267042627, y-ego 52\n",
      "Step 12: action=0.0 reward=-1105.7927339259784 done=True\n",
      "End of episode 2 with cumulated_reward -2293.5339314073626\n",
      "====> Start episode 3\n",
      "[100   0   0  20  42  95  10   0  30  88  11   1  44  93  21   3  30  49\n",
      "  17   1  23  75  16   0 156  91 -14  -4 188  33 -18  -3 150 121 -24   0\n",
      " 185  39 -23  -2 164 103 -12  -2]\n",
      "Step 0: action=0.0 reward=-78.97912592280521 done=False\n",
      "Step 1: action=0.0 reward=-81.08179115009811 done=False\n",
      "Step 2: action=0.0 reward=-83.18432722849946 done=False\n",
      "Step 3: action=0.0 reward=-85.2867344548772 done=False\n",
      "Step 4: action=0.0 reward=-87.38901311588116 done=False\n",
      "Step 5: action=0.0 reward=-89.49116348804979 done=False\n",
      "Step 6: action=0.0 reward=-91.59318583791287 done=False\n",
      "Step 7: action=0.0 reward=-93.69508042208992 done=False\n",
      "Step 8: action=0.0 reward=-95.79684748738457 done=False\n",
      "Step 9: action=0.0 reward=-97.89848727087491 done=False\n",
      "Step 10: action=0.0 reward=-100.0 done=False\n",
      "Step 11: action=0.0 reward=-102.10138589264233 done=False\n",
      "Step 12: action=0.0 reward=-104.20264515720677 done=False\n",
      "Step 13: action=0.0 reward=-106.30377799269566 done=False\n",
      "Step 14: action=0.0 reward=-108.40478458878019 done=False\n",
      "Step 15: action=0.0 reward=-101.05021792506366 done=False\n",
      "done: dist_nearest_obj 7.810249675906654, y-ego 68\n",
      "Step 16: action=0.0 reward=-1103.2913609753507 done=True\n",
      "End of episode 3 with cumulated_reward -2609.749928910212\n",
      "====> Start episode 4\n",
      "[100   0   0  20   1  43  24   2  26 138  21   1  47 109  17   0  38 134\n",
      "  19   4  12 117  23   0 158 134 -23  -4 189 153 -18  -2 190  59 -12   0\n",
      " 163 134 -12   0 172  25 -21  -1]\n",
      "Step 0: action=0.0 reward=0.0 done=False\n",
      "Step 1: action=0.0 reward=0.0 done=False\n",
      "Step 2: action=0.0 reward=0.0 done=False\n",
      "Step 3: action=0.0 reward=0.0 done=False\n",
      "Step 4: action=0.0 reward=0.0 done=False\n",
      "Step 5: action=0.0 reward=0.0 done=False\n",
      "Step 6: action=0.0 reward=0.0 done=False\n",
      "Step 7: action=0.0 reward=0.0 done=False\n",
      "Step 8: action=0.0 reward=0.0 done=False\n",
      "Step 9: action=0.0 reward=0.0 done=False\n",
      "Step 10: action=0.0 reward=0.0 done=False\n",
      "Step 11: action=0.0 reward=0.0 done=False\n",
      "Step 12: action=0.0 reward=0.0 done=False\n",
      "Step 13: action=0.0 reward=0.0 done=False\n",
      "Step 14: action=0.0 reward=0.0 done=False\n",
      "Step 15: action=0.0 reward=-93.40046216218786 done=False\n",
      "Step 16: action=0.0 reward=-96.17994974842648 done=False\n",
      "Step 17: action=0.0 reward=-98.705010166098 done=False\n",
      "Step 18: action=0.0 reward=-100.91369401424322 done=False\n",
      "Step 19: action=0.0 reward=-102.98619585308855 done=False\n",
      "Step 20: action=0.0 reward=-105.0 done=False\n",
      "Step 21: action=0.0 reward=-106.99933595746094 done=False\n",
      "Step 22: action=0.0 reward=-108.99735399262718 done=False\n",
      "Step 23: action=0.0 reward=-97.07932587535896 done=False\n",
      "done: dist_nearest_obj 9.055385138137417, y-ego 100\n",
      "Step 24: action=0.0 reward=-1099.0288552067423 done=True\n",
      "End of episode 4 with cumulated_reward -2009.2901829762334\n",
      "METRICS: SAFETY %collisions = 0.8, COMFORT MeanHardBrake = 0.0, EFFICIENCY MeanStepsToGoal = 49.0\n"
     ]
    }
   ],
   "source": [
    "import numpy as np\n",
    "\n",
    "max_episodes = 5\n",
    "max_steps = 120\n",
    "\n",
    "# METRICS\n",
    "metric_success = 0 # EFFICIENCY\n",
    "metric_steps_to_goal = [] # SAFETY\n",
    "metric_hardbrake = [] # COMFORT\n",
    "\n",
    "for episode in range(max_episodes):\n",
    "    print(\"====> Start episode {}\".format(episode))\n",
    "    env.reset()\n",
    "    cumulated_reward = 0\n",
    "    images = []\n",
    "    \n",
    "    hardbrake = 0    \n",
    "    for n in range(max_steps):\n",
    "        action = 0.0\n",
    "        if action <= -2:\n",
    "            hardbrake += 1\n",
    "        state, reward, done, info = env.step(action)\n",
    "        cumulated_reward += reward\n",
    "        print(\"Step {}: action={} reward={} done={}\".format(n, action, reward, done)) # PHW DEBUG\n",
    "        img = env.render()\n",
    "        images.append(img)\n",
    "        if done is True:\n",
    "            if info == \"success\":\n",
    "                metric_success += 1\n",
    "                metric_steps_to_goal.append(n)\n",
    "                metric_hardbrake.append(hardbrake)\n",
    "            print(\"End of episode {} with cumulated_reward {}\".format(episode, cumulated_reward))\n",
    "            break\n",
    "            \n",
    "print(\"METRICS: SAFETY %collisions = {}, COMFORT MeanHardBrake = {}, EFFICIENCY MeanStepsToGoal = {}\".format(1-metric_success/max_episodes, np.mean(metric_hardbrake), np.mean(metric_steps_to_goal)))"
   ]
  },
  {
   "cell_type": "code",
   "execution_count": 6,
   "metadata": {},
   "outputs": [
    {
     "name": "stdout",
     "output_type": "stream",
     "text": [
      "[0]\n",
      "1\n",
      "[49]\n",
      "5\n"
     ]
    }
   ],
   "source": [
    "print(metric_hardbrake)\n",
    "print(metric_success)\n",
    "print(metric_steps_to_goal)\n",
    "print(max_episodes)"
   ]
  },
  {
   "cell_type": "code",
   "execution_count": 7,
   "metadata": {},
   "outputs": [
    {
     "data": {
      "image/png": "[encoded data removed]",
      "text/plain": [
       "<Figure size 720x720 with 1 Axes>"
      ]
     },
     "metadata": {},
     "output_type": "display_data"
    }
   ],
   "source": [
    "show_img(images[8])"
   ]
  },
  {
   "cell_type": "markdown",
   "metadata": {},
   "source": [
    "# Visualization"
   ]
  },
  {
   "cell_type": "code",
   "execution_count": 8,
   "metadata": {
    "collapsed": true
   },
   "outputs": [],
   "source": [
    "import imageio\n",
    "from IPython.core.display import HTML"
   ]
  },
  {
   "cell_type": "code",
   "execution_count": 9,
   "metadata": {},
   "outputs": [
    {
     "data": {
      "text/html": [
       "<img src=\"img/visu.gif\"/>"
      ],
      "text/plain": [
       "<IPython.core.display.HTML object>"
      ]
     },
     "execution_count": 9,
     "metadata": {},
     "output_type": "execute_result"
    }
   ],
   "source": [
    "imageio.mimsave('img/visu.gif', images, duration=0.2)\n",
    "HTML(\"\"\"<img src=\"img/visu.gif\"/>\"\"\")"
   ]
  },
  {
   "cell_type": "code",
   "execution_count": 10,
   "metadata": {},
   "outputs": [
    {
     "data": {
      "text/html": [
       "<img src=\"img/visu2.gif\"/>"
      ],
      "text/plain": [
       "<IPython.core.display.HTML object>"
      ]
     },
     "execution_count": 10,
     "metadata": {},
     "output_type": "execute_result"
    }
   ],
   "source": [
    "big_images = resize_images(images, f=2)\n",
    "imageio.mimsave('img/visu2.gif', big_images, duration=0.2)\n",
    "HTML(\"\"\"<img src=\"img/visu2.gif\"/>\"\"\")"
   ]
  },
  {
   "cell_type": "code",
   "execution_count": null,
   "metadata": {
    "collapsed": true
   },
   "outputs": [],
   "source": []
  }
 ],
 "metadata": {
  "kernelspec": {
   "display_name": "Python [conda env:py36]",
   "language": "python",
   "name": "conda-env-py36-py"
  },
  "language_info": {
   "codemirror_mode": {
    "name": "ipython",
    "version": 3
   },
   "file_extension": ".py",
   "mimetype": "text/x-python",
   "name": "python",
   "nbconvert_exporter": "python",
   "pygments_lexer": "ipython3",
   "version": "3.6.2"
  }
 },
 "nbformat": 4,
 "nbformat_minor": 2
}
