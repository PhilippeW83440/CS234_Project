{
 "cells": [
  {
   "cell_type": "code",
   "execution_count": 1,
   "metadata": {
    "collapsed": true
   },
   "outputs": [],
   "source": [
    "import gym"
   ]
  },
  {
   "cell_type": "code",
   "execution_count": 2,
   "metadata": {
    "collapsed": false
   },
   "outputs": [
    {
     "name": "stderr",
     "output_type": "stream",
     "text": [
      "[2019-03-14 10:59:52,175] Making new env: Act10cv-v0\n"
     ]
    },
    {
     "name": "stdout",
     "output_type": "stream",
     "text": [
      "ACT (Anti Collision Tests) with 10 cars using cv driver model\n",
      "SEED 10971597703429474133\n"
     ]
    },
    {
     "name": "stderr",
     "output_type": "stream",
     "text": [
      "/home/philippew/anaconda3/envs/py36/lib/python3.6/site-packages/gym/envs/registration.py:17: PkgResourcesDeprecationWarning: Parameters to load are deprecated.  Call .resolve and .require separately.\n",
      "  result = entry_point.load(False)\n"
     ]
    }
   ],
   "source": [
    "# to install gym_act:\n",
    "# git clone https://github.com/PhilippeW83440/CS234_Project.git\n",
    "# cd gym-act\n",
    "# pip install -e .\n",
    "import gym_act\n",
    "\n",
    "# source code is in https://github.com/PhilippeW83440/CS234_Project/blob/master/gym-act/gym_act/envs/act_env.py\n",
    "# or if you did: git clone https://github.com/PhilippeW83440/CS234_Project.git\n",
    "# in CS234_Project/gym-act/gym_act/envs/act_env.py\n",
    "\n",
    "# By default: ACT with 2 cars with CV (Constant Velocity) driver model\n",
    "#env = gym.make(\"Act-v0\")\n",
    "\n",
    "# ACT with 10 cars with CV (Constant Velocity) driver model\n",
    "env = gym.make(\"Act10cv-v0\")"
   ]
  },
  {
   "cell_type": "code",
   "execution_count": 3,
   "metadata": {
    "collapsed": false
   },
   "outputs": [
    {
     "name": "stdout",
     "output_type": "stream",
     "text": [
      "reward -1\n"
     ]
    }
   ],
   "source": [
    "action = 0\n",
    "obs, reward, done, info = env.step(action)\n",
    "print(\"reward {}\".format(reward))\n",
    "img = env.render()"
   ]
  },
  {
   "cell_type": "code",
   "execution_count": 4,
   "metadata": {
    "collapsed": true
   },
   "outputs": [],
   "source": [
    "import matplotlib.pyplot as plt\n",
    "import cv2\n",
    "\n",
    "def show_img(img):\n",
    "    plt.imshow(img)\n",
    "    plt.show()\n",
    "    \n",
    "def  resize_images(images, f=3):\n",
    "    big_images = []\n",
    "    for img in images:\n",
    "        big_images.append(cv2.resize(img, None, fx=f, fy=f))\n",
    "    return big_images\n",
    "\n",
    "plt.rcParams[\"figure.figsize\"]=10,10"
   ]
  },
  {
   "cell_type": "code",
   "execution_count": 5,
   "metadata": {
    "collapsed": false
   },
   "outputs": [
    {
     "name": "stdout",
     "output_type": "stream",
     "text": [
      "====> Start episode 0\n",
      "Step 0: action=0 reward=-1 done=False\n",
      "Step 1: action=0 reward=-1 done=False\n",
      "Step 2: action=0 reward=-1 done=False\n",
      "Step 3: action=0 reward=-1 done=False\n",
      "Step 4: action=0 reward=-1 done=False\n",
      "Step 5: action=0 reward=-1 done=False\n",
      "Step 6: action=0 reward=-1 done=False\n",
      "Step 7: action=0 reward=-1 done=False\n",
      "Step 8: action=0 reward=-1 done=False\n",
      "Step 9: action=0 reward=-1 done=False\n",
      "Step 10: action=0 reward=-1 done=False\n",
      "Step 11: action=0 reward=-1 done=False\n",
      "Step 12: action=0 reward=-1 done=False\n",
      "Step 13: action=0 reward=-1 done=False\n",
      "Step 14: action=0 reward=-1 done=False\n",
      "Step 15: action=0 reward=-1 done=False\n",
      "Step 16: action=0 reward=-1 done=False\n",
      "Step 17: action=0 reward=-1001 done=True\n",
      "End of episode 0 with cumulated_reward -1018\n",
      "====> Start episode 1\n",
      "Step 0: action=0 reward=-1 done=False\n",
      "Step 1: action=0 reward=-1 done=False\n",
      "Step 2: action=0 reward=-1 done=False\n",
      "Step 3: action=0 reward=-1 done=False\n",
      "Step 4: action=0 reward=-1 done=False\n",
      "Step 5: action=0 reward=-1 done=False\n",
      "Step 6: action=0 reward=-1 done=False\n",
      "Step 7: action=0 reward=-1 done=False\n",
      "Step 8: action=0 reward=-1 done=False\n",
      "Step 9: action=0 reward=-1 done=False\n",
      "Step 10: action=0 reward=-1 done=False\n",
      "Step 11: action=0 reward=-1 done=False\n",
      "Step 12: action=0 reward=-1 done=False\n",
      "Step 13: action=0 reward=-1 done=False\n",
      "Step 14: action=0 reward=-1 done=False\n",
      "Step 15: action=0 reward=-1001 done=True\n",
      "End of episode 1 with cumulated_reward -1016\n",
      "====> Start episode 2\n",
      "Step 0: action=0 reward=-1 done=False\n",
      "Step 1: action=0 reward=-1 done=False\n",
      "Step 2: action=0 reward=-1 done=False\n",
      "Step 3: action=0 reward=-1 done=False\n",
      "Step 4: action=0 reward=-1 done=False\n",
      "Step 5: action=0 reward=-1 done=False\n",
      "Step 6: action=0 reward=-1 done=False\n",
      "Step 7: action=0 reward=-1 done=False\n",
      "Step 8: action=0 reward=-1 done=False\n",
      "Step 9: action=0 reward=-1 done=False\n",
      "Step 10: action=0 reward=-1 done=False\n",
      "Step 11: action=0 reward=-1 done=False\n",
      "Step 12: action=0 reward=-1 done=False\n",
      "Step 13: action=0 reward=-1 done=False\n",
      "Step 14: action=0 reward=-1 done=False\n",
      "Step 15: action=0 reward=-1 done=False\n",
      "Step 16: action=0 reward=-1001 done=True\n",
      "End of episode 2 with cumulated_reward -1017\n",
      "====> Start episode 3\n",
      "Step 0: action=0 reward=-1 done=False\n",
      "Step 1: action=0 reward=-1 done=False\n",
      "Step 2: action=0 reward=-1 done=False\n",
      "Step 3: action=0 reward=-1 done=False\n",
      "Step 4: action=0 reward=-1 done=False\n",
      "Step 5: action=0 reward=-1 done=False\n",
      "Step 6: action=0 reward=-1 done=False\n",
      "Step 7: action=0 reward=-1 done=False\n",
      "Step 8: action=0 reward=-1 done=False\n",
      "Step 9: action=0 reward=-1 done=False\n",
      "Step 10: action=0 reward=-1 done=False\n",
      "Step 11: action=0 reward=-1 done=False\n",
      "Step 12: action=0 reward=-1 done=False\n",
      "Step 13: action=0 reward=-1 done=False\n",
      "Step 14: action=0 reward=-1 done=False\n",
      "Step 15: action=0 reward=-1 done=False\n",
      "Step 16: action=0 reward=-1 done=False\n",
      "Step 17: action=0 reward=-1 done=False\n",
      "Step 18: action=0 reward=-1001 done=True\n",
      "End of episode 3 with cumulated_reward -1019\n",
      "====> Start episode 4\n",
      "Step 0: action=0 reward=-1 done=False\n",
      "Step 1: action=0 reward=-1 done=False\n",
      "Step 2: action=0 reward=-1 done=False\n",
      "Step 3: action=0 reward=-1 done=False\n",
      "Step 4: action=0 reward=-1 done=False\n",
      "Step 5: action=0 reward=-1 done=False\n",
      "Step 6: action=0 reward=-1 done=False\n",
      "Step 7: action=0 reward=-1 done=False\n",
      "Step 8: action=0 reward=-1 done=False\n",
      "Step 9: action=0 reward=-1 done=False\n",
      "Step 10: action=0 reward=-1 done=False\n",
      "Step 11: action=0 reward=-1 done=False\n",
      "Step 12: action=0 reward=-1 done=False\n",
      "Step 13: action=0 reward=-1 done=False\n",
      "Step 14: action=0 reward=-1 done=False\n",
      "Step 15: action=0 reward=-1 done=False\n",
      "Step 16: action=0 reward=-1 done=False\n",
      "Step 17: action=0 reward=-1 done=False\n",
      "Step 18: action=0 reward=-1 done=False\n",
      "Step 19: action=0 reward=-1 done=False\n",
      "Step 20: action=0 reward=-1 done=False\n",
      "Step 21: action=0 reward=-1001 done=True\n",
      "End of episode 4 with cumulated_reward -1022\n",
      "====> Start episode 5\n",
      "Step 0: action=0 reward=-1 done=False\n",
      "Step 1: action=0 reward=-1 done=False\n",
      "Step 2: action=0 reward=-1 done=False\n",
      "Step 3: action=0 reward=-1 done=False\n",
      "Step 4: action=0 reward=-1 done=False\n",
      "Step 5: action=0 reward=-1 done=False\n",
      "Step 6: action=0 reward=-1 done=False\n",
      "Step 7: action=0 reward=-1 done=False\n",
      "Step 8: action=0 reward=-1 done=False\n",
      "Step 9: action=0 reward=-1 done=False\n",
      "Step 10: action=0 reward=-1 done=False\n",
      "Step 11: action=0 reward=-1 done=False\n",
      "Step 12: action=0 reward=-1 done=False\n",
      "Step 13: action=0 reward=-1 done=False\n",
      "Step 14: action=0 reward=-1 done=False\n",
      "Step 15: action=0 reward=-1 done=False\n",
      "Step 16: action=0 reward=-1 done=False\n",
      "Step 17: action=0 reward=-1 done=False\n",
      "Step 18: action=0 reward=-1 done=False\n",
      "Step 19: action=0 reward=-1 done=False\n",
      "Step 20: action=0 reward=-1001 done=True\n",
      "End of episode 5 with cumulated_reward -1021\n",
      "====> Start episode 6\n",
      "Step 0: action=0 reward=-1 done=False\n",
      "Step 1: action=0 reward=-1 done=False\n",
      "Step 2: action=0 reward=-1 done=False\n",
      "Step 3: action=0 reward=-1 done=False\n",
      "Step 4: action=0 reward=-1 done=False\n",
      "Step 5: action=0 reward=-1 done=False\n",
      "Step 6: action=0 reward=-1 done=False\n",
      "Step 7: action=0 reward=-1 done=False\n",
      "Step 8: action=0 reward=-1 done=False\n",
      "Step 9: action=0 reward=-1 done=False\n",
      "Step 10: action=0 reward=-1 done=False\n",
      "Step 11: action=0 reward=-1 done=False\n",
      "Step 12: action=0 reward=-1 done=False\n",
      "Step 13: action=0 reward=-1 done=False\n",
      "Step 14: action=0 reward=-1 done=False\n",
      "Step 15: action=0 reward=-1 done=False\n",
      "Step 16: action=0 reward=-1 done=False\n",
      "Step 17: action=0 reward=-1001 done=True\n",
      "End of episode 6 with cumulated_reward -1018\n",
      "====> Start episode 7\n",
      "Step 0: action=0 reward=-1 done=False\n",
      "Step 1: action=0 reward=-1 done=False\n",
      "Step 2: action=0 reward=-1 done=False\n",
      "Step 3: action=0 reward=-1 done=False\n",
      "Step 4: action=0 reward=-1 done=False\n",
      "Step 5: action=0 reward=-1 done=False\n",
      "Step 6: action=0 reward=-1 done=False\n",
      "Step 7: action=0 reward=-1 done=False\n",
      "Step 8: action=0 reward=-1 done=False\n",
      "Step 9: action=0 reward=-1 done=False\n",
      "Step 10: action=0 reward=-1 done=False\n",
      "Step 11: action=0 reward=-1 done=False\n",
      "Step 12: action=0 reward=-1 done=False\n",
      "Step 13: action=0 reward=-1 done=False\n",
      "Step 14: action=0 reward=-1 done=False\n",
      "Step 15: action=0 reward=-1 done=False\n",
      "Step 16: action=0 reward=-1 done=False\n",
      "Step 17: action=0 reward=-1 done=False\n",
      "Step 18: action=0 reward=-1001 done=True\n",
      "End of episode 7 with cumulated_reward -1019\n",
      "====> Start episode 8\n",
      "Step 0: action=0 reward=-1 done=False\n",
      "Step 1: action=0 reward=-1 done=False\n",
      "Step 2: action=0 reward=-1 done=False\n",
      "Step 3: action=0 reward=-1 done=False\n",
      "Step 4: action=0 reward=-1 done=False\n",
      "Step 5: action=0 reward=-1 done=False\n",
      "Step 6: action=0 reward=-1 done=False\n",
      "Step 7: action=0 reward=-1 done=False\n",
      "Step 8: action=0 reward=-1 done=False\n",
      "Step 9: action=0 reward=-1 done=False\n",
      "Step 10: action=0 reward=-1 done=False\n",
      "Step 11: action=0 reward=-1 done=False\n",
      "Step 12: action=0 reward=-1 done=False\n",
      "Step 13: action=0 reward=-1 done=False\n",
      "Step 14: action=0 reward=-1 done=False\n",
      "Step 15: action=0 reward=-1001 done=True\n",
      "End of episode 8 with cumulated_reward -1016\n",
      "====> Start episode 9\n",
      "Step 0: action=0 reward=-1 done=False\n",
      "Step 1: action=0 reward=-1 done=False\n",
      "Step 2: action=0 reward=-1 done=False\n",
      "Step 3: action=0 reward=-1 done=False\n",
      "Step 4: action=0 reward=-1 done=False\n",
      "Step 5: action=0 reward=-1 done=False\n",
      "Step 6: action=0 reward=-1 done=False\n",
      "Step 7: action=0 reward=-1 done=False\n",
      "Step 8: action=0 reward=-1 done=False\n",
      "Step 9: action=0 reward=-1 done=False\n",
      "Step 10: action=0 reward=-1 done=False\n",
      "Step 11: action=0 reward=-1 done=False\n",
      "Step 12: action=0 reward=-1 done=False\n",
      "Step 13: action=0 reward=-1 done=False\n",
      "Step 14: action=0 reward=-1 done=False\n",
      "Step 15: action=0 reward=-1 done=False\n",
      "Step 16: action=0 reward=-1 done=False\n",
      "Step 17: action=0 reward=-1 done=False\n",
      "Step 18: action=0 reward=-1 done=False\n",
      "Step 19: action=0 reward=-1 done=False\n",
      "Step 20: action=0 reward=-1 done=False\n",
      "Step 21: action=0 reward=-1 done=False\n",
      "Step 22: action=0 reward=-1 done=False\n",
      "Step 23: action=0 reward=-1 done=False\n",
      "Step 24: action=0 reward=-1 done=False\n",
      "Step 25: action=0 reward=-1 done=False\n",
      "Step 26: action=0 reward=-1 done=False\n",
      "Step 27: action=0 reward=-1 done=False\n",
      "Step 28: action=0 reward=-1 done=False\n",
      "Step 29: action=0 reward=-1 done=False\n",
      "Step 30: action=0 reward=-1 done=False\n",
      "Step 31: action=0 reward=-1 done=False\n",
      "Step 32: action=0 reward=-1 done=False\n",
      "Step 33: action=0 reward=-1 done=False\n",
      "Step 34: action=0 reward=-1 done=False\n",
      "Step 35: action=0 reward=-1 done=False\n",
      "Step 36: action=0 reward=-1 done=False\n",
      "Step 37: action=0 reward=-1 done=False\n",
      "Step 38: action=0 reward=-1 done=False\n",
      "Step 39: action=0 reward=-1 done=False\n",
      "Step 40: action=0 reward=-1 done=False\n",
      "Step 41: action=0 reward=-1 done=False\n",
      "Step 42: action=0 reward=-1 done=False\n",
      "Step 43: action=0 reward=-1 done=False\n",
      "Step 44: action=0 reward=-1 done=False\n",
      "Step 45: action=0 reward=-1 done=False\n",
      "Step 46: action=0 reward=-1 done=False\n",
      "Step 47: action=0 reward=-1 done=False\n",
      "Step 48: action=0 reward=-1 done=False\n",
      "Step 49: action=0 reward=999 done=True\n",
      "End of episode 9 with cumulated_reward 950\n",
      "====> Start episode 10\n",
      "Step 0: action=0 reward=-1 done=False\n",
      "Step 1: action=0 reward=-1 done=False\n",
      "Step 2: action=0 reward=-1 done=False\n",
      "Step 3: action=0 reward=-1 done=False\n",
      "Step 4: action=0 reward=-1 done=False\n",
      "Step 5: action=0 reward=-1 done=False\n",
      "Step 6: action=0 reward=-1 done=False\n",
      "Step 7: action=0 reward=-1 done=False\n",
      "Step 8: action=0 reward=-1 done=False\n",
      "Step 9: action=0 reward=-1 done=False\n",
      "Step 10: action=0 reward=-1 done=False\n",
      "Step 11: action=0 reward=-1 done=False\n",
      "Step 12: action=0 reward=-1 done=False\n",
      "Step 13: action=0 reward=-1 done=False\n",
      "Step 14: action=0 reward=-1 done=False\n",
      "Step 15: action=0 reward=-1 done=False\n",
      "Step 16: action=0 reward=-1 done=False\n",
      "Step 17: action=0 reward=-1 done=False\n",
      "Step 18: action=0 reward=-1001 done=True\n",
      "End of episode 10 with cumulated_reward -1019\n",
      "====> Start episode 11\n",
      "Step 0: action=0 reward=-1 done=False\n",
      "Step 1: action=0 reward=-1 done=False\n",
      "Step 2: action=0 reward=-1 done=False\n",
      "Step 3: action=0 reward=-1 done=False\n",
      "Step 4: action=0 reward=-1 done=False\n",
      "Step 5: action=0 reward=-1 done=False\n",
      "Step 6: action=0 reward=-1 done=False\n",
      "Step 7: action=0 reward=-1 done=False\n",
      "Step 8: action=0 reward=-1 done=False\n",
      "Step 9: action=0 reward=-1 done=False\n",
      "Step 10: action=0 reward=-1 done=False\n",
      "Step 11: action=0 reward=-1001 done=True\n",
      "End of episode 11 with cumulated_reward -1012\n",
      "====> Start episode 12\n",
      "Step 0: action=0 reward=-1 done=False\n",
      "Step 1: action=0 reward=-1 done=False\n",
      "Step 2: action=0 reward=-1 done=False\n",
      "Step 3: action=0 reward=-1 done=False\n",
      "Step 4: action=0 reward=-1 done=False\n",
      "Step 5: action=0 reward=-1 done=False\n",
      "Step 6: action=0 reward=-1 done=False\n",
      "Step 7: action=0 reward=-1 done=False\n",
      "Step 8: action=0 reward=-1 done=False\n",
      "Step 9: action=0 reward=-1 done=False\n",
      "Step 10: action=0 reward=-1 done=False\n",
      "Step 11: action=0 reward=-1 done=False\n",
      "Step 12: action=0 reward=-1 done=False\n",
      "Step 13: action=0 reward=-1 done=False\n",
      "Step 14: action=0 reward=-1 done=False\n",
      "Step 15: action=0 reward=-1001 done=True\n",
      "End of episode 12 with cumulated_reward -1016\n",
      "====> Start episode 13\n",
      "Step 0: action=0 reward=-1 done=False\n",
      "Step 1: action=0 reward=-1 done=False\n",
      "Step 2: action=0 reward=-1 done=False\n",
      "Step 3: action=0 reward=-1 done=False\n",
      "Step 4: action=0 reward=-1 done=False\n",
      "Step 5: action=0 reward=-1 done=False\n",
      "Step 6: action=0 reward=-1 done=False\n",
      "Step 7: action=0 reward=-1 done=False\n",
      "Step 8: action=0 reward=-1 done=False\n",
      "Step 9: action=0 reward=-1 done=False\n",
      "Step 10: action=0 reward=-1 done=False\n",
      "Step 11: action=0 reward=-1 done=False\n",
      "Step 12: action=0 reward=-1 done=False\n",
      "Step 13: action=0 reward=-1 done=False\n",
      "Step 14: action=0 reward=-1 done=False\n",
      "Step 15: action=0 reward=-1001 done=True\n",
      "End of episode 13 with cumulated_reward -1016\n",
      "====> Start episode 14\n",
      "Step 0: action=0 reward=-1 done=False\n",
      "Step 1: action=0 reward=-1 done=False\n",
      "Step 2: action=0 reward=-1 done=False\n",
      "Step 3: action=0 reward=-1 done=False\n",
      "Step 4: action=0 reward=-1 done=False\n",
      "Step 5: action=0 reward=-1 done=False\n",
      "Step 6: action=0 reward=-1 done=False\n",
      "Step 7: action=0 reward=-1 done=False\n",
      "Step 8: action=0 reward=-1 done=False\n",
      "Step 9: action=0 reward=-1 done=False\n",
      "Step 10: action=0 reward=-1 done=False\n",
      "Step 11: action=0 reward=-1 done=False\n",
      "Step 12: action=0 reward=-1 done=False\n",
      "Step 13: action=0 reward=-1 done=False\n",
      "Step 14: action=0 reward=-1 done=False\n",
      "Step 15: action=0 reward=-1001 done=True\n",
      "End of episode 14 with cumulated_reward -1016\n",
      "METRICS: REWARD AvgCumulatedReward = 950.0\n",
      "METRICS: SAFETY %collisions = 0.9333333333333333, COMFORT MeanHardBrake = 0.0, EFFICIENCY MeanStepsToGoal = 49.0\n"
     ]
    }
   ],
   "source": [
    "import numpy as np\n",
    "\n",
    "max_episodes = 15\n",
    "max_steps = 120\n",
    "\n",
    "# METRICS\n",
    "metric_success = 0 # EFFICIENCY\n",
    "metric_steps_to_goal = [] # SAFETY\n",
    "metric_hardbrake = [] # COMFORT\n",
    "metric_cumulated_reward = []\n",
    "\n",
    "for episode in range(max_episodes):\n",
    "    print(\"====> Start episode {}\".format(episode))\n",
    "    env.reset()\n",
    "    cumulated_reward = 0\n",
    "    images = []\n",
    "    \n",
    "    hardbrake = 0    \n",
    "    for n in range(max_steps):\n",
    "        action = 0\n",
    "        #action = np.random.randint(low=-2,high=3) \n",
    "        if action <= -2:\n",
    "            hardbrake += 1\n",
    "        state, reward, done, info = env.step(action)\n",
    "        env.penalty(state)\n",
    "        cumulated_reward += reward\n",
    "        print(\"Step {}: action={} reward={} done={}\".format(n, action, reward, done)) # PHW DEBUG\n",
    "        img = env.render()\n",
    "        images.append(img)\n",
    "        if done is True:\n",
    "            if info == \"success\":\n",
    "                metric_success += 1\n",
    "                metric_steps_to_goal.append(n)\n",
    "                metric_hardbrake.append(hardbrake)\n",
    "                metric_cumulated_reward.append(cumulated_reward)\n",
    "            print(\"End of episode {} with cumulated_reward {}\".format(episode, cumulated_reward))\n",
    "            break\n",
    "\n",
    "print(\"METRICS: REWARD AvgCumulatedReward = {}\".format(np.mean(metric_cumulated_reward)))\n",
    "print(\"METRICS: SAFETY %collisions = {}, COMFORT MeanHardBrake = {}, EFFICIENCY MeanStepsToGoal = {}\".format(1-metric_success/max_episodes, np.mean(metric_hardbrake), np.mean(metric_steps_to_goal)))"
   ]
  },
  {
   "cell_type": "code",
   "execution_count": 6,
   "metadata": {
    "collapsed": false
   },
   "outputs": [
    {
     "name": "stdout",
     "output_type": "stream",
     "text": [
      "[0]\n",
      "1\n",
      "[49]\n",
      "15\n"
     ]
    }
   ],
   "source": [
    "print(metric_hardbrake)\n",
    "print(metric_success)\n",
    "print(metric_steps_to_goal)\n",
    "print(max_episodes)"
   ]
  },
  {
   "cell_type": "code",
   "execution_count": 7,
   "metadata": {
    "collapsed": false
   },
   "outputs": [
    {
     "data": {
      "image/png": "[encoded data removed]",
      "text/plain": [
       "<Figure size 432x288 with 1 Axes>"
      ]
     },
     "metadata": {
      "needs_background": "light"
     },
     "output_type": "display_data"
    }
   ],
   "source": [
    "show_img(images[9])"
   ]
  },
  {
   "cell_type": "markdown",
   "metadata": {},
   "source": [
    "# Visualization"
   ]
  },
  {
   "cell_type": "code",
   "execution_count": 8,
   "metadata": {
    "collapsed": true
   },
   "outputs": [],
   "source": [
    "import imageio\n",
    "from IPython.core.display import HTML"
   ]
  },
  {
   "cell_type": "code",
   "execution_count": 9,
   "metadata": {
    "collapsed": false
   },
   "outputs": [
    {
     "data": {
      "text/html": [
       "<img src=\"img/visu.gif\"/>"
      ],
      "text/plain": [
       "<IPython.core.display.HTML object>"
      ]
     },
     "execution_count": 9,
     "metadata": {},
     "output_type": "execute_result"
    }
   ],
   "source": [
    "imageio.mimsave('img/visu.gif', images, duration=0.2)\n",
    "HTML(\"\"\"<img src=\"img/visu.gif\"/>\"\"\")"
   ]
  },
  {
   "cell_type": "code",
   "execution_count": 10,
   "metadata": {
    "collapsed": false
   },
   "outputs": [
    {
     "data": {
      "text/html": [
       "<img src=\"img/visu2.gif\"/>"
      ],
      "text/plain": [
       "<IPython.core.display.HTML object>"
      ]
     },
     "execution_count": 10,
     "metadata": {},
     "output_type": "execute_result"
    }
   ],
   "source": [
    "big_images = resize_images(images, f=2)\n",
    "imageio.mimsave('img/visu2.gif', big_images, duration=0.2)\n",
    "HTML(\"\"\"<img src=\"img/visu2.gif\"/>\"\"\")"
   ]
  },
  {
   "cell_type": "code",
   "execution_count": null,
   "metadata": {
    "collapsed": true
   },
   "outputs": [],
   "source": []
  }
 ],
 "metadata": {
  "anaconda-cloud": {},
  "kernelspec": {
   "display_name": "Python [conda env:py36]",
   "language": "python",
   "name": "conda-env-py36-py"
  },
  "language_info": {
   "codemirror_mode": {
    "name": "ipython",
    "version": 3
   },
   "file_extension": ".py",
   "mimetype": "text/x-python",
   "name": "python",
   "nbconvert_exporter": "python",
   "pygments_lexer": "ipython3",
   "version": "3.6.8"
  }
 },
 "nbformat": 4,
 "nbformat_minor": 2
}
