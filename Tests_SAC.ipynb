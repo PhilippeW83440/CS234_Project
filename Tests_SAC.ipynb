{
 "cells": [
  {
   "cell_type": "markdown",
   "metadata": {},
   "source": [
    "# Soft Actor Critic\n",
    "Out of https://github.com/openai/spinningup/blob/master/spinup/algos/sac"
   ]
  },
  {
   "cell_type": "markdown",
   "metadata": {},
   "source": [
    "# core.py"
   ]
  },
  {
   "cell_type": "code",
   "execution_count": 1,
   "metadata": {},
   "outputs": [
    {
     "name": "stdout",
     "output_type": "stream",
     "text": [
      "core.py  sac.py\r\n"
     ]
    }
   ],
   "source": [
    "!ls spinup/algos/sac"
   ]
  },
  {
   "cell_type": "markdown",
   "metadata": {},
   "source": [
    "# sac.py"
   ]
  },
  {
   "cell_type": "code",
   "execution_count": 2,
   "metadata": {
    "collapsed": true
   },
   "outputs": [],
   "source": [
    "import numpy as np\n",
    "import tensorflow as tf\n",
    "import gym\n",
    "import time"
   ]
  },
  {
   "cell_type": "code",
   "execution_count": 3,
   "metadata": {
    "collapsed": true
   },
   "outputs": [],
   "source": [
    "from spinup.algos.sac import core\n",
    "from spinup.algos.sac.core import get_vars\n",
    "from spinup.utils.logx import EpochLogger"
   ]
  },
  {
   "cell_type": "code",
   "execution_count": 4,
   "metadata": {
    "collapsed": true
   },
   "outputs": [],
   "source": [
    "class ReplayBuffer:\n",
    "    \"\"\"\n",
    "    A simple FIFO experience replay buffer for SAC agents.\n",
    "    \"\"\"\n",
    "\n",
    "    def __init__(self, obs_dim, act_dim, size):\n",
    "        self.obs1_buf = np.zeros([size, obs_dim], dtype=np.float32)\n",
    "        self.obs2_buf = np.zeros([size, obs_dim], dtype=np.float32)\n",
    "        self.acts_buf = np.zeros([size, act_dim], dtype=np.float32)\n",
    "        self.rews_buf = np.zeros(size, dtype=np.float32)\n",
    "        self.done_buf = np.zeros(size, dtype=np.float32)\n",
    "        self.ptr, self.size, self.max_size = 0, 0, size\n",
    "\n",
    "    def store(self, obs, act, rew, next_obs, done):\n",
    "        self.obs1_buf[self.ptr] = obs\n",
    "        self.obs2_buf[self.ptr] = next_obs\n",
    "        self.acts_buf[self.ptr] = act\n",
    "        self.rews_buf[self.ptr] = rew\n",
    "        self.done_buf[self.ptr] = done\n",
    "        self.ptr = (self.ptr+1) % self.max_size\n",
    "        self.size = min(self.size+1, self.max_size)\n",
    "\n",
    "    def sample_batch(self, batch_size=32):\n",
    "        idxs = np.random.randint(0, self.size, size=batch_size)\n",
    "        return dict(obs1=self.obs1_buf[idxs],\n",
    "                    obs2=self.obs2_buf[idxs],\n",
    "                    acts=self.acts_buf[idxs],\n",
    "                    rews=self.rews_buf[idxs],\n",
    "                    done=self.done_buf[idxs])"
   ]
  },
  {
   "cell_type": "code",
   "execution_count": 5,
   "metadata": {
    "collapsed": true
   },
   "outputs": [],
   "source": [
    "\"\"\"\n",
    "Soft Actor-Critic\n",
    "(With slight variations that bring it closer to TD3)\n",
    "\"\"\"\n",
    "def sac(env_fn, actor_critic=core.mlp_actor_critic, ac_kwargs=dict(), seed=0, \n",
    "        steps_per_epoch=5000, epochs=100, replay_size=int(1e6), gamma=0.99, \n",
    "        polyak=0.995, lr=1e-3, alpha=0.2, batch_size=100, start_steps=10000, \n",
    "        max_ep_len=1000, logger_kwargs=dict(), save_freq=1):\n",
    "    \"\"\"\n",
    "    Args:\n",
    "        env_fn : A function which creates a copy of the environment.\n",
    "            The environment must satisfy the OpenAI Gym API.\n",
    "        actor_critic: A function which takes in placeholder symbols \n",
    "            for state, ``x_ph``, and action, ``a_ph``, and returns the main \n",
    "            outputs from the agent's Tensorflow computation graph:\n",
    "            ===========  ================  ======================================\n",
    "            Symbol       Shape             Description\n",
    "            ===========  ================  ======================================\n",
    "            ``mu``       (batch, act_dim)  | Computes mean actions from policy\n",
    "                                           | given states.\n",
    "            ``pi``       (batch, act_dim)  | Samples actions from policy given \n",
    "                                           | states.\n",
    "            ``logp_pi``  (batch,)          | Gives log probability, according to\n",
    "                                           | the policy, of the action sampled by\n",
    "                                           | ``pi``. Critical: must be differentiable\n",
    "                                           | with respect to policy parameters all\n",
    "                                           | the way through action sampling.\n",
    "            ``q1``       (batch,)          | Gives one estimate of Q* for \n",
    "                                           | states in ``x_ph`` and actions in\n",
    "                                           | ``a_ph``.\n",
    "            ``q2``       (batch,)          | Gives another estimate of Q* for \n",
    "                                           | states in ``x_ph`` and actions in\n",
    "                                           | ``a_ph``.\n",
    "            ``q1_pi``    (batch,)          | Gives the composition of ``q1`` and \n",
    "                                           | ``pi`` for states in ``x_ph``: \n",
    "                                           | q1(x, pi(x)).\n",
    "            ``q2_pi``    (batch,)          | Gives the composition of ``q2`` and \n",
    "                                           | ``pi`` for states in ``x_ph``: \n",
    "                                           | q2(x, pi(x)).\n",
    "            ``v``        (batch,)          | Gives the value estimate for states\n",
    "                                           | in ``x_ph``. \n",
    "            ===========  ================  ======================================\n",
    "        ac_kwargs (dict): Any kwargs appropriate for the actor_critic \n",
    "            function you provided to SAC.\n",
    "        seed (int): Seed for random number generators.\n",
    "        steps_per_epoch (int): Number of steps of interaction (state-action pairs) \n",
    "            for the agent and the environment in each epoch.\n",
    "        epochs (int): Number of epochs to run and train agent.\n",
    "        replay_size (int): Maximum length of replay buffer.\n",
    "        gamma (float): Discount factor. (Always between 0 and 1.)\n",
    "        polyak (float): Interpolation factor in polyak averaging for target \n",
    "            networks. Target networks are updated towards main networks \n",
    "            according to:\n",
    "            .. math:: \\\\theta_{\\\\text{targ}} \\\\leftarrow \n",
    "                \\\\rho \\\\theta_{\\\\text{targ}} + (1-\\\\rho) \\\\theta\n",
    "            where :math:`\\\\rho` is polyak. (Always between 0 and 1, usually \n",
    "            close to 1.)\n",
    "        lr (float): Learning rate (used for both policy and value learning).\n",
    "        alpha (float): Entropy regularization coefficient. (Equivalent to \n",
    "            inverse of reward scale in the original SAC paper.)\n",
    "        batch_size (int): Minibatch size for SGD.\n",
    "        start_steps (int): Number of steps for uniform-random action selection,\n",
    "            before running real policy. Helps exploration.\n",
    "        max_ep_len (int): Maximum length of trajectory / episode / rollout.\n",
    "        logger_kwargs (dict): Keyword args for EpochLogger.\n",
    "        save_freq (int): How often (in terms of gap between epochs) to save\n",
    "            the current policy and value function.\n",
    "    \"\"\"\n",
    "\n",
    "    logger = EpochLogger(**logger_kwargs)\n",
    "    logger.save_config(locals())\n",
    "\n",
    "    tf.set_random_seed(seed)\n",
    "    np.random.seed(seed)\n",
    "\n",
    "    env, test_env = env_fn(), env_fn()\n",
    "    obs_dim = env.observation_space.shape[0]\n",
    "    act_dim = env.action_space.shape[0]\n",
    "\n",
    "    # Action limit for clamping: critically, assumes all dimensions share the same bound!\n",
    "    act_limit = env.action_space.high[0]\n",
    "\n",
    "    # Share information about action space with policy architecture\n",
    "    ac_kwargs['action_space'] = env.action_space\n",
    "\n",
    "    # Inputs to computation graph\n",
    "    x_ph, a_ph, x2_ph, r_ph, d_ph = core.placeholders(obs_dim, act_dim, obs_dim, None, None)\n",
    "\n",
    "    # Main outputs from computation graph\n",
    "    with tf.variable_scope('main'):\n",
    "        mu, pi, logp_pi, q1, q2, q1_pi, q2_pi, v = actor_critic(x_ph, a_ph, **ac_kwargs)\n",
    "    \n",
    "    # Target value network\n",
    "    with tf.variable_scope('target'):\n",
    "        _, _, _, _, _, _, _, v_targ  = actor_critic(x2_ph, a_ph, **ac_kwargs)\n",
    "\n",
    "    # Experience buffer\n",
    "    replay_buffer = ReplayBuffer(obs_dim=obs_dim, act_dim=act_dim, size=replay_size)\n",
    "\n",
    "    # Count variables\n",
    "    var_counts = tuple(core.count_vars(scope) for scope in \n",
    "                       ['main/pi', 'main/q1', 'main/q2', 'main/v', 'main'])\n",
    "    print(('\\nNumber of parameters: \\t pi: %d, \\t' + \\\n",
    "           'q1: %d, \\t q2: %d, \\t v: %d, \\t total: %d\\n')%var_counts)\n",
    "\n",
    "    # Min Double-Q:\n",
    "    min_q_pi = tf.minimum(q1_pi, q2_pi)\n",
    "\n",
    "    # Targets for Q and V regression\n",
    "    q_backup = tf.stop_gradient(r_ph + gamma*(1-d_ph)*v_targ)\n",
    "    v_backup = tf.stop_gradient(min_q_pi - alpha * logp_pi)\n",
    "\n",
    "    # Soft actor-critic losses\n",
    "    pi_loss = tf.reduce_mean(alpha * logp_pi - q1_pi)\n",
    "    q1_loss = 0.5 * tf.reduce_mean((q_backup - q1)**2)\n",
    "    q2_loss = 0.5 * tf.reduce_mean((q_backup - q2)**2)\n",
    "    v_loss = 0.5 * tf.reduce_mean((v_backup - v)**2)\n",
    "    value_loss = q1_loss + q2_loss + v_loss\n",
    "\n",
    "    # Policy train op \n",
    "    # (has to be separate from value train op, because q1_pi appears in pi_loss)\n",
    "    pi_optimizer = tf.train.AdamOptimizer(learning_rate=lr)\n",
    "    train_pi_op = pi_optimizer.minimize(pi_loss, var_list=get_vars('main/pi'))\n",
    "\n",
    "    # Value train op\n",
    "    # (control dep of train_pi_op because sess.run otherwise evaluates in nondeterministic order)\n",
    "    value_optimizer = tf.train.AdamOptimizer(learning_rate=lr)\n",
    "    value_params = get_vars('main/q') + get_vars('main/v')\n",
    "    with tf.control_dependencies([train_pi_op]):\n",
    "        train_value_op = value_optimizer.minimize(value_loss, var_list=value_params)\n",
    "\n",
    "    # Polyak averaging for target variables\n",
    "    # (control flow because sess.run otherwise evaluates in nondeterministic order)\n",
    "    with tf.control_dependencies([train_value_op]):\n",
    "        target_update = tf.group([tf.assign(v_targ, polyak*v_targ + (1-polyak)*v_main)\n",
    "                                  for v_main, v_targ in zip(get_vars('main'), get_vars('target'))])\n",
    "\n",
    "    # All ops to call during one training step\n",
    "    step_ops = [pi_loss, q1_loss, q2_loss, v_loss, q1, q2, v, logp_pi, \n",
    "                train_pi_op, train_value_op, target_update]\n",
    "\n",
    "    # Initializing targets to match main variables\n",
    "    target_init = tf.group([tf.assign(v_targ, v_main)\n",
    "                              for v_main, v_targ in zip(get_vars('main'), get_vars('target'))])\n",
    "\n",
    "    sess = tf.Session()\n",
    "    sess.run(tf.global_variables_initializer())\n",
    "    sess.run(target_init)\n",
    "\n",
    "    # Setup model saving\n",
    "    logger.setup_tf_saver(sess, inputs={'x': x_ph, 'a': a_ph}, \n",
    "                                outputs={'mu': mu, 'pi': pi, 'q1': q1, 'q2': q2, 'v': v})\n",
    "\n",
    "    def get_action(o, deterministic=False):\n",
    "        act_op = mu if deterministic else pi\n",
    "        return sess.run(act_op, feed_dict={x_ph: o.reshape(1,-1)})[0]\n",
    "\n",
    "    def test_agent(n=10):\n",
    "        global sess, mu, pi, q1, q2, q1_pi, q2_pi\n",
    "        for j in range(n):\n",
    "            o, r, d, ep_ret, ep_len = test_env.reset(), 0, False, 0, 0\n",
    "            while not(d or (ep_len == max_ep_len)):\n",
    "                # Take deterministic actions at test time \n",
    "                o, r, d, _ = test_env.step(get_action(o, True))\n",
    "                ep_ret += r\n",
    "                ep_len += 1\n",
    "            logger.store(TestEpRet=ep_ret, TestEpLen=ep_len)\n",
    "\n",
    "    start_time = time.time()\n",
    "    o, r, d, ep_ret, ep_len = env.reset(), 0, False, 0, 0\n",
    "    total_steps = steps_per_epoch * epochs\n",
    "\n",
    "    # Main loop: collect experience in env and update/log each epoch\n",
    "    for t in range(total_steps):\n",
    "\n",
    "        \"\"\"\n",
    "        Until start_steps have elapsed, randomly sample actions\n",
    "        from a uniform distribution for better exploration. Afterwards, \n",
    "        use the learned policy. \n",
    "        \"\"\"\n",
    "        if t > start_steps:\n",
    "            a = get_action(o)\n",
    "        else:\n",
    "            a = env.action_space.sample()\n",
    "\n",
    "        # Step the env\n",
    "        o2, r, d, _ = env.step(a)\n",
    "        ep_ret += r\n",
    "        ep_len += 1\n",
    "\n",
    "        # Ignore the \"done\" signal if it comes from hitting the time\n",
    "        # horizon (that is, when it's an artificial terminal signal\n",
    "        # that isn't based on the agent's state)\n",
    "        d = False if ep_len==max_ep_len else d\n",
    "\n",
    "        # Store experience to replay buffer\n",
    "        replay_buffer.store(o, a, r, o2, d)\n",
    "\n",
    "        # Super critical, easy to overlook step: make sure to update \n",
    "        # most recent observation!\n",
    "        o = o2\n",
    "\n",
    "        if d or (ep_len == max_ep_len):\n",
    "            \"\"\"\n",
    "            Perform all SAC updates at the end of the trajectory.\n",
    "            This is a slight difference from the SAC specified in the\n",
    "            original paper.\n",
    "            \"\"\"\n",
    "            for j in range(ep_len):\n",
    "                batch = replay_buffer.sample_batch(batch_size)\n",
    "                feed_dict = {x_ph: batch['obs1'],\n",
    "                             x2_ph: batch['obs2'],\n",
    "                             a_ph: batch['acts'],\n",
    "                             r_ph: batch['rews'],\n",
    "                             d_ph: batch['done'],\n",
    "                            }\n",
    "                outs = sess.run(step_ops, feed_dict)\n",
    "                logger.store(LossPi=outs[0], LossQ1=outs[1], LossQ2=outs[2],\n",
    "                             LossV=outs[3], Q1Vals=outs[4], Q2Vals=outs[5],\n",
    "                             VVals=outs[6], LogPi=outs[7])\n",
    "\n",
    "            logger.store(EpRet=ep_ret, EpLen=ep_len)\n",
    "            o, r, d, ep_ret, ep_len = env.reset(), 0, False, 0, 0\n",
    "\n",
    "\n",
    "        # End of epoch wrap-up\n",
    "        if t > 0 and t % steps_per_epoch == 0:\n",
    "            epoch = t // steps_per_epoch\n",
    "\n",
    "            # Save model\n",
    "            if (epoch % save_freq == 0) or (epoch == epochs-1):\n",
    "                logger.save_state({'env': env}, None)\n",
    "\n",
    "            # Test the performance of the deterministic version of the agent.\n",
    "            test_agent()\n",
    "\n",
    "            # Log info about epoch\n",
    "            logger.log_tabular('Epoch', epoch)\n",
    "            logger.log_tabular('EpRet', with_min_and_max=True)\n",
    "            logger.log_tabular('TestEpRet', with_min_and_max=True)\n",
    "            logger.log_tabular('EpLen', average_only=True)\n",
    "            logger.log_tabular('TestEpLen', average_only=True)\n",
    "            logger.log_tabular('TotalEnvInteracts', t)\n",
    "            logger.log_tabular('Q1Vals', with_min_and_max=True) \n",
    "            logger.log_tabular('Q2Vals', with_min_and_max=True) \n",
    "            logger.log_tabular('VVals', with_min_and_max=True) \n",
    "            logger.log_tabular('LogPi', with_min_and_max=True)\n",
    "            logger.log_tabular('LossPi', average_only=True)\n",
    "            logger.log_tabular('LossQ1', average_only=True)\n",
    "            logger.log_tabular('LossQ2', average_only=True)\n",
    "            logger.log_tabular('LossV', average_only=True)\n",
    "            logger.log_tabular('Time', time.time()-start_time)\n",
    "            logger.dump_tabular()"
   ]
  },
  {
   "cell_type": "code",
   "execution_count": null,
   "metadata": {
    "collapsed": true
   },
   "outputs": [],
   "source": [
    "if __name__ == '__main__':\n",
    "    import argparse\n",
    "    parser = argparse.ArgumentParser()\n",
    "    parser.add_argument('--env', type=str, default='HalfCheetah-v2')\n",
    "    parser.add_argument('--hid', type=int, default=300)\n",
    "    parser.add_argument('--l', type=int, default=1)\n",
    "    parser.add_argument('--gamma', type=float, default=0.99)\n",
    "    parser.add_argument('--seed', '-s', type=int, default=0)\n",
    "    parser.add_argument('--epochs', type=int, default=50)\n",
    "    parser.add_argument('--exp_name', type=str, default='sac')\n",
    "    args = parser.parse_args()\n",
    "\n",
    "    from spinup.utils.run_utils import setup_logger_kwargs\n",
    "    logger_kwargs = setup_logger_kwargs(args.exp_name, args.seed)\n",
    "\n",
    "    sac(lambda : gym.make(args.env), actor_critic=core.mlp_actor_critic,\n",
    "        ac_kwargs=dict(hidden_sizes=[args.hid]*args.l),\n",
    "        gamma=args.gamma, seed=args.seed, epochs=args.epochs,\n",
    "logger_kwargs=logger_kwargs)"
   ]
  },
  {
   "cell_type": "code",
   "execution_count": 6,
   "metadata": {
    "collapsed": true
   },
   "outputs": [],
   "source": [
    "env='HalfCheetah-v1'\n",
    "hid=300\n",
    "l=1\n",
    "gamma=0.99\n",
    "seed=0\n",
    "epochs=50\n",
    "exp_name='sac'"
   ]
  },
  {
   "cell_type": "code",
   "execution_count": 7,
   "metadata": {
    "collapsed": true
   },
   "outputs": [],
   "source": [
    "from spinup.utils.run_utils import setup_logger_kwargs\n",
    "logger_kwargs = setup_logger_kwargs(exp_name, seed)"
   ]
  },
  {
   "cell_type": "code",
   "execution_count": null,
   "metadata": {},
   "outputs": [
    {
     "name": "stderr",
     "output_type": "stream",
     "text": [
      "[2019-03-05 11:40:56,760] Making new env: HalfCheetah-v1\n"
     ]
    },
    {
     "name": "stdout",
     "output_type": "stream",
     "text": [
      "Warning: Log dir /home/phw/rsl/CS234_Project/data/sac/sac_s0 already exists! Storing info there anyway.\n",
      "\u001b[32;1mLogging data to /home/phw/rsl/CS234_Project/data/sac/sac_s0/progress.txt\u001b[0m\n",
      "\u001b[36;1mSaving config:\n",
      "\u001b[0m\n",
      "{\n",
      "    \"ac_kwargs\":\t{\n",
      "        \"hidden_sizes\":\t[\n",
      "            300\n",
      "        ]\n",
      "    },\n",
      "    \"actor_critic\":\t\"mlp_actor_critic\",\n",
      "    \"alpha\":\t0.2,\n",
      "    \"batch_size\":\t100,\n",
      "    \"env_fn\":\t\"<function <lambda> at 0x7f86780f4bf8>\",\n",
      "    \"epochs\":\t50,\n",
      "    \"exp_name\":\t\"sac\",\n",
      "    \"gamma\":\t0.99,\n",
      "    \"logger\":\t{\n",
      "        \"<spinup.utils.logx.EpochLogger object at 0x7f86780fe128>\":\t{\n",
      "            \"epoch_dict\":\t{},\n",
      "            \"exp_name\":\t\"sac\",\n",
      "            \"first_row\":\ttrue,\n",
      "            \"log_current_row\":\t{},\n",
      "            \"log_headers\":\t[],\n",
      "            \"output_dir\":\t\"/home/phw/rsl/CS234_Project/data/sac/sac_s0\",\n",
      "            \"output_file\":\t{\n",
      "                \"<_io.TextIOWrapper name='/home/phw/rsl/CS234_Project/data/sac/sac_s0/progress.txt' mode='w' encoding='UTF-8'>\":\t{\n",
      "                    \"mode\":\t\"w\"\n",
      "                }\n",
      "            }\n",
      "        }\n",
      "    },\n",
      "    \"logger_kwargs\":\t{\n",
      "        \"exp_name\":\t\"sac\",\n",
      "        \"output_dir\":\t\"/home/phw/rsl/CS234_Project/data/sac/sac_s0\"\n",
      "    },\n",
      "    \"lr\":\t0.001,\n",
      "    \"max_ep_len\":\t1000,\n",
      "    \"polyak\":\t0.995,\n",
      "    \"replay_size\":\t1000000,\n",
      "    \"save_freq\":\t1,\n",
      "    \"seed\":\t0,\n",
      "    \"start_steps\":\t10000,\n",
      "    \"steps_per_epoch\":\t5000\n",
      "}\n"
     ]
    },
    {
     "name": "stderr",
     "output_type": "stream",
     "text": [
      "[2019-03-05 11:40:57,007] Making new env: HalfCheetah-v1\n"
     ]
    },
    {
     "name": "stdout",
     "output_type": "stream",
     "text": [
      "\n",
      "Number of parameters: \t pi: 9012, \tq1: 7501, \t q2: 7501, \t v: 5701, \t total: 29715\n",
      "\n",
      "INFO:tensorflow:Assets added to graph.\n"
     ]
    },
    {
     "name": "stderr",
     "output_type": "stream",
     "text": [
      "[2019-03-05 11:41:14,790] Assets added to graph.\n"
     ]
    },
    {
     "name": "stdout",
     "output_type": "stream",
     "text": [
      "INFO:tensorflow:No assets to write.\n"
     ]
    },
    {
     "name": "stderr",
     "output_type": "stream",
     "text": [
      "[2019-03-05 11:41:14,791] No assets to write.\n"
     ]
    },
    {
     "name": "stdout",
     "output_type": "stream",
     "text": [
      "INFO:tensorflow:SavedModel written to: b'/home/phw/rsl/CS234_Project/data/sac/sac_s0/simple_save/saved_model.pb'\n"
     ]
    },
    {
     "name": "stderr",
     "output_type": "stream",
     "text": [
      "[2019-03-05 11:41:15,112] SavedModel written to: b'/home/phw/rsl/CS234_Project/data/sac/sac_s0/simple_save/saved_model.pb'\n"
     ]
    },
    {
     "name": "stdout",
     "output_type": "stream",
     "text": [
      "---------------------------------------\n",
      "|             Epoch |               1 |\n",
      "|      AverageEpRet |            -223 |\n",
      "|          StdEpRet |            55.4 |\n",
      "|          MaxEpRet |            -166 |\n",
      "|          MinEpRet |            -329 |\n",
      "|  AverageTestEpRet |            -132 |\n",
      "|      StdTestEpRet |            16.5 |\n",
      "|      MaxTestEpRet |           -85.8 |\n",
      "|      MinTestEpRet |            -146 |\n",
      "|             EpLen |           1e+03 |\n",
      "|         TestEpLen |           1e+03 |\n",
      "| TotalEnvInteracts |           5e+03 |\n",
      "|     AverageQ1Vals |            6.84 |\n",
      "|         StdQ1Vals |            6.26 |\n",
      "|         MaxQ1Vals |            24.8 |\n",
      "|         MinQ1Vals |           -5.43 |\n",
      "|     AverageQ2Vals |            6.84 |\n",
      "|         StdQ2Vals |            6.26 |\n",
      "|         MaxQ2Vals |            24.8 |\n",
      "|         MinQ2Vals |           -5.52 |\n",
      "|      AverageVVals |            7.67 |\n",
      "|          StdVVals |            6.32 |\n",
      "|          MaxVVals |            25.6 |\n",
      "|          MinVVals |           -8.67 |\n",
      "|      AverageLogPi |           -2.22 |\n",
      "|          StdLogPi |            3.24 |\n",
      "|          MaxLogPi |             110 |\n",
      "|          MinLogPi |             -12 |\n",
      "|            LossPi |           -7.84 |\n",
      "|            LossQ1 |           0.284 |\n",
      "|            LossQ2 |           0.292 |\n",
      "|             LossV |           0.283 |\n",
      "|              Time |              23 |\n",
      "---------------------------------------\n",
      "INFO:tensorflow:Assets added to graph.\n"
     ]
    },
    {
     "name": "stderr",
     "output_type": "stream",
     "text": [
      "[2019-03-05 11:41:37,397] Assets added to graph.\n"
     ]
    },
    {
     "name": "stdout",
     "output_type": "stream",
     "text": [
      "INFO:tensorflow:No assets to write.\n"
     ]
    },
    {
     "name": "stderr",
     "output_type": "stream",
     "text": [
      "[2019-03-05 11:41:37,398] No assets to write.\n"
     ]
    },
    {
     "name": "stdout",
     "output_type": "stream",
     "text": [
      "INFO:tensorflow:SavedModel written to: b'/home/phw/rsl/CS234_Project/data/sac/sac_s0/simple_save/saved_model.pb'\n"
     ]
    },
    {
     "name": "stderr",
     "output_type": "stream",
     "text": [
      "[2019-03-05 11:41:37,736] SavedModel written to: b'/home/phw/rsl/CS234_Project/data/sac/sac_s0/simple_save/saved_model.pb'\n"
     ]
    },
    {
     "name": "stdout",
     "output_type": "stream",
     "text": [
      "---------------------------------------\n",
      "|             Epoch |               2 |\n",
      "|      AverageEpRet |            -222 |\n",
      "|          StdEpRet |            24.1 |\n",
      "|          MaxEpRet |            -189 |\n",
      "|          MinEpRet |            -256 |\n",
      "|  AverageTestEpRet |            -261 |\n",
      "|      StdTestEpRet |            95.3 |\n",
      "|      MaxTestEpRet |           -70.2 |\n",
      "|      MinTestEpRet |            -344 |\n",
      "|             EpLen |           1e+03 |\n",
      "|         TestEpLen |           1e+03 |\n",
      "| TotalEnvInteracts |           1e+04 |\n",
      "|     AverageQ1Vals |            20.8 |\n",
      "|         StdQ1Vals |             5.6 |\n",
      "|         MaxQ1Vals |            48.1 |\n",
      "|         MinQ1Vals |            1.75 |\n",
      "|     AverageQ2Vals |            20.8 |\n",
      "|         StdQ2Vals |             5.6 |\n",
      "|         MaxQ2Vals |            49.2 |\n",
      "|         MinQ2Vals |            1.57 |\n",
      "|      AverageVVals |            21.9 |\n",
      "|          StdVVals |            5.59 |\n",
      "|          MaxVVals |            52.6 |\n",
      "|          MinVVals |               3 |\n",
      "|      AverageLogPi |           -1.84 |\n",
      "|          StdLogPi |            2.38 |\n",
      "|          MaxLogPi |            17.6 |\n",
      "|          MinLogPi |           -13.3 |\n",
      "|            LossPi |           -22.2 |\n",
      "|            LossQ1 |           0.485 |\n",
      "|            LossQ2 |           0.477 |\n",
      "|             LossV |            0.32 |\n",
      "|              Time |            45.2 |\n",
      "---------------------------------------\n",
      "INFO:tensorflow:Assets added to graph.\n"
     ]
    },
    {
     "name": "stderr",
     "output_type": "stream",
     "text": [
      "[2019-03-05 11:42:02,130] Assets added to graph.\n"
     ]
    },
    {
     "name": "stdout",
     "output_type": "stream",
     "text": [
      "INFO:tensorflow:No assets to write.\n"
     ]
    },
    {
     "name": "stderr",
     "output_type": "stream",
     "text": [
      "[2019-03-05 11:42:02,132] No assets to write.\n"
     ]
    },
    {
     "name": "stdout",
     "output_type": "stream",
     "text": [
      "INFO:tensorflow:SavedModel written to: b'/home/phw/rsl/CS234_Project/data/sac/sac_s0/simple_save/saved_model.pb'\n"
     ]
    },
    {
     "name": "stderr",
     "output_type": "stream",
     "text": [
      "[2019-03-05 11:42:02,483] SavedModel written to: b'/home/phw/rsl/CS234_Project/data/sac/sac_s0/simple_save/saved_model.pb'\n"
     ]
    },
    {
     "name": "stdout",
     "output_type": "stream",
     "text": [
      "---------------------------------------\n",
      "|             Epoch |               3 |\n",
      "|      AverageEpRet |           -22.4 |\n",
      "|          StdEpRet |             216 |\n",
      "|          MaxEpRet |             359 |\n",
      "|          MinEpRet |            -275 |\n",
      "|  AverageTestEpRet |        1.88e+03 |\n",
      "|      StdTestEpRet |            39.2 |\n",
      "|      MaxTestEpRet |        1.94e+03 |\n",
      "|      MinTestEpRet |        1.82e+03 |\n",
      "|             EpLen |           1e+03 |\n",
      "|         TestEpLen |           1e+03 |\n",
      "| TotalEnvInteracts |         1.5e+04 |\n",
      "|     AverageQ1Vals |            31.5 |\n",
      "|         StdQ1Vals |            5.94 |\n",
      "|         MaxQ1Vals |            65.9 |\n",
      "|         MinQ1Vals |            14.4 |\n",
      "|     AverageQ2Vals |            31.5 |\n",
      "|         StdQ2Vals |            5.94 |\n",
      "|         MaxQ2Vals |            64.8 |\n",
      "|         MinQ2Vals |            13.7 |\n",
      "|      AverageVVals |            32.2 |\n",
      "|          StdVVals |            5.95 |\n",
      "|          MaxVVals |            65.6 |\n",
      "|          MinVVals |            16.2 |\n",
      "|      AverageLogPi |           -2.44 |\n",
      "|          StdLogPi |               2 |\n",
      "|          MaxLogPi |            15.8 |\n",
      "|          MinLogPi |           -12.7 |\n",
      "|            LossPi |           -32.6 |\n",
      "|            LossQ1 |           0.622 |\n",
      "|            LossQ2 |           0.599 |\n",
      "|             LossV |           0.415 |\n",
      "|              Time |            69.8 |\n",
      "---------------------------------------\n",
      "INFO:tensorflow:Assets added to graph.\n"
     ]
    },
    {
     "name": "stderr",
     "output_type": "stream",
     "text": [
      "[2019-03-05 11:42:26,446] Assets added to graph.\n"
     ]
    },
    {
     "name": "stdout",
     "output_type": "stream",
     "text": [
      "INFO:tensorflow:No assets to write.\n"
     ]
    },
    {
     "name": "stderr",
     "output_type": "stream",
     "text": [
      "[2019-03-05 11:42:26,447] No assets to write.\n"
     ]
    },
    {
     "name": "stdout",
     "output_type": "stream",
     "text": [
      "INFO:tensorflow:SavedModel written to: b'/home/phw/rsl/CS234_Project/data/sac/sac_s0/simple_save/saved_model.pb'\n"
     ]
    },
    {
     "name": "stderr",
     "output_type": "stream",
     "text": [
      "[2019-03-05 11:42:26,812] SavedModel written to: b'/home/phw/rsl/CS234_Project/data/sac/sac_s0/simple_save/saved_model.pb'\n"
     ]
    },
    {
     "name": "stdout",
     "output_type": "stream",
     "text": [
      "---------------------------------------\n",
      "|             Epoch |               4 |\n",
      "|      AverageEpRet |             263 |\n",
      "|          StdEpRet |             201 |\n",
      "|          MaxEpRet |             535 |\n",
      "|          MinEpRet |           -19.1 |\n",
      "|  AverageTestEpRet |        1.32e+03 |\n",
      "|      StdTestEpRet |             518 |\n",
      "|      MaxTestEpRet |        1.86e+03 |\n",
      "|      MinTestEpRet |             449 |\n",
      "|             EpLen |           1e+03 |\n",
      "|         TestEpLen |           1e+03 |\n",
      "| TotalEnvInteracts |           2e+04 |\n",
      "|     AverageQ1Vals |            35.8 |\n",
      "|         StdQ1Vals |            8.15 |\n",
      "|         MaxQ1Vals |            67.7 |\n",
      "|         MinQ1Vals |            19.1 |\n",
      "|     AverageQ2Vals |            35.8 |\n",
      "|         StdQ2Vals |            8.14 |\n",
      "|         MaxQ2Vals |            67.3 |\n",
      "|         MinQ2Vals |            18.7 |\n",
      "|      AverageVVals |            36.4 |\n",
      "|          StdVVals |            8.09 |\n",
      "|          MaxVVals |            66.9 |\n",
      "|          MinVVals |            19.4 |\n",
      "|      AverageLogPi |           -2.75 |\n",
      "|          StdLogPi |            1.65 |\n",
      "|          MaxLogPi |            14.1 |\n",
      "|          MinLogPi |           -12.8 |\n",
      "|            LossPi |           -36.8 |\n",
      "|            LossQ1 |           0.599 |\n",
      "|            LossQ2 |           0.588 |\n",
      "|             LossV |           0.395 |\n",
      "|              Time |            94.3 |\n",
      "---------------------------------------\n",
      "INFO:tensorflow:Assets added to graph.\n"
     ]
    },
    {
     "name": "stderr",
     "output_type": "stream",
     "text": [
      "[2019-03-05 11:42:52,039] Assets added to graph.\n"
     ]
    },
    {
     "name": "stdout",
     "output_type": "stream",
     "text": [
      "INFO:tensorflow:No assets to write.\n"
     ]
    },
    {
     "name": "stderr",
     "output_type": "stream",
     "text": [
      "[2019-03-05 11:42:52,040] No assets to write.\n"
     ]
    },
    {
     "name": "stdout",
     "output_type": "stream",
     "text": [
      "INFO:tensorflow:SavedModel written to: b'/home/phw/rsl/CS234_Project/data/sac/sac_s0/simple_save/saved_model.pb'\n"
     ]
    },
    {
     "name": "stderr",
     "output_type": "stream",
     "text": [
      "[2019-03-05 11:42:52,461] SavedModel written to: b'/home/phw/rsl/CS234_Project/data/sac/sac_s0/simple_save/saved_model.pb'\n"
     ]
    },
    {
     "name": "stdout",
     "output_type": "stream",
     "text": [
      "---------------------------------------\n",
      "|             Epoch |               5 |\n",
      "|      AverageEpRet |             533 |\n",
      "|          StdEpRet |             199 |\n",
      "|          MaxEpRet |             812 |\n",
      "|          MinEpRet |             288 |\n",
      "|  AverageTestEpRet |             146 |\n",
      "|      StdTestEpRet |            82.6 |\n",
      "|      MaxTestEpRet |             314 |\n",
      "|      MinTestEpRet |            67.2 |\n",
      "|             EpLen |           1e+03 |\n",
      "|         TestEpLen |           1e+03 |\n",
      "| TotalEnvInteracts |         2.5e+04 |\n",
      "|     AverageQ1Vals |            41.1 |\n",
      "|         StdQ1Vals |            10.9 |\n",
      "|         MaxQ1Vals |            81.7 |\n",
      "|         MinQ1Vals |            22.5 |\n",
      "|     AverageQ2Vals |            41.1 |\n",
      "|         StdQ2Vals |            10.9 |\n",
      "|         MaxQ2Vals |            79.9 |\n",
      "|         MinQ2Vals |            21.7 |\n",
      "|      AverageVVals |            41.7 |\n",
      "|          StdVVals |            10.8 |\n",
      "|          MaxVVals |            80.6 |\n",
      "|          MinVVals |            22.5 |\n",
      "|      AverageLogPi |           -2.53 |\n",
      "|          StdLogPi |            1.77 |\n",
      "|          MaxLogPi |            14.2 |\n",
      "|          MinLogPi |           -14.4 |\n",
      "|            LossPi |           -42.1 |\n",
      "|            LossQ1 |           0.691 |\n",
      "|            LossQ2 |           0.674 |\n",
      "|             LossV |           0.442 |\n",
      "|              Time |             122 |\n",
      "---------------------------------------\n",
      "INFO:tensorflow:Assets added to graph.\n"
     ]
    },
    {
     "name": "stderr",
     "output_type": "stream",
     "text": [
      "[2019-03-05 11:43:21,699] Assets added to graph.\n"
     ]
    },
    {
     "name": "stdout",
     "output_type": "stream",
     "text": [
      "INFO:tensorflow:No assets to write.\n"
     ]
    },
    {
     "name": "stderr",
     "output_type": "stream",
     "text": [
      "[2019-03-05 11:43:21,700] No assets to write.\n"
     ]
    },
    {
     "name": "stdout",
     "output_type": "stream",
     "text": [
      "INFO:tensorflow:SavedModel written to: b'/home/phw/rsl/CS234_Project/data/sac/sac_s0/simple_save/saved_model.pb'\n"
     ]
    },
    {
     "name": "stderr",
     "output_type": "stream",
     "text": [
      "[2019-03-05 11:43:22,151] SavedModel written to: b'/home/phw/rsl/CS234_Project/data/sac/sac_s0/simple_save/saved_model.pb'\n"
     ]
    },
    {
     "name": "stdout",
     "output_type": "stream",
     "text": [
      "---------------------------------------\n",
      "|             Epoch |               6 |\n",
      "|      AverageEpRet |             824 |\n",
      "|          StdEpRet |             410 |\n",
      "|          MaxEpRet |        1.18e+03 |\n",
      "|          MinEpRet |            60.4 |\n",
      "|  AverageTestEpRet |             114 |\n",
      "|      StdTestEpRet |            33.4 |\n",
      "|      MaxTestEpRet |             194 |\n",
      "|      MinTestEpRet |            71.1 |\n",
      "|             EpLen |           1e+03 |\n",
      "|         TestEpLen |           1e+03 |\n",
      "| TotalEnvInteracts |           3e+04 |\n",
      "|     AverageQ1Vals |            47.9 |\n",
      "|         StdQ1Vals |            14.6 |\n",
      "|         MaxQ1Vals |            91.5 |\n",
      "|         MinQ1Vals |              23 |\n",
      "|     AverageQ2Vals |            47.9 |\n",
      "|         StdQ2Vals |            14.6 |\n",
      "|         MaxQ2Vals |            92.2 |\n",
      "|         MinQ2Vals |            22.6 |\n",
      "|      AverageVVals |            48.4 |\n",
      "|          StdVVals |            14.5 |\n",
      "|          MaxVVals |            91.2 |\n",
      "|          MinVVals |            23.6 |\n",
      "|      AverageLogPi |           -2.08 |\n",
      "|          StdLogPi |            2.09 |\n",
      "|          MaxLogPi |            13.2 |\n",
      "|          MinLogPi |           -14.7 |\n",
      "|            LossPi |           -48.9 |\n",
      "|            LossQ1 |           0.847 |\n",
      "|            LossQ2 |           0.827 |\n",
      "|             LossV |           0.535 |\n",
      "|              Time |             150 |\n",
      "---------------------------------------\n",
      "INFO:tensorflow:Assets added to graph.\n"
     ]
    },
    {
     "name": "stderr",
     "output_type": "stream",
     "text": [
      "[2019-03-05 11:43:50,018] Assets added to graph.\n"
     ]
    },
    {
     "name": "stdout",
     "output_type": "stream",
     "text": [
      "INFO:tensorflow:No assets to write.\n"
     ]
    },
    {
     "name": "stderr",
     "output_type": "stream",
     "text": [
      "[2019-03-05 11:43:50,020] No assets to write.\n"
     ]
    },
    {
     "name": "stdout",
     "output_type": "stream",
     "text": [
      "INFO:tensorflow:SavedModel written to: b'/home/phw/rsl/CS234_Project/data/sac/sac_s0/simple_save/saved_model.pb'\n"
     ]
    },
    {
     "name": "stderr",
     "output_type": "stream",
     "text": [
      "[2019-03-05 11:43:50,462] SavedModel written to: b'/home/phw/rsl/CS234_Project/data/sac/sac_s0/simple_save/saved_model.pb'\n"
     ]
    },
    {
     "name": "stdout",
     "output_type": "stream",
     "text": [
      "---------------------------------------\n",
      "|             Epoch |               7 |\n",
      "|      AverageEpRet |        1.08e+03 |\n",
      "|          StdEpRet |             477 |\n",
      "|          MaxEpRet |        1.48e+03 |\n",
      "|          MinEpRet |             188 |\n",
      "|  AverageTestEpRet |         2.1e+03 |\n",
      "|      StdTestEpRet |            72.7 |\n",
      "|      MaxTestEpRet |        2.23e+03 |\n",
      "|      MinTestEpRet |        1.98e+03 |\n",
      "|             EpLen |           1e+03 |\n",
      "|         TestEpLen |           1e+03 |\n",
      "| TotalEnvInteracts |         3.5e+04 |\n",
      "|     AverageQ1Vals |            55.1 |\n",
      "|         StdQ1Vals |            19.5 |\n",
      "|         MaxQ1Vals |             111 |\n",
      "|         MinQ1Vals |            22.5 |\n",
      "|     AverageQ2Vals |            55.1 |\n",
      "|         StdQ2Vals |            19.5 |\n",
      "|         MaxQ2Vals |             111 |\n",
      "|         MinQ2Vals |            22.4 |\n",
      "|      AverageVVals |            55.6 |\n",
      "|          StdVVals |            19.4 |\n",
      "|          MaxVVals |             110 |\n",
      "|          MinVVals |            23.5 |\n",
      "|      AverageLogPi |           -1.71 |\n",
      "|          StdLogPi |            2.35 |\n",
      "|          MaxLogPi |              15 |\n",
      "|          MinLogPi |           -13.1 |\n",
      "|            LossPi |           -56.1 |\n",
      "|            LossQ1 |            1.07 |\n",
      "|            LossQ2 |            1.05 |\n",
      "|             LossV |            0.65 |\n",
      "|              Time |             178 |\n",
      "---------------------------------------\n",
      "INFO:tensorflow:Assets added to graph.\n"
     ]
    },
    {
     "name": "stderr",
     "output_type": "stream",
     "text": [
      "[2019-03-05 11:44:16,228] Assets added to graph.\n"
     ]
    },
    {
     "name": "stdout",
     "output_type": "stream",
     "text": [
      "INFO:tensorflow:No assets to write.\n"
     ]
    },
    {
     "name": "stderr",
     "output_type": "stream",
     "text": [
      "[2019-03-05 11:44:16,229] No assets to write.\n"
     ]
    },
    {
     "name": "stdout",
     "output_type": "stream",
     "text": [
      "INFO:tensorflow:SavedModel written to: b'/home/phw/rsl/CS234_Project/data/sac/sac_s0/simple_save/saved_model.pb'\n"
     ]
    },
    {
     "name": "stderr",
     "output_type": "stream",
     "text": [
      "[2019-03-05 11:44:16,697] SavedModel written to: b'/home/phw/rsl/CS234_Project/data/sac/sac_s0/simple_save/saved_model.pb'\n"
     ]
    },
    {
     "name": "stdout",
     "output_type": "stream",
     "text": [
      "---------------------------------------\n",
      "|             Epoch |               8 |\n",
      "|      AverageEpRet |        1.32e+03 |\n",
      "|          StdEpRet |             714 |\n",
      "|          MaxEpRet |        1.92e+03 |\n",
      "|          MinEpRet |           -50.1 |\n",
      "|  AverageTestEpRet |        2.39e+03 |\n",
      "|      StdTestEpRet |            75.7 |\n",
      "|      MaxTestEpRet |        2.56e+03 |\n",
      "|      MinTestEpRet |         2.3e+03 |\n",
      "|             EpLen |           1e+03 |\n",
      "|         TestEpLen |           1e+03 |\n",
      "| TotalEnvInteracts |           4e+04 |\n",
      "|     AverageQ1Vals |            65.3 |\n",
      "|         StdQ1Vals |              25 |\n",
      "|         MaxQ1Vals |             124 |\n",
      "|         MinQ1Vals |            22.9 |\n",
      "|     AverageQ2Vals |            65.3 |\n",
      "|         StdQ2Vals |              25 |\n",
      "|         MaxQ2Vals |             124 |\n",
      "|         MinQ2Vals |            22.5 |\n",
      "|      AverageVVals |            65.9 |\n",
      "|          StdVVals |            24.9 |\n",
      "|          MaxVVals |             124 |\n",
      "|          MinVVals |            23.6 |\n",
      "|      AverageLogPi |           -1.35 |\n",
      "|          StdLogPi |            2.51 |\n",
      "|          MaxLogPi |            19.8 |\n",
      "|          MinLogPi |           -14.2 |\n",
      "|            LossPi |           -66.4 |\n",
      "|            LossQ1 |            1.26 |\n",
      "|            LossQ2 |            1.26 |\n",
      "|             LossV |           0.778 |\n",
      "|              Time |             205 |\n",
      "---------------------------------------\n",
      "INFO:tensorflow:Assets added to graph.\n"
     ]
    },
    {
     "name": "stderr",
     "output_type": "stream",
     "text": [
      "[2019-03-05 11:44:42,623] Assets added to graph.\n"
     ]
    },
    {
     "name": "stdout",
     "output_type": "stream",
     "text": [
      "INFO:tensorflow:No assets to write.\n"
     ]
    },
    {
     "name": "stderr",
     "output_type": "stream",
     "text": [
      "[2019-03-05 11:44:42,624] No assets to write.\n"
     ]
    },
    {
     "name": "stdout",
     "output_type": "stream",
     "text": [
      "INFO:tensorflow:SavedModel written to: b'/home/phw/rsl/CS234_Project/data/sac/sac_s0/simple_save/saved_model.pb'\n"
     ]
    },
    {
     "name": "stderr",
     "output_type": "stream",
     "text": [
      "[2019-03-05 11:44:43,078] SavedModel written to: b'/home/phw/rsl/CS234_Project/data/sac/sac_s0/simple_save/saved_model.pb'\n"
     ]
    },
    {
     "name": "stdout",
     "output_type": "stream",
     "text": [
      "---------------------------------------\n",
      "|             Epoch |               9 |\n",
      "|      AverageEpRet |        1.95e+03 |\n",
      "|          StdEpRet |             127 |\n",
      "|          MaxEpRet |        2.11e+03 |\n",
      "|          MinEpRet |        1.74e+03 |\n",
      "|  AverageTestEpRet |        2.88e+03 |\n",
      "|      StdTestEpRet |            76.4 |\n",
      "|      MaxTestEpRet |        3.05e+03 |\n",
      "|      MinTestEpRet |        2.81e+03 |\n",
      "|             EpLen |           1e+03 |\n",
      "|         TestEpLen |           1e+03 |\n",
      "| TotalEnvInteracts |         4.5e+04 |\n",
      "|     AverageQ1Vals |            76.1 |\n",
      "|         StdQ1Vals |            30.3 |\n",
      "|         MaxQ1Vals |             137 |\n",
      "|         MinQ1Vals |            21.7 |\n",
      "|     AverageQ2Vals |            76.1 |\n",
      "|         StdQ2Vals |            30.3 |\n",
      "|         MaxQ2Vals |             136 |\n",
      "|         MinQ2Vals |            21.9 |\n",
      "|      AverageVVals |            76.6 |\n",
      "|          StdVVals |            30.2 |\n",
      "|          MaxVVals |             135 |\n",
      "|          MinVVals |            22.3 |\n",
      "|      AverageLogPi |           -1.01 |\n",
      "|          StdLogPi |            2.67 |\n",
      "|          MaxLogPi |            19.5 |\n",
      "|          MinLogPi |           -14.1 |\n",
      "|            LossPi |           -77.1 |\n",
      "|            LossQ1 |            1.44 |\n",
      "|            LossQ2 |            1.45 |\n",
      "|             LossV |           0.913 |\n",
      "|              Time |             231 |\n",
      "---------------------------------------\n",
      "INFO:tensorflow:Assets added to graph.\n"
     ]
    },
    {
     "name": "stderr",
     "output_type": "stream",
     "text": [
      "[2019-03-05 11:45:08,371] Assets added to graph.\n"
     ]
    },
    {
     "name": "stdout",
     "output_type": "stream",
     "text": [
      "INFO:tensorflow:No assets to write.\n"
     ]
    },
    {
     "name": "stderr",
     "output_type": "stream",
     "text": [
      "[2019-03-05 11:45:08,372] No assets to write.\n"
     ]
    },
    {
     "name": "stdout",
     "output_type": "stream",
     "text": [
      "INFO:tensorflow:SavedModel written to: b'/home/phw/rsl/CS234_Project/data/sac/sac_s0/simple_save/saved_model.pb'\n"
     ]
    },
    {
     "name": "stderr",
     "output_type": "stream",
     "text": [
      "[2019-03-05 11:45:08,869] SavedModel written to: b'/home/phw/rsl/CS234_Project/data/sac/sac_s0/simple_save/saved_model.pb'\n"
     ]
    },
    {
     "name": "stdout",
     "output_type": "stream",
     "text": [
      "---------------------------------------\n",
      "|             Epoch |              10 |\n",
      "|      AverageEpRet |        2.36e+03 |\n",
      "|          StdEpRet |             143 |\n",
      "|          MaxEpRet |        2.59e+03 |\n",
      "|          MinEpRet |        2.21e+03 |\n",
      "|  AverageTestEpRet |         2.9e+03 |\n",
      "|      StdTestEpRet |            54.3 |\n",
      "|      MaxTestEpRet |           3e+03 |\n",
      "|      MinTestEpRet |        2.77e+03 |\n",
      "|             EpLen |           1e+03 |\n",
      "|         TestEpLen |           1e+03 |\n",
      "| TotalEnvInteracts |           5e+04 |\n",
      "|     AverageQ1Vals |            88.3 |\n",
      "|         StdQ1Vals |            35.3 |\n",
      "|         MaxQ1Vals |             154 |\n",
      "|         MinQ1Vals |            18.2 |\n",
      "|     AverageQ2Vals |            88.3 |\n",
      "|         StdQ2Vals |            35.3 |\n",
      "|         MaxQ2Vals |             154 |\n",
      "|         MinQ2Vals |            18.8 |\n",
      "|      AverageVVals |            88.8 |\n",
      "|          StdVVals |              35 |\n",
      "|          MaxVVals |             157 |\n",
      "|          MinVVals |            20.2 |\n",
      "|      AverageLogPi |          -0.652 |\n",
      "|          StdLogPi |            2.78 |\n",
      "|          MaxLogPi |            18.1 |\n",
      "|          MinLogPi |           -14.2 |\n",
      "|            LossPi |           -89.3 |\n",
      "|            LossQ1 |             1.6 |\n",
      "|            LossQ2 |            1.61 |\n",
      "|             LossV |               1 |\n",
      "|              Time |             257 |\n",
      "---------------------------------------\n",
      "INFO:tensorflow:Assets added to graph.\n"
     ]
    },
    {
     "name": "stderr",
     "output_type": "stream",
     "text": [
      "[2019-03-05 11:45:35,068] Assets added to graph.\n"
     ]
    },
    {
     "name": "stdout",
     "output_type": "stream",
     "text": [
      "INFO:tensorflow:No assets to write.\n"
     ]
    },
    {
     "name": "stderr",
     "output_type": "stream",
     "text": [
      "[2019-03-05 11:45:35,070] No assets to write.\n"
     ]
    },
    {
     "name": "stdout",
     "output_type": "stream",
     "text": [
      "INFO:tensorflow:SavedModel written to: b'/home/phw/rsl/CS234_Project/data/sac/sac_s0/simple_save/saved_model.pb'\n"
     ]
    },
    {
     "name": "stderr",
     "output_type": "stream",
     "text": [
      "[2019-03-05 11:45:35,563] SavedModel written to: b'/home/phw/rsl/CS234_Project/data/sac/sac_s0/simple_save/saved_model.pb'\n"
     ]
    },
    {
     "name": "stdout",
     "output_type": "stream",
     "text": [
      "---------------------------------------\n",
      "|             Epoch |              11 |\n",
      "|      AverageEpRet |        2.65e+03 |\n",
      "|          StdEpRet |             146 |\n",
      "|          MaxEpRet |        2.85e+03 |\n",
      "|          MinEpRet |        2.44e+03 |\n",
      "|  AverageTestEpRet |        3.12e+03 |\n",
      "|      StdTestEpRet |            34.5 |\n",
      "|      MaxTestEpRet |        3.16e+03 |\n",
      "|      MinTestEpRet |        3.05e+03 |\n",
      "|             EpLen |           1e+03 |\n",
      "|         TestEpLen |           1e+03 |\n",
      "| TotalEnvInteracts |         5.5e+04 |\n",
      "|     AverageQ1Vals |             101 |\n",
      "|         StdQ1Vals |            40.2 |\n",
      "|         MaxQ1Vals |             177 |\n",
      "|         MinQ1Vals |            17.5 |\n",
      "|     AverageQ2Vals |             101 |\n",
      "|         StdQ2Vals |            40.2 |\n",
      "|         MaxQ2Vals |             178 |\n",
      "|         MinQ2Vals |            17.5 |\n",
      "|      AverageVVals |             102 |\n",
      "|          StdVVals |              40 |\n",
      "|          MaxVVals |             176 |\n",
      "|          MinVVals |            18.4 |\n",
      "|      AverageLogPi |          -0.199 |\n",
      "|          StdLogPi |            2.95 |\n",
      "|          MaxLogPi |            21.1 |\n",
      "|          MinLogPi |           -15.3 |\n",
      "|            LossPi |            -102 |\n",
      "|            LossQ1 |            1.94 |\n",
      "|            LossQ2 |            1.97 |\n",
      "|             LossV |            1.18 |\n",
      "|              Time |             283 |\n",
      "---------------------------------------\n",
      "INFO:tensorflow:Assets added to graph.\n"
     ]
    },
    {
     "name": "stderr",
     "output_type": "stream",
     "text": [
      "[2019-03-05 11:46:00,476] Assets added to graph.\n"
     ]
    },
    {
     "name": "stdout",
     "output_type": "stream",
     "text": [
      "INFO:tensorflow:No assets to write.\n"
     ]
    },
    {
     "name": "stderr",
     "output_type": "stream",
     "text": [
      "[2019-03-05 11:46:00,477] No assets to write.\n"
     ]
    },
    {
     "name": "stdout",
     "output_type": "stream",
     "text": [
      "INFO:tensorflow:SavedModel written to: b'/home/phw/rsl/CS234_Project/data/sac/sac_s0/simple_save/saved_model.pb'\n"
     ]
    },
    {
     "name": "stderr",
     "output_type": "stream",
     "text": [
      "[2019-03-05 11:46:00,985] SavedModel written to: b'/home/phw/rsl/CS234_Project/data/sac/sac_s0/simple_save/saved_model.pb'\n"
     ]
    },
    {
     "name": "stdout",
     "output_type": "stream",
     "text": [
      "---------------------------------------\n",
      "|             Epoch |              12 |\n",
      "|      AverageEpRet |        2.82e+03 |\n",
      "|          StdEpRet |             216 |\n",
      "|          MaxEpRet |        3.03e+03 |\n",
      "|          MinEpRet |        2.44e+03 |\n",
      "|  AverageTestEpRet |        3.83e+03 |\n",
      "|      StdTestEpRet |            76.5 |\n",
      "|      MaxTestEpRet |        3.94e+03 |\n",
      "|      MinTestEpRet |        3.71e+03 |\n",
      "|             EpLen |           1e+03 |\n",
      "|         TestEpLen |           1e+03 |\n",
      "| TotalEnvInteracts |           6e+04 |\n",
      "|     AverageQ1Vals |             115 |\n",
      "|         StdQ1Vals |            44.9 |\n",
      "|         MaxQ1Vals |             193 |\n",
      "|         MinQ1Vals |            16.9 |\n",
      "|     AverageQ2Vals |             115 |\n",
      "|         StdQ2Vals |            44.9 |\n",
      "|         MaxQ2Vals |             194 |\n",
      "|         MinQ2Vals |            15.6 |\n",
      "|      AverageVVals |             115 |\n",
      "|          StdVVals |            44.5 |\n",
      "|          MaxVVals |             192 |\n",
      "|          MinVVals |            15.2 |\n",
      "|      AverageLogPi |           0.161 |\n",
      "|          StdLogPi |            3.03 |\n",
      "|          MaxLogPi |            28.2 |\n",
      "|          MinLogPi |           -13.1 |\n",
      "|            LossPi |            -116 |\n",
      "|            LossQ1 |            2.29 |\n",
      "|            LossQ2 |            2.34 |\n",
      "|             LossV |            1.41 |\n",
      "|              Time |             308 |\n",
      "---------------------------------------\n",
      "INFO:tensorflow:Assets added to graph.\n"
     ]
    },
    {
     "name": "stderr",
     "output_type": "stream",
     "text": [
      "[2019-03-05 11:46:25,687] Assets added to graph.\n"
     ]
    },
    {
     "name": "stdout",
     "output_type": "stream",
     "text": [
      "INFO:tensorflow:No assets to write.\n"
     ]
    },
    {
     "name": "stderr",
     "output_type": "stream",
     "text": [
      "[2019-03-05 11:46:25,688] No assets to write.\n"
     ]
    },
    {
     "name": "stdout",
     "output_type": "stream",
     "text": [
      "INFO:tensorflow:SavedModel written to: b'/home/phw/rsl/CS234_Project/data/sac/sac_s0/simple_save/saved_model.pb'\n"
     ]
    },
    {
     "name": "stderr",
     "output_type": "stream",
     "text": [
      "[2019-03-05 11:46:26,259] SavedModel written to: b'/home/phw/rsl/CS234_Project/data/sac/sac_s0/simple_save/saved_model.pb'\n"
     ]
    },
    {
     "name": "stdout",
     "output_type": "stream",
     "text": [
      "---------------------------------------\n",
      "|             Epoch |              13 |\n",
      "|      AverageEpRet |        2.99e+03 |\n",
      "|          StdEpRet |             108 |\n",
      "|          MaxEpRet |        3.11e+03 |\n",
      "|          MinEpRet |        2.79e+03 |\n",
      "|  AverageTestEpRet |         4.3e+03 |\n",
      "|      StdTestEpRet |            92.4 |\n",
      "|      MaxTestEpRet |        4.41e+03 |\n",
      "|      MinTestEpRet |        4.08e+03 |\n",
      "|             EpLen |           1e+03 |\n",
      "|         TestEpLen |           1e+03 |\n",
      "| TotalEnvInteracts |         6.5e+04 |\n",
      "|     AverageQ1Vals |             129 |\n",
      "|         StdQ1Vals |            48.6 |\n",
      "|         MaxQ1Vals |             220 |\n",
      "|         MinQ1Vals |              14 |\n",
      "|     AverageQ2Vals |             129 |\n",
      "|         StdQ2Vals |            48.6 |\n",
      "|         MaxQ2Vals |             219 |\n",
      "|         MinQ2Vals |            15.3 |\n",
      "|      AverageVVals |             130 |\n",
      "|          StdVVals |            48.3 |\n",
      "|          MaxVVals |             220 |\n",
      "|          MinVVals |            14.3 |\n",
      "|      AverageLogPi |           0.487 |\n",
      "|          StdLogPi |            3.11 |\n",
      "|          MaxLogPi |            23.3 |\n",
      "|          MinLogPi |           -14.5 |\n",
      "|            LossPi |            -130 |\n",
      "|            LossQ1 |            2.63 |\n",
      "|            LossQ2 |            2.69 |\n",
      "|             LossV |            1.57 |\n",
      "|              Time |             334 |\n",
      "---------------------------------------\n",
      "INFO:tensorflow:Assets added to graph.\n"
     ]
    },
    {
     "name": "stderr",
     "output_type": "stream",
     "text": [
      "[2019-03-05 11:46:54,251] Assets added to graph.\n"
     ]
    },
    {
     "name": "stdout",
     "output_type": "stream",
     "text": [
      "INFO:tensorflow:No assets to write.\n"
     ]
    },
    {
     "name": "stderr",
     "output_type": "stream",
     "text": [
      "[2019-03-05 11:46:54,252] No assets to write.\n"
     ]
    },
    {
     "name": "stdout",
     "output_type": "stream",
     "text": [
      "INFO:tensorflow:SavedModel written to: b'/home/phw/rsl/CS234_Project/data/sac/sac_s0/simple_save/saved_model.pb'\n"
     ]
    },
    {
     "name": "stderr",
     "output_type": "stream",
     "text": [
      "[2019-03-05 11:46:54,914] SavedModel written to: b'/home/phw/rsl/CS234_Project/data/sac/sac_s0/simple_save/saved_model.pb'\n"
     ]
    },
    {
     "name": "stdout",
     "output_type": "stream",
     "text": [
      "---------------------------------------\n",
      "|             Epoch |              14 |\n",
      "|      AverageEpRet |        3.28e+03 |\n",
      "|          StdEpRet |             142 |\n",
      "|          MaxEpRet |        3.52e+03 |\n",
      "|          MinEpRet |        3.12e+03 |\n",
      "|  AverageTestEpRet |        3.74e+03 |\n",
      "|      StdTestEpRet |             126 |\n",
      "|      MaxTestEpRet |        3.93e+03 |\n",
      "|      MinTestEpRet |        3.45e+03 |\n",
      "|             EpLen |           1e+03 |\n",
      "|         TestEpLen |           1e+03 |\n",
      "| TotalEnvInteracts |           7e+04 |\n",
      "|     AverageQ1Vals |             143 |\n",
      "|         StdQ1Vals |            52.2 |\n",
      "|         MaxQ1Vals |             232 |\n",
      "|         MinQ1Vals |            15.2 |\n",
      "|     AverageQ2Vals |             143 |\n",
      "|         StdQ2Vals |            52.2 |\n",
      "|         MaxQ2Vals |             233 |\n",
      "|         MinQ2Vals |            15.6 |\n",
      "|      AverageVVals |             143 |\n",
      "|          StdVVals |            51.8 |\n",
      "|          MaxVVals |             234 |\n",
      "|          MinVVals |            14.1 |\n",
      "|      AverageLogPi |           0.847 |\n",
      "|          StdLogPi |            3.22 |\n",
      "|          MaxLogPi |            21.4 |\n",
      "|          MinLogPi |           -14.7 |\n",
      "|            LossPi |            -144 |\n",
      "|            LossQ1 |            2.98 |\n",
      "|            LossQ2 |            3.04 |\n",
      "|             LossV |            1.76 |\n",
      "|              Time |             364 |\n",
      "---------------------------------------\n",
      "INFO:tensorflow:Assets added to graph.\n"
     ]
    },
    {
     "name": "stderr",
     "output_type": "stream",
     "text": [
      "[2019-03-05 11:47:25,303] Assets added to graph.\n"
     ]
    },
    {
     "name": "stdout",
     "output_type": "stream",
     "text": [
      "INFO:tensorflow:No assets to write.\n"
     ]
    },
    {
     "name": "stderr",
     "output_type": "stream",
     "text": [
      "[2019-03-05 11:47:25,304] No assets to write.\n"
     ]
    },
    {
     "name": "stdout",
     "output_type": "stream",
     "text": [
      "INFO:tensorflow:SavedModel written to: b'/home/phw/rsl/CS234_Project/data/sac/sac_s0/simple_save/saved_model.pb'\n"
     ]
    },
    {
     "name": "stderr",
     "output_type": "stream",
     "text": [
      "[2019-03-05 11:47:25,898] SavedModel written to: b'/home/phw/rsl/CS234_Project/data/sac/sac_s0/simple_save/saved_model.pb'\n"
     ]
    },
    {
     "name": "stdout",
     "output_type": "stream",
     "text": [
      "---------------------------------------\n",
      "|             Epoch |              15 |\n",
      "|      AverageEpRet |         3.3e+03 |\n",
      "|          StdEpRet |             187 |\n",
      "|          MaxEpRet |        3.61e+03 |\n",
      "|          MinEpRet |        3.11e+03 |\n",
      "|  AverageTestEpRet |        3.82e+03 |\n",
      "|      StdTestEpRet |            68.4 |\n",
      "|      MaxTestEpRet |        3.93e+03 |\n",
      "|      MinTestEpRet |        3.73e+03 |\n",
      "|             EpLen |           1e+03 |\n",
      "|         TestEpLen |           1e+03 |\n",
      "| TotalEnvInteracts |         7.5e+04 |\n",
      "|     AverageQ1Vals |             156 |\n",
      "|         StdQ1Vals |            55.6 |\n",
      "|         MaxQ1Vals |             252 |\n",
      "|         MinQ1Vals |            13.5 |\n",
      "|     AverageQ2Vals |             156 |\n",
      "|         StdQ2Vals |            55.6 |\n",
      "|         MaxQ2Vals |             252 |\n",
      "|         MinQ2Vals |            14.5 |\n",
      "|      AverageVVals |             157 |\n",
      "|          StdVVals |            55.1 |\n",
      "|          MaxVVals |             252 |\n",
      "|          MinVVals |            14.5 |\n",
      "|      AverageLogPi |            1.08 |\n",
      "|          StdLogPi |            3.28 |\n",
      "|          MaxLogPi |              26 |\n",
      "|          MinLogPi |           -15.6 |\n",
      "|            LossPi |            -157 |\n",
      "|            LossQ1 |            3.44 |\n",
      "|            LossQ2 |            3.53 |\n",
      "|             LossV |            1.95 |\n",
      "|              Time |             393 |\n",
      "---------------------------------------\n",
      "INFO:tensorflow:Assets added to graph.\n"
     ]
    },
    {
     "name": "stderr",
     "output_type": "stream",
     "text": [
      "[2019-03-05 11:47:52,396] Assets added to graph.\n"
     ]
    },
    {
     "name": "stdout",
     "output_type": "stream",
     "text": [
      "INFO:tensorflow:No assets to write.\n"
     ]
    },
    {
     "name": "stderr",
     "output_type": "stream",
     "text": [
      "[2019-03-05 11:47:52,397] No assets to write.\n"
     ]
    },
    {
     "name": "stdout",
     "output_type": "stream",
     "text": [
      "INFO:tensorflow:SavedModel written to: b'/home/phw/rsl/CS234_Project/data/sac/sac_s0/simple_save/saved_model.pb'\n"
     ]
    },
    {
     "name": "stderr",
     "output_type": "stream",
     "text": [
      "[2019-03-05 11:47:52,991] SavedModel written to: b'/home/phw/rsl/CS234_Project/data/sac/sac_s0/simple_save/saved_model.pb'\n"
     ]
    },
    {
     "name": "stdout",
     "output_type": "stream",
     "text": [
      "---------------------------------------\n",
      "|             Epoch |              16 |\n",
      "|      AverageEpRet |        3.13e+03 |\n",
      "|          StdEpRet |             537 |\n",
      "|          MaxEpRet |        3.65e+03 |\n",
      "|          MinEpRet |        2.21e+03 |\n",
      "|  AverageTestEpRet |        4.23e+03 |\n",
      "|      StdTestEpRet |              96 |\n",
      "|      MaxTestEpRet |        4.41e+03 |\n",
      "|      MinTestEpRet |        4.08e+03 |\n",
      "|             EpLen |           1e+03 |\n",
      "|         TestEpLen |           1e+03 |\n",
      "| TotalEnvInteracts |           8e+04 |\n",
      "|     AverageQ1Vals |             167 |\n",
      "|         StdQ1Vals |            59.1 |\n",
      "|         MaxQ1Vals |             263 |\n",
      "|         MinQ1Vals |            3.13 |\n",
      "|     AverageQ2Vals |             167 |\n",
      "|         StdQ2Vals |            59.1 |\n",
      "|         MaxQ2Vals |             264 |\n",
      "|         MinQ2Vals |            3.99 |\n",
      "|      AverageVVals |             168 |\n",
      "|          StdVVals |            58.7 |\n",
      "|          MaxVVals |             264 |\n",
      "|          MinVVals |            4.08 |\n",
      "|      AverageLogPi |            1.26 |\n",
      "|          StdLogPi |            3.37 |\n",
      "|          MaxLogPi |            25.7 |\n",
      "|          MinLogPi |           -14.1 |\n",
      "|            LossPi |            -169 |\n",
      "|            LossQ1 |            4.15 |\n",
      "|            LossQ2 |            4.24 |\n",
      "|             LossV |            2.21 |\n",
      "|              Time |             421 |\n",
      "---------------------------------------\n",
      "INFO:tensorflow:Assets added to graph.\n"
     ]
    },
    {
     "name": "stderr",
     "output_type": "stream",
     "text": [
      "[2019-03-05 11:48:18,398] Assets added to graph.\n"
     ]
    },
    {
     "name": "stdout",
     "output_type": "stream",
     "text": [
      "INFO:tensorflow:No assets to write.\n"
     ]
    },
    {
     "name": "stderr",
     "output_type": "stream",
     "text": [
      "[2019-03-05 11:48:18,399] No assets to write.\n"
     ]
    },
    {
     "name": "stdout",
     "output_type": "stream",
     "text": [
      "INFO:tensorflow:SavedModel written to: b'/home/phw/rsl/CS234_Project/data/sac/sac_s0/simple_save/saved_model.pb'\n"
     ]
    },
    {
     "name": "stderr",
     "output_type": "stream",
     "text": [
      "[2019-03-05 11:48:19,044] SavedModel written to: b'/home/phw/rsl/CS234_Project/data/sac/sac_s0/simple_save/saved_model.pb'\n"
     ]
    },
    {
     "name": "stdout",
     "output_type": "stream",
     "text": [
      "---------------------------------------\n",
      "|             Epoch |              17 |\n",
      "|      AverageEpRet |        3.59e+03 |\n",
      "|          StdEpRet |             269 |\n",
      "|          MaxEpRet |        3.89e+03 |\n",
      "|          MinEpRet |        3.14e+03 |\n",
      "|  AverageTestEpRet |        4.19e+03 |\n",
      "|      StdTestEpRet |             119 |\n",
      "|      MaxTestEpRet |         4.5e+03 |\n",
      "|      MinTestEpRet |        4.03e+03 |\n",
      "|             EpLen |           1e+03 |\n",
      "|         TestEpLen |           1e+03 |\n",
      "| TotalEnvInteracts |         8.5e+04 |\n",
      "|     AverageQ1Vals |             179 |\n",
      "|         StdQ1Vals |            61.6 |\n",
      "|         MaxQ1Vals |             275 |\n",
      "|         MinQ1Vals |            1.42 |\n",
      "|     AverageQ2Vals |             179 |\n",
      "|         StdQ2Vals |            61.6 |\n",
      "|         MaxQ2Vals |             276 |\n",
      "|         MinQ2Vals |             1.1 |\n",
      "|      AverageVVals |             179 |\n",
      "|          StdVVals |            61.1 |\n",
      "|          MaxVVals |             275 |\n",
      "|          MinVVals |            3.01 |\n",
      "|      AverageLogPi |            1.38 |\n",
      "|          StdLogPi |            3.38 |\n",
      "|          MaxLogPi |            22.2 |\n",
      "|          MinLogPi |           -14.1 |\n",
      "|            LossPi |            -180 |\n",
      "|            LossQ1 |             4.5 |\n",
      "|            LossQ2 |            4.61 |\n",
      "|             LossV |            2.33 |\n",
      "|              Time |             447 |\n",
      "---------------------------------------\n",
      "INFO:tensorflow:Assets added to graph.\n"
     ]
    },
    {
     "name": "stderr",
     "output_type": "stream",
     "text": [
      "[2019-03-05 11:48:47,205] Assets added to graph.\n"
     ]
    },
    {
     "name": "stdout",
     "output_type": "stream",
     "text": [
      "INFO:tensorflow:No assets to write.\n"
     ]
    },
    {
     "name": "stderr",
     "output_type": "stream",
     "text": [
      "[2019-03-05 11:48:47,206] No assets to write.\n"
     ]
    },
    {
     "name": "stdout",
     "output_type": "stream",
     "text": [
      "INFO:tensorflow:SavedModel written to: b'/home/phw/rsl/CS234_Project/data/sac/sac_s0/simple_save/saved_model.pb'\n"
     ]
    },
    {
     "name": "stderr",
     "output_type": "stream",
     "text": [
      "[2019-03-05 11:48:47,908] SavedModel written to: b'/home/phw/rsl/CS234_Project/data/sac/sac_s0/simple_save/saved_model.pb'\n"
     ]
    },
    {
     "name": "stdout",
     "output_type": "stream",
     "text": [
      "---------------------------------------\n",
      "|             Epoch |              18 |\n",
      "|      AverageEpRet |        3.68e+03 |\n",
      "|          StdEpRet |            97.9 |\n",
      "|          MaxEpRet |        3.85e+03 |\n",
      "|          MinEpRet |        3.56e+03 |\n",
      "|  AverageTestEpRet |        3.71e+03 |\n",
      "|      StdTestEpRet |            66.8 |\n",
      "|      MaxTestEpRet |        3.78e+03 |\n",
      "|      MinTestEpRet |        3.55e+03 |\n",
      "|             EpLen |           1e+03 |\n",
      "|         TestEpLen |           1e+03 |\n",
      "| TotalEnvInteracts |           9e+04 |\n",
      "|     AverageQ1Vals |             189 |\n",
      "|         StdQ1Vals |            63.4 |\n",
      "|         MaxQ1Vals |             286 |\n",
      "|         MinQ1Vals |          -0.645 |\n",
      "|     AverageQ2Vals |             189 |\n",
      "|         StdQ2Vals |            63.4 |\n",
      "|         MaxQ2Vals |             288 |\n",
      "|         MinQ2Vals |            -2.2 |\n",
      "|      AverageVVals |             190 |\n",
      "|          StdVVals |            62.8 |\n",
      "|          MaxVVals |             283 |\n",
      "|          MinVVals |           -5.78 |\n",
      "|      AverageLogPi |            1.51 |\n",
      "|          StdLogPi |             3.4 |\n",
      "|          MaxLogPi |            28.3 |\n",
      "|          MinLogPi |           -13.9 |\n",
      "|            LossPi |            -191 |\n",
      "|            LossQ1 |            4.74 |\n",
      "|            LossQ2 |            4.86 |\n",
      "|             LossV |            2.49 |\n",
      "|              Time |             477 |\n",
      "---------------------------------------\n",
      "INFO:tensorflow:Assets added to graph.\n"
     ]
    },
    {
     "name": "stderr",
     "output_type": "stream",
     "text": [
      "[2019-03-05 11:49:22,276] Assets added to graph.\n"
     ]
    },
    {
     "name": "stdout",
     "output_type": "stream",
     "text": [
      "INFO:tensorflow:No assets to write.\n"
     ]
    },
    {
     "name": "stderr",
     "output_type": "stream",
     "text": [
      "[2019-03-05 11:49:22,278] No assets to write.\n"
     ]
    },
    {
     "name": "stdout",
     "output_type": "stream",
     "text": [
      "INFO:tensorflow:SavedModel written to: b'/home/phw/rsl/CS234_Project/data/sac/sac_s0/simple_save/saved_model.pb'\n"
     ]
    },
    {
     "name": "stderr",
     "output_type": "stream",
     "text": [
      "[2019-03-05 11:49:22,953] SavedModel written to: b'/home/phw/rsl/CS234_Project/data/sac/sac_s0/simple_save/saved_model.pb'\n"
     ]
    },
    {
     "name": "stdout",
     "output_type": "stream",
     "text": [
      "---------------------------------------\n",
      "|             Epoch |              19 |\n",
      "|      AverageEpRet |        3.78e+03 |\n",
      "|          StdEpRet |             143 |\n",
      "|          MaxEpRet |        3.95e+03 |\n",
      "|          MinEpRet |        3.52e+03 |\n",
      "|  AverageTestEpRet |        4.29e+03 |\n",
      "|      StdTestEpRet |             113 |\n",
      "|      MaxTestEpRet |        4.45e+03 |\n",
      "|      MinTestEpRet |        4.02e+03 |\n",
      "|             EpLen |           1e+03 |\n",
      "|         TestEpLen |           1e+03 |\n",
      "| TotalEnvInteracts |         9.5e+04 |\n",
      "|     AverageQ1Vals |             199 |\n",
      "|         StdQ1Vals |            65.1 |\n",
      "|         MaxQ1Vals |             300 |\n",
      "|         MinQ1Vals |           -2.36 |\n",
      "|     AverageQ2Vals |             199 |\n",
      "|         StdQ2Vals |            65.1 |\n",
      "|         MaxQ2Vals |             300 |\n",
      "|         MinQ2Vals |           -3.54 |\n",
      "|      AverageVVals |             200 |\n",
      "|          StdVVals |            64.5 |\n",
      "|          MaxVVals |             299 |\n",
      "|          MinVVals |           -3.16 |\n",
      "|      AverageLogPi |            1.67 |\n",
      "|          StdLogPi |            3.45 |\n",
      "|          MaxLogPi |            29.5 |\n",
      "|          MinLogPi |           -14.2 |\n",
      "|            LossPi |            -201 |\n",
      "|            LossQ1 |            4.97 |\n",
      "|            LossQ2 |            5.13 |\n",
      "|             LossV |            2.59 |\n",
      "|              Time |             511 |\n",
      "---------------------------------------\n",
      "INFO:tensorflow:Assets added to graph.\n"
     ]
    },
    {
     "name": "stderr",
     "output_type": "stream",
     "text": [
      "[2019-03-05 11:49:50,308] Assets added to graph.\n"
     ]
    },
    {
     "name": "stdout",
     "output_type": "stream",
     "text": [
      "INFO:tensorflow:No assets to write.\n"
     ]
    },
    {
     "name": "stderr",
     "output_type": "stream",
     "text": [
      "[2019-03-05 11:49:50,309] No assets to write.\n"
     ]
    },
    {
     "name": "stdout",
     "output_type": "stream",
     "text": [
      "INFO:tensorflow:SavedModel written to: b'/home/phw/rsl/CS234_Project/data/sac/sac_s0/simple_save/saved_model.pb'\n"
     ]
    },
    {
     "name": "stderr",
     "output_type": "stream",
     "text": [
      "[2019-03-05 11:49:50,996] SavedModel written to: b'/home/phw/rsl/CS234_Project/data/sac/sac_s0/simple_save/saved_model.pb'\n"
     ]
    },
    {
     "name": "stdout",
     "output_type": "stream",
     "text": [
      "---------------------------------------\n",
      "|             Epoch |              20 |\n",
      "|      AverageEpRet |        3.77e+03 |\n",
      "|          StdEpRet |              72 |\n",
      "|          MaxEpRet |         3.9e+03 |\n",
      "|          MinEpRet |        3.69e+03 |\n",
      "|  AverageTestEpRet |        3.79e+03 |\n",
      "|      StdTestEpRet |             988 |\n",
      "|      MaxTestEpRet |        4.34e+03 |\n",
      "|      MinTestEpRet |             846 |\n",
      "|             EpLen |           1e+03 |\n",
      "|         TestEpLen |           1e+03 |\n",
      "| TotalEnvInteracts |           1e+05 |\n",
      "|     AverageQ1Vals |             209 |\n",
      "|         StdQ1Vals |            66.3 |\n",
      "|         MaxQ1Vals |             305 |\n",
      "|         MinQ1Vals |           -3.54 |\n",
      "|     AverageQ2Vals |             209 |\n",
      "|         StdQ2Vals |            66.3 |\n",
      "|         MaxQ2Vals |             306 |\n",
      "|         MinQ2Vals |           -2.01 |\n",
      "|      AverageVVals |             209 |\n",
      "|          StdVVals |            65.8 |\n",
      "|          MaxVVals |             305 |\n",
      "|          MinVVals |           -2.64 |\n",
      "|      AverageLogPi |            1.81 |\n",
      "|          StdLogPi |            3.47 |\n",
      "|          MaxLogPi |            26.1 |\n",
      "|          MinLogPi |           -13.8 |\n",
      "|            LossPi |            -210 |\n",
      "|            LossQ1 |            5.23 |\n",
      "|            LossQ2 |            5.42 |\n",
      "|             LossV |            2.69 |\n",
      "|              Time |             539 |\n",
      "---------------------------------------\n",
      "INFO:tensorflow:Assets added to graph.\n"
     ]
    },
    {
     "name": "stderr",
     "output_type": "stream",
     "text": [
      "[2019-03-05 11:50:16,270] Assets added to graph.\n"
     ]
    },
    {
     "name": "stdout",
     "output_type": "stream",
     "text": [
      "INFO:tensorflow:No assets to write.\n"
     ]
    },
    {
     "name": "stderr",
     "output_type": "stream",
     "text": [
      "[2019-03-05 11:50:16,271] No assets to write.\n"
     ]
    },
    {
     "name": "stdout",
     "output_type": "stream",
     "text": [
      "INFO:tensorflow:SavedModel written to: b'/home/phw/rsl/CS234_Project/data/sac/sac_s0/simple_save/saved_model.pb'\n"
     ]
    },
    {
     "name": "stderr",
     "output_type": "stream",
     "text": [
      "[2019-03-05 11:50:16,954] SavedModel written to: b'/home/phw/rsl/CS234_Project/data/sac/sac_s0/simple_save/saved_model.pb'\n"
     ]
    },
    {
     "name": "stdout",
     "output_type": "stream",
     "text": [
      "---------------------------------------\n",
      "|             Epoch |              21 |\n",
      "|      AverageEpRet |        3.54e+03 |\n",
      "|          StdEpRet |             343 |\n",
      "|          MaxEpRet |        3.93e+03 |\n",
      "|          MinEpRet |        2.99e+03 |\n",
      "|  AverageTestEpRet |        3.75e+03 |\n",
      "|      StdTestEpRet |             187 |\n",
      "|      MaxTestEpRet |        4.02e+03 |\n",
      "|      MinTestEpRet |         3.5e+03 |\n",
      "|             EpLen |           1e+03 |\n",
      "|         TestEpLen |           1e+03 |\n",
      "| TotalEnvInteracts |        1.05e+05 |\n",
      "|     AverageQ1Vals |             217 |\n",
      "|         StdQ1Vals |              67 |\n",
      "|         MaxQ1Vals |             314 |\n",
      "|         MinQ1Vals |           -2.14 |\n",
      "|     AverageQ2Vals |             217 |\n",
      "|         StdQ2Vals |              67 |\n",
      "|         MaxQ2Vals |             314 |\n",
      "|         MinQ2Vals |           -1.72 |\n",
      "|      AverageVVals |             217 |\n",
      "|          StdVVals |            66.4 |\n",
      "|          MaxVVals |             313 |\n",
      "|          MinVVals |           -4.22 |\n",
      "|      AverageLogPi |            1.82 |\n",
      "|          StdLogPi |            3.45 |\n",
      "|          MaxLogPi |            30.1 |\n",
      "|          MinLogPi |           -14.2 |\n",
      "|            LossPi |            -218 |\n",
      "|            LossQ1 |            5.37 |\n",
      "|            LossQ2 |            5.58 |\n",
      "|             LossV |            2.84 |\n",
      "|              Time |             564 |\n",
      "---------------------------------------\n",
      "INFO:tensorflow:Assets added to graph.\n"
     ]
    },
    {
     "name": "stderr",
     "output_type": "stream",
     "text": [
      "[2019-03-05 11:50:41,780] Assets added to graph.\n"
     ]
    },
    {
     "name": "stdout",
     "output_type": "stream",
     "text": [
      "INFO:tensorflow:No assets to write.\n"
     ]
    },
    {
     "name": "stderr",
     "output_type": "stream",
     "text": [
      "[2019-03-05 11:50:41,781] No assets to write.\n"
     ]
    },
    {
     "name": "stdout",
     "output_type": "stream",
     "text": [
      "INFO:tensorflow:SavedModel written to: b'/home/phw/rsl/CS234_Project/data/sac/sac_s0/simple_save/saved_model.pb'\n"
     ]
    },
    {
     "name": "stderr",
     "output_type": "stream",
     "text": [
      "[2019-03-05 11:50:42,522] SavedModel written to: b'/home/phw/rsl/CS234_Project/data/sac/sac_s0/simple_save/saved_model.pb'\n"
     ]
    },
    {
     "name": "stdout",
     "output_type": "stream",
     "text": [
      "---------------------------------------\n",
      "|             Epoch |              22 |\n",
      "|      AverageEpRet |        3.86e+03 |\n",
      "|          StdEpRet |             208 |\n",
      "|          MaxEpRet |        4.11e+03 |\n",
      "|          MinEpRet |        3.51e+03 |\n",
      "|  AverageTestEpRet |        4.03e+03 |\n",
      "|      StdTestEpRet |            80.4 |\n",
      "|      MaxTestEpRet |        4.15e+03 |\n",
      "|      MinTestEpRet |        3.87e+03 |\n",
      "|             EpLen |           1e+03 |\n",
      "|         TestEpLen |           1e+03 |\n",
      "| TotalEnvInteracts |         1.1e+05 |\n",
      "|     AverageQ1Vals |             223 |\n",
      "|         StdQ1Vals |            67.8 |\n",
      "|         MaxQ1Vals |             322 |\n",
      "|         MinQ1Vals |           -6.55 |\n",
      "|     AverageQ2Vals |             223 |\n",
      "|         StdQ2Vals |            67.8 |\n",
      "|         MaxQ2Vals |             320 |\n",
      "|         MinQ2Vals |           -3.97 |\n",
      "|      AverageVVals |             223 |\n",
      "|          StdVVals |            67.2 |\n",
      "|          MaxVVals |             322 |\n",
      "|          MinVVals |           -9.29 |\n",
      "|      AverageLogPi |            1.84 |\n",
      "|          StdLogPi |            3.44 |\n",
      "|          MaxLogPi |            31.6 |\n",
      "|          MinLogPi |           -15.5 |\n",
      "|            LossPi |            -224 |\n",
      "|            LossQ1 |            5.78 |\n",
      "|            LossQ2 |               6 |\n",
      "|             LossV |            2.88 |\n",
      "|              Time |             590 |\n",
      "---------------------------------------\n",
      "INFO:tensorflow:Assets added to graph.\n"
     ]
    },
    {
     "name": "stderr",
     "output_type": "stream",
     "text": [
      "[2019-03-05 11:51:07,528] Assets added to graph.\n"
     ]
    },
    {
     "name": "stdout",
     "output_type": "stream",
     "text": [
      "INFO:tensorflow:No assets to write.\n"
     ]
    },
    {
     "name": "stderr",
     "output_type": "stream",
     "text": [
      "[2019-03-05 11:51:07,529] No assets to write.\n"
     ]
    },
    {
     "name": "stdout",
     "output_type": "stream",
     "text": [
      "INFO:tensorflow:SavedModel written to: b'/home/phw/rsl/CS234_Project/data/sac/sac_s0/simple_save/saved_model.pb'\n"
     ]
    },
    {
     "name": "stderr",
     "output_type": "stream",
     "text": [
      "[2019-03-05 11:51:08,319] SavedModel written to: b'/home/phw/rsl/CS234_Project/data/sac/sac_s0/simple_save/saved_model.pb'\n"
     ]
    },
    {
     "name": "stdout",
     "output_type": "stream",
     "text": [
      "---------------------------------------\n",
      "|             Epoch |              23 |\n",
      "|      AverageEpRet |        3.77e+03 |\n",
      "|          StdEpRet |            72.6 |\n",
      "|          MaxEpRet |        3.85e+03 |\n",
      "|          MinEpRet |        3.66e+03 |\n",
      "|  AverageTestEpRet |        4.32e+03 |\n",
      "|      StdTestEpRet |            85.2 |\n",
      "|      MaxTestEpRet |        4.47e+03 |\n",
      "|      MinTestEpRet |        4.18e+03 |\n",
      "|             EpLen |           1e+03 |\n",
      "|         TestEpLen |           1e+03 |\n",
      "| TotalEnvInteracts |        1.15e+05 |\n",
      "|     AverageQ1Vals |             230 |\n",
      "|         StdQ1Vals |            67.7 |\n",
      "|         MaxQ1Vals |             327 |\n",
      "|         MinQ1Vals |           -7.74 |\n",
      "|     AverageQ2Vals |             230 |\n",
      "|         StdQ2Vals |            67.7 |\n",
      "|         MaxQ2Vals |             325 |\n",
      "|         MinQ2Vals |           -5.64 |\n",
      "|      AverageVVals |             230 |\n",
      "|          StdVVals |            67.1 |\n",
      "|          MaxVVals |             322 |\n",
      "|          MinVVals |           -7.96 |\n",
      "|      AverageLogPi |             1.9 |\n",
      "|          StdLogPi |            3.46 |\n",
      "|          MaxLogPi |            29.1 |\n",
      "|          MinLogPi |           -13.2 |\n",
      "|            LossPi |            -231 |\n",
      "|            LossQ1 |            5.84 |\n",
      "|            LossQ2 |            6.05 |\n",
      "|             LossV |            2.97 |\n",
      "|              Time |             616 |\n",
      "---------------------------------------\n",
      "INFO:tensorflow:Assets added to graph.\n"
     ]
    },
    {
     "name": "stderr",
     "output_type": "stream",
     "text": [
      "[2019-03-05 11:51:32,763] Assets added to graph.\n"
     ]
    },
    {
     "name": "stdout",
     "output_type": "stream",
     "text": [
      "INFO:tensorflow:No assets to write.\n"
     ]
    },
    {
     "name": "stderr",
     "output_type": "stream",
     "text": [
      "[2019-03-05 11:51:32,764] No assets to write.\n"
     ]
    },
    {
     "name": "stdout",
     "output_type": "stream",
     "text": [
      "INFO:tensorflow:SavedModel written to: b'/home/phw/rsl/CS234_Project/data/sac/sac_s0/simple_save/saved_model.pb'\n"
     ]
    },
    {
     "name": "stderr",
     "output_type": "stream",
     "text": [
      "[2019-03-05 11:51:33,508] SavedModel written to: b'/home/phw/rsl/CS234_Project/data/sac/sac_s0/simple_save/saved_model.pb'\n"
     ]
    },
    {
     "name": "stdout",
     "output_type": "stream",
     "text": [
      "---------------------------------------\n",
      "|             Epoch |              24 |\n",
      "|      AverageEpRet |        3.85e+03 |\n",
      "|          StdEpRet |             215 |\n",
      "|          MaxEpRet |        4.03e+03 |\n",
      "|          MinEpRet |        3.44e+03 |\n",
      "|  AverageTestEpRet |        4.55e+03 |\n",
      "|      StdTestEpRet |            88.4 |\n",
      "|      MaxTestEpRet |         4.7e+03 |\n",
      "|      MinTestEpRet |        4.42e+03 |\n",
      "|             EpLen |           1e+03 |\n",
      "|         TestEpLen |           1e+03 |\n",
      "| TotalEnvInteracts |         1.2e+05 |\n",
      "|     AverageQ1Vals |             235 |\n",
      "|         StdQ1Vals |            68.1 |\n",
      "|         MaxQ1Vals |             328 |\n",
      "|         MinQ1Vals |           -7.76 |\n",
      "|     AverageQ2Vals |             235 |\n",
      "|         StdQ2Vals |            68.1 |\n",
      "|         MaxQ2Vals |             329 |\n",
      "|         MinQ2Vals |           -6.01 |\n",
      "|      AverageVVals |             235 |\n",
      "|          StdVVals |            67.5 |\n",
      "|          MaxVVals |             327 |\n",
      "|          MinVVals |           -8.99 |\n",
      "|      AverageLogPi |            1.98 |\n",
      "|          StdLogPi |            3.46 |\n",
      "|          MaxLogPi |            30.7 |\n",
      "|          MinLogPi |           -14.8 |\n",
      "|            LossPi |            -236 |\n",
      "|            LossQ1 |            5.97 |\n",
      "|            LossQ2 |            6.19 |\n",
      "|             LossV |            3.01 |\n",
      "|              Time |             641 |\n",
      "---------------------------------------\n",
      "INFO:tensorflow:Assets added to graph.\n"
     ]
    },
    {
     "name": "stderr",
     "output_type": "stream",
     "text": [
      "[2019-03-05 11:51:58,080] Assets added to graph.\n"
     ]
    },
    {
     "name": "stdout",
     "output_type": "stream",
     "text": [
      "INFO:tensorflow:No assets to write.\n"
     ]
    },
    {
     "name": "stderr",
     "output_type": "stream",
     "text": [
      "[2019-03-05 11:51:58,082] No assets to write.\n"
     ]
    },
    {
     "name": "stdout",
     "output_type": "stream",
     "text": [
      "INFO:tensorflow:SavedModel written to: b'/home/phw/rsl/CS234_Project/data/sac/sac_s0/simple_save/saved_model.pb'\n"
     ]
    },
    {
     "name": "stderr",
     "output_type": "stream",
     "text": [
      "[2019-03-05 11:51:58,857] SavedModel written to: b'/home/phw/rsl/CS234_Project/data/sac/sac_s0/simple_save/saved_model.pb'\n"
     ]
    },
    {
     "name": "stdout",
     "output_type": "stream",
     "text": [
      "---------------------------------------\n",
      "|             Epoch |              25 |\n",
      "|      AverageEpRet |        3.86e+03 |\n",
      "|          StdEpRet |             132 |\n",
      "|          MaxEpRet |        4.05e+03 |\n",
      "|          MinEpRet |        3.66e+03 |\n",
      "|  AverageTestEpRet |        4.35e+03 |\n",
      "|      StdTestEpRet |            67.8 |\n",
      "|      MaxTestEpRet |         4.5e+03 |\n",
      "|      MinTestEpRet |        4.24e+03 |\n",
      "|             EpLen |           1e+03 |\n",
      "|         TestEpLen |           1e+03 |\n",
      "| TotalEnvInteracts |        1.25e+05 |\n",
      "|     AverageQ1Vals |             241 |\n",
      "|         StdQ1Vals |            68.3 |\n",
      "|         MaxQ1Vals |             333 |\n",
      "|         MinQ1Vals |           -12.3 |\n",
      "|     AverageQ2Vals |             241 |\n",
      "|         StdQ2Vals |            68.3 |\n",
      "|         MaxQ2Vals |             335 |\n",
      "|         MinQ2Vals |           -8.72 |\n",
      "|      AverageVVals |             241 |\n",
      "|          StdVVals |            67.6 |\n",
      "|          MaxVVals |             331 |\n",
      "|          MinVVals |           -10.9 |\n",
      "|      AverageLogPi |            1.96 |\n",
      "|          StdLogPi |            3.44 |\n",
      "|          MaxLogPi |            27.1 |\n",
      "|          MinLogPi |           -13.5 |\n",
      "|            LossPi |            -242 |\n",
      "|            LossQ1 |            5.95 |\n",
      "|            LossQ2 |            6.18 |\n",
      "|             LossV |            3.02 |\n",
      "|              Time |             666 |\n",
      "---------------------------------------\n",
      "INFO:tensorflow:Assets added to graph.\n"
     ]
    },
    {
     "name": "stderr",
     "output_type": "stream",
     "text": [
      "[2019-03-05 11:52:23,769] Assets added to graph.\n"
     ]
    },
    {
     "name": "stdout",
     "output_type": "stream",
     "text": [
      "INFO:tensorflow:No assets to write.\n"
     ]
    },
    {
     "name": "stderr",
     "output_type": "stream",
     "text": [
      "[2019-03-05 11:52:23,770] No assets to write.\n"
     ]
    },
    {
     "name": "stdout",
     "output_type": "stream",
     "text": [
      "INFO:tensorflow:SavedModel written to: b'/home/phw/rsl/CS234_Project/data/sac/sac_s0/simple_save/saved_model.pb'\n"
     ]
    },
    {
     "name": "stderr",
     "output_type": "stream",
     "text": [
      "[2019-03-05 11:52:24,580] SavedModel written to: b'/home/phw/rsl/CS234_Project/data/sac/sac_s0/simple_save/saved_model.pb'\n"
     ]
    },
    {
     "name": "stdout",
     "output_type": "stream",
     "text": [
      "---------------------------------------\n",
      "|             Epoch |              26 |\n",
      "|      AverageEpRet |        3.99e+03 |\n",
      "|          StdEpRet |             100 |\n",
      "|          MaxEpRet |        4.16e+03 |\n",
      "|          MinEpRet |        3.87e+03 |\n",
      "|  AverageTestEpRet |        4.44e+03 |\n",
      "|      StdTestEpRet |             186 |\n",
      "|      MaxTestEpRet |        4.67e+03 |\n",
      "|      MinTestEpRet |        4.03e+03 |\n",
      "|             EpLen |           1e+03 |\n",
      "|         TestEpLen |           1e+03 |\n",
      "| TotalEnvInteracts |         1.3e+05 |\n",
      "|     AverageQ1Vals |             245 |\n",
      "|         StdQ1Vals |            68.1 |\n",
      "|         MaxQ1Vals |             338 |\n",
      "|         MinQ1Vals |           -12.6 |\n",
      "|     AverageQ2Vals |             245 |\n",
      "|         StdQ2Vals |            68.1 |\n",
      "|         MaxQ2Vals |             337 |\n",
      "|         MinQ2Vals |           -8.48 |\n",
      "|      AverageVVals |             245 |\n",
      "|          StdVVals |            67.4 |\n",
      "|          MaxVVals |             338 |\n",
      "|          MinVVals |           -11.2 |\n",
      "|      AverageLogPi |            1.96 |\n",
      "|          StdLogPi |            3.43 |\n",
      "|          MaxLogPi |            27.2 |\n",
      "|          MinLogPi |           -13.1 |\n",
      "|            LossPi |            -246 |\n",
      "|            LossQ1 |            5.87 |\n",
      "|            LossQ2 |            6.06 |\n",
      "|             LossV |            3.02 |\n",
      "|              Time |             692 |\n",
      "---------------------------------------\n",
      "INFO:tensorflow:Assets added to graph.\n"
     ]
    },
    {
     "name": "stderr",
     "output_type": "stream",
     "text": [
      "[2019-03-05 11:52:50,547] Assets added to graph.\n"
     ]
    },
    {
     "name": "stdout",
     "output_type": "stream",
     "text": [
      "INFO:tensorflow:No assets to write.\n"
     ]
    },
    {
     "name": "stderr",
     "output_type": "stream",
     "text": [
      "[2019-03-05 11:52:50,548] No assets to write.\n"
     ]
    },
    {
     "name": "stdout",
     "output_type": "stream",
     "text": [
      "INFO:tensorflow:SavedModel written to: b'/home/phw/rsl/CS234_Project/data/sac/sac_s0/simple_save/saved_model.pb'\n"
     ]
    },
    {
     "name": "stderr",
     "output_type": "stream",
     "text": [
      "[2019-03-05 11:52:51,342] SavedModel written to: b'/home/phw/rsl/CS234_Project/data/sac/sac_s0/simple_save/saved_model.pb'\n"
     ]
    },
    {
     "name": "stdout",
     "output_type": "stream",
     "text": [
      "---------------------------------------\n",
      "|             Epoch |              27 |\n",
      "|      AverageEpRet |        4.01e+03 |\n",
      "|          StdEpRet |             180 |\n",
      "|          MaxEpRet |        4.25e+03 |\n",
      "|          MinEpRet |        3.79e+03 |\n",
      "|  AverageTestEpRet |        4.47e+03 |\n",
      "|      StdTestEpRet |             110 |\n",
      "|      MaxTestEpRet |        4.61e+03 |\n",
      "|      MinTestEpRet |        4.25e+03 |\n",
      "|             EpLen |           1e+03 |\n",
      "|         TestEpLen |           1e+03 |\n",
      "| TotalEnvInteracts |        1.35e+05 |\n",
      "|     AverageQ1Vals |             250 |\n",
      "|         StdQ1Vals |              68 |\n",
      "|         MaxQ1Vals |             340 |\n",
      "|         MinQ1Vals |           -9.29 |\n",
      "|     AverageQ2Vals |             250 |\n",
      "|         StdQ2Vals |              68 |\n",
      "|         MaxQ2Vals |             340 |\n",
      "|         MinQ2Vals |           -9.41 |\n",
      "|      AverageVVals |             250 |\n",
      "|          StdVVals |            67.4 |\n",
      "|          MaxVVals |             339 |\n",
      "|          MinVVals |           -8.69 |\n",
      "|      AverageLogPi |            2.05 |\n",
      "|          StdLogPi |            3.43 |\n",
      "|          MaxLogPi |            29.5 |\n",
      "|          MinLogPi |           -15.1 |\n",
      "|            LossPi |            -251 |\n",
      "|            LossQ1 |            5.88 |\n",
      "|            LossQ2 |            6.07 |\n",
      "|             LossV |            2.97 |\n",
      "|              Time |             719 |\n",
      "---------------------------------------\n",
      "INFO:tensorflow:Assets added to graph.\n"
     ]
    },
    {
     "name": "stderr",
     "output_type": "stream",
     "text": [
      "[2019-03-05 11:53:18,982] Assets added to graph.\n"
     ]
    },
    {
     "name": "stdout",
     "output_type": "stream",
     "text": [
      "INFO:tensorflow:No assets to write.\n"
     ]
    },
    {
     "name": "stderr",
     "output_type": "stream",
     "text": [
      "[2019-03-05 11:53:18,983] No assets to write.\n"
     ]
    },
    {
     "name": "stdout",
     "output_type": "stream",
     "text": [
      "INFO:tensorflow:SavedModel written to: b'/home/phw/rsl/CS234_Project/data/sac/sac_s0/simple_save/saved_model.pb'\n"
     ]
    },
    {
     "name": "stderr",
     "output_type": "stream",
     "text": [
      "[2019-03-05 11:53:19,866] SavedModel written to: b'/home/phw/rsl/CS234_Project/data/sac/sac_s0/simple_save/saved_model.pb'\n"
     ]
    },
    {
     "name": "stdout",
     "output_type": "stream",
     "text": [
      "---------------------------------------\n",
      "|             Epoch |              28 |\n",
      "|      AverageEpRet |        4.07e+03 |\n",
      "|          StdEpRet |             127 |\n",
      "|          MaxEpRet |        4.31e+03 |\n",
      "|          MinEpRet |        3.97e+03 |\n",
      "|  AverageTestEpRet |        4.32e+03 |\n",
      "|      StdTestEpRet |            72.8 |\n",
      "|      MaxTestEpRet |        4.45e+03 |\n",
      "|      MinTestEpRet |         4.2e+03 |\n",
      "|             EpLen |           1e+03 |\n",
      "|         TestEpLen |           1e+03 |\n",
      "| TotalEnvInteracts |         1.4e+05 |\n",
      "|     AverageQ1Vals |             254 |\n",
      "|         StdQ1Vals |            68.4 |\n",
      "|         MaxQ1Vals |             343 |\n",
      "|         MinQ1Vals |           -12.2 |\n",
      "|     AverageQ2Vals |             254 |\n",
      "|         StdQ2Vals |            68.4 |\n",
      "|         MaxQ2Vals |             342 |\n",
      "|         MinQ2Vals |           -12.2 |\n",
      "|      AverageVVals |             254 |\n",
      "|          StdVVals |            67.7 |\n",
      "|          MaxVVals |             341 |\n",
      "|          MinVVals |           -15.4 |\n",
      "|      AverageLogPi |            2.07 |\n",
      "|          StdLogPi |             3.4 |\n",
      "|          MaxLogPi |              31 |\n",
      "|          MinLogPi |             -15 |\n",
      "|            LossPi |            -255 |\n",
      "|            LossQ1 |            5.89 |\n",
      "|            LossQ2 |            6.07 |\n",
      "|             LossV |            2.96 |\n",
      "|              Time |             748 |\n",
      "---------------------------------------\n",
      "INFO:tensorflow:Assets added to graph.\n"
     ]
    },
    {
     "name": "stderr",
     "output_type": "stream",
     "text": [
      "[2019-03-05 11:53:47,423] Assets added to graph.\n"
     ]
    },
    {
     "name": "stdout",
     "output_type": "stream",
     "text": [
      "INFO:tensorflow:No assets to write.\n"
     ]
    },
    {
     "name": "stderr",
     "output_type": "stream",
     "text": [
      "[2019-03-05 11:53:47,425] No assets to write.\n"
     ]
    },
    {
     "name": "stdout",
     "output_type": "stream",
     "text": [
      "INFO:tensorflow:SavedModel written to: b'/home/phw/rsl/CS234_Project/data/sac/sac_s0/simple_save/saved_model.pb'\n"
     ]
    },
    {
     "name": "stderr",
     "output_type": "stream",
     "text": [
      "[2019-03-05 11:53:48,294] SavedModel written to: b'/home/phw/rsl/CS234_Project/data/sac/sac_s0/simple_save/saved_model.pb'\n"
     ]
    },
    {
     "name": "stdout",
     "output_type": "stream",
     "text": [
      "---------------------------------------\n",
      "|             Epoch |              29 |\n",
      "|      AverageEpRet |        4.06e+03 |\n",
      "|          StdEpRet |            90.6 |\n",
      "|          MaxEpRet |        4.17e+03 |\n",
      "|          MinEpRet |        3.92e+03 |\n",
      "|  AverageTestEpRet |        4.64e+03 |\n",
      "|      StdTestEpRet |            75.6 |\n",
      "|      MaxTestEpRet |        4.75e+03 |\n",
      "|      MinTestEpRet |        4.51e+03 |\n",
      "|             EpLen |           1e+03 |\n",
      "|         TestEpLen |           1e+03 |\n",
      "| TotalEnvInteracts |        1.45e+05 |\n",
      "|     AverageQ1Vals |             259 |\n",
      "|         StdQ1Vals |              68 |\n",
      "|         MaxQ1Vals |             346 |\n",
      "|         MinQ1Vals |           -11.3 |\n",
      "|     AverageQ2Vals |             259 |\n",
      "|         StdQ2Vals |              68 |\n",
      "|         MaxQ2Vals |             346 |\n",
      "|         MinQ2Vals |           -11.5 |\n",
      "|      AverageVVals |             259 |\n",
      "|          StdVVals |            67.4 |\n",
      "|          MaxVVals |             344 |\n",
      "|          MinVVals |           -11.9 |\n",
      "|      AverageLogPi |            2.05 |\n",
      "|          StdLogPi |            3.39 |\n",
      "|          MaxLogPi |            33.9 |\n",
      "|          MinLogPi |           -17.5 |\n",
      "|            LossPi |            -259 |\n",
      "|            LossQ1 |            5.84 |\n",
      "|            LossQ2 |               6 |\n",
      "|             LossV |            2.94 |\n",
      "|              Time |             776 |\n",
      "---------------------------------------\n",
      "INFO:tensorflow:Assets added to graph.\n"
     ]
    },
    {
     "name": "stderr",
     "output_type": "stream",
     "text": [
      "[2019-03-05 11:54:13,362] Assets added to graph.\n"
     ]
    },
    {
     "name": "stdout",
     "output_type": "stream",
     "text": [
      "INFO:tensorflow:No assets to write.\n"
     ]
    },
    {
     "name": "stderr",
     "output_type": "stream",
     "text": [
      "[2019-03-05 11:54:13,363] No assets to write.\n"
     ]
    },
    {
     "name": "stdout",
     "output_type": "stream",
     "text": [
      "INFO:tensorflow:SavedModel written to: b'/home/phw/rsl/CS234_Project/data/sac/sac_s0/simple_save/saved_model.pb'\n"
     ]
    },
    {
     "name": "stderr",
     "output_type": "stream",
     "text": [
      "[2019-03-05 11:54:14,207] SavedModel written to: b'/home/phw/rsl/CS234_Project/data/sac/sac_s0/simple_save/saved_model.pb'\n"
     ]
    },
    {
     "name": "stdout",
     "output_type": "stream",
     "text": [
      "---------------------------------------\n",
      "|             Epoch |              30 |\n",
      "|      AverageEpRet |        4.02e+03 |\n",
      "|          StdEpRet |             223 |\n",
      "|          MaxEpRet |        4.25e+03 |\n",
      "|          MinEpRet |         3.6e+03 |\n",
      "|  AverageTestEpRet |        4.63e+03 |\n",
      "|      StdTestEpRet |            72.4 |\n",
      "|      MaxTestEpRet |        4.75e+03 |\n",
      "|      MinTestEpRet |        4.52e+03 |\n",
      "|             EpLen |           1e+03 |\n",
      "|         TestEpLen |           1e+03 |\n",
      "| TotalEnvInteracts |         1.5e+05 |\n",
      "|     AverageQ1Vals |             263 |\n",
      "|         StdQ1Vals |            68.4 |\n",
      "|         MaxQ1Vals |             350 |\n",
      "|         MinQ1Vals |           -22.6 |\n",
      "|     AverageQ2Vals |             263 |\n",
      "|         StdQ2Vals |            68.3 |\n",
      "|         MaxQ2Vals |             350 |\n",
      "|         MinQ2Vals |           -21.4 |\n",
      "|      AverageVVals |             263 |\n",
      "|          StdVVals |            67.7 |\n",
      "|          MaxVVals |             349 |\n",
      "|          MinVVals |           -18.4 |\n",
      "|      AverageLogPi |             2.1 |\n",
      "|          StdLogPi |            3.39 |\n",
      "|          MaxLogPi |            30.9 |\n",
      "|          MinLogPi |           -14.3 |\n",
      "|            LossPi |            -263 |\n",
      "|            LossQ1 |            5.95 |\n",
      "|            LossQ2 |            6.08 |\n",
      "|             LossV |               3 |\n",
      "|              Time |             802 |\n",
      "---------------------------------------\n",
      "INFO:tensorflow:Assets added to graph.\n"
     ]
    },
    {
     "name": "stderr",
     "output_type": "stream",
     "text": [
      "[2019-03-05 11:54:39,798] Assets added to graph.\n"
     ]
    },
    {
     "name": "stdout",
     "output_type": "stream",
     "text": [
      "INFO:tensorflow:No assets to write.\n"
     ]
    },
    {
     "name": "stderr",
     "output_type": "stream",
     "text": [
      "[2019-03-05 11:54:39,799] No assets to write.\n"
     ]
    },
    {
     "name": "stdout",
     "output_type": "stream",
     "text": [
      "INFO:tensorflow:SavedModel written to: b'/home/phw/rsl/CS234_Project/data/sac/sac_s0/simple_save/saved_model.pb'\n"
     ]
    },
    {
     "name": "stderr",
     "output_type": "stream",
     "text": [
      "[2019-03-05 11:54:40,699] SavedModel written to: b'/home/phw/rsl/CS234_Project/data/sac/sac_s0/simple_save/saved_model.pb'\n"
     ]
    },
    {
     "name": "stdout",
     "output_type": "stream",
     "text": [
      "---------------------------------------\n",
      "|             Epoch |              31 |\n",
      "|      AverageEpRet |        4.13e+03 |\n",
      "|          StdEpRet |             105 |\n",
      "|          MaxEpRet |        4.25e+03 |\n",
      "|          MinEpRet |        3.96e+03 |\n",
      "|  AverageTestEpRet |        4.54e+03 |\n",
      "|      StdTestEpRet |            85.7 |\n",
      "|      MaxTestEpRet |        4.64e+03 |\n",
      "|      MinTestEpRet |        4.34e+03 |\n",
      "|             EpLen |           1e+03 |\n",
      "|         TestEpLen |           1e+03 |\n",
      "| TotalEnvInteracts |        1.55e+05 |\n",
      "|     AverageQ1Vals |             267 |\n",
      "|         StdQ1Vals |            68.5 |\n",
      "|         MaxQ1Vals |             354 |\n",
      "|         MinQ1Vals |           -18.6 |\n",
      "|     AverageQ2Vals |             267 |\n",
      "|         StdQ2Vals |            68.5 |\n",
      "|         MaxQ2Vals |             354 |\n",
      "|         MinQ2Vals |           -18.8 |\n",
      "|      AverageVVals |             267 |\n",
      "|          StdVVals |            67.8 |\n",
      "|          MaxVVals |             354 |\n",
      "|          MinVVals |           -17.1 |\n",
      "|      AverageLogPi |            2.16 |\n",
      "|          StdLogPi |             3.4 |\n",
      "|          MaxLogPi |            31.6 |\n",
      "|          MinLogPi |           -15.7 |\n",
      "|            LossPi |            -267 |\n",
      "|            LossQ1 |            5.78 |\n",
      "|            LossQ2 |             5.9 |\n",
      "|             LossV |             2.9 |\n",
      "|              Time |             829 |\n",
      "---------------------------------------\n",
      "INFO:tensorflow:Assets added to graph.\n"
     ]
    },
    {
     "name": "stderr",
     "output_type": "stream",
     "text": [
      "[2019-03-05 11:55:06,391] Assets added to graph.\n"
     ]
    },
    {
     "name": "stdout",
     "output_type": "stream",
     "text": [
      "INFO:tensorflow:No assets to write.\n"
     ]
    },
    {
     "name": "stderr",
     "output_type": "stream",
     "text": [
      "[2019-03-05 11:55:06,392] No assets to write.\n"
     ]
    },
    {
     "name": "stdout",
     "output_type": "stream",
     "text": [
      "INFO:tensorflow:SavedModel written to: b'/home/phw/rsl/CS234_Project/data/sac/sac_s0/simple_save/saved_model.pb'\n"
     ]
    },
    {
     "name": "stderr",
     "output_type": "stream",
     "text": [
      "[2019-03-05 11:55:07,349] SavedModel written to: b'/home/phw/rsl/CS234_Project/data/sac/sac_s0/simple_save/saved_model.pb'\n"
     ]
    },
    {
     "name": "stdout",
     "output_type": "stream",
     "text": [
      "---------------------------------------\n",
      "|             Epoch |              32 |\n",
      "|      AverageEpRet |         4.2e+03 |\n",
      "|          StdEpRet |             207 |\n",
      "|          MaxEpRet |        4.41e+03 |\n",
      "|          MinEpRet |        3.83e+03 |\n",
      "|  AverageTestEpRet |        4.79e+03 |\n",
      "|      StdTestEpRet |            52.4 |\n",
      "|      MaxTestEpRet |        4.87e+03 |\n",
      "|      MinTestEpRet |        4.72e+03 |\n",
      "|             EpLen |           1e+03 |\n",
      "|         TestEpLen |           1e+03 |\n",
      "| TotalEnvInteracts |         1.6e+05 |\n",
      "|     AverageQ1Vals |             270 |\n",
      "|         StdQ1Vals |            68.4 |\n",
      "|         MaxQ1Vals |             356 |\n",
      "|         MinQ1Vals |           -15.9 |\n",
      "|     AverageQ2Vals |             270 |\n",
      "|         StdQ2Vals |            68.4 |\n",
      "|         MaxQ2Vals |             357 |\n",
      "|         MinQ2Vals |           -16.9 |\n",
      "|      AverageVVals |             270 |\n",
      "|          StdVVals |            67.8 |\n",
      "|          MaxVVals |             356 |\n",
      "|          MinVVals |           -15.9 |\n",
      "|      AverageLogPi |             2.2 |\n",
      "|          StdLogPi |             3.4 |\n",
      "|          MaxLogPi |            34.5 |\n",
      "|          MinLogPi |           -15.3 |\n",
      "|            LossPi |            -271 |\n",
      "|            LossQ1 |            5.94 |\n",
      "|            LossQ2 |            6.07 |\n",
      "|             LossV |            2.96 |\n",
      "|              Time |             855 |\n",
      "---------------------------------------\n",
      "INFO:tensorflow:Assets added to graph.\n"
     ]
    },
    {
     "name": "stderr",
     "output_type": "stream",
     "text": [
      "[2019-03-05 11:55:31,845] Assets added to graph.\n"
     ]
    },
    {
     "name": "stdout",
     "output_type": "stream",
     "text": [
      "INFO:tensorflow:No assets to write.\n"
     ]
    },
    {
     "name": "stderr",
     "output_type": "stream",
     "text": [
      "[2019-03-05 11:55:31,846] No assets to write.\n"
     ]
    },
    {
     "name": "stdout",
     "output_type": "stream",
     "text": [
      "INFO:tensorflow:SavedModel written to: b'/home/phw/rsl/CS234_Project/data/sac/sac_s0/simple_save/saved_model.pb'\n"
     ]
    },
    {
     "name": "stderr",
     "output_type": "stream",
     "text": [
      "[2019-03-05 11:55:32,745] SavedModel written to: b'/home/phw/rsl/CS234_Project/data/sac/sac_s0/simple_save/saved_model.pb'\n"
     ]
    },
    {
     "name": "stdout",
     "output_type": "stream",
     "text": [
      "---------------------------------------\n",
      "|             Epoch |              33 |\n",
      "|      AverageEpRet |        4.27e+03 |\n",
      "|          StdEpRet |             215 |\n",
      "|          MaxEpRet |        4.53e+03 |\n",
      "|          MinEpRet |        3.89e+03 |\n",
      "|  AverageTestEpRet |        4.58e+03 |\n",
      "|      StdTestEpRet |             128 |\n",
      "|      MaxTestEpRet |        4.79e+03 |\n",
      "|      MinTestEpRet |        4.34e+03 |\n",
      "|             EpLen |           1e+03 |\n",
      "|         TestEpLen |           1e+03 |\n",
      "| TotalEnvInteracts |        1.65e+05 |\n",
      "|     AverageQ1Vals |             274 |\n",
      "|         StdQ1Vals |            68.5 |\n",
      "|         MaxQ1Vals |             361 |\n",
      "|         MinQ1Vals |           -17.9 |\n",
      "|     AverageQ2Vals |             274 |\n",
      "|         StdQ2Vals |            68.5 |\n",
      "|         MaxQ2Vals |             362 |\n",
      "|         MinQ2Vals |           -17.4 |\n",
      "|      AverageVVals |             274 |\n",
      "|          StdVVals |            67.8 |\n",
      "|          MaxVVals |             362 |\n",
      "|          MinVVals |           -17.5 |\n",
      "|      AverageLogPi |            2.23 |\n",
      "|          StdLogPi |            3.39 |\n",
      "|          MaxLogPi |            31.9 |\n",
      "|          MinLogPi |           -13.2 |\n",
      "|            LossPi |            -275 |\n",
      "|            LossQ1 |            5.94 |\n",
      "|            LossQ2 |            6.03 |\n",
      "|             LossV |            2.97 |\n",
      "|              Time |             880 |\n",
      "---------------------------------------\n",
      "INFO:tensorflow:Assets added to graph.\n"
     ]
    },
    {
     "name": "stderr",
     "output_type": "stream",
     "text": [
      "[2019-03-05 11:55:58,140] Assets added to graph.\n"
     ]
    },
    {
     "name": "stdout",
     "output_type": "stream",
     "text": [
      "INFO:tensorflow:No assets to write.\n"
     ]
    },
    {
     "name": "stderr",
     "output_type": "stream",
     "text": [
      "[2019-03-05 11:55:58,142] No assets to write.\n"
     ]
    },
    {
     "name": "stdout",
     "output_type": "stream",
     "text": [
      "INFO:tensorflow:SavedModel written to: b'/home/phw/rsl/CS234_Project/data/sac/sac_s0/simple_save/saved_model.pb'\n"
     ]
    },
    {
     "name": "stderr",
     "output_type": "stream",
     "text": [
      "[2019-03-05 11:55:59,052] SavedModel written to: b'/home/phw/rsl/CS234_Project/data/sac/sac_s0/simple_save/saved_model.pb'\n"
     ]
    },
    {
     "name": "stdout",
     "output_type": "stream",
     "text": [
      "---------------------------------------\n",
      "|             Epoch |              34 |\n",
      "|      AverageEpRet |        4.35e+03 |\n",
      "|          StdEpRet |             195 |\n",
      "|          MaxEpRet |         4.6e+03 |\n",
      "|          MinEpRet |         4.1e+03 |\n",
      "|  AverageTestEpRet |        4.97e+03 |\n",
      "|      StdTestEpRet |              66 |\n",
      "|      MaxTestEpRet |        5.07e+03 |\n",
      "|      MinTestEpRet |        4.88e+03 |\n",
      "|             EpLen |           1e+03 |\n",
      "|         TestEpLen |           1e+03 |\n",
      "| TotalEnvInteracts |         1.7e+05 |\n",
      "|     AverageQ1Vals |             278 |\n",
      "|         StdQ1Vals |            68.5 |\n",
      "|         MaxQ1Vals |             365 |\n",
      "|         MinQ1Vals |           -20.2 |\n",
      "|     AverageQ2Vals |             278 |\n",
      "|         StdQ2Vals |            68.5 |\n",
      "|         MaxQ2Vals |             364 |\n",
      "|         MinQ2Vals |           -19.6 |\n",
      "|      AverageVVals |             278 |\n",
      "|          StdVVals |            67.9 |\n",
      "|          MaxVVals |             363 |\n",
      "|          MinVVals |             -22 |\n",
      "|      AverageLogPi |            2.28 |\n",
      "|          StdLogPi |            3.38 |\n",
      "|          MaxLogPi |            28.9 |\n",
      "|          MinLogPi |           -15.2 |\n",
      "|            LossPi |            -279 |\n",
      "|            LossQ1 |            5.98 |\n",
      "|            LossQ2 |            6.06 |\n",
      "|             LossV |            3.02 |\n",
      "|              Time |             907 |\n",
      "---------------------------------------\n",
      "INFO:tensorflow:Assets added to graph.\n"
     ]
    },
    {
     "name": "stderr",
     "output_type": "stream",
     "text": [
      "[2019-03-05 11:56:24,488] Assets added to graph.\n"
     ]
    },
    {
     "name": "stdout",
     "output_type": "stream",
     "text": [
      "INFO:tensorflow:No assets to write.\n"
     ]
    },
    {
     "name": "stderr",
     "output_type": "stream",
     "text": [
      "[2019-03-05 11:56:24,489] No assets to write.\n"
     ]
    },
    {
     "name": "stdout",
     "output_type": "stream",
     "text": [
      "INFO:tensorflow:SavedModel written to: b'/home/phw/rsl/CS234_Project/data/sac/sac_s0/simple_save/saved_model.pb'\n"
     ]
    },
    {
     "name": "stderr",
     "output_type": "stream",
     "text": [
      "[2019-03-05 11:56:25,456] SavedModel written to: b'/home/phw/rsl/CS234_Project/data/sac/sac_s0/simple_save/saved_model.pb'\n"
     ]
    },
    {
     "name": "stdout",
     "output_type": "stream",
     "text": [
      "---------------------------------------\n",
      "|             Epoch |              35 |\n",
      "|      AverageEpRet |        4.39e+03 |\n",
      "|          StdEpRet |             142 |\n",
      "|          MaxEpRet |         4.6e+03 |\n",
      "|          MinEpRet |        4.19e+03 |\n",
      "|  AverageTestEpRet |        4.55e+03 |\n",
      "|      StdTestEpRet |            88.9 |\n",
      "|      MaxTestEpRet |         4.7e+03 |\n",
      "|      MinTestEpRet |        4.38e+03 |\n",
      "|             EpLen |           1e+03 |\n",
      "|         TestEpLen |           1e+03 |\n",
      "| TotalEnvInteracts |        1.75e+05 |\n",
      "|     AverageQ1Vals |             282 |\n",
      "|         StdQ1Vals |            68.4 |\n",
      "|         MaxQ1Vals |             370 |\n",
      "|         MinQ1Vals |           -17.3 |\n",
      "|     AverageQ2Vals |             282 |\n",
      "|         StdQ2Vals |            68.4 |\n",
      "|         MaxQ2Vals |             368 |\n",
      "|         MinQ2Vals |           -19.4 |\n",
      "|      AverageVVals |             282 |\n",
      "|          StdVVals |            67.8 |\n",
      "|          MaxVVals |             367 |\n",
      "|          MinVVals |           -16.3 |\n",
      "|      AverageLogPi |            2.29 |\n",
      "|          StdLogPi |            3.34 |\n",
      "|          MaxLogPi |            37.3 |\n",
      "|          MinLogPi |           -13.1 |\n",
      "|            LossPi |            -283 |\n",
      "|            LossQ1 |            6.05 |\n",
      "|            LossQ2 |            6.13 |\n",
      "|             LossV |            2.96 |\n",
      "|              Time |             933 |\n",
      "---------------------------------------\n",
      "INFO:tensorflow:Assets added to graph.\n"
     ]
    },
    {
     "name": "stderr",
     "output_type": "stream",
     "text": [
      "[2019-03-05 11:56:50,882] Assets added to graph.\n"
     ]
    },
    {
     "name": "stdout",
     "output_type": "stream",
     "text": [
      "INFO:tensorflow:No assets to write.\n"
     ]
    },
    {
     "name": "stderr",
     "output_type": "stream",
     "text": [
      "[2019-03-05 11:56:50,883] No assets to write.\n"
     ]
    },
    {
     "name": "stdout",
     "output_type": "stream",
     "text": [
      "INFO:tensorflow:SavedModel written to: b'/home/phw/rsl/CS234_Project/data/sac/sac_s0/simple_save/saved_model.pb'\n"
     ]
    },
    {
     "name": "stderr",
     "output_type": "stream",
     "text": [
      "[2019-03-05 11:56:51,870] SavedModel written to: b'/home/phw/rsl/CS234_Project/data/sac/sac_s0/simple_save/saved_model.pb'\n"
     ]
    },
    {
     "name": "stdout",
     "output_type": "stream",
     "text": [
      "---------------------------------------\n",
      "|             Epoch |              36 |\n",
      "|      AverageEpRet |        4.45e+03 |\n",
      "|          StdEpRet |             226 |\n",
      "|          MaxEpRet |         4.6e+03 |\n",
      "|          MinEpRet |           4e+03 |\n",
      "|  AverageTestEpRet |         4.9e+03 |\n",
      "|      StdTestEpRet |             170 |\n",
      "|      MaxTestEpRet |        5.23e+03 |\n",
      "|      MinTestEpRet |        4.57e+03 |\n",
      "|             EpLen |           1e+03 |\n",
      "|         TestEpLen |           1e+03 |\n",
      "| TotalEnvInteracts |         1.8e+05 |\n",
      "|     AverageQ1Vals |             286 |\n",
      "|         StdQ1Vals |            68.2 |\n",
      "|         MaxQ1Vals |             375 |\n",
      "|         MinQ1Vals |           -18.4 |\n",
      "|     AverageQ2Vals |             286 |\n",
      "|         StdQ2Vals |            68.2 |\n",
      "|         MaxQ2Vals |             376 |\n",
      "|         MinQ2Vals |           -18.3 |\n",
      "|      AverageVVals |             286 |\n",
      "|          StdVVals |            67.6 |\n",
      "|          MaxVVals |             372 |\n",
      "|          MinVVals |           -15.9 |\n",
      "|      AverageLogPi |            2.37 |\n",
      "|          StdLogPi |            3.35 |\n",
      "|          MaxLogPi |            31.7 |\n",
      "|          MinLogPi |           -13.9 |\n",
      "|            LossPi |            -287 |\n",
      "|            LossQ1 |            5.88 |\n",
      "|            LossQ2 |            5.94 |\n",
      "|             LossV |            2.99 |\n",
      "|              Time |             959 |\n",
      "---------------------------------------\n",
      "INFO:tensorflow:Assets added to graph.\n"
     ]
    },
    {
     "name": "stderr",
     "output_type": "stream",
     "text": [
      "[2019-03-05 11:57:17,095] Assets added to graph.\n"
     ]
    },
    {
     "name": "stdout",
     "output_type": "stream",
     "text": [
      "INFO:tensorflow:No assets to write.\n"
     ]
    },
    {
     "name": "stderr",
     "output_type": "stream",
     "text": [
      "[2019-03-05 11:57:17,096] No assets to write.\n"
     ]
    },
    {
     "name": "stdout",
     "output_type": "stream",
     "text": [
      "INFO:tensorflow:SavedModel written to: b'/home/phw/rsl/CS234_Project/data/sac/sac_s0/simple_save/saved_model.pb'\n"
     ]
    },
    {
     "name": "stderr",
     "output_type": "stream",
     "text": [
      "[2019-03-05 11:57:18,068] SavedModel written to: b'/home/phw/rsl/CS234_Project/data/sac/sac_s0/simple_save/saved_model.pb'\n"
     ]
    },
    {
     "name": "stdout",
     "output_type": "stream",
     "text": [
      "---------------------------------------\n",
      "|             Epoch |              37 |\n",
      "|      AverageEpRet |        4.35e+03 |\n",
      "|          StdEpRet |             258 |\n",
      "|          MaxEpRet |        4.63e+03 |\n",
      "|          MinEpRet |        3.87e+03 |\n",
      "|  AverageTestEpRet |        4.75e+03 |\n",
      "|      StdTestEpRet |            54.3 |\n",
      "|      MaxTestEpRet |        4.83e+03 |\n",
      "|      MinTestEpRet |        4.65e+03 |\n",
      "|             EpLen |           1e+03 |\n",
      "|         TestEpLen |           1e+03 |\n",
      "| TotalEnvInteracts |        1.85e+05 |\n",
      "|     AverageQ1Vals |             289 |\n",
      "|         StdQ1Vals |            68.8 |\n",
      "|         MaxQ1Vals |             378 |\n",
      "|         MinQ1Vals |           -21.1 |\n",
      "|     AverageQ2Vals |             289 |\n",
      "|         StdQ2Vals |            68.8 |\n",
      "|         MaxQ2Vals |             378 |\n",
      "|         MinQ2Vals |           -25.7 |\n",
      "|      AverageVVals |             289 |\n",
      "|          StdVVals |            68.2 |\n",
      "|          MaxVVals |             376 |\n",
      "|          MinVVals |             -20 |\n",
      "|      AverageLogPi |            2.42 |\n",
      "|          StdLogPi |            3.36 |\n",
      "|          MaxLogPi |            31.4 |\n",
      "|          MinLogPi |           -13.6 |\n",
      "|            LossPi |            -290 |\n",
      "|            LossQ1 |            6.01 |\n",
      "|            LossQ2 |            6.06 |\n",
      "|             LossV |            3.02 |\n",
      "|              Time |             986 |\n",
      "---------------------------------------\n",
      "INFO:tensorflow:Assets added to graph.\n"
     ]
    },
    {
     "name": "stderr",
     "output_type": "stream",
     "text": [
      "[2019-03-05 11:57:43,130] Assets added to graph.\n"
     ]
    },
    {
     "name": "stdout",
     "output_type": "stream",
     "text": [
      "INFO:tensorflow:No assets to write.\n"
     ]
    },
    {
     "name": "stderr",
     "output_type": "stream",
     "text": [
      "[2019-03-05 11:57:43,131] No assets to write.\n"
     ]
    },
    {
     "name": "stdout",
     "output_type": "stream",
     "text": [
      "INFO:tensorflow:SavedModel written to: b'/home/phw/rsl/CS234_Project/data/sac/sac_s0/simple_save/saved_model.pb'\n"
     ]
    },
    {
     "name": "stderr",
     "output_type": "stream",
     "text": [
      "[2019-03-05 11:57:44,157] SavedModel written to: b'/home/phw/rsl/CS234_Project/data/sac/sac_s0/simple_save/saved_model.pb'\n"
     ]
    },
    {
     "name": "stdout",
     "output_type": "stream",
     "text": [
      "---------------------------------------\n",
      "|             Epoch |              38 |\n",
      "|      AverageEpRet |        4.34e+03 |\n",
      "|          StdEpRet |             213 |\n",
      "|          MaxEpRet |        4.51e+03 |\n",
      "|          MinEpRet |        3.95e+03 |\n",
      "|  AverageTestEpRet |        5.03e+03 |\n",
      "|      StdTestEpRet |            90.5 |\n",
      "|      MaxTestEpRet |         5.2e+03 |\n",
      "|      MinTestEpRet |        4.89e+03 |\n",
      "|             EpLen |           1e+03 |\n",
      "|         TestEpLen |           1e+03 |\n",
      "| TotalEnvInteracts |         1.9e+05 |\n",
      "|     AverageQ1Vals |             293 |\n",
      "|         StdQ1Vals |            68.8 |\n",
      "|         MaxQ1Vals |             380 |\n",
      "|         MinQ1Vals |           -22.5 |\n",
      "|     AverageQ2Vals |             293 |\n",
      "|         StdQ2Vals |            68.8 |\n",
      "|         MaxQ2Vals |             380 |\n",
      "|         MinQ2Vals |           -25.9 |\n",
      "|      AverageVVals |             293 |\n",
      "|          StdVVals |            68.2 |\n",
      "|          MaxVVals |             379 |\n",
      "|          MinVVals |             -23 |\n",
      "|      AverageLogPi |            2.41 |\n",
      "|          StdLogPi |            3.36 |\n",
      "|          MaxLogPi |            32.9 |\n",
      "|          MinLogPi |           -13.9 |\n",
      "|            LossPi |            -293 |\n",
      "|            LossQ1 |            6.18 |\n",
      "|            LossQ2 |            6.23 |\n",
      "|             LossV |            3.07 |\n",
      "|              Time |        1.01e+03 |\n",
      "---------------------------------------\n",
      "INFO:tensorflow:Assets added to graph.\n"
     ]
    },
    {
     "name": "stderr",
     "output_type": "stream",
     "text": [
      "[2019-03-05 11:58:09,501] Assets added to graph.\n"
     ]
    },
    {
     "name": "stdout",
     "output_type": "stream",
     "text": [
      "INFO:tensorflow:No assets to write.\n"
     ]
    },
    {
     "name": "stderr",
     "output_type": "stream",
     "text": [
      "[2019-03-05 11:58:09,503] No assets to write.\n"
     ]
    },
    {
     "name": "stdout",
     "output_type": "stream",
     "text": [
      "INFO:tensorflow:SavedModel written to: b'/home/phw/rsl/CS234_Project/data/sac/sac_s0/simple_save/saved_model.pb'\n"
     ]
    },
    {
     "name": "stderr",
     "output_type": "stream",
     "text": [
      "[2019-03-05 11:58:10,530] SavedModel written to: b'/home/phw/rsl/CS234_Project/data/sac/sac_s0/simple_save/saved_model.pb'\n"
     ]
    },
    {
     "name": "stdout",
     "output_type": "stream",
     "text": [
      "---------------------------------------\n",
      "|             Epoch |              39 |\n",
      "|      AverageEpRet |        4.49e+03 |\n",
      "|          StdEpRet |             211 |\n",
      "|          MaxEpRet |        4.75e+03 |\n",
      "|          MinEpRet |         4.2e+03 |\n",
      "|  AverageTestEpRet |         5.2e+03 |\n",
      "|      StdTestEpRet |            94.3 |\n",
      "|      MaxTestEpRet |        5.37e+03 |\n",
      "|      MinTestEpRet |        4.99e+03 |\n",
      "|             EpLen |           1e+03 |\n",
      "|         TestEpLen |           1e+03 |\n",
      "| TotalEnvInteracts |        1.95e+05 |\n",
      "|     AverageQ1Vals |             296 |\n",
      "|         StdQ1Vals |            69.2 |\n",
      "|         MaxQ1Vals |             384 |\n",
      "|         MinQ1Vals |           -22.5 |\n",
      "|     AverageQ2Vals |             296 |\n",
      "|         StdQ2Vals |            69.2 |\n",
      "|         MaxQ2Vals |             383 |\n",
      "|         MinQ2Vals |           -25.9 |\n",
      "|      AverageVVals |             296 |\n",
      "|          StdVVals |            68.6 |\n",
      "|          MaxVVals |             380 |\n",
      "|          MinVVals |           -23.5 |\n",
      "|      AverageLogPi |            2.44 |\n",
      "|          StdLogPi |            3.38 |\n",
      "|          MaxLogPi |            30.9 |\n",
      "|          MinLogPi |           -14.2 |\n",
      "|            LossPi |            -297 |\n",
      "|            LossQ1 |            6.17 |\n",
      "|            LossQ2 |            6.19 |\n",
      "|             LossV |            2.94 |\n",
      "|              Time |        1.04e+03 |\n",
      "---------------------------------------\n",
      "INFO:tensorflow:Assets added to graph.\n"
     ]
    },
    {
     "name": "stderr",
     "output_type": "stream",
     "text": [
      "[2019-03-05 11:58:36,623] Assets added to graph.\n"
     ]
    },
    {
     "name": "stdout",
     "output_type": "stream",
     "text": [
      "INFO:tensorflow:No assets to write.\n"
     ]
    },
    {
     "name": "stderr",
     "output_type": "stream",
     "text": [
      "[2019-03-05 11:58:36,624] No assets to write.\n"
     ]
    },
    {
     "name": "stdout",
     "output_type": "stream",
     "text": [
      "INFO:tensorflow:SavedModel written to: b'/home/phw/rsl/CS234_Project/data/sac/sac_s0/simple_save/saved_model.pb'\n"
     ]
    },
    {
     "name": "stderr",
     "output_type": "stream",
     "text": [
      "[2019-03-05 11:58:37,664] SavedModel written to: b'/home/phw/rsl/CS234_Project/data/sac/sac_s0/simple_save/saved_model.pb'\n"
     ]
    },
    {
     "name": "stdout",
     "output_type": "stream",
     "text": [
      "---------------------------------------\n",
      "|             Epoch |              40 |\n",
      "|      AverageEpRet |        4.41e+03 |\n",
      "|          StdEpRet |             206 |\n",
      "|          MaxEpRet |        4.74e+03 |\n",
      "|          MinEpRet |        4.12e+03 |\n",
      "|  AverageTestEpRet |        5.06e+03 |\n",
      "|      StdTestEpRet |            60.3 |\n",
      "|      MaxTestEpRet |        5.14e+03 |\n",
      "|      MinTestEpRet |        4.96e+03 |\n",
      "|             EpLen |           1e+03 |\n",
      "|         TestEpLen |           1e+03 |\n",
      "| TotalEnvInteracts |           2e+05 |\n",
      "|     AverageQ1Vals |             299 |\n",
      "|         StdQ1Vals |            69.2 |\n",
      "|         MaxQ1Vals |             388 |\n",
      "|         MinQ1Vals |           -22.3 |\n",
      "|     AverageQ2Vals |             299 |\n",
      "|         StdQ2Vals |            69.2 |\n",
      "|         MaxQ2Vals |             387 |\n",
      "|         MinQ2Vals |           -27.7 |\n",
      "|      AverageVVals |             299 |\n",
      "|          StdVVals |            68.5 |\n",
      "|          MaxVVals |             384 |\n",
      "|          MinVVals |             -21 |\n",
      "|      AverageLogPi |             2.5 |\n",
      "|          StdLogPi |            3.35 |\n",
      "|          MaxLogPi |            35.7 |\n",
      "|          MinLogPi |           -13.9 |\n",
      "|            LossPi |            -300 |\n",
      "|            LossQ1 |            6.52 |\n",
      "|            LossQ2 |            6.53 |\n",
      "|             LossV |            3.13 |\n",
      "|              Time |        1.07e+03 |\n",
      "---------------------------------------\n",
      "INFO:tensorflow:Assets added to graph.\n"
     ]
    },
    {
     "name": "stderr",
     "output_type": "stream",
     "text": [
      "[2019-03-05 11:59:03,426] Assets added to graph.\n"
     ]
    },
    {
     "name": "stdout",
     "output_type": "stream",
     "text": [
      "INFO:tensorflow:No assets to write.\n"
     ]
    },
    {
     "name": "stderr",
     "output_type": "stream",
     "text": [
      "[2019-03-05 11:59:03,427] No assets to write.\n"
     ]
    },
    {
     "name": "stdout",
     "output_type": "stream",
     "text": [
      "INFO:tensorflow:SavedModel written to: b'/home/phw/rsl/CS234_Project/data/sac/sac_s0/simple_save/saved_model.pb'\n"
     ]
    },
    {
     "name": "stderr",
     "output_type": "stream",
     "text": [
      "[2019-03-05 11:59:04,616] SavedModel written to: b'/home/phw/rsl/CS234_Project/data/sac/sac_s0/simple_save/saved_model.pb'\n"
     ]
    },
    {
     "name": "stdout",
     "output_type": "stream",
     "text": [
      "---------------------------------------\n",
      "|             Epoch |              41 |\n",
      "|      AverageEpRet |        4.53e+03 |\n",
      "|          StdEpRet |             160 |\n",
      "|          MaxEpRet |        4.72e+03 |\n",
      "|          MinEpRet |        4.26e+03 |\n",
      "|  AverageTestEpRet |        5.04e+03 |\n",
      "|      StdTestEpRet |            58.3 |\n",
      "|      MaxTestEpRet |         5.1e+03 |\n",
      "|      MinTestEpRet |        4.91e+03 |\n",
      "|             EpLen |           1e+03 |\n",
      "|         TestEpLen |           1e+03 |\n",
      "| TotalEnvInteracts |        2.05e+05 |\n",
      "|     AverageQ1Vals |             302 |\n",
      "|         StdQ1Vals |              69 |\n",
      "|         MaxQ1Vals |             389 |\n",
      "|         MinQ1Vals |           -21.3 |\n",
      "|     AverageQ2Vals |             302 |\n",
      "|         StdQ2Vals |              69 |\n",
      "|         MaxQ2Vals |             387 |\n",
      "|         MinQ2Vals |           -24.7 |\n",
      "|      AverageVVals |             302 |\n",
      "|          StdVVals |            68.3 |\n",
      "|          MaxVVals |             384 |\n",
      "|          MinVVals |           -23.2 |\n",
      "|      AverageLogPi |            2.53 |\n",
      "|          StdLogPi |            3.36 |\n",
      "|          MaxLogPi |            28.6 |\n",
      "|          MinLogPi |           -14.5 |\n",
      "|            LossPi |            -303 |\n",
      "|            LossQ1 |            6.26 |\n",
      "|            LossQ2 |            6.25 |\n",
      "|             LossV |            3.03 |\n",
      "|              Time |        1.09e+03 |\n",
      "---------------------------------------\n",
      "INFO:tensorflow:Assets added to graph.\n"
     ]
    },
    {
     "name": "stderr",
     "output_type": "stream",
     "text": [
      "[2019-03-05 11:59:30,708] Assets added to graph.\n"
     ]
    },
    {
     "name": "stdout",
     "output_type": "stream",
     "text": [
      "INFO:tensorflow:No assets to write.\n"
     ]
    },
    {
     "name": "stderr",
     "output_type": "stream",
     "text": [
      "[2019-03-05 11:59:30,709] No assets to write.\n"
     ]
    },
    {
     "name": "stdout",
     "output_type": "stream",
     "text": [
      "INFO:tensorflow:SavedModel written to: b'/home/phw/rsl/CS234_Project/data/sac/sac_s0/simple_save/saved_model.pb'\n"
     ]
    },
    {
     "name": "stderr",
     "output_type": "stream",
     "text": [
      "[2019-03-05 11:59:31,783] SavedModel written to: b'/home/phw/rsl/CS234_Project/data/sac/sac_s0/simple_save/saved_model.pb'\n"
     ]
    },
    {
     "name": "stdout",
     "output_type": "stream",
     "text": [
      "---------------------------------------\n",
      "|             Epoch |              42 |\n",
      "|      AverageEpRet |        4.57e+03 |\n",
      "|          StdEpRet |             133 |\n",
      "|          MaxEpRet |        4.72e+03 |\n",
      "|          MinEpRet |        4.35e+03 |\n",
      "|  AverageTestEpRet |        5.41e+03 |\n",
      "|      StdTestEpRet |             177 |\n",
      "|      MaxTestEpRet |         5.8e+03 |\n",
      "|      MinTestEpRet |        5.14e+03 |\n",
      "|             EpLen |           1e+03 |\n",
      "|         TestEpLen |           1e+03 |\n",
      "| TotalEnvInteracts |         2.1e+05 |\n",
      "|     AverageQ1Vals |             306 |\n",
      "|         StdQ1Vals |            68.7 |\n",
      "|         MaxQ1Vals |             391 |\n",
      "|         MinQ1Vals |           -23.6 |\n",
      "|     AverageQ2Vals |             306 |\n",
      "|         StdQ2Vals |            68.7 |\n",
      "|         MaxQ2Vals |             394 |\n",
      "|         MinQ2Vals |             -26 |\n",
      "|      AverageVVals |             306 |\n",
      "|          StdVVals |            68.1 |\n",
      "|          MaxVVals |             391 |\n",
      "|          MinVVals |           -18.4 |\n",
      "|      AverageLogPi |            2.59 |\n",
      "|          StdLogPi |            3.37 |\n",
      "|          MaxLogPi |            29.4 |\n",
      "|          MinLogPi |             -13 |\n",
      "|            LossPi |            -306 |\n",
      "|            LossQ1 |            6.14 |\n",
      "|            LossQ2 |            6.13 |\n",
      "|             LossV |            3.07 |\n",
      "|              Time |        1.12e+03 |\n",
      "---------------------------------------\n",
      "INFO:tensorflow:Assets added to graph.\n"
     ]
    },
    {
     "name": "stderr",
     "output_type": "stream",
     "text": [
      "[2019-03-05 11:59:56,386] Assets added to graph.\n"
     ]
    },
    {
     "name": "stdout",
     "output_type": "stream",
     "text": [
      "INFO:tensorflow:No assets to write.\n"
     ]
    },
    {
     "name": "stderr",
     "output_type": "stream",
     "text": [
      "[2019-03-05 11:59:56,387] No assets to write.\n"
     ]
    },
    {
     "name": "stdout",
     "output_type": "stream",
     "text": [
      "INFO:tensorflow:SavedModel written to: b'/home/phw/rsl/CS234_Project/data/sac/sac_s0/simple_save/saved_model.pb'\n"
     ]
    },
    {
     "name": "stderr",
     "output_type": "stream",
     "text": [
      "[2019-03-05 11:59:57,485] SavedModel written to: b'/home/phw/rsl/CS234_Project/data/sac/sac_s0/simple_save/saved_model.pb'\n"
     ]
    },
    {
     "name": "stdout",
     "output_type": "stream",
     "text": [
      "---------------------------------------\n",
      "|             Epoch |              43 |\n",
      "|      AverageEpRet |        4.58e+03 |\n",
      "|          StdEpRet |             200 |\n",
      "|          MaxEpRet |        4.87e+03 |\n",
      "|          MinEpRet |         4.3e+03 |\n",
      "|  AverageTestEpRet |        5.44e+03 |\n",
      "|      StdTestEpRet |             115 |\n",
      "|      MaxTestEpRet |        5.57e+03 |\n",
      "|      MinTestEpRet |        5.22e+03 |\n",
      "|             EpLen |           1e+03 |\n",
      "|         TestEpLen |           1e+03 |\n",
      "| TotalEnvInteracts |        2.15e+05 |\n",
      "|     AverageQ1Vals |             309 |\n",
      "|         StdQ1Vals |            68.8 |\n",
      "|         MaxQ1Vals |             393 |\n",
      "|         MinQ1Vals |           -26.5 |\n",
      "|     AverageQ2Vals |             309 |\n",
      "|         StdQ2Vals |            68.8 |\n",
      "|         MaxQ2Vals |             392 |\n",
      "|         MinQ2Vals |           -27.2 |\n",
      "|      AverageVVals |             309 |\n",
      "|          StdVVals |            68.1 |\n",
      "|          MaxVVals |             392 |\n",
      "|          MinVVals |           -22.8 |\n",
      "|      AverageLogPi |            2.61 |\n",
      "|          StdLogPi |            3.36 |\n",
      "|          MaxLogPi |            32.9 |\n",
      "|          MinLogPi |           -15.6 |\n",
      "|            LossPi |            -309 |\n",
      "|            LossQ1 |            6.25 |\n",
      "|            LossQ2 |            6.22 |\n",
      "|             LossV |            3.04 |\n",
      "|              Time |        1.14e+03 |\n",
      "---------------------------------------\n",
      "INFO:tensorflow:Assets added to graph.\n"
     ]
    },
    {
     "name": "stderr",
     "output_type": "stream",
     "text": [
      "[2019-03-05 12:00:22,040] Assets added to graph.\n"
     ]
    },
    {
     "name": "stdout",
     "output_type": "stream",
     "text": [
      "INFO:tensorflow:No assets to write.\n"
     ]
    },
    {
     "name": "stderr",
     "output_type": "stream",
     "text": [
      "[2019-03-05 12:00:22,041] No assets to write.\n"
     ]
    },
    {
     "name": "stdout",
     "output_type": "stream",
     "text": [
      "INFO:tensorflow:SavedModel written to: b'/home/phw/rsl/CS234_Project/data/sac/sac_s0/simple_save/saved_model.pb'\n"
     ]
    },
    {
     "name": "stderr",
     "output_type": "stream",
     "text": [
      "[2019-03-05 12:00:23,146] SavedModel written to: b'/home/phw/rsl/CS234_Project/data/sac/sac_s0/simple_save/saved_model.pb'\n"
     ]
    },
    {
     "name": "stdout",
     "output_type": "stream",
     "text": [
      "---------------------------------------\n",
      "|             Epoch |              44 |\n",
      "|      AverageEpRet |        4.65e+03 |\n",
      "|          StdEpRet |             269 |\n",
      "|          MaxEpRet |        4.97e+03 |\n",
      "|          MinEpRet |        4.22e+03 |\n",
      "|  AverageTestEpRet |        5.57e+03 |\n",
      "|      StdTestEpRet |             103 |\n",
      "|      MaxTestEpRet |        5.74e+03 |\n",
      "|      MinTestEpRet |        5.43e+03 |\n",
      "|             EpLen |           1e+03 |\n",
      "|         TestEpLen |           1e+03 |\n",
      "| TotalEnvInteracts |         2.2e+05 |\n",
      "|     AverageQ1Vals |             312 |\n",
      "|         StdQ1Vals |            68.9 |\n",
      "|         MaxQ1Vals |             396 |\n",
      "|         MinQ1Vals |           -26.1 |\n",
      "|     AverageQ2Vals |             312 |\n",
      "|         StdQ2Vals |            68.9 |\n",
      "|         MaxQ2Vals |             396 |\n",
      "|         MinQ2Vals |           -27.6 |\n",
      "|      AverageVVals |             312 |\n",
      "|          StdVVals |            68.3 |\n",
      "|          MaxVVals |             394 |\n",
      "|          MinVVals |           -24.5 |\n",
      "|      AverageLogPi |            2.65 |\n",
      "|          StdLogPi |            3.36 |\n",
      "|          MaxLogPi |            41.6 |\n",
      "|          MinLogPi |           -14.9 |\n",
      "|            LossPi |            -312 |\n",
      "|            LossQ1 |            6.34 |\n",
      "|            LossQ2 |            6.33 |\n",
      "|             LossV |            3.09 |\n",
      "|              Time |        1.17e+03 |\n",
      "---------------------------------------\n",
      "INFO:tensorflow:Assets added to graph.\n"
     ]
    },
    {
     "name": "stderr",
     "output_type": "stream",
     "text": [
      "[2019-03-05 12:00:48,770] Assets added to graph.\n"
     ]
    },
    {
     "name": "stdout",
     "output_type": "stream",
     "text": [
      "INFO:tensorflow:No assets to write.\n"
     ]
    },
    {
     "name": "stderr",
     "output_type": "stream",
     "text": [
      "[2019-03-05 12:00:48,771] No assets to write.\n"
     ]
    },
    {
     "name": "stdout",
     "output_type": "stream",
     "text": [
      "INFO:tensorflow:SavedModel written to: b'/home/phw/rsl/CS234_Project/data/sac/sac_s0/simple_save/saved_model.pb'\n"
     ]
    },
    {
     "name": "stderr",
     "output_type": "stream",
     "text": [
      "[2019-03-05 12:00:49,931] SavedModel written to: b'/home/phw/rsl/CS234_Project/data/sac/sac_s0/simple_save/saved_model.pb'\n"
     ]
    },
    {
     "name": "stdout",
     "output_type": "stream",
     "text": [
      "---------------------------------------\n",
      "|             Epoch |              45 |\n",
      "|      AverageEpRet |        4.57e+03 |\n",
      "|          StdEpRet |             108 |\n",
      "|          MaxEpRet |        4.76e+03 |\n",
      "|          MinEpRet |        4.43e+03 |\n",
      "|  AverageTestEpRet |        5.37e+03 |\n",
      "|      StdTestEpRet |            78.8 |\n",
      "|      MaxTestEpRet |        5.55e+03 |\n",
      "|      MinTestEpRet |        5.26e+03 |\n",
      "|             EpLen |           1e+03 |\n",
      "|         TestEpLen |           1e+03 |\n",
      "| TotalEnvInteracts |        2.25e+05 |\n",
      "|     AverageQ1Vals |             315 |\n",
      "|         StdQ1Vals |            69.1 |\n",
      "|         MaxQ1Vals |             398 |\n",
      "|         MinQ1Vals |           -26.1 |\n",
      "|     AverageQ2Vals |             315 |\n",
      "|         StdQ2Vals |            69.1 |\n",
      "|         MaxQ2Vals |             398 |\n",
      "|         MinQ2Vals |           -26.6 |\n",
      "|      AverageVVals |             315 |\n",
      "|          StdVVals |            68.4 |\n",
      "|          MaxVVals |             395 |\n",
      "|          MinVVals |           -28.7 |\n",
      "|      AverageLogPi |             2.7 |\n",
      "|          StdLogPi |            3.34 |\n",
      "|          MaxLogPi |            40.8 |\n",
      "|          MinLogPi |           -14.7 |\n",
      "|            LossPi |            -315 |\n",
      "|            LossQ1 |             6.2 |\n",
      "|            LossQ2 |            6.19 |\n",
      "|             LossV |            3.02 |\n",
      "|              Time |         1.2e+03 |\n",
      "---------------------------------------\n",
      "INFO:tensorflow:Assets added to graph.\n"
     ]
    },
    {
     "name": "stderr",
     "output_type": "stream",
     "text": [
      "[2019-03-05 12:01:14,560] Assets added to graph.\n"
     ]
    },
    {
     "name": "stdout",
     "output_type": "stream",
     "text": [
      "INFO:tensorflow:No assets to write.\n"
     ]
    },
    {
     "name": "stderr",
     "output_type": "stream",
     "text": [
      "[2019-03-05 12:01:14,562] No assets to write.\n"
     ]
    },
    {
     "name": "stdout",
     "output_type": "stream",
     "text": [
      "INFO:tensorflow:SavedModel written to: b'/home/phw/rsl/CS234_Project/data/sac/sac_s0/simple_save/saved_model.pb'\n"
     ]
    },
    {
     "name": "stderr",
     "output_type": "stream",
     "text": [
      "[2019-03-05 12:01:15,682] SavedModel written to: b'/home/phw/rsl/CS234_Project/data/sac/sac_s0/simple_save/saved_model.pb'\n"
     ]
    },
    {
     "name": "stdout",
     "output_type": "stream",
     "text": [
      "---------------------------------------\n",
      "|             Epoch |              46 |\n",
      "|      AverageEpRet |        4.68e+03 |\n",
      "|          StdEpRet |             114 |\n",
      "|          MaxEpRet |        4.88e+03 |\n",
      "|          MinEpRet |        4.53e+03 |\n",
      "|  AverageTestEpRet |        5.31e+03 |\n",
      "|      StdTestEpRet |            72.4 |\n",
      "|      MaxTestEpRet |        5.39e+03 |\n",
      "|      MinTestEpRet |         5.2e+03 |\n",
      "|             EpLen |           1e+03 |\n",
      "|         TestEpLen |           1e+03 |\n",
      "| TotalEnvInteracts |         2.3e+05 |\n",
      "|     AverageQ1Vals |             317 |\n",
      "|         StdQ1Vals |            68.8 |\n",
      "|         MaxQ1Vals |             404 |\n",
      "|         MinQ1Vals |           -28.6 |\n",
      "|     AverageQ2Vals |             317 |\n",
      "|         StdQ2Vals |            68.8 |\n",
      "|         MaxQ2Vals |             405 |\n",
      "|         MinQ2Vals |           -29.4 |\n",
      "|      AverageVVals |             317 |\n",
      "|          StdVVals |            68.2 |\n",
      "|          MaxVVals |             406 |\n",
      "|          MinVVals |             -27 |\n",
      "|      AverageLogPi |             2.7 |\n",
      "|          StdLogPi |            3.36 |\n",
      "|          MaxLogPi |              47 |\n",
      "|          MinLogPi |           -14.2 |\n",
      "|            LossPi |            -318 |\n",
      "|            LossQ1 |            6.32 |\n",
      "|            LossQ2 |             6.3 |\n",
      "|             LossV |            3.04 |\n",
      "|              Time |        1.22e+03 |\n",
      "---------------------------------------\n",
      "INFO:tensorflow:Assets added to graph.\n"
     ]
    },
    {
     "name": "stderr",
     "output_type": "stream",
     "text": [
      "[2019-03-05 12:01:40,207] Assets added to graph.\n"
     ]
    },
    {
     "name": "stdout",
     "output_type": "stream",
     "text": [
      "INFO:tensorflow:No assets to write.\n"
     ]
    },
    {
     "name": "stderr",
     "output_type": "stream",
     "text": [
      "[2019-03-05 12:01:40,208] No assets to write.\n"
     ]
    },
    {
     "name": "stdout",
     "output_type": "stream",
     "text": [
      "INFO:tensorflow:SavedModel written to: b'/home/phw/rsl/CS234_Project/data/sac/sac_s0/simple_save/saved_model.pb'\n"
     ]
    },
    {
     "name": "stderr",
     "output_type": "stream",
     "text": [
      "[2019-03-05 12:01:41,345] SavedModel written to: b'/home/phw/rsl/CS234_Project/data/sac/sac_s0/simple_save/saved_model.pb'\n"
     ]
    },
    {
     "name": "stdout",
     "output_type": "stream",
     "text": [
      "---------------------------------------\n",
      "|             Epoch |              47 |\n",
      "|      AverageEpRet |        4.66e+03 |\n",
      "|          StdEpRet |             130 |\n",
      "|          MaxEpRet |        4.83e+03 |\n",
      "|          MinEpRet |        4.52e+03 |\n",
      "|  AverageTestEpRet |        5.75e+03 |\n",
      "|      StdTestEpRet |            85.6 |\n",
      "|      MaxTestEpRet |        5.89e+03 |\n",
      "|      MinTestEpRet |        5.57e+03 |\n",
      "|             EpLen |           1e+03 |\n",
      "|         TestEpLen |           1e+03 |\n",
      "| TotalEnvInteracts |        2.35e+05 |\n",
      "|     AverageQ1Vals |             320 |\n",
      "|         StdQ1Vals |            68.8 |\n",
      "|         MaxQ1Vals |             406 |\n",
      "|         MinQ1Vals |           -30.6 |\n",
      "|     AverageQ2Vals |             320 |\n",
      "|         StdQ2Vals |            68.8 |\n",
      "|         MaxQ2Vals |             406 |\n",
      "|         MinQ2Vals |           -34.8 |\n",
      "|      AverageVVals |             320 |\n",
      "|          StdVVals |            68.2 |\n",
      "|          MaxVVals |             405 |\n",
      "|          MinVVals |           -24.2 |\n",
      "|      AverageLogPi |            2.78 |\n",
      "|          StdLogPi |            3.36 |\n",
      "|          MaxLogPi |            44.5 |\n",
      "|          MinLogPi |             -13 |\n",
      "|            LossPi |            -321 |\n",
      "|            LossQ1 |            6.24 |\n",
      "|            LossQ2 |            6.23 |\n",
      "|             LossV |            3.01 |\n",
      "|              Time |        1.25e+03 |\n",
      "---------------------------------------\n",
      "INFO:tensorflow:Assets added to graph.\n"
     ]
    },
    {
     "name": "stderr",
     "output_type": "stream",
     "text": [
      "[2019-03-05 12:02:06,930] Assets added to graph.\n"
     ]
    },
    {
     "name": "stdout",
     "output_type": "stream",
     "text": [
      "INFO:tensorflow:No assets to write.\n"
     ]
    },
    {
     "name": "stderr",
     "output_type": "stream",
     "text": [
      "[2019-03-05 12:02:06,932] No assets to write.\n"
     ]
    },
    {
     "name": "stdout",
     "output_type": "stream",
     "text": [
      "INFO:tensorflow:SavedModel written to: b'/home/phw/rsl/CS234_Project/data/sac/sac_s0/simple_save/saved_model.pb'\n"
     ]
    },
    {
     "name": "stderr",
     "output_type": "stream",
     "text": [
      "[2019-03-05 12:02:08,103] SavedModel written to: b'/home/phw/rsl/CS234_Project/data/sac/sac_s0/simple_save/saved_model.pb'\n"
     ]
    },
    {
     "name": "stdout",
     "output_type": "stream",
     "text": [
      "---------------------------------------\n",
      "|             Epoch |              48 |\n",
      "|      AverageEpRet |        4.76e+03 |\n",
      "|          StdEpRet |             157 |\n",
      "|          MaxEpRet |        4.97e+03 |\n",
      "|          MinEpRet |        4.53e+03 |\n",
      "|  AverageTestEpRet |        5.62e+03 |\n",
      "|      StdTestEpRet |            90.1 |\n",
      "|      MaxTestEpRet |        5.72e+03 |\n",
      "|      MinTestEpRet |        5.45e+03 |\n",
      "|             EpLen |           1e+03 |\n",
      "|         TestEpLen |           1e+03 |\n",
      "| TotalEnvInteracts |         2.4e+05 |\n",
      "|     AverageQ1Vals |             323 |\n",
      "|         StdQ1Vals |              69 |\n",
      "|         MaxQ1Vals |             410 |\n",
      "|         MinQ1Vals |           -33.3 |\n",
      "|     AverageQ2Vals |             323 |\n",
      "|         StdQ2Vals |              69 |\n",
      "|         MaxQ2Vals |             408 |\n",
      "|         MinQ2Vals |           -34.8 |\n",
      "|      AverageVVals |             323 |\n",
      "|          StdVVals |            68.3 |\n",
      "|          MaxVVals |             410 |\n",
      "|          MinVVals |           -30.8 |\n",
      "|      AverageLogPi |             2.8 |\n",
      "|          StdLogPi |            3.33 |\n",
      "|          MaxLogPi |            43.1 |\n",
      "|          MinLogPi |           -14.2 |\n",
      "|            LossPi |            -323 |\n",
      "|            LossQ1 |             6.3 |\n",
      "|            LossQ2 |            6.29 |\n",
      "|             LossV |            3.04 |\n",
      "|              Time |        1.28e+03 |\n",
      "---------------------------------------\n",
      "INFO:tensorflow:Assets added to graph.\n"
     ]
    },
    {
     "name": "stderr",
     "output_type": "stream",
     "text": [
      "[2019-03-05 12:02:32,561] Assets added to graph.\n"
     ]
    },
    {
     "name": "stdout",
     "output_type": "stream",
     "text": [
      "INFO:tensorflow:No assets to write.\n"
     ]
    },
    {
     "name": "stderr",
     "output_type": "stream",
     "text": [
      "[2019-03-05 12:02:32,562] No assets to write.\n"
     ]
    },
    {
     "name": "stdout",
     "output_type": "stream",
     "text": [
      "INFO:tensorflow:SavedModel written to: b'/home/phw/rsl/CS234_Project/data/sac/sac_s0/simple_save/saved_model.pb'\n"
     ]
    },
    {
     "name": "stderr",
     "output_type": "stream",
     "text": [
      "[2019-03-05 12:02:33,734] SavedModel written to: b'/home/phw/rsl/CS234_Project/data/sac/sac_s0/simple_save/saved_model.pb'\n"
     ]
    },
    {
     "name": "stdout",
     "output_type": "stream",
     "text": [
      "---------------------------------------\n",
      "|             Epoch |              49 |\n",
      "|      AverageEpRet |        4.84e+03 |\n",
      "|          StdEpRet |            63.3 |\n",
      "|          MaxEpRet |        4.91e+03 |\n",
      "|          MinEpRet |        4.76e+03 |\n",
      "|  AverageTestEpRet |        5.71e+03 |\n",
      "|      StdTestEpRet |            77.1 |\n",
      "|      MaxTestEpRet |        5.87e+03 |\n",
      "|      MinTestEpRet |        5.58e+03 |\n",
      "|             EpLen |           1e+03 |\n",
      "|         TestEpLen |           1e+03 |\n",
      "| TotalEnvInteracts |        2.45e+05 |\n",
      "|     AverageQ1Vals |             325 |\n",
      "|         StdQ1Vals |            68.8 |\n",
      "|         MaxQ1Vals |             410 |\n",
      "|         MinQ1Vals |           -32.3 |\n",
      "|     AverageQ2Vals |             325 |\n",
      "|         StdQ2Vals |            68.8 |\n",
      "|         MaxQ2Vals |             410 |\n",
      "|         MinQ2Vals |           -34.2 |\n",
      "|      AverageVVals |             325 |\n",
      "|          StdVVals |            68.1 |\n",
      "|          MaxVVals |             410 |\n",
      "|          MinVVals |           -30.1 |\n",
      "|      AverageLogPi |            2.84 |\n",
      "|          StdLogPi |            3.35 |\n",
      "|          MaxLogPi |            39.1 |\n",
      "|          MinLogPi |           -13.8 |\n",
      "|            LossPi |            -326 |\n",
      "|            LossQ1 |            6.19 |\n",
      "|            LossQ2 |            6.16 |\n",
      "|             LossV |            3.01 |\n",
      "|              Time |         1.3e+03 |\n",
      "---------------------------------------\n"
     ]
    }
   ],
   "source": [
    "sac(lambda : gym.make(env), \n",
    "    actor_critic=core.mlp_actor_critic,\n",
    "    ac_kwargs=dict(hidden_sizes=[hid]*l),\n",
    "    gamma=gamma, \n",
    "    seed=seed, \n",
    "    epochs=epochs,\n",
    "    logger_kwargs=logger_kwargs)"
   ]
  },
  {
   "cell_type": "code",
   "execution_count": null,
   "metadata": {
    "collapsed": true
   },
   "outputs": [],
   "source": []
  }
 ],
 "metadata": {
  "kernelspec": {
   "display_name": "Python [conda env:py36]",
   "language": "python",
   "name": "conda-env-py36-py"
  },
  "language_info": {
   "codemirror_mode": {
    "name": "ipython",
    "version": 3
   },
   "file_extension": ".py",
   "mimetype": "text/x-python",
   "name": "python",
   "nbconvert_exporter": "python",
   "pygments_lexer": "ipython3",
   "version": "3.6.2"
  }
 },
 "nbformat": 4,
 "nbformat_minor": 2
}
