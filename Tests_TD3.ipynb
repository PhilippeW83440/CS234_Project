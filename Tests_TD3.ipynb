{
 "cells": [
  {
   "cell_type": "markdown",
   "metadata": {},
   "source": [
    "# Twin Delayed DDPG\n",
    "Out of https://github.com/openai/spinningup/blob/master/spinup/algos/td3"
   ]
  },
  {
   "cell_type": "code",
   "execution_count": null,
   "metadata": {
    "collapsed": true
   },
   "outputs": [],
   "source": [
    "import numpy as np\n",
    "pipo = np.array([100.0, 200.0, 0.0, 0.0], dtype=int)"
   ]
  },
  {
   "cell_type": "code",
   "execution_count": null,
   "metadata": {
    "collapsed": false
   },
   "outputs": [],
   "source": [
    "pipo[1]"
   ]
  },
  {
   "cell_type": "markdown",
   "metadata": {},
   "source": [
    "# core.py"
   ]
  },
  {
   "cell_type": "code",
   "execution_count": null,
   "metadata": {
    "collapsed": false
   },
   "outputs": [],
   "source": [
    "!ls spinup/algos/td3/"
   ]
  },
  {
   "cell_type": "markdown",
   "metadata": {},
   "source": [
    "# td3.py"
   ]
  },
  {
   "cell_type": "code",
   "execution_count": 1,
   "metadata": {
    "collapsed": true
   },
   "outputs": [],
   "source": [
    "import numpy as np\n",
    "import tensorflow as tf\n",
    "import gym\n",
    "import time"
   ]
  },
  {
   "cell_type": "code",
   "execution_count": 2,
   "metadata": {
    "collapsed": true
   },
   "outputs": [],
   "source": [
    "from spinup.algos.td3 import core\n",
    "from spinup.algos.td3.core import get_vars\n",
    "from spinup.utils.logx import EpochLogger"
   ]
  },
  {
   "cell_type": "code",
   "execution_count": 3,
   "metadata": {
    "collapsed": true
   },
   "outputs": [],
   "source": [
    "class ReplayBuffer:\n",
    "    \"\"\"\n",
    "    A simple FIFO experience replay buffer for TD3 agents.\n",
    "    \"\"\"\n",
    "\n",
    "    def __init__(self, obs_dim, act_dim, size):\n",
    "        self.obs1_buf = np.zeros([size, obs_dim], dtype=np.float32)\n",
    "        self.obs2_buf = np.zeros([size, obs_dim], dtype=np.float32)\n",
    "        self.acts_buf = np.zeros([size, act_dim], dtype=np.float32)\n",
    "        self.rews_buf = np.zeros(size, dtype=np.float32)\n",
    "        self.done_buf = np.zeros(size, dtype=np.float32)\n",
    "        self.ptr, self.size, self.max_size = 0, 0, size\n",
    "\n",
    "    def store(self, obs, act, rew, next_obs, done):\n",
    "        self.obs1_buf[self.ptr] = obs\n",
    "        self.obs2_buf[self.ptr] = next_obs\n",
    "        self.acts_buf[self.ptr] = act\n",
    "        self.rews_buf[self.ptr] = rew\n",
    "        self.done_buf[self.ptr] = done\n",
    "        self.ptr = (self.ptr+1) % self.max_size\n",
    "        self.size = min(self.size+1, self.max_size)\n",
    "\n",
    "    def sample_batch(self, batch_size=32):\n",
    "        idxs = np.random.randint(0, self.size, size=batch_size)\n",
    "        return dict(obs1=self.obs1_buf[idxs],\n",
    "                    obs2=self.obs2_buf[idxs],\n",
    "                    acts=self.acts_buf[idxs],\n",
    "                    rews=self.rews_buf[idxs],\n",
    "                    done=self.done_buf[idxs])"
   ]
  },
  {
   "cell_type": "code",
   "execution_count": 4,
   "metadata": {
    "collapsed": false
   },
   "outputs": [],
   "source": [
    "\"\"\"\n",
    "TD3 (Twin Delayed DDPG)\n",
    "\"\"\"\n",
    "def td3(env_fn, actor_critic=core.mlp_actor_critic, ac_kwargs=dict(), seed=0, \n",
    "        steps_per_epoch=5000, epochs=100, replay_size=int(1e6), gamma=0.99, \n",
    "        polyak=0.995, pi_lr=1e-3, q_lr=1e-3, batch_size=100, start_steps=10000, \n",
    "        act_noise=0.1, target_noise=0.2, noise_clip=0.5, policy_delay=2, \n",
    "        max_ep_len=1000, logger_kwargs=dict(), save_freq=1):\n",
    "    \"\"\"\n",
    "    Args:\n",
    "        env_fn : A function which creates a copy of the environment.\n",
    "            The environment must satisfy the OpenAI Gym API.\n",
    "        actor_critic: A function which takes in placeholder symbols \n",
    "            for state, ``x_ph``, and action, ``a_ph``, and returns the main \n",
    "            outputs from the agent's Tensorflow computation graph:\n",
    "            ===========  ================  ======================================\n",
    "            Symbol       Shape             Description\n",
    "            ===========  ================  ======================================\n",
    "            ``pi``       (batch, act_dim)  | Deterministically computes actions\n",
    "                                           | from policy given states.\n",
    "            ``q1``       (batch,)          | Gives one estimate of Q* for \n",
    "                                           | states in ``x_ph`` and actions in\n",
    "                                           | ``a_ph``.\n",
    "            ``q2``       (batch,)          | Gives another estimate of Q* for \n",
    "                                           | states in ``x_ph`` and actions in\n",
    "                                           | ``a_ph``.\n",
    "            ``q1_pi``    (batch,)          | Gives the composition of ``q1`` and \n",
    "                                           | ``pi`` for states in ``x_ph``: \n",
    "                                           | q1(x, pi(x)).\n",
    "            ===========  ================  ======================================\n",
    "        ac_kwargs (dict): Any kwargs appropriate for the actor_critic \n",
    "            function you provided to TD3.\n",
    "        seed (int): Seed for random number generators.\n",
    "        steps_per_epoch (int): Number of steps of interaction (state-action pairs) \n",
    "            for the agent and the environment in each epoch.\n",
    "        epochs (int): Number of epochs to run and train agent.\n",
    "        replay_size (int): Maximum length of replay buffer.\n",
    "        gamma (float): Discount factor. (Always between 0 and 1.)\n",
    "        polyak (float): Interpolation factor in polyak averaging for target \n",
    "            networks. Target networks are updated towards main networks \n",
    "            according to:\n",
    "            .. math:: \\\\theta_{\\\\text{targ}} \\\\leftarrow \n",
    "                \\\\rho \\\\theta_{\\\\text{targ}} + (1-\\\\rho) \\\\theta\n",
    "            where :math:`\\\\rho` is polyak. (Always between 0 and 1, usually \n",
    "            close to 1.)\n",
    "        pi_lr (float): Learning rate for policy.\n",
    "        q_lr (float): Learning rate for Q-networks.\n",
    "        batch_size (int): Minibatch size for SGD.\n",
    "        start_steps (int): Number of steps for uniform-random action selection,\n",
    "            before running real policy. Helps exploration.\n",
    "        act_noise (float): Stddev for Gaussian exploration noise added to \n",
    "            policy at training time. (At test time, no noise is added.)\n",
    "        target_noise (float): Stddev for smoothing noise added to target \n",
    "            policy.\n",
    "        noise_clip (float): Limit for absolute value of target policy \n",
    "            smoothing noise.\n",
    "        policy_delay (int): Policy will only be updated once every \n",
    "            policy_delay times for each update of the Q-networks.\n",
    "        max_ep_len (int): Maximum length of trajectory / episode / rollout.\n",
    "        logger_kwargs (dict): Keyword args for EpochLogger.\n",
    "        save_freq (int): How often (in terms of gap between epochs) to save\n",
    "            the current policy and value function.\n",
    "    \"\"\"\n",
    "\n",
    "    logger = EpochLogger(**logger_kwargs)\n",
    "    logger.save_config(locals())\n",
    "\n",
    "    tf.set_random_seed(seed)\n",
    "    np.random.seed(seed)\n",
    "\n",
    "    env, test_env = env_fn(), env_fn()\n",
    "    obs_dim = env.observation_space.shape[0]\n",
    "    act_dim = env.action_space.shape[0]\n",
    "    print(\"obs_dim {} act_dim {}\".format(obs_dim, act_dim))\n",
    "\n",
    "    # Action limit for clamping: critically, assumes all dimensions share the same bound!\n",
    "    act_limit = env.action_space.high[0]\n",
    "\n",
    "    # Share information about action space with policy architecture\n",
    "    ac_kwargs['action_space'] = env.action_space\n",
    "\n",
    "    # Inputs to computation graph\n",
    "    x_ph, a_ph, x2_ph, r_ph, d_ph = core.placeholders(obs_dim, act_dim, obs_dim, None, None)\n",
    "\n",
    "    # Main outputs from computation graph\n",
    "    with tf.variable_scope('main'):\n",
    "        pi, q1, q2, q1_pi = actor_critic(x_ph, a_ph, **ac_kwargs)\n",
    "    \n",
    "    # Target policy network\n",
    "    with tf.variable_scope('target'):\n",
    "        pi_targ, _, _, _  = actor_critic(x2_ph, a_ph, **ac_kwargs)\n",
    "    \n",
    "    # Target Q networks\n",
    "    with tf.variable_scope('target', reuse=True):\n",
    "\n",
    "        # Target policy smoothing, by adding clipped noise to target actions\n",
    "        epsilon = tf.random_normal(tf.shape(pi_targ), stddev=target_noise)\n",
    "        epsilon = tf.clip_by_value(epsilon, -noise_clip, noise_clip)\n",
    "        a2 = pi_targ + epsilon\n",
    "        a2 = tf.clip_by_value(a2, -act_limit, act_limit)\n",
    "\n",
    "        # Target Q-values, using action from target policy\n",
    "        _, q1_targ, q2_targ, _ = actor_critic(x2_ph, a2, **ac_kwargs)\n",
    "\n",
    "    # Experience buffer\n",
    "    replay_buffer = ReplayBuffer(obs_dim=obs_dim, act_dim=act_dim, size=replay_size)\n",
    "\n",
    "    # Count variables\n",
    "    var_counts = tuple(core.count_vars(scope) for scope in ['main/pi', 'main/q1', 'main/q2', 'main'])\n",
    "    print('\\nNumber of parameters: \\t pi: %d, \\t q1: %d, \\t q2: %d, \\t total: %d\\n'%var_counts)\n",
    "\n",
    "    # Bellman backup for Q functions, using Clipped Double-Q targets\n",
    "    min_q_targ = tf.minimum(q1_targ, q2_targ)\n",
    "    backup = tf.stop_gradient(r_ph + gamma*(1-d_ph)*min_q_targ)\n",
    "\n",
    "    # TD3 losses\n",
    "    pi_loss = -tf.reduce_mean(q1_pi)\n",
    "    q1_loss = tf.reduce_mean((q1-backup)**2)\n",
    "    q2_loss = tf.reduce_mean((q2-backup)**2)\n",
    "    q_loss = q1_loss + q2_loss\n",
    "\n",
    "    # Separate train ops for pi, q\n",
    "    pi_optimizer = tf.train.AdamOptimizer(learning_rate=pi_lr)\n",
    "    q_optimizer = tf.train.AdamOptimizer(learning_rate=q_lr)\n",
    "    train_pi_op = pi_optimizer.minimize(pi_loss, var_list=get_vars('main/pi'))\n",
    "    train_q_op = q_optimizer.minimize(q_loss, var_list=get_vars('main/q'))\n",
    "\n",
    "    # Polyak averaging for target variables\n",
    "    target_update = tf.group([tf.assign(v_targ, polyak*v_targ + (1-polyak)*v_main)\n",
    "                              for v_main, v_targ in zip(get_vars('main'), get_vars('target'))])\n",
    "\n",
    "    # Initializing targets to match main variables\n",
    "    target_init = tf.group([tf.assign(v_targ, v_main)\n",
    "                              for v_main, v_targ in zip(get_vars('main'), get_vars('target'))])\n",
    "\n",
    "    sess = tf.Session()\n",
    "    sess.run(tf.global_variables_initializer())\n",
    "    sess.run(target_init)\n",
    "\n",
    "    # Setup model saving\n",
    "    logger.setup_tf_saver(sess, inputs={'x': x_ph, 'a': a_ph}, outputs={'pi': pi, 'q1': q1, 'q2': q2})\n",
    "\n",
    "    def get_action(o, noise_scale):\n",
    "        a = sess.run(pi, feed_dict={x_ph: o.reshape(1,-1)})[0]\n",
    "        a += noise_scale * np.random.randn(act_dim)\n",
    "        return np.clip(a, -act_limit, act_limit)\n",
    "\n",
    "    def test_agent(n=10):\n",
    "        for j in range(n):\n",
    "            o, r, d, ep_ret, ep_len = test_env.reset(), 0, False, 0, 0\n",
    "            #print(\"TEST RESET x= {} y={} vx={} vy={} r={}\".format(o[0], o[1], o[2], o[3], r))\n",
    "            while not(d or (ep_len == max_ep_len)):\n",
    "                # Take deterministic actions at test time (noise_scale=0)\n",
    "                testaction = get_action(o, 0)\n",
    "                o, r, d, _ = test_env.step(testaction)\n",
    "                #print(\"TEST a={} x= {} y={} vx={} vy={} r={}\".format(testaction, o[0], o[1], o[2], o[3], r))\n",
    "                ep_ret += r\n",
    "                ep_len += 1\n",
    "            logger.store(TestEpRet=ep_ret, TestEpLen=ep_len)\n",
    "\n",
    "    start_time = time.time()\n",
    "    o, r, d, ep_ret, ep_len = env.reset(), 0, False, 0, 0\n",
    "    total_steps = steps_per_epoch * epochs\n",
    "\n",
    "    # Main loop: collect experience in env and update/log each epoch\n",
    "    for t in range(total_steps):\n",
    "\n",
    "        \"\"\"\n",
    "        Until start_steps have elapsed, randomly sample actions\n",
    "        from a uniform distribution for better exploration. Afterwards, \n",
    "        use the learned policy (with some noise, via act_noise). \n",
    "        \"\"\"\n",
    "        if t > start_steps:\n",
    "            a = get_action(o, act_noise)\n",
    "        else:\n",
    "            a = env.action_space.sample()\n",
    "            #print(\"action {}\".format(a))\n",
    "\n",
    "        # Step the env\n",
    "        o2, r, d, _ = env.step(a)\n",
    "        ep_ret += r\n",
    "        ep_len += 1\n",
    "        #if ep_len > 500:\n",
    "            #print(\"a={} x= {} y={} vx={} vy={} r={}\".format(a, o2[0], o2[1], o2[2], o2[3], r))\n",
    "        #if d == True:\n",
    "            #print(\"r {} d {} ep_ret {} ep_len {}\".format(r, d, ep_ret, ep_len))\n",
    "\n",
    "        # Ignore the \"done\" signal if it comes from hitting the time\n",
    "        # horizon (that is, when it's an artificial terminal signal\n",
    "        # that isn't based on the agent's state)\n",
    "        d = False if ep_len==max_ep_len else d\n",
    "\n",
    "        # Store experience to replay buffer\n",
    "        replay_buffer.store(o, a, r, o2, d)\n",
    "\n",
    "        # Super critical, easy to overlook step: make sure to update \n",
    "        # most recent observation!\n",
    "        o = o2\n",
    "\n",
    "        if d or (ep_len == max_ep_len):\n",
    "            \"\"\"\n",
    "            Perform all TD3 updates at the end of the trajectory\n",
    "            (in accordance with source code of TD3 published by\n",
    "            original authors).\n",
    "            \"\"\"\n",
    "            for j in range(ep_len):\n",
    "                batch = replay_buffer.sample_batch(batch_size)\n",
    "                feed_dict = {x_ph: batch['obs1'],\n",
    "                             x2_ph: batch['obs2'],\n",
    "                             a_ph: batch['acts'],\n",
    "                             r_ph: batch['rews'],\n",
    "                             d_ph: batch['done']\n",
    "                            }\n",
    "                q_step_ops = [q_loss, q1, q2, train_q_op]\n",
    "                outs = sess.run(q_step_ops, feed_dict)\n",
    "                logger.store(LossQ=outs[0], Q1Vals=outs[1], Q2Vals=outs[2])\n",
    "\n",
    "                if j % policy_delay == 0:\n",
    "                    # Delayed policy update\n",
    "                    outs = sess.run([pi_loss, train_pi_op, target_update], feed_dict)\n",
    "                    logger.store(LossPi=outs[0])\n",
    "\n",
    "            logger.store(EpRet=ep_ret, EpLen=ep_len)\n",
    "            o, r, d, ep_ret, ep_len = env.reset(), 0, False, 0, 0\n",
    "\n",
    "        # End of epoch wrap-up\n",
    "        if t > 0 and t % steps_per_epoch == 0:\n",
    "            epoch = t // steps_per_epoch\n",
    "\n",
    "            # Save model\n",
    "            if (epoch % save_freq == 0) or (epoch == epochs-1):\n",
    "                logger.save_state({'env': env}, None)\n",
    "\n",
    "            # Test the performance of the deterministic version of the agent.\n",
    "            test_agent()\n",
    "\n",
    "            # Log info about epoch\n",
    "            logger.log_tabular('Epoch', epoch)\n",
    "            logger.log_tabular('EpRet', with_min_and_max=True)\n",
    "            logger.log_tabular('TestEpRet', with_min_and_max=True)\n",
    "            logger.log_tabular('EpLen', average_only=True)\n",
    "            logger.log_tabular('TestEpLen', average_only=True)\n",
    "            logger.log_tabular('TotalEnvInteracts', t)\n",
    "            logger.log_tabular('Q1Vals', with_min_and_max=True)\n",
    "            logger.log_tabular('Q2Vals', with_min_and_max=True)\n",
    "            logger.log_tabular('LossPi', average_only=True)\n",
    "            logger.log_tabular('LossQ', average_only=True)\n",
    "            logger.log_tabular('Time', time.time()-start_time)\n",
    "            logger.dump_tabular()"
   ]
  },
  {
   "cell_type": "code",
   "execution_count": 5,
   "metadata": {
    "collapsed": true
   },
   "outputs": [],
   "source": [
    "import gym_act"
   ]
  },
  {
   "cell_type": "code",
   "execution_count": 6,
   "metadata": {
    "collapsed": true
   },
   "outputs": [],
   "source": [
    "env='HalfCheetah-v1'\n",
    "#env='InvertedPendulum-v1'\n",
    "env='Act-v0'\n",
    "hid=300\n",
    "l=1\n",
    "gamma=0.99\n",
    "seed=0\n",
    "epochs=100\n",
    "exp_name='td3'\n",
    "batch_size=100\n",
    "pi_lr=1e-3\n",
    "q_lr=1e-3\n",
    "replay_size=int(1e6)\n",
    "act_noise=0.1"
   ]
  },
  {
   "cell_type": "code",
   "execution_count": 7,
   "metadata": {
    "collapsed": true
   },
   "outputs": [],
   "source": [
    "from spinup.utils.run_utils import setup_logger_kwargs\n",
    "logger_kwargs = setup_logger_kwargs(exp_name, seed)"
   ]
  },
  {
   "cell_type": "code",
   "execution_count": 8,
   "metadata": {
    "collapsed": false
   },
   "outputs": [
    {
     "name": "stderr",
     "output_type": "stream",
     "text": [
      "[2019-03-13 23:45:35,187] Making new env: Act-v0\n",
      "/home/philippew/anaconda3/envs/py36/lib/python3.6/site-packages/gym/envs/registration.py:17: PkgResourcesDeprecationWarning: Parameters to load are deprecated.  Call .resolve and .require separately.\n",
      "  result = entry_point.load(False)\n",
      "[2019-03-13 23:45:35,232] Making new env: Act-v0\n"
     ]
    },
    {
     "name": "stdout",
     "output_type": "stream",
     "text": [
      "Warning: Log dir /home/philippew/CS234_Project/data/td3/td3_s0 already exists! Storing info there anyway.\n",
      "\u001b[32;1mLogging data to /home/philippew/CS234_Project/data/td3/td3_s0/progress.txt\u001b[0m\n",
      "\u001b[36;1mSaving config:\n",
      "\u001b[0m\n",
      "{\n",
      "    \"ac_kwargs\":\t{\n",
      "        \"hidden_sizes\":\t[\n",
      "            300\n",
      "        ]\n",
      "    },\n",
      "    \"act_noise\":\t0.1,\n",
      "    \"actor_critic\":\t\"mlp_actor_critic\",\n",
      "    \"batch_size\":\t100,\n",
      "    \"env_fn\":\t\"<function <lambda> at 0x7f6ede8c6400>\",\n",
      "    \"epochs\":\t100,\n",
      "    \"exp_name\":\t\"td3\",\n",
      "    \"gamma\":\t0.99,\n",
      "    \"logger\":\t{\n",
      "        \"<spinup.utils.logx.EpochLogger object at 0x7f6ede8bee48>\":\t{\n",
      "            \"epoch_dict\":\t{},\n",
      "            \"exp_name\":\t\"td3\",\n",
      "            \"first_row\":\ttrue,\n",
      "            \"log_current_row\":\t{},\n",
      "            \"log_headers\":\t[],\n",
      "            \"output_dir\":\t\"/home/philippew/CS234_Project/data/td3/td3_s0\",\n",
      "            \"output_file\":\t{\n",
      "                \"<_io.TextIOWrapper name='/home/philippew/CS234_Project/data/td3/td3_s0/progress.txt' mode='w' encoding='UTF-8'>\":\t{\n",
      "                    \"mode\":\t\"w\"\n",
      "                }\n",
      "            }\n",
      "        }\n",
      "    },\n",
      "    \"logger_kwargs\":\t{\n",
      "        \"exp_name\":\t\"td3\",\n",
      "        \"output_dir\":\t\"/home/philippew/CS234_Project/data/td3/td3_s0\"\n",
      "    },\n",
      "    \"max_ep_len\":\t1000,\n",
      "    \"noise_clip\":\t0.5,\n",
      "    \"pi_lr\":\t0.001,\n",
      "    \"policy_delay\":\t2,\n",
      "    \"polyak\":\t0.995,\n",
      "    \"q_lr\":\t0.001,\n",
      "    \"replay_size\":\t1000000,\n",
      "    \"save_freq\":\t1,\n",
      "    \"seed\":\t0,\n",
      "    \"start_steps\":\t10000,\n",
      "    \"steps_per_epoch\":\t5000,\n",
      "    \"target_noise\":\t0.2\n",
      "}\n",
      "SEED 14643642861928547081\n",
      "SEED 7863140570026721728\n",
      "obs_dim 12 act_dim 1\n",
      "\n",
      "Number of parameters: \t pi: 4201, \t q1: 4501, \t q2: 4501, \t total: 13203\n",
      "\n",
      "INFO:tensorflow:Assets added to graph.\n"
     ]
    },
    {
     "name": "stderr",
     "output_type": "stream",
     "text": [
      "[2019-03-13 23:45:43,975] Assets added to graph.\n"
     ]
    },
    {
     "name": "stdout",
     "output_type": "stream",
     "text": [
      "INFO:tensorflow:No assets to write.\n"
     ]
    },
    {
     "name": "stderr",
     "output_type": "stream",
     "text": [
      "[2019-03-13 23:45:43,976] No assets to write.\n"
     ]
    },
    {
     "name": "stdout",
     "output_type": "stream",
     "text": [
      "INFO:tensorflow:SavedModel written to: b'/home/philippew/CS234_Project/data/td3/td3_s0/simple_save/saved_model.pb'\n"
     ]
    },
    {
     "name": "stderr",
     "output_type": "stream",
     "text": [
      "[2019-03-13 23:45:44,140] SavedModel written to: b'/home/philippew/CS234_Project/data/td3/td3_s0/simple_save/saved_model.pb'\n"
     ]
    },
    {
     "name": "stdout",
     "output_type": "stream",
     "text": [
      "---------------------------------------\n",
      "|             Epoch |               1 |\n",
      "|      AverageEpRet |             252 |\n",
      "|          StdEpRet |             941 |\n",
      "|          MaxEpRet |             955 |\n",
      "|          MinEpRet |       -1.04e+03 |\n",
      "|  AverageTestEpRet |       -1.04e+03 |\n",
      "|      StdTestEpRet |            13.9 |\n",
      "|      MaxTestEpRet |       -1.02e+03 |\n",
      "|      MinTestEpRet |       -1.05e+03 |\n",
      "|             EpLen |            39.1 |\n",
      "|         TestEpLen |              40 |\n",
      "| TotalEnvInteracts |           5e+03 |\n",
      "|     AverageQ1Vals |            29.3 |\n",
      "|         StdQ1Vals |             302 |\n",
      "|         MaxQ1Vals |         1.4e+03 |\n",
      "|         MinQ1Vals |            -721 |\n",
      "|     AverageQ2Vals |            29.3 |\n",
      "|         StdQ2Vals |             302 |\n",
      "|         MaxQ2Vals |        1.38e+03 |\n",
      "|         MinQ2Vals |            -720 |\n",
      "|            LossPi |           -32.3 |\n",
      "|             LossQ |        2.13e+04 |\n",
      "|              Time |            8.35 |\n",
      "---------------------------------------\n",
      "INFO:tensorflow:Assets added to graph.\n"
     ]
    },
    {
     "name": "stderr",
     "output_type": "stream",
     "text": [
      "[2019-03-13 23:45:51,958] Assets added to graph.\n"
     ]
    },
    {
     "name": "stdout",
     "output_type": "stream",
     "text": [
      "INFO:tensorflow:No assets to write.\n"
     ]
    },
    {
     "name": "stderr",
     "output_type": "stream",
     "text": [
      "[2019-03-13 23:45:51,959] No assets to write.\n"
     ]
    },
    {
     "name": "stdout",
     "output_type": "stream",
     "text": [
      "INFO:tensorflow:SavedModel written to: b'/home/philippew/CS234_Project/data/td3/td3_s0/simple_save/saved_model.pb'\n"
     ]
    },
    {
     "name": "stderr",
     "output_type": "stream",
     "text": [
      "[2019-03-13 23:45:52,130] SavedModel written to: b'/home/philippew/CS234_Project/data/td3/td3_s0/simple_save/saved_model.pb'\n"
     ]
    },
    {
     "name": "stdout",
     "output_type": "stream",
     "text": [
      "---------------------------------------\n",
      "|             Epoch |               2 |\n",
      "|      AverageEpRet |             370 |\n",
      "|          StdEpRet |             898 |\n",
      "|          MaxEpRet |             954 |\n",
      "|          MinEpRet |       -1.05e+03 |\n",
      "|  AverageTestEpRet |       -1.04e+03 |\n",
      "|      StdTestEpRet |            17.4 |\n",
      "|      MaxTestEpRet |       -1.02e+03 |\n",
      "|      MinTestEpRet |       -1.05e+03 |\n",
      "|             EpLen |            43.3 |\n",
      "|         TestEpLen |            36.8 |\n",
      "| TotalEnvInteracts |           1e+04 |\n",
      "|     AverageQ1Vals |             149 |\n",
      "|         StdQ1Vals |             502 |\n",
      "|         MaxQ1Vals |        1.41e+03 |\n",
      "|         MinQ1Vals |            -793 |\n",
      "|     AverageQ2Vals |             149 |\n",
      "|         StdQ2Vals |             502 |\n",
      "|         MaxQ2Vals |         1.4e+03 |\n",
      "|         MinQ2Vals |            -800 |\n",
      "|            LossPi |            -150 |\n",
      "|             LossQ |        9.04e+03 |\n",
      "|              Time |            16.3 |\n",
      "---------------------------------------\n",
      "INFO:tensorflow:Assets added to graph.\n"
     ]
    },
    {
     "name": "stderr",
     "output_type": "stream",
     "text": [
      "[2019-03-13 23:46:00,816] Assets added to graph.\n"
     ]
    },
    {
     "name": "stdout",
     "output_type": "stream",
     "text": [
      "INFO:tensorflow:No assets to write.\n"
     ]
    },
    {
     "name": "stderr",
     "output_type": "stream",
     "text": [
      "[2019-03-13 23:46:00,816] No assets to write.\n"
     ]
    },
    {
     "name": "stdout",
     "output_type": "stream",
     "text": [
      "INFO:tensorflow:SavedModel written to: b'/home/philippew/CS234_Project/data/td3/td3_s0/simple_save/saved_model.pb'\n"
     ]
    },
    {
     "name": "stderr",
     "output_type": "stream",
     "text": [
      "[2019-03-13 23:46:00,982] SavedModel written to: b'/home/philippew/CS234_Project/data/td3/td3_s0/simple_save/saved_model.pb'\n"
     ]
    },
    {
     "name": "stdout",
     "output_type": "stream",
     "text": [
      "---------------------------------------\n",
      "|             Epoch |               3 |\n",
      "|      AverageEpRet |             409 |\n",
      "|          StdEpRet |             871 |\n",
      "|          MaxEpRet |             963 |\n",
      "|          MinEpRet |       -1.05e+03 |\n",
      "|  AverageTestEpRet |             355 |\n",
      "|      StdTestEpRet |             896 |\n",
      "|      MaxTestEpRet |             963 |\n",
      "|      MinTestEpRet |       -1.02e+03 |\n",
      "|             EpLen |              53 |\n",
      "|         TestEpLen |              45 |\n",
      "| TotalEnvInteracts |         1.5e+04 |\n",
      "|     AverageQ1Vals |             311 |\n",
      "|         StdQ1Vals |             526 |\n",
      "|         MaxQ1Vals |        1.73e+03 |\n",
      "|         MinQ1Vals |            -796 |\n",
      "|     AverageQ2Vals |             311 |\n",
      "|         StdQ2Vals |             526 |\n",
      "|         MaxQ2Vals |        1.72e+03 |\n",
      "|         MinQ2Vals |            -797 |\n",
      "|            LossPi |            -314 |\n",
      "|             LossQ |        1.35e+04 |\n",
      "|              Time |            25.2 |\n",
      "---------------------------------------\n",
      "INFO:tensorflow:Assets added to graph.\n"
     ]
    },
    {
     "name": "stderr",
     "output_type": "stream",
     "text": [
      "[2019-03-13 23:46:10,302] Assets added to graph.\n"
     ]
    },
    {
     "name": "stdout",
     "output_type": "stream",
     "text": [
      "INFO:tensorflow:No assets to write.\n"
     ]
    },
    {
     "name": "stderr",
     "output_type": "stream",
     "text": [
      "[2019-03-13 23:46:10,303] No assets to write.\n"
     ]
    },
    {
     "name": "stdout",
     "output_type": "stream",
     "text": [
      "INFO:tensorflow:SavedModel written to: b'/home/philippew/CS234_Project/data/td3/td3_s0/simple_save/saved_model.pb'\n"
     ]
    },
    {
     "name": "stderr",
     "output_type": "stream",
     "text": [
      "[2019-03-13 23:46:10,514] SavedModel written to: b'/home/philippew/CS234_Project/data/td3/td3_s0/simple_save/saved_model.pb'\n"
     ]
    },
    {
     "name": "stdout",
     "output_type": "stream",
     "text": [
      "---------------------------------------\n",
      "|             Epoch |               4 |\n",
      "|      AverageEpRet |             476 |\n",
      "|          StdEpRet |             839 |\n",
      "|          MaxEpRet |             963 |\n",
      "|          MinEpRet |       -1.05e+03 |\n",
      "|  AverageTestEpRet |             752 |\n",
      "|      StdTestEpRet |             594 |\n",
      "|      MaxTestEpRet |             963 |\n",
      "|      MinTestEpRet |       -1.03e+03 |\n",
      "|             EpLen |            46.5 |\n",
      "|         TestEpLen |            48.2 |\n",
      "| TotalEnvInteracts |           2e+04 |\n",
      "|     AverageQ1Vals |             455 |\n",
      "|         StdQ1Vals |             470 |\n",
      "|         MaxQ1Vals |        1.78e+03 |\n",
      "|         MinQ1Vals |            -797 |\n",
      "|     AverageQ2Vals |             455 |\n",
      "|         StdQ2Vals |             470 |\n",
      "|         MaxQ2Vals |        1.77e+03 |\n",
      "|         MinQ2Vals |            -796 |\n",
      "|            LossPi |            -459 |\n",
      "|             LossQ |        1.45e+04 |\n",
      "|              Time |            34.7 |\n",
      "---------------------------------------\n",
      "INFO:tensorflow:Assets added to graph.\n"
     ]
    },
    {
     "name": "stderr",
     "output_type": "stream",
     "text": [
      "[2019-03-13 23:46:19,644] Assets added to graph.\n"
     ]
    },
    {
     "name": "stdout",
     "output_type": "stream",
     "text": [
      "INFO:tensorflow:No assets to write.\n"
     ]
    },
    {
     "name": "stderr",
     "output_type": "stream",
     "text": [
      "[2019-03-13 23:46:19,645] No assets to write.\n"
     ]
    },
    {
     "name": "stdout",
     "output_type": "stream",
     "text": [
      "INFO:tensorflow:SavedModel written to: b'/home/philippew/CS234_Project/data/td3/td3_s0/simple_save/saved_model.pb'\n"
     ]
    },
    {
     "name": "stderr",
     "output_type": "stream",
     "text": [
      "[2019-03-13 23:46:19,827] SavedModel written to: b'/home/philippew/CS234_Project/data/td3/td3_s0/simple_save/saved_model.pb'\n"
     ]
    },
    {
     "name": "stdout",
     "output_type": "stream",
     "text": [
      "---------------------------------------\n",
      "|             Epoch |               5 |\n",
      "|      AverageEpRet |             457 |\n",
      "|          StdEpRet |             854 |\n",
      "|          MaxEpRet |             963 |\n",
      "|          MinEpRet |       -1.04e+03 |\n",
      "|  AverageTestEpRet |             156 |\n",
      "|      StdTestEpRet |             965 |\n",
      "|      MaxTestEpRet |             962 |\n",
      "|      MinTestEpRet |       -1.03e+03 |\n",
      "|             EpLen |            43.2 |\n",
      "|         TestEpLen |            43.8 |\n",
      "| TotalEnvInteracts |         2.5e+04 |\n",
      "|     AverageQ1Vals |             518 |\n",
      "|         StdQ1Vals |             411 |\n",
      "|         MaxQ1Vals |        1.71e+03 |\n",
      "|         MinQ1Vals |            -928 |\n",
      "|     AverageQ2Vals |             518 |\n",
      "|         StdQ2Vals |             411 |\n",
      "|         MaxQ2Vals |         1.7e+03 |\n",
      "|         MinQ2Vals |            -941 |\n",
      "|            LossPi |            -522 |\n",
      "|             LossQ |        1.49e+04 |\n",
      "|              Time |              44 |\n",
      "---------------------------------------\n",
      "INFO:tensorflow:Assets added to graph.\n"
     ]
    },
    {
     "name": "stderr",
     "output_type": "stream",
     "text": [
      "[2019-03-13 23:46:28,773] Assets added to graph.\n"
     ]
    },
    {
     "name": "stdout",
     "output_type": "stream",
     "text": [
      "INFO:tensorflow:No assets to write.\n"
     ]
    },
    {
     "name": "stderr",
     "output_type": "stream",
     "text": [
      "[2019-03-13 23:46:28,774] No assets to write.\n"
     ]
    },
    {
     "name": "stdout",
     "output_type": "stream",
     "text": [
      "INFO:tensorflow:SavedModel written to: b'/home/philippew/CS234_Project/data/td3/td3_s0/simple_save/saved_model.pb'\n"
     ]
    },
    {
     "name": "stderr",
     "output_type": "stream",
     "text": [
      "[2019-03-13 23:46:28,966] SavedModel written to: b'/home/philippew/CS234_Project/data/td3/td3_s0/simple_save/saved_model.pb'\n"
     ]
    },
    {
     "name": "stdout",
     "output_type": "stream",
     "text": [
      "---------------------------------------\n",
      "|             Epoch |               6 |\n",
      "|      AverageEpRet |             496 |\n",
      "|          StdEpRet |             832 |\n",
      "|          MaxEpRet |             963 |\n",
      "|          MinEpRet |       -1.04e+03 |\n",
      "|  AverageTestEpRet |             555 |\n",
      "|      StdTestEpRet |             792 |\n",
      "|      MaxTestEpRet |             963 |\n",
      "|      MinTestEpRet |       -1.05e+03 |\n",
      "|             EpLen |            41.2 |\n",
      "|         TestEpLen |            45.3 |\n",
      "| TotalEnvInteracts |           3e+04 |\n",
      "|     AverageQ1Vals |             525 |\n",
      "|         StdQ1Vals |             382 |\n",
      "|         MaxQ1Vals |        1.68e+03 |\n",
      "|         MinQ1Vals |       -1.09e+03 |\n",
      "|     AverageQ2Vals |             526 |\n",
      "|         StdQ2Vals |             382 |\n",
      "|         MaxQ2Vals |        1.66e+03 |\n",
      "|         MinQ2Vals |        -1.1e+03 |\n",
      "|            LossPi |            -528 |\n",
      "|             LossQ |        1.32e+04 |\n",
      "|              Time |            53.2 |\n",
      "---------------------------------------\n",
      "INFO:tensorflow:Assets added to graph.\n"
     ]
    },
    {
     "name": "stderr",
     "output_type": "stream",
     "text": [
      "[2019-03-13 23:46:37,952] Assets added to graph.\n"
     ]
    },
    {
     "name": "stdout",
     "output_type": "stream",
     "text": [
      "INFO:tensorflow:No assets to write.\n"
     ]
    },
    {
     "name": "stderr",
     "output_type": "stream",
     "text": [
      "[2019-03-13 23:46:37,953] No assets to write.\n"
     ]
    },
    {
     "name": "stdout",
     "output_type": "stream",
     "text": [
      "INFO:tensorflow:SavedModel written to: b'/home/philippew/CS234_Project/data/td3/td3_s0/simple_save/saved_model.pb'\n"
     ]
    },
    {
     "name": "stderr",
     "output_type": "stream",
     "text": [
      "[2019-03-13 23:46:38,153] SavedModel written to: b'/home/philippew/CS234_Project/data/td3/td3_s0/simple_save/saved_model.pb'\n"
     ]
    },
    {
     "name": "stdout",
     "output_type": "stream",
     "text": [
      "---------------------------------------\n",
      "|             Epoch |               7 |\n",
      "|      AverageEpRet |             483 |\n",
      "|          StdEpRet |             841 |\n",
      "|          MaxEpRet |             963 |\n",
      "|          MinEpRet |       -1.05e+03 |\n",
      "|  AverageTestEpRet |             950 |\n",
      "|      StdTestEpRet |            9.37 |\n",
      "|      MaxTestEpRet |             963 |\n",
      "|      MinTestEpRet |             939 |\n",
      "|             EpLen |            42.2 |\n",
      "|         TestEpLen |            50.5 |\n",
      "| TotalEnvInteracts |         3.5e+04 |\n",
      "|     AverageQ1Vals |             504 |\n",
      "|         StdQ1Vals |             381 |\n",
      "|         MaxQ1Vals |        1.51e+03 |\n",
      "|         MinQ1Vals |       -1.16e+03 |\n",
      "|     AverageQ2Vals |             504 |\n",
      "|         StdQ2Vals |             381 |\n",
      "|         MaxQ2Vals |         1.5e+03 |\n",
      "|         MinQ2Vals |       -1.17e+03 |\n",
      "|            LossPi |            -507 |\n",
      "|             LossQ |        1.22e+04 |\n",
      "|              Time |            62.4 |\n",
      "---------------------------------------\n",
      "INFO:tensorflow:Assets added to graph.\n"
     ]
    },
    {
     "name": "stderr",
     "output_type": "stream",
     "text": [
      "[2019-03-13 23:46:47,251] Assets added to graph.\n"
     ]
    },
    {
     "name": "stdout",
     "output_type": "stream",
     "text": [
      "INFO:tensorflow:No assets to write.\n"
     ]
    },
    {
     "name": "stderr",
     "output_type": "stream",
     "text": [
      "[2019-03-13 23:46:47,252] No assets to write.\n"
     ]
    },
    {
     "name": "stdout",
     "output_type": "stream",
     "text": [
      "INFO:tensorflow:SavedModel written to: b'/home/philippew/CS234_Project/data/td3/td3_s0/simple_save/saved_model.pb'\n"
     ]
    },
    {
     "name": "stderr",
     "output_type": "stream",
     "text": [
      "[2019-03-13 23:46:47,465] SavedModel written to: b'/home/philippew/CS234_Project/data/td3/td3_s0/simple_save/saved_model.pb'\n"
     ]
    },
    {
     "name": "stdout",
     "output_type": "stream",
     "text": [
      "---------------------------------------\n",
      "|             Epoch |               8 |\n",
      "|      AverageEpRet |             454 |\n",
      "|          StdEpRet |             857 |\n",
      "|          MaxEpRet |             963 |\n",
      "|          MinEpRet |       -1.04e+03 |\n",
      "|  AverageTestEpRet |             757 |\n",
      "|      StdTestEpRet |             592 |\n",
      "|      MaxTestEpRet |             963 |\n",
      "|      MinTestEpRet |       -1.02e+03 |\n",
      "|             EpLen |            42.2 |\n",
      "|         TestEpLen |            42.6 |\n",
      "| TotalEnvInteracts |           4e+04 |\n",
      "|     AverageQ1Vals |             484 |\n",
      "|         StdQ1Vals |             389 |\n",
      "|         MaxQ1Vals |        1.42e+03 |\n",
      "|         MinQ1Vals |       -1.22e+03 |\n",
      "|     AverageQ2Vals |             484 |\n",
      "|         StdQ2Vals |             389 |\n",
      "|         MaxQ2Vals |         1.4e+03 |\n",
      "|         MinQ2Vals |       -1.23e+03 |\n",
      "|            LossPi |            -487 |\n",
      "|             LossQ |        1.13e+04 |\n",
      "|              Time |            71.7 |\n",
      "---------------------------------------\n",
      "INFO:tensorflow:Assets added to graph.\n"
     ]
    },
    {
     "name": "stderr",
     "output_type": "stream",
     "text": [
      "[2019-03-13 23:46:56,393] Assets added to graph.\n"
     ]
    },
    {
     "name": "stdout",
     "output_type": "stream",
     "text": [
      "INFO:tensorflow:No assets to write.\n"
     ]
    },
    {
     "name": "stderr",
     "output_type": "stream",
     "text": [
      "[2019-03-13 23:46:56,394] No assets to write.\n"
     ]
    },
    {
     "name": "stdout",
     "output_type": "stream",
     "text": [
      "INFO:tensorflow:SavedModel written to: b'/home/philippew/CS234_Project/data/td3/td3_s0/simple_save/saved_model.pb'\n"
     ]
    },
    {
     "name": "stderr",
     "output_type": "stream",
     "text": [
      "[2019-03-13 23:46:56,621] SavedModel written to: b'/home/philippew/CS234_Project/data/td3/td3_s0/simple_save/saved_model.pb'\n"
     ]
    },
    {
     "name": "stdout",
     "output_type": "stream",
     "text": [
      "---------------------------------------\n",
      "|             Epoch |               9 |\n",
      "|      AverageEpRet |             556 |\n",
      "|          StdEpRet |             790 |\n",
      "|          MaxEpRet |             963 |\n",
      "|          MinEpRet |       -1.04e+03 |\n",
      "|  AverageTestEpRet |             358 |\n",
      "|      StdTestEpRet |             902 |\n",
      "|      MaxTestEpRet |             962 |\n",
      "|      MinTestEpRet |       -1.03e+03 |\n",
      "|             EpLen |            43.6 |\n",
      "|         TestEpLen |            42.2 |\n",
      "| TotalEnvInteracts |         4.5e+04 |\n",
      "|     AverageQ1Vals |             479 |\n",
      "|         StdQ1Vals |             393 |\n",
      "|         MaxQ1Vals |        1.35e+03 |\n",
      "|         MinQ1Vals |       -1.26e+03 |\n",
      "|     AverageQ2Vals |             479 |\n",
      "|         StdQ2Vals |             393 |\n",
      "|         MaxQ2Vals |        1.34e+03 |\n",
      "|         MinQ2Vals |       -1.27e+03 |\n",
      "|            LossPi |            -481 |\n",
      "|             LossQ |         1.1e+04 |\n",
      "|              Time |            80.8 |\n",
      "---------------------------------------\n",
      "INFO:tensorflow:Assets added to graph.\n"
     ]
    },
    {
     "name": "stderr",
     "output_type": "stream",
     "text": [
      "[2019-03-13 23:47:05,509] Assets added to graph.\n"
     ]
    },
    {
     "name": "stdout",
     "output_type": "stream",
     "text": [
      "INFO:tensorflow:No assets to write.\n"
     ]
    },
    {
     "name": "stderr",
     "output_type": "stream",
     "text": [
      "[2019-03-13 23:47:05,510] No assets to write.\n"
     ]
    },
    {
     "name": "stdout",
     "output_type": "stream",
     "text": [
      "INFO:tensorflow:SavedModel written to: b'/home/philippew/CS234_Project/data/td3/td3_s0/simple_save/saved_model.pb'\n"
     ]
    },
    {
     "name": "stderr",
     "output_type": "stream",
     "text": [
      "[2019-03-13 23:47:05,743] SavedModel written to: b'/home/philippew/CS234_Project/data/td3/td3_s0/simple_save/saved_model.pb'\n"
     ]
    },
    {
     "name": "stdout",
     "output_type": "stream",
     "text": [
      "---------------------------------------\n",
      "|             Epoch |              10 |\n",
      "|      AverageEpRet |             592 |\n",
      "|          StdEpRet |             763 |\n",
      "|          MaxEpRet |             963 |\n",
      "|          MinEpRet |       -1.03e+03 |\n",
      "|  AverageTestEpRet |             163 |\n",
      "|      StdTestEpRet |             970 |\n",
      "|      MaxTestEpRet |             963 |\n",
      "|      MinTestEpRet |       -1.04e+03 |\n",
      "|             EpLen |            43.2 |\n",
      "|         TestEpLen |              37 |\n",
      "| TotalEnvInteracts |           5e+04 |\n",
      "|     AverageQ1Vals |             489 |\n",
      "|         StdQ1Vals |             391 |\n",
      "|         MaxQ1Vals |        1.37e+03 |\n",
      "|         MinQ1Vals |       -1.35e+03 |\n",
      "|     AverageQ2Vals |             489 |\n",
      "|         StdQ2Vals |             391 |\n",
      "|         MaxQ2Vals |        1.35e+03 |\n",
      "|         MinQ2Vals |       -1.35e+03 |\n",
      "|            LossPi |            -492 |\n",
      "|             LossQ |         1.1e+04 |\n",
      "|              Time |            89.9 |\n",
      "---------------------------------------\n",
      "INFO:tensorflow:Assets added to graph.\n"
     ]
    },
    {
     "name": "stderr",
     "output_type": "stream",
     "text": [
      "[2019-03-13 23:47:14,796] Assets added to graph.\n"
     ]
    },
    {
     "name": "stdout",
     "output_type": "stream",
     "text": [
      "INFO:tensorflow:No assets to write.\n"
     ]
    },
    {
     "name": "stderr",
     "output_type": "stream",
     "text": [
      "[2019-03-13 23:47:14,797] No assets to write.\n"
     ]
    },
    {
     "name": "stdout",
     "output_type": "stream",
     "text": [
      "INFO:tensorflow:SavedModel written to: b'/home/philippew/CS234_Project/data/td3/td3_s0/simple_save/saved_model.pb'\n"
     ]
    },
    {
     "name": "stderr",
     "output_type": "stream",
     "text": [
      "[2019-03-13 23:47:15,040] SavedModel written to: b'/home/philippew/CS234_Project/data/td3/td3_s0/simple_save/saved_model.pb'\n"
     ]
    },
    {
     "name": "stdout",
     "output_type": "stream",
     "text": [
      "---------------------------------------\n",
      "|             Epoch |              11 |\n",
      "|      AverageEpRet |             517 |\n",
      "|          StdEpRet |             816 |\n",
      "|          MaxEpRet |             963 |\n",
      "|          MinEpRet |       -1.04e+03 |\n",
      "|  AverageTestEpRet |             558 |\n",
      "|      StdTestEpRet |             789 |\n",
      "|      MaxTestEpRet |             963 |\n",
      "|      MinTestEpRet |       -1.02e+03 |\n",
      "|             EpLen |              44 |\n",
      "|         TestEpLen |            42.3 |\n",
      "| TotalEnvInteracts |         5.5e+04 |\n",
      "|     AverageQ1Vals |             491 |\n",
      "|         StdQ1Vals |             394 |\n",
      "|         MaxQ1Vals |        1.36e+03 |\n",
      "|         MinQ1Vals |       -1.44e+03 |\n",
      "|     AverageQ2Vals |             491 |\n",
      "|         StdQ2Vals |             394 |\n",
      "|         MaxQ2Vals |        1.35e+03 |\n",
      "|         MinQ2Vals |       -1.44e+03 |\n",
      "|            LossPi |            -494 |\n",
      "|             LossQ |        1.01e+04 |\n",
      "|              Time |            99.3 |\n",
      "---------------------------------------\n",
      "INFO:tensorflow:Assets added to graph.\n"
     ]
    },
    {
     "name": "stderr",
     "output_type": "stream",
     "text": [
      "[2019-03-13 23:47:24,069] Assets added to graph.\n"
     ]
    },
    {
     "name": "stdout",
     "output_type": "stream",
     "text": [
      "INFO:tensorflow:No assets to write.\n"
     ]
    },
    {
     "name": "stderr",
     "output_type": "stream",
     "text": [
      "[2019-03-13 23:47:24,070] No assets to write.\n"
     ]
    },
    {
     "name": "stdout",
     "output_type": "stream",
     "text": [
      "INFO:tensorflow:SavedModel written to: b'/home/philippew/CS234_Project/data/td3/td3_s0/simple_save/saved_model.pb'\n"
     ]
    },
    {
     "name": "stderr",
     "output_type": "stream",
     "text": [
      "[2019-03-13 23:47:24,328] SavedModel written to: b'/home/philippew/CS234_Project/data/td3/td3_s0/simple_save/saved_model.pb'\n"
     ]
    },
    {
     "name": "stdout",
     "output_type": "stream",
     "text": [
      "---------------------------------------\n",
      "|             Epoch |              12 |\n",
      "|      AverageEpRet |             584 |\n",
      "|          StdEpRet |             767 |\n",
      "|          MaxEpRet |             963 |\n",
      "|          MinEpRet |       -1.04e+03 |\n",
      "|  AverageTestEpRet |             749 |\n",
      "|      StdTestEpRet |             587 |\n",
      "|      MaxTestEpRet |             963 |\n",
      "|      MinTestEpRet |       -1.01e+03 |\n",
      "|             EpLen |            44.2 |\n",
      "|         TestEpLen |            50.6 |\n",
      "| TotalEnvInteracts |           6e+04 |\n",
      "|     AverageQ1Vals |             493 |\n",
      "|         StdQ1Vals |             396 |\n",
      "|         MaxQ1Vals |        1.39e+03 |\n",
      "|         MinQ1Vals |        -1.5e+03 |\n",
      "|     AverageQ2Vals |             493 |\n",
      "|         StdQ2Vals |             396 |\n",
      "|         MaxQ2Vals |        1.38e+03 |\n",
      "|         MinQ2Vals |        -1.5e+03 |\n",
      "|            LossPi |            -496 |\n",
      "|             LossQ |        9.94e+03 |\n",
      "|              Time |             109 |\n",
      "---------------------------------------\n",
      "INFO:tensorflow:Assets added to graph.\n"
     ]
    },
    {
     "name": "stderr",
     "output_type": "stream",
     "text": [
      "[2019-03-13 23:47:33,434] Assets added to graph.\n"
     ]
    },
    {
     "name": "stdout",
     "output_type": "stream",
     "text": [
      "INFO:tensorflow:No assets to write.\n"
     ]
    },
    {
     "name": "stderr",
     "output_type": "stream",
     "text": [
      "[2019-03-13 23:47:33,435] No assets to write.\n"
     ]
    },
    {
     "name": "stdout",
     "output_type": "stream",
     "text": [
      "INFO:tensorflow:SavedModel written to: b'/home/philippew/CS234_Project/data/td3/td3_s0/simple_save/saved_model.pb'\n"
     ]
    },
    {
     "name": "stderr",
     "output_type": "stream",
     "text": [
      "[2019-03-13 23:47:33,810] SavedModel written to: b'/home/philippew/CS234_Project/data/td3/td3_s0/simple_save/saved_model.pb'\n"
     ]
    },
    {
     "name": "stdout",
     "output_type": "stream",
     "text": [
      "---------------------------------------\n",
      "|             Epoch |              13 |\n",
      "|      AverageEpRet |             623 |\n",
      "|          StdEpRet |             735 |\n",
      "|          MaxEpRet |             963 |\n",
      "|          MinEpRet |       -1.03e+03 |\n",
      "|  AverageTestEpRet |             754 |\n",
      "|      StdTestEpRet |             591 |\n",
      "|      MaxTestEpRet |             963 |\n",
      "|      MinTestEpRet |       -1.02e+03 |\n",
      "|             EpLen |              44 |\n",
      "|         TestEpLen |            45.9 |\n",
      "| TotalEnvInteracts |         6.5e+04 |\n",
      "|     AverageQ1Vals |             500 |\n",
      "|         StdQ1Vals |             395 |\n",
      "|         MaxQ1Vals |         1.4e+03 |\n",
      "|         MinQ1Vals |       -1.53e+03 |\n",
      "|     AverageQ2Vals |             500 |\n",
      "|         StdQ2Vals |             395 |\n",
      "|         MaxQ2Vals |        1.38e+03 |\n",
      "|         MinQ2Vals |       -1.53e+03 |\n",
      "|            LossPi |            -504 |\n",
      "|             LossQ |        9.27e+03 |\n",
      "|              Time |             118 |\n",
      "---------------------------------------\n",
      "INFO:tensorflow:Assets added to graph.\n"
     ]
    },
    {
     "name": "stderr",
     "output_type": "stream",
     "text": [
      "[2019-03-13 23:47:42,774] Assets added to graph.\n"
     ]
    },
    {
     "name": "stdout",
     "output_type": "stream",
     "text": [
      "INFO:tensorflow:No assets to write.\n"
     ]
    },
    {
     "name": "stderr",
     "output_type": "stream",
     "text": [
      "[2019-03-13 23:47:42,775] No assets to write.\n"
     ]
    },
    {
     "name": "stdout",
     "output_type": "stream",
     "text": [
      "INFO:tensorflow:SavedModel written to: b'/home/philippew/CS234_Project/data/td3/td3_s0/simple_save/saved_model.pb'\n"
     ]
    },
    {
     "name": "stderr",
     "output_type": "stream",
     "text": [
      "[2019-03-13 23:47:43,048] SavedModel written to: b'/home/philippew/CS234_Project/data/td3/td3_s0/simple_save/saved_model.pb'\n"
     ]
    },
    {
     "name": "stdout",
     "output_type": "stream",
     "text": [
      "---------------------------------------\n",
      "|             Epoch |              14 |\n",
      "|      AverageEpRet |             509 |\n",
      "|          StdEpRet |             821 |\n",
      "|          MaxEpRet |             963 |\n",
      "|          MinEpRet |       -1.04e+03 |\n",
      "|  AverageTestEpRet |             946 |\n",
      "|      StdTestEpRet |            9.91 |\n",
      "|      MaxTestEpRet |             962 |\n",
      "|      MinTestEpRet |             931 |\n",
      "|             EpLen |            42.8 |\n",
      "|         TestEpLen |            54.4 |\n",
      "| TotalEnvInteracts |           7e+04 |\n",
      "|     AverageQ1Vals |             521 |\n",
      "|         StdQ1Vals |             384 |\n",
      "|         MaxQ1Vals |        1.38e+03 |\n",
      "|         MinQ1Vals |       -1.57e+03 |\n",
      "|     AverageQ2Vals |             521 |\n",
      "|         StdQ2Vals |             384 |\n",
      "|         MaxQ2Vals |        1.38e+03 |\n",
      "|         MinQ2Vals |       -1.58e+03 |\n",
      "|            LossPi |            -526 |\n",
      "|             LossQ |        9.15e+03 |\n",
      "|              Time |             127 |\n",
      "---------------------------------------\n",
      "INFO:tensorflow:Assets added to graph.\n"
     ]
    },
    {
     "name": "stderr",
     "output_type": "stream",
     "text": [
      "[2019-03-13 23:47:52,271] Assets added to graph.\n"
     ]
    },
    {
     "name": "stdout",
     "output_type": "stream",
     "text": [
      "INFO:tensorflow:No assets to write.\n"
     ]
    },
    {
     "name": "stderr",
     "output_type": "stream",
     "text": [
      "[2019-03-13 23:47:52,272] No assets to write.\n"
     ]
    },
    {
     "name": "stdout",
     "output_type": "stream",
     "text": [
      "INFO:tensorflow:SavedModel written to: b'/home/philippew/CS234_Project/data/td3/td3_s0/simple_save/saved_model.pb'\n"
     ]
    },
    {
     "name": "stderr",
     "output_type": "stream",
     "text": [
      "[2019-03-13 23:47:52,563] SavedModel written to: b'/home/philippew/CS234_Project/data/td3/td3_s0/simple_save/saved_model.pb'\n"
     ]
    },
    {
     "name": "stdout",
     "output_type": "stream",
     "text": [
      "---------------------------------------\n",
      "|             Epoch |              15 |\n",
      "|      AverageEpRet |             594 |\n",
      "|          StdEpRet |             758 |\n",
      "|          MaxEpRet |             963 |\n",
      "|          MinEpRet |       -1.04e+03 |\n",
      "|  AverageTestEpRet |             953 |\n",
      "|      StdTestEpRet |            8.01 |\n",
      "|      MaxTestEpRet |             963 |\n",
      "|      MinTestEpRet |             939 |\n",
      "|             EpLen |            45.2 |\n",
      "|         TestEpLen |            47.3 |\n",
      "| TotalEnvInteracts |         7.5e+04 |\n",
      "|     AverageQ1Vals |             527 |\n",
      "|         StdQ1Vals |             380 |\n",
      "|         MaxQ1Vals |        1.34e+03 |\n",
      "|         MinQ1Vals |       -1.63e+03 |\n",
      "|     AverageQ2Vals |             527 |\n",
      "|         StdQ2Vals |             381 |\n",
      "|         MaxQ2Vals |        1.34e+03 |\n",
      "|         MinQ2Vals |       -1.64e+03 |\n",
      "|            LossPi |            -531 |\n",
      "|             LossQ |        9.13e+03 |\n",
      "|              Time |             137 |\n",
      "---------------------------------------\n",
      "INFO:tensorflow:Assets added to graph.\n"
     ]
    },
    {
     "name": "stderr",
     "output_type": "stream",
     "text": [
      "[2019-03-13 23:48:01,610] Assets added to graph.\n"
     ]
    },
    {
     "name": "stdout",
     "output_type": "stream",
     "text": [
      "INFO:tensorflow:No assets to write.\n"
     ]
    },
    {
     "name": "stderr",
     "output_type": "stream",
     "text": [
      "[2019-03-13 23:48:01,611] No assets to write.\n"
     ]
    },
    {
     "name": "stdout",
     "output_type": "stream",
     "text": [
      "INFO:tensorflow:SavedModel written to: b'/home/philippew/CS234_Project/data/td3/td3_s0/simple_save/saved_model.pb'\n"
     ]
    },
    {
     "name": "stderr",
     "output_type": "stream",
     "text": [
      "[2019-03-13 23:48:01,905] SavedModel written to: b'/home/philippew/CS234_Project/data/td3/td3_s0/simple_save/saved_model.pb'\n"
     ]
    },
    {
     "name": "stdout",
     "output_type": "stream",
     "text": [
      "---------------------------------------\n",
      "|             Epoch |              16 |\n",
      "|      AverageEpRet |             654 |\n",
      "|          StdEpRet |             704 |\n",
      "|          MaxEpRet |             963 |\n",
      "|          MinEpRet |       -1.04e+03 |\n",
      "|  AverageTestEpRet |             945 |\n",
      "|      StdTestEpRet |            16.6 |\n",
      "|      MaxTestEpRet |             963 |\n",
      "|      MinTestEpRet |             916 |\n",
      "|             EpLen |            46.6 |\n",
      "|         TestEpLen |            55.2 |\n",
      "| TotalEnvInteracts |           8e+04 |\n",
      "|     AverageQ1Vals |             526 |\n",
      "|         StdQ1Vals |             384 |\n",
      "|         MaxQ1Vals |        1.36e+03 |\n",
      "|         MinQ1Vals |        -1.7e+03 |\n",
      "|     AverageQ2Vals |             526 |\n",
      "|         StdQ2Vals |             384 |\n",
      "|         MaxQ2Vals |        1.34e+03 |\n",
      "|         MinQ2Vals |       -1.71e+03 |\n",
      "|            LossPi |            -530 |\n",
      "|             LossQ |        8.92e+03 |\n",
      "|              Time |             146 |\n",
      "---------------------------------------\n",
      "INFO:tensorflow:Assets added to graph.\n"
     ]
    },
    {
     "name": "stderr",
     "output_type": "stream",
     "text": [
      "[2019-03-13 23:48:11,156] Assets added to graph.\n"
     ]
    },
    {
     "name": "stdout",
     "output_type": "stream",
     "text": [
      "INFO:tensorflow:No assets to write.\n"
     ]
    },
    {
     "name": "stderr",
     "output_type": "stream",
     "text": [
      "[2019-03-13 23:48:11,157] No assets to write.\n"
     ]
    },
    {
     "name": "stdout",
     "output_type": "stream",
     "text": [
      "INFO:tensorflow:SavedModel written to: b'/home/philippew/CS234_Project/data/td3/td3_s0/simple_save/saved_model.pb'\n"
     ]
    },
    {
     "name": "stderr",
     "output_type": "stream",
     "text": [
      "[2019-03-13 23:48:11,463] SavedModel written to: b'/home/philippew/CS234_Project/data/td3/td3_s0/simple_save/saved_model.pb'\n"
     ]
    },
    {
     "name": "stdout",
     "output_type": "stream",
     "text": [
      "---------------------------------------\n",
      "|             Epoch |              17 |\n",
      "|      AverageEpRet |             595 |\n",
      "|          StdEpRet |             758 |\n",
      "|          MaxEpRet |             963 |\n",
      "|          MinEpRet |       -1.05e+03 |\n",
      "|  AverageTestEpRet |             360 |\n",
      "|      StdTestEpRet |             906 |\n",
      "|      MaxTestEpRet |             963 |\n",
      "|      MinTestEpRet |       -1.03e+03 |\n",
      "|             EpLen |            45.1 |\n",
      "|         TestEpLen |            39.9 |\n",
      "| TotalEnvInteracts |         8.5e+04 |\n",
      "|     AverageQ1Vals |             530 |\n",
      "|         StdQ1Vals |             384 |\n",
      "|         MaxQ1Vals |        1.36e+03 |\n",
      "|         MinQ1Vals |        -1.7e+03 |\n",
      "|     AverageQ2Vals |             530 |\n",
      "|         StdQ2Vals |             384 |\n",
      "|         MaxQ2Vals |        1.36e+03 |\n",
      "|         MinQ2Vals |       -1.71e+03 |\n",
      "|            LossPi |            -535 |\n",
      "|             LossQ |        8.49e+03 |\n",
      "|              Time |             156 |\n",
      "---------------------------------------\n",
      "INFO:tensorflow:Assets added to graph.\n"
     ]
    },
    {
     "name": "stderr",
     "output_type": "stream",
     "text": [
      "[2019-03-13 23:48:20,503] Assets added to graph.\n"
     ]
    },
    {
     "name": "stdout",
     "output_type": "stream",
     "text": [
      "INFO:tensorflow:No assets to write.\n"
     ]
    },
    {
     "name": "stderr",
     "output_type": "stream",
     "text": [
      "[2019-03-13 23:48:20,503] No assets to write.\n"
     ]
    },
    {
     "name": "stdout",
     "output_type": "stream",
     "text": [
      "INFO:tensorflow:SavedModel written to: b'/home/philippew/CS234_Project/data/td3/td3_s0/simple_save/saved_model.pb'\n"
     ]
    },
    {
     "name": "stderr",
     "output_type": "stream",
     "text": [
      "[2019-03-13 23:48:20,822] SavedModel written to: b'/home/philippew/CS234_Project/data/td3/td3_s0/simple_save/saved_model.pb'\n"
     ]
    },
    {
     "name": "stdout",
     "output_type": "stream",
     "text": [
      "---------------------------------------\n",
      "|             Epoch |              18 |\n",
      "|      AverageEpRet |             721 |\n",
      "|          StdEpRet |             634 |\n",
      "|          MaxEpRet |             963 |\n",
      "|          MinEpRet |       -1.03e+03 |\n",
      "|  AverageTestEpRet |             362 |\n",
      "|      StdTestEpRet |             907 |\n",
      "|      MaxTestEpRet |             963 |\n",
      "|      MinTestEpRet |       -1.04e+03 |\n",
      "|             EpLen |            45.2 |\n",
      "|         TestEpLen |            37.9 |\n",
      "| TotalEnvInteracts |           9e+04 |\n",
      "|     AverageQ1Vals |             533 |\n",
      "|         StdQ1Vals |             380 |\n",
      "|         MaxQ1Vals |        1.36e+03 |\n",
      "|         MinQ1Vals |       -1.69e+03 |\n",
      "|     AverageQ2Vals |             533 |\n",
      "|         StdQ2Vals |             380 |\n",
      "|         MaxQ2Vals |        1.37e+03 |\n",
      "|         MinQ2Vals |       -1.69e+03 |\n",
      "|            LossPi |            -537 |\n",
      "|             LossQ |        8.55e+03 |\n",
      "|              Time |             165 |\n",
      "---------------------------------------\n",
      "INFO:tensorflow:Assets added to graph.\n"
     ]
    },
    {
     "name": "stderr",
     "output_type": "stream",
     "text": [
      "[2019-03-13 23:48:29,955] Assets added to graph.\n"
     ]
    },
    {
     "name": "stdout",
     "output_type": "stream",
     "text": [
      "INFO:tensorflow:No assets to write.\n"
     ]
    },
    {
     "name": "stderr",
     "output_type": "stream",
     "text": [
      "[2019-03-13 23:48:29,956] No assets to write.\n"
     ]
    },
    {
     "name": "stdout",
     "output_type": "stream",
     "text": [
      "INFO:tensorflow:SavedModel written to: b'/home/philippew/CS234_Project/data/td3/td3_s0/simple_save/saved_model.pb'\n"
     ]
    },
    {
     "name": "stderr",
     "output_type": "stream",
     "text": [
      "[2019-03-13 23:48:30,277] SavedModel written to: b'/home/philippew/CS234_Project/data/td3/td3_s0/simple_save/saved_model.pb'\n"
     ]
    },
    {
     "name": "stdout",
     "output_type": "stream",
     "text": [
      "---------------------------------------\n",
      "|             Epoch |              19 |\n",
      "|      AverageEpRet |             809 |\n",
      "|          StdEpRet |             511 |\n",
      "|          MaxEpRet |             963 |\n",
      "|          MinEpRet |       -1.02e+03 |\n",
      "|  AverageTestEpRet |             950 |\n",
      "|      StdTestEpRet |            11.7 |\n",
      "|      MaxTestEpRet |             963 |\n",
      "|      MinTestEpRet |             930 |\n",
      "|             EpLen |            45.2 |\n",
      "|         TestEpLen |            50.3 |\n",
      "| TotalEnvInteracts |         9.5e+04 |\n",
      "|     AverageQ1Vals |             536 |\n",
      "|         StdQ1Vals |             379 |\n",
      "|         MaxQ1Vals |        1.35e+03 |\n",
      "|         MinQ1Vals |       -1.82e+03 |\n",
      "|     AverageQ2Vals |             536 |\n",
      "|         StdQ2Vals |             379 |\n",
      "|         MaxQ2Vals |        1.36e+03 |\n",
      "|         MinQ2Vals |       -1.81e+03 |\n",
      "|            LossPi |            -540 |\n",
      "|             LossQ |        7.99e+03 |\n",
      "|              Time |             175 |\n",
      "---------------------------------------\n",
      "INFO:tensorflow:Assets added to graph.\n"
     ]
    },
    {
     "name": "stderr",
     "output_type": "stream",
     "text": [
      "[2019-03-13 23:48:39,258] Assets added to graph.\n"
     ]
    },
    {
     "name": "stdout",
     "output_type": "stream",
     "text": [
      "INFO:tensorflow:No assets to write.\n"
     ]
    },
    {
     "name": "stderr",
     "output_type": "stream",
     "text": [
      "[2019-03-13 23:48:39,258] No assets to write.\n"
     ]
    },
    {
     "name": "stdout",
     "output_type": "stream",
     "text": [
      "INFO:tensorflow:SavedModel written to: b'/home/philippew/CS234_Project/data/td3/td3_s0/simple_save/saved_model.pb'\n"
     ]
    },
    {
     "name": "stderr",
     "output_type": "stream",
     "text": [
      "[2019-03-13 23:48:39,594] SavedModel written to: b'/home/philippew/CS234_Project/data/td3/td3_s0/simple_save/saved_model.pb'\n"
     ]
    },
    {
     "name": "stdout",
     "output_type": "stream",
     "text": [
      "---------------------------------------\n",
      "|             Epoch |              20 |\n",
      "|      AverageEpRet |             635 |\n",
      "|          StdEpRet |             719 |\n",
      "|          MaxEpRet |             963 |\n",
      "|          MinEpRet |       -1.04e+03 |\n",
      "|  AverageTestEpRet |             761 |\n",
      "|      StdTestEpRet |             590 |\n",
      "|      MaxTestEpRet |             963 |\n",
      "|      MinTestEpRet |       -1.01e+03 |\n",
      "|             EpLen |            43.4 |\n",
      "|         TestEpLen |              39 |\n",
      "| TotalEnvInteracts |           1e+05 |\n",
      "|     AverageQ1Vals |             536 |\n",
      "|         StdQ1Vals |             376 |\n",
      "|         MaxQ1Vals |        1.38e+03 |\n",
      "|         MinQ1Vals |       -1.81e+03 |\n",
      "|     AverageQ2Vals |             536 |\n",
      "|         StdQ2Vals |             376 |\n",
      "|         MaxQ2Vals |        1.38e+03 |\n",
      "|         MinQ2Vals |        -1.8e+03 |\n",
      "|            LossPi |            -539 |\n",
      "|             LossQ |        8.05e+03 |\n",
      "|              Time |             184 |\n",
      "---------------------------------------\n",
      "INFO:tensorflow:Assets added to graph.\n"
     ]
    },
    {
     "name": "stderr",
     "output_type": "stream",
     "text": [
      "[2019-03-13 23:48:48,622] Assets added to graph.\n"
     ]
    },
    {
     "name": "stdout",
     "output_type": "stream",
     "text": [
      "INFO:tensorflow:No assets to write.\n"
     ]
    },
    {
     "name": "stderr",
     "output_type": "stream",
     "text": [
      "[2019-03-13 23:48:48,623] No assets to write.\n"
     ]
    },
    {
     "name": "stdout",
     "output_type": "stream",
     "text": [
      "INFO:tensorflow:SavedModel written to: b'/home/philippew/CS234_Project/data/td3/td3_s0/simple_save/saved_model.pb'\n"
     ]
    },
    {
     "name": "stderr",
     "output_type": "stream",
     "text": [
      "[2019-03-13 23:48:48,974] SavedModel written to: b'/home/philippew/CS234_Project/data/td3/td3_s0/simple_save/saved_model.pb'\n"
     ]
    },
    {
     "name": "stdout",
     "output_type": "stream",
     "text": [
      "---------------------------------------\n",
      "|             Epoch |              21 |\n",
      "|      AverageEpRet |             685 |\n",
      "|          StdEpRet |             674 |\n",
      "|          MaxEpRet |             963 |\n",
      "|          MinEpRet |       -1.03e+03 |\n",
      "|  AverageTestEpRet |             556 |\n",
      "|      StdTestEpRet |             792 |\n",
      "|      MaxTestEpRet |             963 |\n",
      "|      MinTestEpRet |       -1.03e+03 |\n",
      "|             EpLen |            44.9 |\n",
      "|         TestEpLen |            43.6 |\n",
      "| TotalEnvInteracts |        1.05e+05 |\n",
      "|     AverageQ1Vals |             536 |\n",
      "|         StdQ1Vals |             376 |\n",
      "|         MaxQ1Vals |        1.39e+03 |\n",
      "|         MinQ1Vals |       -1.89e+03 |\n",
      "|     AverageQ2Vals |             536 |\n",
      "|         StdQ2Vals |             376 |\n",
      "|         MaxQ2Vals |        1.38e+03 |\n",
      "|         MinQ2Vals |       -1.88e+03 |\n",
      "|            LossPi |            -539 |\n",
      "|             LossQ |        7.97e+03 |\n",
      "|              Time |             193 |\n",
      "---------------------------------------\n",
      "INFO:tensorflow:Assets added to graph.\n"
     ]
    },
    {
     "name": "stderr",
     "output_type": "stream",
     "text": [
      "[2019-03-13 23:48:57,893] Assets added to graph.\n"
     ]
    },
    {
     "name": "stdout",
     "output_type": "stream",
     "text": [
      "INFO:tensorflow:No assets to write.\n"
     ]
    },
    {
     "name": "stderr",
     "output_type": "stream",
     "text": [
      "[2019-03-13 23:48:57,894] No assets to write.\n"
     ]
    },
    {
     "name": "stdout",
     "output_type": "stream",
     "text": [
      "INFO:tensorflow:SavedModel written to: b'/home/philippew/CS234_Project/data/td3/td3_s0/simple_save/saved_model.pb'\n"
     ]
    },
    {
     "name": "stderr",
     "output_type": "stream",
     "text": [
      "[2019-03-13 23:48:58,295] SavedModel written to: b'/home/philippew/CS234_Project/data/td3/td3_s0/simple_save/saved_model.pb'\n"
     ]
    },
    {
     "name": "stdout",
     "output_type": "stream",
     "text": [
      "---------------------------------------\n",
      "|             Epoch |              22 |\n",
      "|      AverageEpRet |             724 |\n",
      "|          StdEpRet |             628 |\n",
      "|          MaxEpRet |             963 |\n",
      "|          MinEpRet |       -1.04e+03 |\n",
      "|  AverageTestEpRet |             755 |\n",
      "|      StdTestEpRet |             588 |\n",
      "|      MaxTestEpRet |             963 |\n",
      "|      MinTestEpRet |       -1.01e+03 |\n",
      "|             EpLen |            47.8 |\n",
      "|         TestEpLen |            45.4 |\n",
      "| TotalEnvInteracts |         1.1e+05 |\n",
      "|     AverageQ1Vals |             541 |\n",
      "|         StdQ1Vals |             371 |\n",
      "|         MaxQ1Vals |        1.38e+03 |\n",
      "|         MinQ1Vals |       -1.85e+03 |\n",
      "|     AverageQ2Vals |             541 |\n",
      "|         StdQ2Vals |             372 |\n",
      "|         MaxQ2Vals |        1.35e+03 |\n",
      "|         MinQ2Vals |       -1.84e+03 |\n",
      "|            LossPi |            -544 |\n",
      "|             LossQ |        7.82e+03 |\n",
      "|              Time |             202 |\n",
      "---------------------------------------\n",
      "INFO:tensorflow:Assets added to graph.\n"
     ]
    },
    {
     "name": "stderr",
     "output_type": "stream",
     "text": [
      "[2019-03-13 23:49:07,109] Assets added to graph.\n"
     ]
    },
    {
     "name": "stdout",
     "output_type": "stream",
     "text": [
      "INFO:tensorflow:No assets to write.\n"
     ]
    },
    {
     "name": "stderr",
     "output_type": "stream",
     "text": [
      "[2019-03-13 23:49:07,109] No assets to write.\n"
     ]
    },
    {
     "name": "stdout",
     "output_type": "stream",
     "text": [
      "INFO:tensorflow:SavedModel written to: b'/home/philippew/CS234_Project/data/td3/td3_s0/simple_save/saved_model.pb'\n"
     ]
    },
    {
     "name": "stderr",
     "output_type": "stream",
     "text": [
      "[2019-03-13 23:49:07,477] SavedModel written to: b'/home/philippew/CS234_Project/data/td3/td3_s0/simple_save/saved_model.pb'\n"
     ]
    },
    {
     "name": "stdout",
     "output_type": "stream",
     "text": [
      "---------------------------------------\n",
      "|             Epoch |              23 |\n",
      "|      AverageEpRet |             670 |\n",
      "|          StdEpRet |             689 |\n",
      "|          MaxEpRet |             963 |\n",
      "|          MinEpRet |       -1.03e+03 |\n",
      "|  AverageTestEpRet |             947 |\n",
      "|      StdTestEpRet |            9.45 |\n",
      "|      MaxTestEpRet |             963 |\n",
      "|      MinTestEpRet |             928 |\n",
      "|             EpLen |            44.6 |\n",
      "|         TestEpLen |            52.9 |\n",
      "| TotalEnvInteracts |        1.15e+05 |\n",
      "|     AverageQ1Vals |             547 |\n",
      "|         StdQ1Vals |             369 |\n",
      "|         MaxQ1Vals |        1.45e+03 |\n",
      "|         MinQ1Vals |       -1.91e+03 |\n",
      "|     AverageQ2Vals |             547 |\n",
      "|         StdQ2Vals |             369 |\n",
      "|         MaxQ2Vals |        1.42e+03 |\n",
      "|         MinQ2Vals |        -1.9e+03 |\n",
      "|            LossPi |            -551 |\n",
      "|             LossQ |        7.73e+03 |\n",
      "|              Time |             212 |\n",
      "---------------------------------------\n",
      "INFO:tensorflow:Assets added to graph.\n"
     ]
    },
    {
     "name": "stderr",
     "output_type": "stream",
     "text": [
      "[2019-03-13 23:49:16,557] Assets added to graph.\n"
     ]
    },
    {
     "name": "stdout",
     "output_type": "stream",
     "text": [
      "INFO:tensorflow:No assets to write.\n"
     ]
    },
    {
     "name": "stderr",
     "output_type": "stream",
     "text": [
      "[2019-03-13 23:49:16,558] No assets to write.\n"
     ]
    },
    {
     "name": "stdout",
     "output_type": "stream",
     "text": [
      "INFO:tensorflow:SavedModel written to: b'/home/philippew/CS234_Project/data/td3/td3_s0/simple_save/saved_model.pb'\n"
     ]
    },
    {
     "name": "stderr",
     "output_type": "stream",
     "text": [
      "[2019-03-13 23:49:16,943] SavedModel written to: b'/home/philippew/CS234_Project/data/td3/td3_s0/simple_save/saved_model.pb'\n"
     ]
    },
    {
     "name": "stdout",
     "output_type": "stream",
     "text": [
      "---------------------------------------\n",
      "|             Epoch |              24 |\n",
      "|      AverageEpRet |             663 |\n",
      "|          StdEpRet |             695 |\n",
      "|          MaxEpRet |             963 |\n",
      "|          MinEpRet |       -1.04e+03 |\n",
      "|  AverageTestEpRet |             560 |\n",
      "|      StdTestEpRet |             786 |\n",
      "|      MaxTestEpRet |             963 |\n",
      "|      MinTestEpRet |       -1.02e+03 |\n",
      "|             EpLen |            45.7 |\n",
      "|         TestEpLen |            40.5 |\n",
      "| TotalEnvInteracts |         1.2e+05 |\n",
      "|     AverageQ1Vals |             551 |\n",
      "|         StdQ1Vals |             370 |\n",
      "|         MaxQ1Vals |        1.47e+03 |\n",
      "|         MinQ1Vals |       -1.94e+03 |\n",
      "|     AverageQ2Vals |             551 |\n",
      "|         StdQ2Vals |             370 |\n",
      "|         MaxQ2Vals |        1.46e+03 |\n",
      "|         MinQ2Vals |       -1.94e+03 |\n",
      "|            LossPi |            -554 |\n",
      "|             LossQ |        7.48e+03 |\n",
      "|              Time |             221 |\n",
      "---------------------------------------\n",
      "INFO:tensorflow:Assets added to graph.\n"
     ]
    },
    {
     "name": "stderr",
     "output_type": "stream",
     "text": [
      "[2019-03-13 23:49:25,846] Assets added to graph.\n"
     ]
    },
    {
     "name": "stdout",
     "output_type": "stream",
     "text": [
      "INFO:tensorflow:No assets to write.\n"
     ]
    },
    {
     "name": "stderr",
     "output_type": "stream",
     "text": [
      "[2019-03-13 23:49:25,847] No assets to write.\n"
     ]
    },
    {
     "name": "stdout",
     "output_type": "stream",
     "text": [
      "INFO:tensorflow:SavedModel written to: b'/home/philippew/CS234_Project/data/td3/td3_s0/simple_save/saved_model.pb'\n"
     ]
    },
    {
     "name": "stderr",
     "output_type": "stream",
     "text": [
      "[2019-03-13 23:49:26,236] SavedModel written to: b'/home/philippew/CS234_Project/data/td3/td3_s0/simple_save/saved_model.pb'\n"
     ]
    },
    {
     "name": "stdout",
     "output_type": "stream",
     "text": [
      "---------------------------------------\n",
      "|             Epoch |              25 |\n",
      "|      AverageEpRet |             578 |\n",
      "|          StdEpRet |             773 |\n",
      "|          MaxEpRet |             963 |\n",
      "|          MinEpRet |       -1.05e+03 |\n",
      "|  AverageTestEpRet |             559 |\n",
      "|      StdTestEpRet |             797 |\n",
      "|      MaxTestEpRet |             963 |\n",
      "|      MinTestEpRet |       -1.05e+03 |\n",
      "|             EpLen |            43.2 |\n",
      "|         TestEpLen |            41.2 |\n",
      "| TotalEnvInteracts |        1.25e+05 |\n",
      "|     AverageQ1Vals |             555 |\n",
      "|         StdQ1Vals |             371 |\n",
      "|         MaxQ1Vals |        1.47e+03 |\n",
      "|         MinQ1Vals |       -1.94e+03 |\n",
      "|     AverageQ2Vals |             555 |\n",
      "|         StdQ2Vals |             371 |\n",
      "|         MaxQ2Vals |        1.45e+03 |\n",
      "|         MinQ2Vals |       -1.95e+03 |\n",
      "|            LossPi |            -558 |\n",
      "|             LossQ |        7.81e+03 |\n",
      "|              Time |             231 |\n",
      "---------------------------------------\n",
      "INFO:tensorflow:Assets added to graph.\n"
     ]
    },
    {
     "name": "stderr",
     "output_type": "stream",
     "text": [
      "[2019-03-13 23:49:35,156] Assets added to graph.\n"
     ]
    },
    {
     "name": "stdout",
     "output_type": "stream",
     "text": [
      "INFO:tensorflow:No assets to write.\n"
     ]
    },
    {
     "name": "stderr",
     "output_type": "stream",
     "text": [
      "[2019-03-13 23:49:35,156] No assets to write.\n"
     ]
    },
    {
     "name": "stdout",
     "output_type": "stream",
     "text": [
      "INFO:tensorflow:SavedModel written to: b'/home/philippew/CS234_Project/data/td3/td3_s0/simple_save/saved_model.pb'\n"
     ]
    },
    {
     "name": "stderr",
     "output_type": "stream",
     "text": [
      "[2019-03-13 23:49:35,557] SavedModel written to: b'/home/philippew/CS234_Project/data/td3/td3_s0/simple_save/saved_model.pb'\n"
     ]
    },
    {
     "name": "stdout",
     "output_type": "stream",
     "text": [
      "---------------------------------------\n",
      "|             Epoch |              26 |\n",
      "|      AverageEpRet |             764 |\n",
      "|          StdEpRet |             577 |\n",
      "|          MaxEpRet |             963 |\n",
      "|          MinEpRet |       -1.04e+03 |\n",
      "|  AverageTestEpRet |             751 |\n",
      "|      StdTestEpRet |             591 |\n",
      "|      MaxTestEpRet |             963 |\n",
      "|      MinTestEpRet |       -1.02e+03 |\n",
      "|             EpLen |              47 |\n",
      "|         TestEpLen |              49 |\n",
      "| TotalEnvInteracts |         1.3e+05 |\n",
      "|     AverageQ1Vals |             556 |\n",
      "|         StdQ1Vals |             370 |\n",
      "|         MaxQ1Vals |        1.41e+03 |\n",
      "|         MinQ1Vals |       -2.01e+03 |\n",
      "|     AverageQ2Vals |             556 |\n",
      "|         StdQ2Vals |             370 |\n",
      "|         MaxQ2Vals |        1.41e+03 |\n",
      "|         MinQ2Vals |       -2.01e+03 |\n",
      "|            LossPi |            -560 |\n",
      "|             LossQ |         7.3e+03 |\n",
      "|              Time |             240 |\n",
      "---------------------------------------\n",
      "INFO:tensorflow:Assets added to graph.\n"
     ]
    },
    {
     "name": "stderr",
     "output_type": "stream",
     "text": [
      "[2019-03-13 23:49:44,413] Assets added to graph.\n"
     ]
    },
    {
     "name": "stdout",
     "output_type": "stream",
     "text": [
      "INFO:tensorflow:No assets to write.\n"
     ]
    },
    {
     "name": "stderr",
     "output_type": "stream",
     "text": [
      "[2019-03-13 23:49:44,414] No assets to write.\n"
     ]
    },
    {
     "name": "stdout",
     "output_type": "stream",
     "text": [
      "INFO:tensorflow:SavedModel written to: b'/home/philippew/CS234_Project/data/td3/td3_s0/simple_save/saved_model.pb'\n"
     ]
    },
    {
     "name": "stderr",
     "output_type": "stream",
     "text": [
      "[2019-03-13 23:49:44,819] SavedModel written to: b'/home/philippew/CS234_Project/data/td3/td3_s0/simple_save/saved_model.pb'\n"
     ]
    },
    {
     "name": "stdout",
     "output_type": "stream",
     "text": [
      "---------------------------------------\n",
      "|             Epoch |              27 |\n",
      "|      AverageEpRet |             692 |\n",
      "|          StdEpRet |             664 |\n",
      "|          MaxEpRet |             963 |\n",
      "|          MinEpRet |       -1.04e+03 |\n",
      "|  AverageTestEpRet |             560 |\n",
      "|      StdTestEpRet |             788 |\n",
      "|      MaxTestEpRet |             963 |\n",
      "|      MinTestEpRet |       -1.02e+03 |\n",
      "|             EpLen |            46.7 |\n",
      "|         TestEpLen |            40.4 |\n",
      "| TotalEnvInteracts |        1.35e+05 |\n",
      "|     AverageQ1Vals |             558 |\n",
      "|         StdQ1Vals |             365 |\n",
      "|         MaxQ1Vals |        1.43e+03 |\n",
      "|         MinQ1Vals |       -2.02e+03 |\n",
      "|     AverageQ2Vals |             558 |\n",
      "|         StdQ2Vals |             365 |\n",
      "|         MaxQ2Vals |        1.41e+03 |\n",
      "|         MinQ2Vals |       -2.03e+03 |\n",
      "|            LossPi |            -561 |\n",
      "|             LossQ |        7.51e+03 |\n",
      "|              Time |             249 |\n",
      "---------------------------------------\n",
      "INFO:tensorflow:Assets added to graph.\n"
     ]
    },
    {
     "name": "stderr",
     "output_type": "stream",
     "text": [
      "[2019-03-13 23:49:53,911] Assets added to graph.\n"
     ]
    },
    {
     "name": "stdout",
     "output_type": "stream",
     "text": [
      "INFO:tensorflow:No assets to write.\n"
     ]
    },
    {
     "name": "stderr",
     "output_type": "stream",
     "text": [
      "[2019-03-13 23:49:53,912] No assets to write.\n"
     ]
    },
    {
     "name": "stdout",
     "output_type": "stream",
     "text": [
      "INFO:tensorflow:SavedModel written to: b'/home/philippew/CS234_Project/data/td3/td3_s0/simple_save/saved_model.pb'\n"
     ]
    },
    {
     "name": "stderr",
     "output_type": "stream",
     "text": [
      "[2019-03-13 23:49:54,332] SavedModel written to: b'/home/philippew/CS234_Project/data/td3/td3_s0/simple_save/saved_model.pb'\n"
     ]
    },
    {
     "name": "stdout",
     "output_type": "stream",
     "text": [
      "---------------------------------------\n",
      "|             Epoch |              28 |\n",
      "|      AverageEpRet |             785 |\n",
      "|          StdEpRet |             547 |\n",
      "|          MaxEpRet |             963 |\n",
      "|          MinEpRet |       -1.04e+03 |\n",
      "|  AverageTestEpRet |             952 |\n",
      "|      StdTestEpRet |            10.8 |\n",
      "|      MaxTestEpRet |             963 |\n",
      "|      MinTestEpRet |             932 |\n",
      "|             EpLen |            46.6 |\n",
      "|         TestEpLen |            48.5 |\n",
      "| TotalEnvInteracts |         1.4e+05 |\n",
      "|     AverageQ1Vals |             557 |\n",
      "|         StdQ1Vals |             364 |\n",
      "|         MaxQ1Vals |        1.33e+03 |\n",
      "|         MinQ1Vals |       -2.04e+03 |\n",
      "|     AverageQ2Vals |             557 |\n",
      "|         StdQ2Vals |             364 |\n",
      "|         MaxQ2Vals |        1.34e+03 |\n",
      "|         MinQ2Vals |       -2.06e+03 |\n",
      "|            LossPi |            -560 |\n",
      "|             LossQ |        7.31e+03 |\n",
      "|              Time |             259 |\n",
      "---------------------------------------\n",
      "INFO:tensorflow:Assets added to graph.\n"
     ]
    },
    {
     "name": "stderr",
     "output_type": "stream",
     "text": [
      "[2019-03-13 23:50:03,416] Assets added to graph.\n"
     ]
    },
    {
     "name": "stdout",
     "output_type": "stream",
     "text": [
      "INFO:tensorflow:No assets to write.\n"
     ]
    },
    {
     "name": "stderr",
     "output_type": "stream",
     "text": [
      "[2019-03-13 23:50:03,417] No assets to write.\n"
     ]
    },
    {
     "name": "stdout",
     "output_type": "stream",
     "text": [
      "INFO:tensorflow:SavedModel written to: b'/home/philippew/CS234_Project/data/td3/td3_s0/simple_save/saved_model.pb'\n"
     ]
    },
    {
     "name": "stderr",
     "output_type": "stream",
     "text": [
      "[2019-03-13 23:50:03,863] SavedModel written to: b'/home/philippew/CS234_Project/data/td3/td3_s0/simple_save/saved_model.pb'\n"
     ]
    },
    {
     "name": "stdout",
     "output_type": "stream",
     "text": [
      "---------------------------------------\n",
      "|             Epoch |              29 |\n",
      "|      AverageEpRet |             748 |\n",
      "|          StdEpRet |             599 |\n",
      "|          MaxEpRet |             963 |\n",
      "|          MinEpRet |       -1.03e+03 |\n",
      "|  AverageTestEpRet |             948 |\n",
      "|      StdTestEpRet |            11.1 |\n",
      "|      MaxTestEpRet |             963 |\n",
      "|      MinTestEpRet |             923 |\n",
      "|             EpLen |            46.7 |\n",
      "|         TestEpLen |            52.5 |\n",
      "| TotalEnvInteracts |        1.45e+05 |\n",
      "|     AverageQ1Vals |             553 |\n",
      "|         StdQ1Vals |             361 |\n",
      "|         MaxQ1Vals |        1.38e+03 |\n",
      "|         MinQ1Vals |       -2.07e+03 |\n",
      "|     AverageQ2Vals |             553 |\n",
      "|         StdQ2Vals |             361 |\n",
      "|         MaxQ2Vals |        1.38e+03 |\n",
      "|         MinQ2Vals |       -2.09e+03 |\n",
      "|            LossPi |            -556 |\n",
      "|             LossQ |        7.32e+03 |\n",
      "|              Time |             268 |\n",
      "---------------------------------------\n",
      "INFO:tensorflow:Assets added to graph.\n"
     ]
    },
    {
     "name": "stderr",
     "output_type": "stream",
     "text": [
      "[2019-03-13 23:50:12,871] Assets added to graph.\n"
     ]
    },
    {
     "name": "stdout",
     "output_type": "stream",
     "text": [
      "INFO:tensorflow:No assets to write.\n"
     ]
    },
    {
     "name": "stderr",
     "output_type": "stream",
     "text": [
      "[2019-03-13 23:50:12,872] No assets to write.\n"
     ]
    },
    {
     "name": "stdout",
     "output_type": "stream",
     "text": [
      "INFO:tensorflow:SavedModel written to: b'/home/philippew/CS234_Project/data/td3/td3_s0/simple_save/saved_model.pb'\n"
     ]
    },
    {
     "name": "stderr",
     "output_type": "stream",
     "text": [
      "[2019-03-13 23:50:13,342] SavedModel written to: b'/home/philippew/CS234_Project/data/td3/td3_s0/simple_save/saved_model.pb'\n"
     ]
    },
    {
     "name": "stdout",
     "output_type": "stream",
     "text": [
      "---------------------------------------\n",
      "|             Epoch |              30 |\n",
      "|      AverageEpRet |             669 |\n",
      "|          StdEpRet |             688 |\n",
      "|          MaxEpRet |             963 |\n",
      "|          MinEpRet |       -1.03e+03 |\n",
      "|  AverageTestEpRet |             759 |\n",
      "|      StdTestEpRet |             590 |\n",
      "|      MaxTestEpRet |             963 |\n",
      "|      MinTestEpRet |       -1.01e+03 |\n",
      "|             EpLen |            44.9 |\n",
      "|         TestEpLen |            41.3 |\n",
      "| TotalEnvInteracts |         1.5e+05 |\n",
      "|     AverageQ1Vals |             551 |\n",
      "|         StdQ1Vals |             360 |\n",
      "|         MaxQ1Vals |        1.39e+03 |\n",
      "|         MinQ1Vals |       -2.04e+03 |\n",
      "|     AverageQ2Vals |             551 |\n",
      "|         StdQ2Vals |             360 |\n",
      "|         MaxQ2Vals |         1.4e+03 |\n",
      "|         MinQ2Vals |       -2.06e+03 |\n",
      "|            LossPi |            -554 |\n",
      "|             LossQ |         7.1e+03 |\n",
      "|              Time |             278 |\n",
      "---------------------------------------\n",
      "INFO:tensorflow:Assets added to graph.\n"
     ]
    },
    {
     "name": "stderr",
     "output_type": "stream",
     "text": [
      "[2019-03-13 23:50:22,310] Assets added to graph.\n"
     ]
    },
    {
     "name": "stdout",
     "output_type": "stream",
     "text": [
      "INFO:tensorflow:No assets to write.\n"
     ]
    },
    {
     "name": "stderr",
     "output_type": "stream",
     "text": [
      "[2019-03-13 23:50:22,311] No assets to write.\n"
     ]
    },
    {
     "name": "stdout",
     "output_type": "stream",
     "text": [
      "INFO:tensorflow:SavedModel written to: b'/home/philippew/CS234_Project/data/td3/td3_s0/simple_save/saved_model.pb'\n"
     ]
    },
    {
     "name": "stderr",
     "output_type": "stream",
     "text": [
      "[2019-03-13 23:50:22,829] SavedModel written to: b'/home/philippew/CS234_Project/data/td3/td3_s0/simple_save/saved_model.pb'\n"
     ]
    },
    {
     "name": "stdout",
     "output_type": "stream",
     "text": [
      "---------------------------------------\n",
      "|             Epoch |              31 |\n",
      "|      AverageEpRet |             809 |\n",
      "|          StdEpRet |             514 |\n",
      "|          MaxEpRet |             963 |\n",
      "|          MinEpRet |       -1.09e+03 |\n",
      "|  AverageTestEpRet |             751 |\n",
      "|      StdTestEpRet |             588 |\n",
      "|      MaxTestEpRet |             963 |\n",
      "|      MinTestEpRet |       -1.01e+03 |\n",
      "|             EpLen |            45.2 |\n",
      "|         TestEpLen |              49 |\n",
      "| TotalEnvInteracts |        1.55e+05 |\n",
      "|     AverageQ1Vals |             555 |\n",
      "|         StdQ1Vals |             357 |\n",
      "|         MaxQ1Vals |        1.36e+03 |\n",
      "|         MinQ1Vals |       -2.04e+03 |\n",
      "|     AverageQ2Vals |             555 |\n",
      "|         StdQ2Vals |             358 |\n",
      "|         MaxQ2Vals |        1.37e+03 |\n",
      "|         MinQ2Vals |       -2.04e+03 |\n",
      "|            LossPi |            -557 |\n",
      "|             LossQ |        6.84e+03 |\n",
      "|              Time |             287 |\n",
      "---------------------------------------\n",
      "INFO:tensorflow:Assets added to graph.\n"
     ]
    },
    {
     "name": "stderr",
     "output_type": "stream",
     "text": [
      "[2019-03-13 23:50:31,779] Assets added to graph.\n"
     ]
    },
    {
     "name": "stdout",
     "output_type": "stream",
     "text": [
      "INFO:tensorflow:No assets to write.\n"
     ]
    },
    {
     "name": "stderr",
     "output_type": "stream",
     "text": [
      "[2019-03-13 23:50:31,780] No assets to write.\n"
     ]
    },
    {
     "name": "stdout",
     "output_type": "stream",
     "text": [
      "INFO:tensorflow:SavedModel written to: b'/home/philippew/CS234_Project/data/td3/td3_s0/simple_save/saved_model.pb'\n"
     ]
    },
    {
     "name": "stderr",
     "output_type": "stream",
     "text": [
      "[2019-03-13 23:50:32,236] SavedModel written to: b'/home/philippew/CS234_Project/data/td3/td3_s0/simple_save/saved_model.pb'\n"
     ]
    },
    {
     "name": "stdout",
     "output_type": "stream",
     "text": [
      "---------------------------------------\n",
      "|             Epoch |              32 |\n",
      "|      AverageEpRet |             861 |\n",
      "|          StdEpRet |             414 |\n",
      "|          MaxEpRet |             963 |\n",
      "|          MinEpRet |       -1.03e+03 |\n",
      "|  AverageTestEpRet |             939 |\n",
      "|      StdTestEpRet |            37.6 |\n",
      "|      MaxTestEpRet |             963 |\n",
      "|      MinTestEpRet |             831 |\n",
      "|             EpLen |            46.4 |\n",
      "|         TestEpLen |            61.3 |\n",
      "| TotalEnvInteracts |         1.6e+05 |\n",
      "|     AverageQ1Vals |             557 |\n",
      "|         StdQ1Vals |             356 |\n",
      "|         MaxQ1Vals |        1.33e+03 |\n",
      "|         MinQ1Vals |       -2.05e+03 |\n",
      "|     AverageQ2Vals |             557 |\n",
      "|         StdQ2Vals |             356 |\n",
      "|         MaxQ2Vals |        1.34e+03 |\n",
      "|         MinQ2Vals |       -2.06e+03 |\n",
      "|            LossPi |            -560 |\n",
      "|             LossQ |        6.79e+03 |\n",
      "|              Time |             297 |\n",
      "---------------------------------------\n",
      "INFO:tensorflow:Assets added to graph.\n"
     ]
    },
    {
     "name": "stderr",
     "output_type": "stream",
     "text": [
      "[2019-03-13 23:50:41,353] Assets added to graph.\n"
     ]
    },
    {
     "name": "stdout",
     "output_type": "stream",
     "text": [
      "INFO:tensorflow:No assets to write.\n"
     ]
    },
    {
     "name": "stderr",
     "output_type": "stream",
     "text": [
      "[2019-03-13 23:50:41,353] No assets to write.\n"
     ]
    },
    {
     "name": "stdout",
     "output_type": "stream",
     "text": [
      "INFO:tensorflow:SavedModel written to: b'/home/philippew/CS234_Project/data/td3/td3_s0/simple_save/saved_model.pb'\n"
     ]
    },
    {
     "name": "stderr",
     "output_type": "stream",
     "text": [
      "[2019-03-13 23:50:41,820] SavedModel written to: b'/home/philippew/CS234_Project/data/td3/td3_s0/simple_save/saved_model.pb'\n"
     ]
    },
    {
     "name": "stdout",
     "output_type": "stream",
     "text": [
      "---------------------------------------\n",
      "|             Epoch |              33 |\n",
      "|      AverageEpRet |             726 |\n",
      "|          StdEpRet |             629 |\n",
      "|          MaxEpRet |             963 |\n",
      "|          MinEpRet |       -1.04e+03 |\n",
      "|  AverageTestEpRet |             762 |\n",
      "|      StdTestEpRet |             591 |\n",
      "|      MaxTestEpRet |             963 |\n",
      "|      MinTestEpRet |       -1.01e+03 |\n",
      "|             EpLen |            44.3 |\n",
      "|         TestEpLen |            37.9 |\n",
      "| TotalEnvInteracts |        1.65e+05 |\n",
      "|     AverageQ1Vals |             561 |\n",
      "|         StdQ1Vals |             354 |\n",
      "|         MaxQ1Vals |        1.34e+03 |\n",
      "|         MinQ1Vals |       -2.11e+03 |\n",
      "|     AverageQ2Vals |             561 |\n",
      "|         StdQ2Vals |             354 |\n",
      "|         MaxQ2Vals |        1.36e+03 |\n",
      "|         MinQ2Vals |        -2.1e+03 |\n",
      "|            LossPi |            -564 |\n",
      "|             LossQ |        6.65e+03 |\n",
      "|              Time |             306 |\n",
      "---------------------------------------\n",
      "INFO:tensorflow:Assets added to graph.\n"
     ]
    },
    {
     "name": "stderr",
     "output_type": "stream",
     "text": [
      "[2019-03-13 23:50:50,694] Assets added to graph.\n"
     ]
    },
    {
     "name": "stdout",
     "output_type": "stream",
     "text": [
      "INFO:tensorflow:No assets to write.\n"
     ]
    },
    {
     "name": "stderr",
     "output_type": "stream",
     "text": [
      "[2019-03-13 23:50:50,695] No assets to write.\n"
     ]
    },
    {
     "name": "stdout",
     "output_type": "stream",
     "text": [
      "INFO:tensorflow:SavedModel written to: b'/home/philippew/CS234_Project/data/td3/td3_s0/simple_save/saved_model.pb'\n"
     ]
    },
    {
     "name": "stderr",
     "output_type": "stream",
     "text": [
      "[2019-03-13 23:50:51,179] SavedModel written to: b'/home/philippew/CS234_Project/data/td3/td3_s0/simple_save/saved_model.pb'\n"
     ]
    },
    {
     "name": "stdout",
     "output_type": "stream",
     "text": [
      "---------------------------------------\n",
      "|             Epoch |              34 |\n",
      "|      AverageEpRet |             755 |\n",
      "|          StdEpRet |             591 |\n",
      "|          MaxEpRet |             963 |\n",
      "|          MinEpRet |       -1.03e+03 |\n",
      "|  AverageTestEpRet |             756 |\n",
      "|      StdTestEpRet |             591 |\n",
      "|      MaxTestEpRet |             963 |\n",
      "|      MinTestEpRet |       -1.02e+03 |\n",
      "|             EpLen |            45.4 |\n",
      "|         TestEpLen |            44.3 |\n",
      "| TotalEnvInteracts |         1.7e+05 |\n",
      "|     AverageQ1Vals |             564 |\n",
      "|         StdQ1Vals |             351 |\n",
      "|         MaxQ1Vals |        1.36e+03 |\n",
      "|         MinQ1Vals |       -2.06e+03 |\n",
      "|     AverageQ2Vals |             564 |\n",
      "|         StdQ2Vals |             351 |\n",
      "|         MaxQ2Vals |        1.37e+03 |\n",
      "|         MinQ2Vals |       -2.06e+03 |\n",
      "|            LossPi |            -567 |\n",
      "|             LossQ |        6.76e+03 |\n",
      "|              Time |             315 |\n",
      "---------------------------------------\n",
      "INFO:tensorflow:Assets added to graph.\n"
     ]
    },
    {
     "name": "stderr",
     "output_type": "stream",
     "text": [
      "[2019-03-13 23:51:00,274] Assets added to graph.\n"
     ]
    },
    {
     "name": "stdout",
     "output_type": "stream",
     "text": [
      "INFO:tensorflow:No assets to write.\n"
     ]
    },
    {
     "name": "stderr",
     "output_type": "stream",
     "text": [
      "[2019-03-13 23:51:00,275] No assets to write.\n"
     ]
    },
    {
     "name": "stdout",
     "output_type": "stream",
     "text": [
      "INFO:tensorflow:SavedModel written to: b'/home/philippew/CS234_Project/data/td3/td3_s0/simple_save/saved_model.pb'\n"
     ]
    },
    {
     "name": "stderr",
     "output_type": "stream",
     "text": [
      "[2019-03-13 23:51:00,764] SavedModel written to: b'/home/philippew/CS234_Project/data/td3/td3_s0/simple_save/saved_model.pb'\n"
     ]
    },
    {
     "name": "stdout",
     "output_type": "stream",
     "text": [
      "---------------------------------------\n",
      "|             Epoch |              35 |\n",
      "|      AverageEpRet |             700 |\n",
      "|          StdEpRet |             658 |\n",
      "|          MaxEpRet |             963 |\n",
      "|          MinEpRet |       -1.04e+03 |\n",
      "|  AverageTestEpRet |             358 |\n",
      "|      StdTestEpRet |             902 |\n",
      "|      MaxTestEpRet |             963 |\n",
      "|      MinTestEpRet |       -1.02e+03 |\n",
      "|             EpLen |            45.5 |\n",
      "|         TestEpLen |            41.6 |\n",
      "| TotalEnvInteracts |        1.75e+05 |\n",
      "|     AverageQ1Vals |             563 |\n",
      "|         StdQ1Vals |             349 |\n",
      "|         MaxQ1Vals |        1.33e+03 |\n",
      "|         MinQ1Vals |        -2.1e+03 |\n",
      "|     AverageQ2Vals |             563 |\n",
      "|         StdQ2Vals |             349 |\n",
      "|         MaxQ2Vals |        1.35e+03 |\n",
      "|         MinQ2Vals |       -2.09e+03 |\n",
      "|            LossPi |            -566 |\n",
      "|             LossQ |        6.76e+03 |\n",
      "|              Time |             325 |\n",
      "---------------------------------------\n",
      "INFO:tensorflow:Assets added to graph.\n"
     ]
    },
    {
     "name": "stderr",
     "output_type": "stream",
     "text": [
      "[2019-03-13 23:51:09,685] Assets added to graph.\n"
     ]
    },
    {
     "name": "stdout",
     "output_type": "stream",
     "text": [
      "INFO:tensorflow:No assets to write.\n"
     ]
    },
    {
     "name": "stderr",
     "output_type": "stream",
     "text": [
      "[2019-03-13 23:51:09,687] No assets to write.\n"
     ]
    },
    {
     "name": "stdout",
     "output_type": "stream",
     "text": [
      "INFO:tensorflow:SavedModel written to: b'/home/philippew/CS234_Project/data/td3/td3_s0/simple_save/saved_model.pb'\n"
     ]
    },
    {
     "name": "stderr",
     "output_type": "stream",
     "text": [
      "[2019-03-13 23:51:10,252] SavedModel written to: b'/home/philippew/CS234_Project/data/td3/td3_s0/simple_save/saved_model.pb'\n"
     ]
    },
    {
     "name": "stdout",
     "output_type": "stream",
     "text": [
      "---------------------------------------\n",
      "|             Epoch |              36 |\n",
      "|      AverageEpRet |             730 |\n",
      "|          StdEpRet |             625 |\n",
      "|          MaxEpRet |             963 |\n",
      "|          MinEpRet |       -1.02e+03 |\n",
      "|  AverageTestEpRet |             755 |\n",
      "|      StdTestEpRet |             590 |\n",
      "|      MaxTestEpRet |             963 |\n",
      "|      MinTestEpRet |       -1.01e+03 |\n",
      "|             EpLen |            43.5 |\n",
      "|         TestEpLen |            44.6 |\n",
      "| TotalEnvInteracts |         1.8e+05 |\n",
      "|     AverageQ1Vals |             563 |\n",
      "|         StdQ1Vals |             351 |\n",
      "|         MaxQ1Vals |        1.32e+03 |\n",
      "|         MinQ1Vals |       -2.11e+03 |\n",
      "|     AverageQ2Vals |             563 |\n",
      "|         StdQ2Vals |             351 |\n",
      "|         MaxQ2Vals |        1.35e+03 |\n",
      "|         MinQ2Vals |        -2.1e+03 |\n",
      "|            LossPi |            -566 |\n",
      "|             LossQ |        6.52e+03 |\n",
      "|              Time |             335 |\n",
      "---------------------------------------\n",
      "INFO:tensorflow:Assets added to graph.\n"
     ]
    },
    {
     "name": "stderr",
     "output_type": "stream",
     "text": [
      "[2019-03-13 23:51:19,099] Assets added to graph.\n"
     ]
    },
    {
     "name": "stdout",
     "output_type": "stream",
     "text": [
      "INFO:tensorflow:No assets to write.\n"
     ]
    },
    {
     "name": "stderr",
     "output_type": "stream",
     "text": [
      "[2019-03-13 23:51:19,099] No assets to write.\n"
     ]
    },
    {
     "name": "stdout",
     "output_type": "stream",
     "text": [
      "INFO:tensorflow:SavedModel written to: b'/home/philippew/CS234_Project/data/td3/td3_s0/simple_save/saved_model.pb'\n"
     ]
    },
    {
     "name": "stderr",
     "output_type": "stream",
     "text": [
      "[2019-03-13 23:51:19,617] SavedModel written to: b'/home/philippew/CS234_Project/data/td3/td3_s0/simple_save/saved_model.pb'\n"
     ]
    },
    {
     "name": "stdout",
     "output_type": "stream",
     "text": [
      "---------------------------------------\n",
      "|             Epoch |              37 |\n",
      "|      AverageEpRet |             670 |\n",
      "|          StdEpRet |             685 |\n",
      "|          MaxEpRet |             963 |\n",
      "|          MinEpRet |       -1.04e+03 |\n",
      "|  AverageTestEpRet |             949 |\n",
      "|      StdTestEpRet |            6.23 |\n",
      "|      MaxTestEpRet |             962 |\n",
      "|      MinTestEpRet |             941 |\n",
      "|             EpLen |            43.2 |\n",
      "|         TestEpLen |            50.7 |\n",
      "| TotalEnvInteracts |        1.85e+05 |\n",
      "|     AverageQ1Vals |             564 |\n",
      "|         StdQ1Vals |             351 |\n",
      "|         MaxQ1Vals |         1.4e+03 |\n",
      "|         MinQ1Vals |       -2.18e+03 |\n",
      "|     AverageQ2Vals |             564 |\n",
      "|         StdQ2Vals |             351 |\n",
      "|         MaxQ2Vals |        1.41e+03 |\n",
      "|         MinQ2Vals |       -2.17e+03 |\n",
      "|            LossPi |            -567 |\n",
      "|             LossQ |        6.54e+03 |\n",
      "|              Time |             344 |\n",
      "---------------------------------------\n",
      "INFO:tensorflow:Assets added to graph.\n"
     ]
    },
    {
     "name": "stderr",
     "output_type": "stream",
     "text": [
      "[2019-03-13 23:51:28,703] Assets added to graph.\n"
     ]
    },
    {
     "name": "stdout",
     "output_type": "stream",
     "text": [
      "INFO:tensorflow:No assets to write.\n"
     ]
    },
    {
     "name": "stderr",
     "output_type": "stream",
     "text": [
      "[2019-03-13 23:51:28,704] No assets to write.\n"
     ]
    },
    {
     "name": "stdout",
     "output_type": "stream",
     "text": [
      "INFO:tensorflow:SavedModel written to: b'/home/philippew/CS234_Project/data/td3/td3_s0/simple_save/saved_model.pb'\n"
     ]
    },
    {
     "name": "stderr",
     "output_type": "stream",
     "text": [
      "[2019-03-13 23:51:29,221] SavedModel written to: b'/home/philippew/CS234_Project/data/td3/td3_s0/simple_save/saved_model.pb'\n"
     ]
    },
    {
     "name": "stdout",
     "output_type": "stream",
     "text": [
      "---------------------------------------\n",
      "|             Epoch |              38 |\n",
      "|      AverageEpRet |             702 |\n",
      "|          StdEpRet |             654 |\n",
      "|          MaxEpRet |             963 |\n",
      "|          MinEpRet |       -1.04e+03 |\n",
      "|  AverageTestEpRet |             946 |\n",
      "|      StdTestEpRet |            9.93 |\n",
      "|      MaxTestEpRet |             963 |\n",
      "|      MinTestEpRet |             931 |\n",
      "|             EpLen |            45.3 |\n",
      "|         TestEpLen |            54.3 |\n",
      "| TotalEnvInteracts |         1.9e+05 |\n",
      "|     AverageQ1Vals |             566 |\n",
      "|         StdQ1Vals |             350 |\n",
      "|         MaxQ1Vals |        1.39e+03 |\n",
      "|         MinQ1Vals |       -2.14e+03 |\n",
      "|     AverageQ2Vals |             566 |\n",
      "|         StdQ2Vals |             350 |\n",
      "|         MaxQ2Vals |        1.39e+03 |\n",
      "|         MinQ2Vals |       -2.14e+03 |\n",
      "|            LossPi |            -570 |\n",
      "|             LossQ |        6.55e+03 |\n",
      "|              Time |             354 |\n",
      "---------------------------------------\n",
      "INFO:tensorflow:Assets added to graph.\n"
     ]
    },
    {
     "name": "stderr",
     "output_type": "stream",
     "text": [
      "[2019-03-13 23:51:38,207] Assets added to graph.\n"
     ]
    },
    {
     "name": "stdout",
     "output_type": "stream",
     "text": [
      "INFO:tensorflow:No assets to write.\n"
     ]
    },
    {
     "name": "stderr",
     "output_type": "stream",
     "text": [
      "[2019-03-13 23:51:38,208] No assets to write.\n"
     ]
    },
    {
     "name": "stdout",
     "output_type": "stream",
     "text": [
      "INFO:tensorflow:SavedModel written to: b'/home/philippew/CS234_Project/data/td3/td3_s0/simple_save/saved_model.pb'\n"
     ]
    },
    {
     "name": "stderr",
     "output_type": "stream",
     "text": [
      "[2019-03-13 23:51:38,808] SavedModel written to: b'/home/philippew/CS234_Project/data/td3/td3_s0/simple_save/saved_model.pb'\n"
     ]
    },
    {
     "name": "stdout",
     "output_type": "stream",
     "text": [
      "---------------------------------------\n",
      "|             Epoch |              39 |\n",
      "|      AverageEpRet |             743 |\n",
      "|          StdEpRet |             604 |\n",
      "|          MaxEpRet |             963 |\n",
      "|          MinEpRet |       -1.04e+03 |\n",
      "|  AverageTestEpRet |             954 |\n",
      "|      StdTestEpRet |            9.28 |\n",
      "|      MaxTestEpRet |             963 |\n",
      "|      MinTestEpRet |             937 |\n",
      "|             EpLen |            47.6 |\n",
      "|         TestEpLen |            45.6 |\n",
      "| TotalEnvInteracts |        1.95e+05 |\n",
      "|     AverageQ1Vals |             566 |\n",
      "|         StdQ1Vals |             346 |\n",
      "|         MaxQ1Vals |        1.46e+03 |\n",
      "|         MinQ1Vals |       -2.09e+03 |\n",
      "|     AverageQ2Vals |             566 |\n",
      "|         StdQ2Vals |             346 |\n",
      "|         MaxQ2Vals |        1.49e+03 |\n",
      "|         MinQ2Vals |       -2.08e+03 |\n",
      "|            LossPi |            -569 |\n",
      "|             LossQ |        6.44e+03 |\n",
      "|              Time |             363 |\n",
      "---------------------------------------\n",
      "INFO:tensorflow:Assets added to graph.\n"
     ]
    },
    {
     "name": "stderr",
     "output_type": "stream",
     "text": [
      "[2019-03-13 23:51:47,743] Assets added to graph.\n"
     ]
    },
    {
     "name": "stdout",
     "output_type": "stream",
     "text": [
      "INFO:tensorflow:No assets to write.\n"
     ]
    },
    {
     "name": "stderr",
     "output_type": "stream",
     "text": [
      "[2019-03-13 23:51:47,743] No assets to write.\n"
     ]
    },
    {
     "name": "stdout",
     "output_type": "stream",
     "text": [
      "INFO:tensorflow:SavedModel written to: b'/home/philippew/CS234_Project/data/td3/td3_s0/simple_save/saved_model.pb'\n"
     ]
    },
    {
     "name": "stderr",
     "output_type": "stream",
     "text": [
      "[2019-03-13 23:51:48,289] SavedModel written to: b'/home/philippew/CS234_Project/data/td3/td3_s0/simple_save/saved_model.pb'\n"
     ]
    },
    {
     "name": "stdout",
     "output_type": "stream",
     "text": [
      "---------------------------------------\n",
      "|             Epoch |              40 |\n",
      "|      AverageEpRet |             710 |\n",
      "|          StdEpRet |             648 |\n",
      "|          MaxEpRet |             963 |\n",
      "|          MinEpRet |       -1.04e+03 |\n",
      "|  AverageTestEpRet |             950 |\n",
      "|      StdTestEpRet |            11.7 |\n",
      "|      MaxTestEpRet |             963 |\n",
      "|      MinTestEpRet |             920 |\n",
      "|             EpLen |              44 |\n",
      "|         TestEpLen |            50.4 |\n",
      "| TotalEnvInteracts |           2e+05 |\n",
      "|     AverageQ1Vals |             567 |\n",
      "|         StdQ1Vals |             345 |\n",
      "|         MaxQ1Vals |         1.4e+03 |\n",
      "|         MinQ1Vals |       -2.08e+03 |\n",
      "|     AverageQ2Vals |             567 |\n",
      "|         StdQ2Vals |             345 |\n",
      "|         MaxQ2Vals |        1.47e+03 |\n",
      "|         MinQ2Vals |       -2.07e+03 |\n",
      "|            LossPi |            -571 |\n",
      "|             LossQ |        6.63e+03 |\n",
      "|              Time |             373 |\n",
      "---------------------------------------\n",
      "INFO:tensorflow:Assets added to graph.\n"
     ]
    },
    {
     "name": "stderr",
     "output_type": "stream",
     "text": [
      "[2019-03-13 23:51:57,283] Assets added to graph.\n"
     ]
    },
    {
     "name": "stdout",
     "output_type": "stream",
     "text": [
      "INFO:tensorflow:No assets to write.\n"
     ]
    },
    {
     "name": "stderr",
     "output_type": "stream",
     "text": [
      "[2019-03-13 23:51:57,283] No assets to write.\n"
     ]
    },
    {
     "name": "stdout",
     "output_type": "stream",
     "text": [
      "INFO:tensorflow:SavedModel written to: b'/home/philippew/CS234_Project/data/td3/td3_s0/simple_save/saved_model.pb'\n"
     ]
    },
    {
     "name": "stderr",
     "output_type": "stream",
     "text": [
      "[2019-03-13 23:51:57,909] SavedModel written to: b'/home/philippew/CS234_Project/data/td3/td3_s0/simple_save/saved_model.pb'\n"
     ]
    },
    {
     "name": "stdout",
     "output_type": "stream",
     "text": [
      "---------------------------------------\n",
      "|             Epoch |              41 |\n",
      "|      AverageEpRet |             798 |\n",
      "|          StdEpRet |             527 |\n",
      "|          MaxEpRet |             963 |\n",
      "|          MinEpRet |       -1.05e+03 |\n",
      "|  AverageTestEpRet |             758 |\n",
      "|      StdTestEpRet |             590 |\n",
      "|      MaxTestEpRet |             963 |\n",
      "|      MinTestEpRet |       -1.01e+03 |\n",
      "|             EpLen |            47.7 |\n",
      "|         TestEpLen |              42 |\n",
      "| TotalEnvInteracts |        2.05e+05 |\n",
      "|     AverageQ1Vals |             568 |\n",
      "|         StdQ1Vals |             343 |\n",
      "|         MaxQ1Vals |         1.4e+03 |\n",
      "|         MinQ1Vals |       -2.11e+03 |\n",
      "|     AverageQ2Vals |             568 |\n",
      "|         StdQ2Vals |             343 |\n",
      "|         MaxQ2Vals |        1.41e+03 |\n",
      "|         MinQ2Vals |       -2.09e+03 |\n",
      "|            LossPi |            -572 |\n",
      "|             LossQ |        6.64e+03 |\n",
      "|              Time |             382 |\n",
      "---------------------------------------\n",
      "INFO:tensorflow:Assets added to graph.\n"
     ]
    },
    {
     "name": "stderr",
     "output_type": "stream",
     "text": [
      "[2019-03-13 23:52:06,966] Assets added to graph.\n"
     ]
    },
    {
     "name": "stdout",
     "output_type": "stream",
     "text": [
      "INFO:tensorflow:No assets to write.\n"
     ]
    },
    {
     "name": "stderr",
     "output_type": "stream",
     "text": [
      "[2019-03-13 23:52:06,967] No assets to write.\n"
     ]
    },
    {
     "name": "stdout",
     "output_type": "stream",
     "text": [
      "INFO:tensorflow:SavedModel written to: b'/home/philippew/CS234_Project/data/td3/td3_s0/simple_save/saved_model.pb'\n"
     ]
    },
    {
     "name": "stderr",
     "output_type": "stream",
     "text": [
      "[2019-03-13 23:52:07,621] SavedModel written to: b'/home/philippew/CS234_Project/data/td3/td3_s0/simple_save/saved_model.pb'\n"
     ]
    },
    {
     "name": "stdout",
     "output_type": "stream",
     "text": [
      "---------------------------------------\n",
      "|             Epoch |              42 |\n",
      "|      AverageEpRet |             715 |\n",
      "|          StdEpRet |             640 |\n",
      "|          MaxEpRet |             963 |\n",
      "|          MinEpRet |       -1.03e+03 |\n",
      "|  AverageTestEpRet |             961 |\n",
      "|      StdTestEpRet |            6.87 |\n",
      "|      MaxTestEpRet |             963 |\n",
      "|      MinTestEpRet |             940 |\n",
      "|             EpLen |              46 |\n",
      "|         TestEpLen |            39.4 |\n",
      "| TotalEnvInteracts |         2.1e+05 |\n",
      "|     AverageQ1Vals |             569 |\n",
      "|         StdQ1Vals |             343 |\n",
      "|         MaxQ1Vals |         1.4e+03 |\n",
      "|         MinQ1Vals |          -2e+03 |\n",
      "|     AverageQ2Vals |             569 |\n",
      "|         StdQ2Vals |             343 |\n",
      "|         MaxQ2Vals |         1.4e+03 |\n",
      "|         MinQ2Vals |       -1.99e+03 |\n",
      "|            LossPi |            -572 |\n",
      "|             LossQ |        6.41e+03 |\n",
      "|              Time |             392 |\n",
      "---------------------------------------\n",
      "INFO:tensorflow:Assets added to graph.\n"
     ]
    },
    {
     "name": "stderr",
     "output_type": "stream",
     "text": [
      "[2019-03-13 23:52:16,575] Assets added to graph.\n"
     ]
    },
    {
     "name": "stdout",
     "output_type": "stream",
     "text": [
      "INFO:tensorflow:No assets to write.\n"
     ]
    },
    {
     "name": "stderr",
     "output_type": "stream",
     "text": [
      "[2019-03-13 23:52:16,576] No assets to write.\n"
     ]
    },
    {
     "name": "stdout",
     "output_type": "stream",
     "text": [
      "INFO:tensorflow:SavedModel written to: b'/home/philippew/CS234_Project/data/td3/td3_s0/simple_save/saved_model.pb'\n"
     ]
    },
    {
     "name": "stderr",
     "output_type": "stream",
     "text": [
      "[2019-03-13 23:52:17,188] SavedModel written to: b'/home/philippew/CS234_Project/data/td3/td3_s0/simple_save/saved_model.pb'\n"
     ]
    },
    {
     "name": "stdout",
     "output_type": "stream",
     "text": [
      "---------------------------------------\n",
      "|             Epoch |              43 |\n",
      "|      AverageEpRet |             640 |\n",
      "|          StdEpRet |             713 |\n",
      "|          MaxEpRet |             963 |\n",
      "|          MinEpRet |       -1.03e+03 |\n",
      "|  AverageTestEpRet |             750 |\n",
      "|      StdTestEpRet |             588 |\n",
      "|      MaxTestEpRet |             963 |\n",
      "|      MinTestEpRet |       -1.01e+03 |\n",
      "|             EpLen |            45.1 |\n",
      "|         TestEpLen |            49.9 |\n",
      "| TotalEnvInteracts |        2.15e+05 |\n",
      "|     AverageQ1Vals |             572 |\n",
      "|         StdQ1Vals |             338 |\n",
      "|         MaxQ1Vals |        1.41e+03 |\n",
      "|         MinQ1Vals |          -2e+03 |\n",
      "|     AverageQ2Vals |             572 |\n",
      "|         StdQ2Vals |             338 |\n",
      "|         MaxQ2Vals |        1.43e+03 |\n",
      "|         MinQ2Vals |       -1.97e+03 |\n",
      "|            LossPi |            -576 |\n",
      "|             LossQ |        6.39e+03 |\n",
      "|              Time |             401 |\n",
      "---------------------------------------\n",
      "INFO:tensorflow:Assets added to graph.\n"
     ]
    },
    {
     "name": "stderr",
     "output_type": "stream",
     "text": [
      "[2019-03-13 23:52:26,174] Assets added to graph.\n"
     ]
    },
    {
     "name": "stdout",
     "output_type": "stream",
     "text": [
      "INFO:tensorflow:No assets to write.\n"
     ]
    },
    {
     "name": "stderr",
     "output_type": "stream",
     "text": [
      "[2019-03-13 23:52:26,175] No assets to write.\n"
     ]
    },
    {
     "name": "stdout",
     "output_type": "stream",
     "text": [
      "INFO:tensorflow:SavedModel written to: b'/home/philippew/CS234_Project/data/td3/td3_s0/simple_save/saved_model.pb'\n"
     ]
    },
    {
     "name": "stderr",
     "output_type": "stream",
     "text": [
      "[2019-03-13 23:52:26,788] SavedModel written to: b'/home/philippew/CS234_Project/data/td3/td3_s0/simple_save/saved_model.pb'\n"
     ]
    },
    {
     "name": "stdout",
     "output_type": "stream",
     "text": [
      "---------------------------------------\n",
      "|             Epoch |              44 |\n",
      "|      AverageEpRet |             853 |\n",
      "|          StdEpRet |             425 |\n",
      "|          MaxEpRet |             963 |\n",
      "|          MinEpRet |       -1.03e+03 |\n",
      "|  AverageTestEpRet |             950 |\n",
      "|      StdTestEpRet |            9.37 |\n",
      "|      MaxTestEpRet |             963 |\n",
      "|      MinTestEpRet |             935 |\n",
      "|             EpLen |            49.1 |\n",
      "|         TestEpLen |            50.1 |\n",
      "| TotalEnvInteracts |         2.2e+05 |\n",
      "|     AverageQ1Vals |             571 |\n",
      "|         StdQ1Vals |             337 |\n",
      "|         MaxQ1Vals |        1.45e+03 |\n",
      "|         MinQ1Vals |       -1.96e+03 |\n",
      "|     AverageQ2Vals |             571 |\n",
      "|         StdQ2Vals |             337 |\n",
      "|         MaxQ2Vals |        1.45e+03 |\n",
      "|         MinQ2Vals |       -1.94e+03 |\n",
      "|            LossPi |            -574 |\n",
      "|             LossQ |         6.4e+03 |\n",
      "|              Time |             411 |\n",
      "---------------------------------------\n",
      "INFO:tensorflow:Assets added to graph.\n"
     ]
    },
    {
     "name": "stderr",
     "output_type": "stream",
     "text": [
      "[2019-03-13 23:52:35,837] Assets added to graph.\n"
     ]
    },
    {
     "name": "stdout",
     "output_type": "stream",
     "text": [
      "INFO:tensorflow:No assets to write.\n"
     ]
    },
    {
     "name": "stderr",
     "output_type": "stream",
     "text": [
      "[2019-03-13 23:52:35,837] No assets to write.\n"
     ]
    },
    {
     "name": "stdout",
     "output_type": "stream",
     "text": [
      "INFO:tensorflow:SavedModel written to: b'/home/philippew/CS234_Project/data/td3/td3_s0/simple_save/saved_model.pb'\n"
     ]
    },
    {
     "name": "stderr",
     "output_type": "stream",
     "text": [
      "[2019-03-13 23:52:36,451] SavedModel written to: b'/home/philippew/CS234_Project/data/td3/td3_s0/simple_save/saved_model.pb'\n"
     ]
    },
    {
     "name": "stdout",
     "output_type": "stream",
     "text": [
      "---------------------------------------\n",
      "|             Epoch |              45 |\n",
      "|      AverageEpRet |             700 |\n",
      "|          StdEpRet |             657 |\n",
      "|          MaxEpRet |             963 |\n",
      "|          MinEpRet |       -1.04e+03 |\n",
      "|  AverageTestEpRet |             364 |\n",
      "|      StdTestEpRet |             907 |\n",
      "|      MaxTestEpRet |             963 |\n",
      "|      MinTestEpRet |       -1.03e+03 |\n",
      "|             EpLen |            45.6 |\n",
      "|         TestEpLen |            36.5 |\n",
      "| TotalEnvInteracts |        2.25e+05 |\n",
      "|     AverageQ1Vals |             568 |\n",
      "|         StdQ1Vals |             339 |\n",
      "|         MaxQ1Vals |        1.45e+03 |\n",
      "|         MinQ1Vals |       -1.96e+03 |\n",
      "|     AverageQ2Vals |             568 |\n",
      "|         StdQ2Vals |             339 |\n",
      "|         MaxQ2Vals |        1.46e+03 |\n",
      "|         MinQ2Vals |       -1.97e+03 |\n",
      "|            LossPi |            -570 |\n",
      "|             LossQ |        6.31e+03 |\n",
      "|              Time |             421 |\n",
      "---------------------------------------\n",
      "INFO:tensorflow:Assets added to graph.\n"
     ]
    },
    {
     "name": "stderr",
     "output_type": "stream",
     "text": [
      "[2019-03-13 23:52:45,284] Assets added to graph.\n"
     ]
    },
    {
     "name": "stdout",
     "output_type": "stream",
     "text": [
      "INFO:tensorflow:No assets to write.\n"
     ]
    },
    {
     "name": "stderr",
     "output_type": "stream",
     "text": [
      "[2019-03-13 23:52:45,284] No assets to write.\n"
     ]
    },
    {
     "name": "stdout",
     "output_type": "stream",
     "text": [
      "INFO:tensorflow:SavedModel written to: b'/home/philippew/CS234_Project/data/td3/td3_s0/simple_save/saved_model.pb'\n"
     ]
    },
    {
     "name": "stderr",
     "output_type": "stream",
     "text": [
      "[2019-03-13 23:52:45,907] SavedModel written to: b'/home/philippew/CS234_Project/data/td3/td3_s0/simple_save/saved_model.pb'\n"
     ]
    },
    {
     "name": "stdout",
     "output_type": "stream",
     "text": [
      "---------------------------------------\n",
      "|             Epoch |              46 |\n",
      "|      AverageEpRet |             719 |\n",
      "|          StdEpRet |             636 |\n",
      "|          MaxEpRet |             963 |\n",
      "|          MinEpRet |       -1.05e+03 |\n",
      "|  AverageTestEpRet |             754 |\n",
      "|      StdTestEpRet |             592 |\n",
      "|      MaxTestEpRet |             963 |\n",
      "|      MinTestEpRet |       -1.02e+03 |\n",
      "|             EpLen |              45 |\n",
      "|         TestEpLen |            46.4 |\n",
      "| TotalEnvInteracts |         2.3e+05 |\n",
      "|     AverageQ1Vals |             566 |\n",
      "|         StdQ1Vals |             340 |\n",
      "|         MaxQ1Vals |        1.46e+03 |\n",
      "|         MinQ1Vals |       -1.97e+03 |\n",
      "|     AverageQ2Vals |             566 |\n",
      "|         StdQ2Vals |             340 |\n",
      "|         MaxQ2Vals |        1.43e+03 |\n",
      "|         MinQ2Vals |       -1.98e+03 |\n",
      "|            LossPi |            -568 |\n",
      "|             LossQ |        6.11e+03 |\n",
      "|              Time |             430 |\n",
      "---------------------------------------\n",
      "INFO:tensorflow:Assets added to graph.\n"
     ]
    },
    {
     "name": "stderr",
     "output_type": "stream",
     "text": [
      "[2019-03-13 23:52:54,973] Assets added to graph.\n"
     ]
    },
    {
     "name": "stdout",
     "output_type": "stream",
     "text": [
      "INFO:tensorflow:No assets to write.\n"
     ]
    },
    {
     "name": "stderr",
     "output_type": "stream",
     "text": [
      "[2019-03-13 23:52:54,974] No assets to write.\n"
     ]
    },
    {
     "name": "stdout",
     "output_type": "stream",
     "text": [
      "INFO:tensorflow:SavedModel written to: b'/home/philippew/CS234_Project/data/td3/td3_s0/simple_save/saved_model.pb'\n"
     ]
    },
    {
     "name": "stderr",
     "output_type": "stream",
     "text": [
      "[2019-03-13 23:52:55,650] SavedModel written to: b'/home/philippew/CS234_Project/data/td3/td3_s0/simple_save/saved_model.pb'\n"
     ]
    },
    {
     "name": "stdout",
     "output_type": "stream",
     "text": [
      "---------------------------------------\n",
      "|             Epoch |              47 |\n",
      "|      AverageEpRet |             789 |\n",
      "|          StdEpRet |             544 |\n",
      "|          MaxEpRet |             963 |\n",
      "|          MinEpRet |       -1.05e+03 |\n",
      "|  AverageTestEpRet |             952 |\n",
      "|      StdTestEpRet |             8.4 |\n",
      "|      MaxTestEpRet |             963 |\n",
      "|      MinTestEpRet |             941 |\n",
      "|             EpLen |            46.3 |\n",
      "|         TestEpLen |            47.8 |\n",
      "| TotalEnvInteracts |        2.35e+05 |\n",
      "|     AverageQ1Vals |             568 |\n",
      "|         StdQ1Vals |             336 |\n",
      "|         MaxQ1Vals |        1.47e+03 |\n",
      "|         MinQ1Vals |       -1.92e+03 |\n",
      "|     AverageQ2Vals |             568 |\n",
      "|         StdQ2Vals |             336 |\n",
      "|         MaxQ2Vals |        1.43e+03 |\n",
      "|         MinQ2Vals |       -1.94e+03 |\n",
      "|            LossPi |            -572 |\n",
      "|             LossQ |        6.27e+03 |\n",
      "|              Time |             440 |\n",
      "---------------------------------------\n",
      "INFO:tensorflow:Assets added to graph.\n"
     ]
    },
    {
     "name": "stderr",
     "output_type": "stream",
     "text": [
      "[2019-03-13 23:53:04,767] Assets added to graph.\n"
     ]
    },
    {
     "name": "stdout",
     "output_type": "stream",
     "text": [
      "INFO:tensorflow:No assets to write.\n"
     ]
    },
    {
     "name": "stderr",
     "output_type": "stream",
     "text": [
      "[2019-03-13 23:53:04,768] No assets to write.\n"
     ]
    },
    {
     "name": "stdout",
     "output_type": "stream",
     "text": [
      "INFO:tensorflow:SavedModel written to: b'/home/philippew/CS234_Project/data/td3/td3_s0/simple_save/saved_model.pb'\n"
     ]
    },
    {
     "name": "stderr",
     "output_type": "stream",
     "text": [
      "[2019-03-13 23:53:05,388] SavedModel written to: b'/home/philippew/CS234_Project/data/td3/td3_s0/simple_save/saved_model.pb'\n"
     ]
    },
    {
     "name": "stdout",
     "output_type": "stream",
     "text": [
      "---------------------------------------\n",
      "|             Epoch |              48 |\n",
      "|      AverageEpRet |             840 |\n",
      "|          StdEpRet |             455 |\n",
      "|          MaxEpRet |             963 |\n",
      "|          MinEpRet |       -1.02e+03 |\n",
      "|  AverageTestEpRet |             361 |\n",
      "|      StdTestEpRet |             902 |\n",
      "|      MaxTestEpRet |             963 |\n",
      "|      MinTestEpRet |       -1.02e+03 |\n",
      "|             EpLen |            47.2 |\n",
      "|         TestEpLen |            38.6 |\n",
      "| TotalEnvInteracts |         2.4e+05 |\n",
      "|     AverageQ1Vals |             570 |\n",
      "|         StdQ1Vals |             333 |\n",
      "|         MaxQ1Vals |        1.49e+03 |\n",
      "|         MinQ1Vals |       -1.97e+03 |\n",
      "|     AverageQ2Vals |             570 |\n",
      "|         StdQ2Vals |             333 |\n",
      "|         MaxQ2Vals |        1.46e+03 |\n",
      "|         MinQ2Vals |       -1.98e+03 |\n",
      "|            LossPi |            -573 |\n",
      "|             LossQ |        6.06e+03 |\n",
      "|              Time |             450 |\n",
      "---------------------------------------\n",
      "INFO:tensorflow:Assets added to graph.\n"
     ]
    },
    {
     "name": "stderr",
     "output_type": "stream",
     "text": [
      "[2019-03-13 23:53:14,393] Assets added to graph.\n"
     ]
    },
    {
     "name": "stdout",
     "output_type": "stream",
     "text": [
      "INFO:tensorflow:No assets to write.\n"
     ]
    },
    {
     "name": "stderr",
     "output_type": "stream",
     "text": [
      "[2019-03-13 23:53:14,394] No assets to write.\n"
     ]
    },
    {
     "name": "stdout",
     "output_type": "stream",
     "text": [
      "INFO:tensorflow:SavedModel written to: b'/home/philippew/CS234_Project/data/td3/td3_s0/simple_save/saved_model.pb'\n"
     ]
    },
    {
     "name": "stderr",
     "output_type": "stream",
     "text": [
      "[2019-03-13 23:53:15,119] SavedModel written to: b'/home/philippew/CS234_Project/data/td3/td3_s0/simple_save/saved_model.pb'\n"
     ]
    },
    {
     "name": "stdout",
     "output_type": "stream",
     "text": [
      "---------------------------------------\n",
      "|             Epoch |              49 |\n",
      "|      AverageEpRet |             823 |\n",
      "|          StdEpRet |             488 |\n",
      "|          MaxEpRet |             963 |\n",
      "|          MinEpRet |       -1.04e+03 |\n",
      "|  AverageTestEpRet |             952 |\n",
      "|      StdTestEpRet |            8.03 |\n",
      "|      MaxTestEpRet |             963 |\n",
      "|      MinTestEpRet |             942 |\n",
      "|             EpLen |            46.5 |\n",
      "|         TestEpLen |            47.8 |\n",
      "| TotalEnvInteracts |        2.45e+05 |\n",
      "|     AverageQ1Vals |             569 |\n",
      "|         StdQ1Vals |             332 |\n",
      "|         MaxQ1Vals |        1.45e+03 |\n",
      "|         MinQ1Vals |          -2e+03 |\n",
      "|     AverageQ2Vals |             569 |\n",
      "|         StdQ2Vals |             332 |\n",
      "|         MaxQ2Vals |        1.46e+03 |\n",
      "|         MinQ2Vals |          -2e+03 |\n",
      "|            LossPi |            -572 |\n",
      "|             LossQ |        6.27e+03 |\n",
      "|              Time |             459 |\n",
      "---------------------------------------\n",
      "INFO:tensorflow:Assets added to graph.\n"
     ]
    },
    {
     "name": "stderr",
     "output_type": "stream",
     "text": [
      "[2019-03-13 23:53:24,360] Assets added to graph.\n"
     ]
    },
    {
     "name": "stdout",
     "output_type": "stream",
     "text": [
      "INFO:tensorflow:No assets to write.\n"
     ]
    },
    {
     "name": "stderr",
     "output_type": "stream",
     "text": [
      "[2019-03-13 23:53:24,361] No assets to write.\n"
     ]
    },
    {
     "name": "stdout",
     "output_type": "stream",
     "text": [
      "INFO:tensorflow:SavedModel written to: b'/home/philippew/CS234_Project/data/td3/td3_s0/simple_save/saved_model.pb'\n"
     ]
    },
    {
     "name": "stderr",
     "output_type": "stream",
     "text": [
      "[2019-03-13 23:53:25,010] SavedModel written to: b'/home/philippew/CS234_Project/data/td3/td3_s0/simple_save/saved_model.pb'\n"
     ]
    },
    {
     "name": "stdout",
     "output_type": "stream",
     "text": [
      "---------------------------------------\n",
      "|             Epoch |              50 |\n",
      "|      AverageEpRet |             787 |\n",
      "|          StdEpRet |             544 |\n",
      "|          MaxEpRet |             963 |\n",
      "|          MinEpRet |       -1.03e+03 |\n",
      "|  AverageTestEpRet |             952 |\n",
      "|      StdTestEpRet |            10.8 |\n",
      "|      MaxTestEpRet |             963 |\n",
      "|      MinTestEpRet |             934 |\n",
      "|             EpLen |            46.2 |\n",
      "|         TestEpLen |            48.5 |\n",
      "| TotalEnvInteracts |         2.5e+05 |\n",
      "|     AverageQ1Vals |             566 |\n",
      "|         StdQ1Vals |             334 |\n",
      "|         MaxQ1Vals |        1.41e+03 |\n",
      "|         MinQ1Vals |       -1.98e+03 |\n",
      "|     AverageQ2Vals |             566 |\n",
      "|         StdQ2Vals |             334 |\n",
      "|         MaxQ2Vals |        1.44e+03 |\n",
      "|         MinQ2Vals |       -1.99e+03 |\n",
      "|            LossPi |            -569 |\n",
      "|             LossQ |        6.23e+03 |\n",
      "|              Time |             469 |\n",
      "---------------------------------------\n",
      "INFO:tensorflow:Assets added to graph.\n"
     ]
    },
    {
     "name": "stderr",
     "output_type": "stream",
     "text": [
      "[2019-03-13 23:53:34,039] Assets added to graph.\n"
     ]
    },
    {
     "name": "stdout",
     "output_type": "stream",
     "text": [
      "INFO:tensorflow:No assets to write.\n"
     ]
    },
    {
     "name": "stderr",
     "output_type": "stream",
     "text": [
      "[2019-03-13 23:53:34,040] No assets to write.\n"
     ]
    },
    {
     "name": "stdout",
     "output_type": "stream",
     "text": [
      "INFO:tensorflow:SavedModel written to: b'/home/philippew/CS234_Project/data/td3/td3_s0/simple_save/saved_model.pb'\n"
     ]
    },
    {
     "name": "stderr",
     "output_type": "stream",
     "text": [
      "[2019-03-13 23:53:34,796] SavedModel written to: b'/home/philippew/CS234_Project/data/td3/td3_s0/simple_save/saved_model.pb'\n"
     ]
    },
    {
     "name": "stdout",
     "output_type": "stream",
     "text": [
      "---------------------------------------\n",
      "|             Epoch |              51 |\n",
      "|      AverageEpRet |             739 |\n",
      "|          StdEpRet |             613 |\n",
      "|          MaxEpRet |             963 |\n",
      "|          MinEpRet |       -1.03e+03 |\n",
      "|  AverageTestEpRet |             958 |\n",
      "|      StdTestEpRet |            9.08 |\n",
      "|      MaxTestEpRet |             963 |\n",
      "|      MinTestEpRet |             933 |\n",
      "|             EpLen |            45.1 |\n",
      "|         TestEpLen |              42 |\n",
      "| TotalEnvInteracts |        2.55e+05 |\n",
      "|     AverageQ1Vals |             562 |\n",
      "|         StdQ1Vals |             336 |\n",
      "|         MaxQ1Vals |        1.41e+03 |\n",
      "|         MinQ1Vals |       -1.99e+03 |\n",
      "|     AverageQ2Vals |             562 |\n",
      "|         StdQ2Vals |             336 |\n",
      "|         MaxQ2Vals |        1.45e+03 |\n",
      "|         MinQ2Vals |       -1.99e+03 |\n",
      "|            LossPi |            -565 |\n",
      "|             LossQ |        6.32e+03 |\n",
      "|              Time |             479 |\n",
      "---------------------------------------\n",
      "INFO:tensorflow:Assets added to graph.\n"
     ]
    },
    {
     "name": "stderr",
     "output_type": "stream",
     "text": [
      "[2019-03-13 23:53:44,077] Assets added to graph.\n"
     ]
    },
    {
     "name": "stdout",
     "output_type": "stream",
     "text": [
      "INFO:tensorflow:No assets to write.\n"
     ]
    },
    {
     "name": "stderr",
     "output_type": "stream",
     "text": [
      "[2019-03-13 23:53:44,077] No assets to write.\n"
     ]
    },
    {
     "name": "stdout",
     "output_type": "stream",
     "text": [
      "INFO:tensorflow:SavedModel written to: b'/home/philippew/CS234_Project/data/td3/td3_s0/simple_save/saved_model.pb'\n"
     ]
    },
    {
     "name": "stderr",
     "output_type": "stream",
     "text": [
      "[2019-03-13 23:53:44,737] SavedModel written to: b'/home/philippew/CS234_Project/data/td3/td3_s0/simple_save/saved_model.pb'\n"
     ]
    },
    {
     "name": "stdout",
     "output_type": "stream",
     "text": [
      "---------------------------------------\n",
      "|             Epoch |              52 |\n",
      "|      AverageEpRet |             741 |\n",
      "|          StdEpRet |             611 |\n",
      "|          MaxEpRet |             963 |\n",
      "|          MinEpRet |       -1.05e+03 |\n",
      "|  AverageTestEpRet |             955 |\n",
      "|      StdTestEpRet |            10.6 |\n",
      "|      MaxTestEpRet |             963 |\n",
      "|      MinTestEpRet |             933 |\n",
      "|             EpLen |            44.9 |\n",
      "|         TestEpLen |            45.2 |\n",
      "| TotalEnvInteracts |         2.6e+05 |\n",
      "|     AverageQ1Vals |             559 |\n",
      "|         StdQ1Vals |             338 |\n",
      "|         MaxQ1Vals |         1.4e+03 |\n",
      "|         MinQ1Vals |          -2e+03 |\n",
      "|     AverageQ2Vals |             559 |\n",
      "|         StdQ2Vals |             338 |\n",
      "|         MaxQ2Vals |        1.44e+03 |\n",
      "|         MinQ2Vals |          -2e+03 |\n",
      "|            LossPi |            -561 |\n",
      "|             LossQ |        6.04e+03 |\n",
      "|              Time |             489 |\n",
      "---------------------------------------\n"
     ]
    },
    {
     "ename": "KeyboardInterrupt",
     "evalue": "",
     "output_type": "error",
     "traceback": [
      "\u001b[0;31m---------------------------------------------------------------------------\u001b[0m",
      "\u001b[0;31mKeyboardInterrupt\u001b[0m                         Traceback (most recent call last)",
      "\u001b[0;32m<ipython-input-8-7eab54554bb5>\u001b[0m in \u001b[0;36m<module>\u001b[0;34m\u001b[0m\n\u001b[1;32m     10\u001b[0m     \u001b[0mreplay_size\u001b[0m\u001b[0;34m=\u001b[0m\u001b[0mreplay_size\u001b[0m\u001b[0;34m,\u001b[0m\u001b[0;34m\u001b[0m\u001b[0;34m\u001b[0m\u001b[0m\n\u001b[1;32m     11\u001b[0m     \u001b[0mact_noise\u001b[0m\u001b[0;34m=\u001b[0m\u001b[0mact_noise\u001b[0m\u001b[0;34m,\u001b[0m\u001b[0;34m\u001b[0m\u001b[0;34m\u001b[0m\u001b[0m\n\u001b[0;32m---> 12\u001b[0;31m     logger_kwargs=logger_kwargs)\n\u001b[0m",
      "\u001b[0;32m<ipython-input-4-309de31d47c6>\u001b[0m in \u001b[0;36mtd3\u001b[0;34m(env_fn, actor_critic, ac_kwargs, seed, steps_per_epoch, epochs, replay_size, gamma, polyak, pi_lr, q_lr, batch_size, start_steps, act_noise, target_noise, noise_clip, policy_delay, max_ep_len, logger_kwargs, save_freq)\u001b[0m\n\u001b[1;32m    172\u001b[0m         \"\"\"\n\u001b[1;32m    173\u001b[0m         \u001b[0;32mif\u001b[0m \u001b[0mt\u001b[0m \u001b[0;34m>\u001b[0m \u001b[0mstart_steps\u001b[0m\u001b[0;34m:\u001b[0m\u001b[0;34m\u001b[0m\u001b[0;34m\u001b[0m\u001b[0m\n\u001b[0;32m--> 174\u001b[0;31m             \u001b[0ma\u001b[0m \u001b[0;34m=\u001b[0m \u001b[0mget_action\u001b[0m\u001b[0;34m(\u001b[0m\u001b[0mo\u001b[0m\u001b[0;34m,\u001b[0m \u001b[0mact_noise\u001b[0m\u001b[0;34m)\u001b[0m\u001b[0;34m\u001b[0m\u001b[0;34m\u001b[0m\u001b[0m\n\u001b[0m\u001b[1;32m    175\u001b[0m         \u001b[0;32melse\u001b[0m\u001b[0;34m:\u001b[0m\u001b[0;34m\u001b[0m\u001b[0;34m\u001b[0m\u001b[0m\n\u001b[1;32m    176\u001b[0m             \u001b[0ma\u001b[0m \u001b[0;34m=\u001b[0m \u001b[0menv\u001b[0m\u001b[0;34m.\u001b[0m\u001b[0maction_space\u001b[0m\u001b[0;34m.\u001b[0m\u001b[0msample\u001b[0m\u001b[0;34m(\u001b[0m\u001b[0;34m)\u001b[0m\u001b[0;34m\u001b[0m\u001b[0;34m\u001b[0m\u001b[0m\n",
      "\u001b[0;32m<ipython-input-4-309de31d47c6>\u001b[0m in \u001b[0;36mget_action\u001b[0;34m(o, noise_scale)\u001b[0m\n\u001b[1;32m    142\u001b[0m \u001b[0;34m\u001b[0m\u001b[0m\n\u001b[1;32m    143\u001b[0m     \u001b[0;32mdef\u001b[0m \u001b[0mget_action\u001b[0m\u001b[0;34m(\u001b[0m\u001b[0mo\u001b[0m\u001b[0;34m,\u001b[0m \u001b[0mnoise_scale\u001b[0m\u001b[0;34m)\u001b[0m\u001b[0;34m:\u001b[0m\u001b[0;34m\u001b[0m\u001b[0;34m\u001b[0m\u001b[0m\n\u001b[0;32m--> 144\u001b[0;31m         \u001b[0ma\u001b[0m \u001b[0;34m=\u001b[0m \u001b[0msess\u001b[0m\u001b[0;34m.\u001b[0m\u001b[0mrun\u001b[0m\u001b[0;34m(\u001b[0m\u001b[0mpi\u001b[0m\u001b[0;34m,\u001b[0m \u001b[0mfeed_dict\u001b[0m\u001b[0;34m=\u001b[0m\u001b[0;34m{\u001b[0m\u001b[0mx_ph\u001b[0m\u001b[0;34m:\u001b[0m \u001b[0mo\u001b[0m\u001b[0;34m.\u001b[0m\u001b[0mreshape\u001b[0m\u001b[0;34m(\u001b[0m\u001b[0;36m1\u001b[0m\u001b[0;34m,\u001b[0m\u001b[0;34m-\u001b[0m\u001b[0;36m1\u001b[0m\u001b[0;34m)\u001b[0m\u001b[0;34m}\u001b[0m\u001b[0;34m)\u001b[0m\u001b[0;34m[\u001b[0m\u001b[0;36m0\u001b[0m\u001b[0;34m]\u001b[0m\u001b[0;34m\u001b[0m\u001b[0;34m\u001b[0m\u001b[0m\n\u001b[0m\u001b[1;32m    145\u001b[0m         \u001b[0ma\u001b[0m \u001b[0;34m+=\u001b[0m \u001b[0mnoise_scale\u001b[0m \u001b[0;34m*\u001b[0m \u001b[0mnp\u001b[0m\u001b[0;34m.\u001b[0m\u001b[0mrandom\u001b[0m\u001b[0;34m.\u001b[0m\u001b[0mrandn\u001b[0m\u001b[0;34m(\u001b[0m\u001b[0mact_dim\u001b[0m\u001b[0;34m)\u001b[0m\u001b[0;34m\u001b[0m\u001b[0;34m\u001b[0m\u001b[0m\n\u001b[1;32m    146\u001b[0m         \u001b[0;32mreturn\u001b[0m \u001b[0mnp\u001b[0m\u001b[0;34m.\u001b[0m\u001b[0mclip\u001b[0m\u001b[0;34m(\u001b[0m\u001b[0ma\u001b[0m\u001b[0;34m,\u001b[0m \u001b[0;34m-\u001b[0m\u001b[0mact_limit\u001b[0m\u001b[0;34m,\u001b[0m \u001b[0mact_limit\u001b[0m\u001b[0;34m)\u001b[0m\u001b[0;34m\u001b[0m\u001b[0;34m\u001b[0m\u001b[0m\n",
      "\u001b[0;32m~/anaconda3/envs/py36/lib/python3.6/site-packages/tensorflow/python/client/session.py\u001b[0m in \u001b[0;36mrun\u001b[0;34m(self, fetches, feed_dict, options, run_metadata)\u001b[0m\n\u001b[1;32m    903\u001b[0m     \u001b[0;32mtry\u001b[0m\u001b[0;34m:\u001b[0m\u001b[0;34m\u001b[0m\u001b[0;34m\u001b[0m\u001b[0m\n\u001b[1;32m    904\u001b[0m       result = self._run(None, fetches, feed_dict, options_ptr,\n\u001b[0;32m--> 905\u001b[0;31m                          run_metadata_ptr)\n\u001b[0m\u001b[1;32m    906\u001b[0m       \u001b[0;32mif\u001b[0m \u001b[0mrun_metadata\u001b[0m\u001b[0;34m:\u001b[0m\u001b[0;34m\u001b[0m\u001b[0;34m\u001b[0m\u001b[0m\n\u001b[1;32m    907\u001b[0m         \u001b[0mproto_data\u001b[0m \u001b[0;34m=\u001b[0m \u001b[0mtf_session\u001b[0m\u001b[0;34m.\u001b[0m\u001b[0mTF_GetBuffer\u001b[0m\u001b[0;34m(\u001b[0m\u001b[0mrun_metadata_ptr\u001b[0m\u001b[0;34m)\u001b[0m\u001b[0;34m\u001b[0m\u001b[0;34m\u001b[0m\u001b[0m\n",
      "\u001b[0;32m~/anaconda3/envs/py36/lib/python3.6/site-packages/tensorflow/python/client/session.py\u001b[0m in \u001b[0;36m_run\u001b[0;34m(self, handle, fetches, feed_dict, options, run_metadata)\u001b[0m\n\u001b[1;32m   1138\u001b[0m     \u001b[0;32mif\u001b[0m \u001b[0mfinal_fetches\u001b[0m \u001b[0;32mor\u001b[0m \u001b[0mfinal_targets\u001b[0m \u001b[0;32mor\u001b[0m \u001b[0;34m(\u001b[0m\u001b[0mhandle\u001b[0m \u001b[0;32mand\u001b[0m \u001b[0mfeed_dict_tensor\u001b[0m\u001b[0;34m)\u001b[0m\u001b[0;34m:\u001b[0m\u001b[0;34m\u001b[0m\u001b[0;34m\u001b[0m\u001b[0m\n\u001b[1;32m   1139\u001b[0m       results = self._do_run(handle, final_targets, final_fetches,\n\u001b[0;32m-> 1140\u001b[0;31m                              feed_dict_tensor, options, run_metadata)\n\u001b[0m\u001b[1;32m   1141\u001b[0m     \u001b[0;32melse\u001b[0m\u001b[0;34m:\u001b[0m\u001b[0;34m\u001b[0m\u001b[0;34m\u001b[0m\u001b[0m\n\u001b[1;32m   1142\u001b[0m       \u001b[0mresults\u001b[0m \u001b[0;34m=\u001b[0m \u001b[0;34m[\u001b[0m\u001b[0;34m]\u001b[0m\u001b[0;34m\u001b[0m\u001b[0;34m\u001b[0m\u001b[0m\n",
      "\u001b[0;32m~/anaconda3/envs/py36/lib/python3.6/site-packages/tensorflow/python/client/session.py\u001b[0m in \u001b[0;36m_do_run\u001b[0;34m(self, handle, target_list, fetch_list, feed_dict, options, run_metadata)\u001b[0m\n\u001b[1;32m   1319\u001b[0m     \u001b[0;32mif\u001b[0m \u001b[0mhandle\u001b[0m \u001b[0;32mis\u001b[0m \u001b[0;32mNone\u001b[0m\u001b[0;34m:\u001b[0m\u001b[0;34m\u001b[0m\u001b[0;34m\u001b[0m\u001b[0m\n\u001b[1;32m   1320\u001b[0m       return self._do_call(_run_fn, feeds, fetches, targets, options,\n\u001b[0;32m-> 1321\u001b[0;31m                            run_metadata)\n\u001b[0m\u001b[1;32m   1322\u001b[0m     \u001b[0;32melse\u001b[0m\u001b[0;34m:\u001b[0m\u001b[0;34m\u001b[0m\u001b[0;34m\u001b[0m\u001b[0m\n\u001b[1;32m   1323\u001b[0m       \u001b[0;32mreturn\u001b[0m \u001b[0mself\u001b[0m\u001b[0;34m.\u001b[0m\u001b[0m_do_call\u001b[0m\u001b[0;34m(\u001b[0m\u001b[0m_prun_fn\u001b[0m\u001b[0;34m,\u001b[0m \u001b[0mhandle\u001b[0m\u001b[0;34m,\u001b[0m \u001b[0mfeeds\u001b[0m\u001b[0;34m,\u001b[0m \u001b[0mfetches\u001b[0m\u001b[0;34m)\u001b[0m\u001b[0;34m\u001b[0m\u001b[0;34m\u001b[0m\u001b[0m\n",
      "\u001b[0;32m~/anaconda3/envs/py36/lib/python3.6/site-packages/tensorflow/python/client/session.py\u001b[0m in \u001b[0;36m_do_call\u001b[0;34m(self, fn, *args)\u001b[0m\n\u001b[1;32m   1325\u001b[0m   \u001b[0;32mdef\u001b[0m \u001b[0m_do_call\u001b[0m\u001b[0;34m(\u001b[0m\u001b[0mself\u001b[0m\u001b[0;34m,\u001b[0m \u001b[0mfn\u001b[0m\u001b[0;34m,\u001b[0m \u001b[0;34m*\u001b[0m\u001b[0margs\u001b[0m\u001b[0;34m)\u001b[0m\u001b[0;34m:\u001b[0m\u001b[0;34m\u001b[0m\u001b[0;34m\u001b[0m\u001b[0m\n\u001b[1;32m   1326\u001b[0m     \u001b[0;32mtry\u001b[0m\u001b[0;34m:\u001b[0m\u001b[0;34m\u001b[0m\u001b[0;34m\u001b[0m\u001b[0m\n\u001b[0;32m-> 1327\u001b[0;31m       \u001b[0;32mreturn\u001b[0m \u001b[0mfn\u001b[0m\u001b[0;34m(\u001b[0m\u001b[0;34m*\u001b[0m\u001b[0margs\u001b[0m\u001b[0;34m)\u001b[0m\u001b[0;34m\u001b[0m\u001b[0;34m\u001b[0m\u001b[0m\n\u001b[0m\u001b[1;32m   1328\u001b[0m     \u001b[0;32mexcept\u001b[0m \u001b[0merrors\u001b[0m\u001b[0;34m.\u001b[0m\u001b[0mOpError\u001b[0m \u001b[0;32mas\u001b[0m \u001b[0me\u001b[0m\u001b[0;34m:\u001b[0m\u001b[0;34m\u001b[0m\u001b[0;34m\u001b[0m\u001b[0m\n\u001b[1;32m   1329\u001b[0m       \u001b[0mmessage\u001b[0m \u001b[0;34m=\u001b[0m \u001b[0mcompat\u001b[0m\u001b[0;34m.\u001b[0m\u001b[0mas_text\u001b[0m\u001b[0;34m(\u001b[0m\u001b[0me\u001b[0m\u001b[0;34m.\u001b[0m\u001b[0mmessage\u001b[0m\u001b[0;34m)\u001b[0m\u001b[0;34m\u001b[0m\u001b[0;34m\u001b[0m\u001b[0m\n",
      "\u001b[0;32m~/anaconda3/envs/py36/lib/python3.6/site-packages/tensorflow/python/client/session.py\u001b[0m in \u001b[0;36m_run_fn\u001b[0;34m(feed_dict, fetch_list, target_list, options, run_metadata)\u001b[0m\n\u001b[1;32m   1310\u001b[0m       \u001b[0mself\u001b[0m\u001b[0;34m.\u001b[0m\u001b[0m_extend_graph\u001b[0m\u001b[0;34m(\u001b[0m\u001b[0;34m)\u001b[0m\u001b[0;34m\u001b[0m\u001b[0;34m\u001b[0m\u001b[0m\n\u001b[1;32m   1311\u001b[0m       return self._call_tf_sessionrun(\n\u001b[0;32m-> 1312\u001b[0;31m           options, feed_dict, fetch_list, target_list, run_metadata)\n\u001b[0m\u001b[1;32m   1313\u001b[0m \u001b[0;34m\u001b[0m\u001b[0m\n\u001b[1;32m   1314\u001b[0m     \u001b[0;32mdef\u001b[0m \u001b[0m_prun_fn\u001b[0m\u001b[0;34m(\u001b[0m\u001b[0mhandle\u001b[0m\u001b[0;34m,\u001b[0m \u001b[0mfeed_dict\u001b[0m\u001b[0;34m,\u001b[0m \u001b[0mfetch_list\u001b[0m\u001b[0;34m)\u001b[0m\u001b[0;34m:\u001b[0m\u001b[0;34m\u001b[0m\u001b[0;34m\u001b[0m\u001b[0m\n",
      "\u001b[0;32m~/anaconda3/envs/py36/lib/python3.6/site-packages/tensorflow/python/client/session.py\u001b[0m in \u001b[0;36m_call_tf_sessionrun\u001b[0;34m(self, options, feed_dict, fetch_list, target_list, run_metadata)\u001b[0m\n\u001b[1;32m   1418\u001b[0m         return tf_session.TF_Run(\n\u001b[1;32m   1419\u001b[0m             \u001b[0mself\u001b[0m\u001b[0;34m.\u001b[0m\u001b[0m_session\u001b[0m\u001b[0;34m,\u001b[0m \u001b[0moptions\u001b[0m\u001b[0;34m,\u001b[0m \u001b[0mfeed_dict\u001b[0m\u001b[0;34m,\u001b[0m \u001b[0mfetch_list\u001b[0m\u001b[0;34m,\u001b[0m \u001b[0mtarget_list\u001b[0m\u001b[0;34m,\u001b[0m\u001b[0;34m\u001b[0m\u001b[0;34m\u001b[0m\u001b[0m\n\u001b[0;32m-> 1420\u001b[0;31m             status, run_metadata)\n\u001b[0m\u001b[1;32m   1421\u001b[0m \u001b[0;34m\u001b[0m\u001b[0m\n\u001b[1;32m   1422\u001b[0m   \u001b[0;32mdef\u001b[0m \u001b[0m_call_tf_sessionprun\u001b[0m\u001b[0;34m(\u001b[0m\u001b[0mself\u001b[0m\u001b[0;34m,\u001b[0m \u001b[0mhandle\u001b[0m\u001b[0;34m,\u001b[0m \u001b[0mfeed_dict\u001b[0m\u001b[0;34m,\u001b[0m \u001b[0mfetch_list\u001b[0m\u001b[0;34m)\u001b[0m\u001b[0;34m:\u001b[0m\u001b[0;34m\u001b[0m\u001b[0;34m\u001b[0m\u001b[0m\n",
      "\u001b[0;31mKeyboardInterrupt\u001b[0m: "
     ]
    }
   ],
   "source": [
    "td3(lambda : gym.make(env), \n",
    "    actor_critic=core.mlp_actor_critic,\n",
    "    ac_kwargs=dict(hidden_sizes=[hid]*l),\n",
    "    gamma=gamma, \n",
    "    seed=seed, \n",
    "    epochs=epochs,\n",
    "    pi_lr=pi_lr,\n",
    "    q_lr=q_lr,\n",
    "    batch_size=batch_size,\n",
    "    replay_size=replay_size,\n",
    "    act_noise=act_noise,\n",
    "    logger_kwargs=logger_kwargs)"
   ]
  },
  {
   "cell_type": "code",
   "execution_count": null,
   "metadata": {
    "collapsed": true
   },
   "outputs": [],
   "source": [
    "import gym"
   ]
  }
 ],
 "metadata": {
  "anaconda-cloud": {},
  "kernelspec": {
   "display_name": "Python [conda env:py36]",
   "language": "python",
   "name": "conda-env-py36-py"
  },
  "language_info": {
   "codemirror_mode": {
    "name": "ipython",
    "version": 3
   },
   "file_extension": ".py",
   "mimetype": "text/x-python",
   "name": "python",
   "nbconvert_exporter": "python",
   "pygments_lexer": "ipython3",
   "version": "3.6.8"
  }
 },
 "nbformat": 4,
 "nbformat_minor": 2
}
