{
 "cells": [
  {
   "cell_type": "markdown",
   "metadata": {},
   "source": [
    "# Twin Delayed DDPG\n",
    "Out of https://github.com/openai/spinningup/blob/master/spinup/algos/td3"
   ]
  },
  {
   "cell_type": "markdown",
   "metadata": {},
   "source": [
    "# core.py"
   ]
  },
  {
   "cell_type": "code",
   "execution_count": 1,
   "metadata": {},
   "outputs": [
    {
     "name": "stdout",
     "output_type": "stream",
     "text": [
      "core.py  __pycache__  td3.py\r\n"
     ]
    }
   ],
   "source": [
    "!ls spinup/algos/td3/"
   ]
  },
  {
   "cell_type": "markdown",
   "metadata": {},
   "source": [
    "# td3.py"
   ]
  },
  {
   "cell_type": "code",
   "execution_count": 2,
   "metadata": {
    "collapsed": true
   },
   "outputs": [],
   "source": [
    "import numpy as np\n",
    "import tensorflow as tf\n",
    "import gym\n",
    "import time"
   ]
  },
  {
   "cell_type": "code",
   "execution_count": 3,
   "metadata": {
    "collapsed": true
   },
   "outputs": [],
   "source": [
    "from spinup.algos.td3 import core\n",
    "from spinup.algos.td3.core import get_vars\n",
    "from spinup.utils.logx import EpochLogger"
   ]
  },
  {
   "cell_type": "code",
   "execution_count": 4,
   "metadata": {
    "collapsed": true
   },
   "outputs": [],
   "source": [
    "class ReplayBuffer:\n",
    "    \"\"\"\n",
    "    A simple FIFO experience replay buffer for TD3 agents.\n",
    "    \"\"\"\n",
    "\n",
    "    def __init__(self, obs_dim, act_dim, size):\n",
    "        self.obs1_buf = np.zeros([size, obs_dim], dtype=np.float32)\n",
    "        self.obs2_buf = np.zeros([size, obs_dim], dtype=np.float32)\n",
    "        self.acts_buf = np.zeros([size, act_dim], dtype=np.float32)\n",
    "        self.rews_buf = np.zeros(size, dtype=np.float32)\n",
    "        self.done_buf = np.zeros(size, dtype=np.float32)\n",
    "        self.ptr, self.size, self.max_size = 0, 0, size\n",
    "\n",
    "    def store(self, obs, act, rew, next_obs, done):\n",
    "        self.obs1_buf[self.ptr] = obs\n",
    "        self.obs2_buf[self.ptr] = next_obs\n",
    "        self.acts_buf[self.ptr] = act\n",
    "        self.rews_buf[self.ptr] = rew\n",
    "        self.done_buf[self.ptr] = done\n",
    "        self.ptr = (self.ptr+1) % self.max_size\n",
    "        self.size = min(self.size+1, self.max_size)\n",
    "\n",
    "    def sample_batch(self, batch_size=32):\n",
    "        idxs = np.random.randint(0, self.size, size=batch_size)\n",
    "        return dict(obs1=self.obs1_buf[idxs],\n",
    "                    obs2=self.obs2_buf[idxs],\n",
    "                    acts=self.acts_buf[idxs],\n",
    "                    rews=self.rews_buf[idxs],\n",
    "                    done=self.done_buf[idxs])"
   ]
  },
  {
   "cell_type": "code",
   "execution_count": 5,
   "metadata": {
    "collapsed": true
   },
   "outputs": [],
   "source": [
    "\"\"\"\n",
    "TD3 (Twin Delayed DDPG)\n",
    "\"\"\"\n",
    "def td3(env_fn, actor_critic=core.mlp_actor_critic, ac_kwargs=dict(), seed=0, \n",
    "        steps_per_epoch=5000, epochs=100, replay_size=int(1e6), gamma=0.99, \n",
    "        polyak=0.995, pi_lr=1e-3, q_lr=1e-3, batch_size=100, start_steps=10000, \n",
    "        act_noise=0.1, target_noise=0.2, noise_clip=0.5, policy_delay=2, \n",
    "        max_ep_len=1000, logger_kwargs=dict(), save_freq=1):\n",
    "    \"\"\"\n",
    "    Args:\n",
    "        env_fn : A function which creates a copy of the environment.\n",
    "            The environment must satisfy the OpenAI Gym API.\n",
    "        actor_critic: A function which takes in placeholder symbols \n",
    "            for state, ``x_ph``, and action, ``a_ph``, and returns the main \n",
    "            outputs from the agent's Tensorflow computation graph:\n",
    "            ===========  ================  ======================================\n",
    "            Symbol       Shape             Description\n",
    "            ===========  ================  ======================================\n",
    "            ``pi``       (batch, act_dim)  | Deterministically computes actions\n",
    "                                           | from policy given states.\n",
    "            ``q1``       (batch,)          | Gives one estimate of Q* for \n",
    "                                           | states in ``x_ph`` and actions in\n",
    "                                           | ``a_ph``.\n",
    "            ``q2``       (batch,)          | Gives another estimate of Q* for \n",
    "                                           | states in ``x_ph`` and actions in\n",
    "                                           | ``a_ph``.\n",
    "            ``q1_pi``    (batch,)          | Gives the composition of ``q1`` and \n",
    "                                           | ``pi`` for states in ``x_ph``: \n",
    "                                           | q1(x, pi(x)).\n",
    "            ===========  ================  ======================================\n",
    "        ac_kwargs (dict): Any kwargs appropriate for the actor_critic \n",
    "            function you provided to TD3.\n",
    "        seed (int): Seed for random number generators.\n",
    "        steps_per_epoch (int): Number of steps of interaction (state-action pairs) \n",
    "            for the agent and the environment in each epoch.\n",
    "        epochs (int): Number of epochs to run and train agent.\n",
    "        replay_size (int): Maximum length of replay buffer.\n",
    "        gamma (float): Discount factor. (Always between 0 and 1.)\n",
    "        polyak (float): Interpolation factor in polyak averaging for target \n",
    "            networks. Target networks are updated towards main networks \n",
    "            according to:\n",
    "            .. math:: \\\\theta_{\\\\text{targ}} \\\\leftarrow \n",
    "                \\\\rho \\\\theta_{\\\\text{targ}} + (1-\\\\rho) \\\\theta\n",
    "            where :math:`\\\\rho` is polyak. (Always between 0 and 1, usually \n",
    "            close to 1.)\n",
    "        pi_lr (float): Learning rate for policy.\n",
    "        q_lr (float): Learning rate for Q-networks.\n",
    "        batch_size (int): Minibatch size for SGD.\n",
    "        start_steps (int): Number of steps for uniform-random action selection,\n",
    "            before running real policy. Helps exploration.\n",
    "        act_noise (float): Stddev for Gaussian exploration noise added to \n",
    "            policy at training time. (At test time, no noise is added.)\n",
    "        target_noise (float): Stddev for smoothing noise added to target \n",
    "            policy.\n",
    "        noise_clip (float): Limit for absolute value of target policy \n",
    "            smoothing noise.\n",
    "        policy_delay (int): Policy will only be updated once every \n",
    "            policy_delay times for each update of the Q-networks.\n",
    "        max_ep_len (int): Maximum length of trajectory / episode / rollout.\n",
    "        logger_kwargs (dict): Keyword args for EpochLogger.\n",
    "        save_freq (int): How often (in terms of gap between epochs) to save\n",
    "            the current policy and value function.\n",
    "    \"\"\"\n",
    "\n",
    "    logger = EpochLogger(**logger_kwargs)\n",
    "    logger.save_config(locals())\n",
    "\n",
    "    tf.set_random_seed(seed)\n",
    "    np.random.seed(seed)\n",
    "\n",
    "    env, test_env = env_fn(), env_fn()\n",
    "    obs_dim = env.observation_space.shape[0]\n",
    "    act_dim = env.action_space.shape[0]\n",
    "\n",
    "    # Action limit for clamping: critically, assumes all dimensions share the same bound!\n",
    "    act_limit = env.action_space.high[0]\n",
    "\n",
    "    # Share information about action space with policy architecture\n",
    "    ac_kwargs['action_space'] = env.action_space\n",
    "\n",
    "    # Inputs to computation graph\n",
    "    x_ph, a_ph, x2_ph, r_ph, d_ph = core.placeholders(obs_dim, act_dim, obs_dim, None, None)\n",
    "\n",
    "    # Main outputs from computation graph\n",
    "    with tf.variable_scope('main'):\n",
    "        pi, q1, q2, q1_pi = actor_critic(x_ph, a_ph, **ac_kwargs)\n",
    "    \n",
    "    # Target policy network\n",
    "    with tf.variable_scope('target'):\n",
    "        pi_targ, _, _, _  = actor_critic(x2_ph, a_ph, **ac_kwargs)\n",
    "    \n",
    "    # Target Q networks\n",
    "    with tf.variable_scope('target', reuse=True):\n",
    "\n",
    "        # Target policy smoothing, by adding clipped noise to target actions\n",
    "        epsilon = tf.random_normal(tf.shape(pi_targ), stddev=target_noise)\n",
    "        epsilon = tf.clip_by_value(epsilon, -noise_clip, noise_clip)\n",
    "        a2 = pi_targ + epsilon\n",
    "        a2 = tf.clip_by_value(a2, -act_limit, act_limit)\n",
    "\n",
    "        # Target Q-values, using action from target policy\n",
    "        _, q1_targ, q2_targ, _ = actor_critic(x2_ph, a2, **ac_kwargs)\n",
    "\n",
    "    # Experience buffer\n",
    "    replay_buffer = ReplayBuffer(obs_dim=obs_dim, act_dim=act_dim, size=replay_size)\n",
    "\n",
    "    # Count variables\n",
    "    var_counts = tuple(core.count_vars(scope) for scope in ['main/pi', 'main/q1', 'main/q2', 'main'])\n",
    "    print('\\nNumber of parameters: \\t pi: %d, \\t q1: %d, \\t q2: %d, \\t total: %d\\n'%var_counts)\n",
    "\n",
    "    # Bellman backup for Q functions, using Clipped Double-Q targets\n",
    "    min_q_targ = tf.minimum(q1_targ, q2_targ)\n",
    "    backup = tf.stop_gradient(r_ph + gamma*(1-d_ph)*min_q_targ)\n",
    "\n",
    "    # TD3 losses\n",
    "    pi_loss = -tf.reduce_mean(q1_pi)\n",
    "    q1_loss = tf.reduce_mean((q1-backup)**2)\n",
    "    q2_loss = tf.reduce_mean((q2-backup)**2)\n",
    "    q_loss = q1_loss + q2_loss\n",
    "\n",
    "    # Separate train ops for pi, q\n",
    "    pi_optimizer = tf.train.AdamOptimizer(learning_rate=pi_lr)\n",
    "    q_optimizer = tf.train.AdamOptimizer(learning_rate=q_lr)\n",
    "    train_pi_op = pi_optimizer.minimize(pi_loss, var_list=get_vars('main/pi'))\n",
    "    train_q_op = q_optimizer.minimize(q_loss, var_list=get_vars('main/q'))\n",
    "\n",
    "    # Polyak averaging for target variables\n",
    "    target_update = tf.group([tf.assign(v_targ, polyak*v_targ + (1-polyak)*v_main)\n",
    "                              for v_main, v_targ in zip(get_vars('main'), get_vars('target'))])\n",
    "\n",
    "    # Initializing targets to match main variables\n",
    "    target_init = tf.group([tf.assign(v_targ, v_main)\n",
    "                              for v_main, v_targ in zip(get_vars('main'), get_vars('target'))])\n",
    "\n",
    "    sess = tf.Session()\n",
    "    sess.run(tf.global_variables_initializer())\n",
    "    sess.run(target_init)\n",
    "\n",
    "    # Setup model saving\n",
    "    logger.setup_tf_saver(sess, inputs={'x': x_ph, 'a': a_ph}, outputs={'pi': pi, 'q1': q1, 'q2': q2})\n",
    "\n",
    "    def get_action(o, noise_scale):\n",
    "        a = sess.run(pi, feed_dict={x_ph: o.reshape(1,-1)})[0]\n",
    "        a += noise_scale * np.random.randn(act_dim)\n",
    "        return np.clip(a, -act_limit, act_limit)\n",
    "\n",
    "    def test_agent(n=10):\n",
    "        for j in range(n):\n",
    "            o, r, d, ep_ret, ep_len = test_env.reset(), 0, False, 0, 0\n",
    "            while not(d or (ep_len == max_ep_len)):\n",
    "                # Take deterministic actions at test time (noise_scale=0)\n",
    "                o, r, d, _ = test_env.step(get_action(o, 0))\n",
    "                ep_ret += r\n",
    "                ep_len += 1\n",
    "            logger.store(TestEpRet=ep_ret, TestEpLen=ep_len)\n",
    "\n",
    "    start_time = time.time()\n",
    "    o, r, d, ep_ret, ep_len = env.reset(), 0, False, 0, 0\n",
    "    total_steps = steps_per_epoch * epochs\n",
    "\n",
    "    # Main loop: collect experience in env and update/log each epoch\n",
    "    for t in range(total_steps):\n",
    "\n",
    "        \"\"\"\n",
    "        Until start_steps have elapsed, randomly sample actions\n",
    "        from a uniform distribution for better exploration. Afterwards, \n",
    "        use the learned policy (with some noise, via act_noise). \n",
    "        \"\"\"\n",
    "        if t > start_steps:\n",
    "            a = get_action(o, act_noise)\n",
    "        else:\n",
    "            a = env.action_space.sample()\n",
    "\n",
    "        # Step the env\n",
    "        o2, r, d, _ = env.step(a)\n",
    "        ep_ret += r\n",
    "        ep_len += 1\n",
    "\n",
    "        # Ignore the \"done\" signal if it comes from hitting the time\n",
    "        # horizon (that is, when it's an artificial terminal signal\n",
    "        # that isn't based on the agent's state)\n",
    "        d = False if ep_len==max_ep_len else d\n",
    "\n",
    "        # Store experience to replay buffer\n",
    "        replay_buffer.store(o, a, r, o2, d)\n",
    "\n",
    "        # Super critical, easy to overlook step: make sure to update \n",
    "        # most recent observation!\n",
    "        o = o2\n",
    "\n",
    "        if d or (ep_len == max_ep_len):\n",
    "            \"\"\"\n",
    "            Perform all TD3 updates at the end of the trajectory\n",
    "            (in accordance with source code of TD3 published by\n",
    "            original authors).\n",
    "            \"\"\"\n",
    "            for j in range(ep_len):\n",
    "                batch = replay_buffer.sample_batch(batch_size)\n",
    "                feed_dict = {x_ph: batch['obs1'],\n",
    "                             x2_ph: batch['obs2'],\n",
    "                             a_ph: batch['acts'],\n",
    "                             r_ph: batch['rews'],\n",
    "                             d_ph: batch['done']\n",
    "                            }\n",
    "                q_step_ops = [q_loss, q1, q2, train_q_op]\n",
    "                outs = sess.run(q_step_ops, feed_dict)\n",
    "                logger.store(LossQ=outs[0], Q1Vals=outs[1], Q2Vals=outs[2])\n",
    "\n",
    "                if j % policy_delay == 0:\n",
    "                    # Delayed policy update\n",
    "                    outs = sess.run([pi_loss, train_pi_op, target_update], feed_dict)\n",
    "                    logger.store(LossPi=outs[0])\n",
    "\n",
    "            logger.store(EpRet=ep_ret, EpLen=ep_len)\n",
    "            o, r, d, ep_ret, ep_len = env.reset(), 0, False, 0, 0\n",
    "\n",
    "        # End of epoch wrap-up\n",
    "        if t > 0 and t % steps_per_epoch == 0:\n",
    "            epoch = t // steps_per_epoch\n",
    "\n",
    "            # Save model\n",
    "            if (epoch % save_freq == 0) or (epoch == epochs-1):\n",
    "                logger.save_state({'env': env}, None)\n",
    "\n",
    "            # Test the performance of the deterministic version of the agent.\n",
    "            test_agent()\n",
    "\n",
    "            # Log info about epoch\n",
    "            logger.log_tabular('Epoch', epoch)\n",
    "            logger.log_tabular('EpRet', with_min_and_max=True)\n",
    "            logger.log_tabular('TestEpRet', with_min_and_max=True)\n",
    "            logger.log_tabular('EpLen', average_only=True)\n",
    "            logger.log_tabular('TestEpLen', average_only=True)\n",
    "            logger.log_tabular('TotalEnvInteracts', t)\n",
    "            logger.log_tabular('Q1Vals', with_min_and_max=True)\n",
    "            logger.log_tabular('Q2Vals', with_min_and_max=True)\n",
    "            logger.log_tabular('LossPi', average_only=True)\n",
    "            logger.log_tabular('LossQ', average_only=True)\n",
    "            logger.log_tabular('Time', time.time()-start_time)\n",
    "            logger.dump_tabular()"
   ]
  },
  {
   "cell_type": "code",
   "execution_count": 6,
   "metadata": {
    "collapsed": true
   },
   "outputs": [],
   "source": [
    "env='HalfCheetah-v1'\n",
    "hid=300\n",
    "l=1\n",
    "gamma=0.99\n",
    "seed=0\n",
    "epochs=50\n",
    "exp_name='td3'"
   ]
  },
  {
   "cell_type": "code",
   "execution_count": 7,
   "metadata": {
    "collapsed": true
   },
   "outputs": [],
   "source": [
    "from spinup.utils.run_utils import setup_logger_kwargs\n",
    "logger_kwargs = setup_logger_kwargs(exp_name, seed)"
   ]
  },
  {
   "cell_type": "code",
   "execution_count": null,
   "metadata": {},
   "outputs": [
    {
     "name": "stderr",
     "output_type": "stream",
     "text": [
      "[2019-03-05 11:13:44,178] Making new env: HalfCheetah-v1\n"
     ]
    },
    {
     "name": "stdout",
     "output_type": "stream",
     "text": [
      "Warning: Log dir /home/phw/rsl/CS234_Project/data/td3/td3_s0 already exists! Storing info there anyway.\n",
      "\u001b[32;1mLogging data to /home/phw/rsl/CS234_Project/data/td3/td3_s0/progress.txt\u001b[0m\n",
      "\u001b[36;1mSaving config:\n",
      "\u001b[0m\n",
      "{\n",
      "    \"ac_kwargs\":\t{\n",
      "        \"hidden_sizes\":\t[\n",
      "            300\n",
      "        ]\n",
      "    },\n",
      "    \"act_noise\":\t0.1,\n",
      "    \"actor_critic\":\t\"mlp_actor_critic\",\n",
      "    \"batch_size\":\t100,\n",
      "    \"env_fn\":\t\"<function <lambda> at 0x7fe9d80b5e18>\",\n",
      "    \"epochs\":\t50,\n",
      "    \"exp_name\":\t\"td3\",\n",
      "    \"gamma\":\t0.99,\n",
      "    \"logger\":\t{\n",
      "        \"<spinup.utils.logx.EpochLogger object at 0x7fe9d809e2b0>\":\t{\n",
      "            \"epoch_dict\":\t{},\n",
      "            \"exp_name\":\t\"td3\",\n",
      "            \"first_row\":\ttrue,\n",
      "            \"log_current_row\":\t{},\n",
      "            \"log_headers\":\t[],\n",
      "            \"output_dir\":\t\"/home/phw/rsl/CS234_Project/data/td3/td3_s0\",\n",
      "            \"output_file\":\t{\n",
      "                \"<_io.TextIOWrapper name='/home/phw/rsl/CS234_Project/data/td3/td3_s0/progress.txt' mode='w' encoding='UTF-8'>\":\t{\n",
      "                    \"mode\":\t\"w\"\n",
      "                }\n",
      "            }\n",
      "        }\n",
      "    },\n",
      "    \"logger_kwargs\":\t{\n",
      "        \"exp_name\":\t\"td3\",\n",
      "        \"output_dir\":\t\"/home/phw/rsl/CS234_Project/data/td3/td3_s0\"\n",
      "    },\n",
      "    \"max_ep_len\":\t1000,\n",
      "    \"noise_clip\":\t0.5,\n",
      "    \"pi_lr\":\t0.001,\n",
      "    \"policy_delay\":\t2,\n",
      "    \"polyak\":\t0.995,\n",
      "    \"q_lr\":\t0.001,\n",
      "    \"replay_size\":\t1000000,\n",
      "    \"save_freq\":\t1,\n",
      "    \"seed\":\t0,\n",
      "    \"start_steps\":\t10000,\n",
      "    \"steps_per_epoch\":\t5000,\n",
      "    \"target_noise\":\t0.2\n",
      "}\n"
     ]
    },
    {
     "name": "stderr",
     "output_type": "stream",
     "text": [
      "[2019-03-05 11:13:44,413] Making new env: HalfCheetah-v1\n"
     ]
    },
    {
     "name": "stdout",
     "output_type": "stream",
     "text": [
      "\n",
      "Number of parameters: \t pi: 7206, \t q1: 7501, \t q2: 7501, \t total: 22208\n",
      "\n",
      "INFO:tensorflow:Assets added to graph.\n"
     ]
    },
    {
     "name": "stderr",
     "output_type": "stream",
     "text": [
      "[2019-03-05 11:13:55,323] Assets added to graph.\n"
     ]
    },
    {
     "name": "stdout",
     "output_type": "stream",
     "text": [
      "INFO:tensorflow:No assets to write.\n"
     ]
    },
    {
     "name": "stderr",
     "output_type": "stream",
     "text": [
      "[2019-03-05 11:13:55,324] No assets to write.\n"
     ]
    },
    {
     "name": "stdout",
     "output_type": "stream",
     "text": [
      "INFO:tensorflow:SavedModel written to: b'/home/phw/rsl/CS234_Project/data/td3/td3_s0/simple_save/saved_model.pb'\n"
     ]
    },
    {
     "name": "stderr",
     "output_type": "stream",
     "text": [
      "[2019-03-05 11:13:55,514] SavedModel written to: b'/home/phw/rsl/CS234_Project/data/td3/td3_s0/simple_save/saved_model.pb'\n"
     ]
    },
    {
     "name": "stdout",
     "output_type": "stream",
     "text": [
      "---------------------------------------\n",
      "|             Epoch |               1 |\n",
      "|      AverageEpRet |            -270 |\n",
      "|          StdEpRet |            63.7 |\n",
      "|          MaxEpRet |            -214 |\n",
      "|          MinEpRet |            -393 |\n",
      "|  AverageTestEpRet |            -552 |\n",
      "|      StdTestEpRet |            1.28 |\n",
      "|      MaxTestEpRet |            -550 |\n",
      "|      MinTestEpRet |            -554 |\n",
      "|             EpLen |           1e+03 |\n",
      "|         TestEpLen |           1e+03 |\n",
      "| TotalEnvInteracts |           5e+03 |\n",
      "|     AverageQ1Vals |            1.07 |\n",
      "|         StdQ1Vals |             3.4 |\n",
      "|         MaxQ1Vals |            17.5 |\n",
      "|         MinQ1Vals |           -5.98 |\n",
      "|     AverageQ2Vals |            1.07 |\n",
      "|         StdQ2Vals |             3.4 |\n",
      "|         MaxQ2Vals |            17.6 |\n",
      "|         MinQ2Vals |           -6.11 |\n",
      "|            LossPi |           -1.97 |\n",
      "|             LossQ |           0.777 |\n",
      "|              Time |            17.1 |\n",
      "---------------------------------------\n",
      "INFO:tensorflow:Assets added to graph.\n"
     ]
    },
    {
     "name": "stderr",
     "output_type": "stream",
     "text": [
      "[2019-03-05 11:14:12,184] Assets added to graph.\n"
     ]
    },
    {
     "name": "stdout",
     "output_type": "stream",
     "text": [
      "INFO:tensorflow:No assets to write.\n"
     ]
    },
    {
     "name": "stderr",
     "output_type": "stream",
     "text": [
      "[2019-03-05 11:14:12,185] No assets to write.\n"
     ]
    },
    {
     "name": "stdout",
     "output_type": "stream",
     "text": [
      "INFO:tensorflow:SavedModel written to: b'/home/phw/rsl/CS234_Project/data/td3/td3_s0/simple_save/saved_model.pb'\n"
     ]
    },
    {
     "name": "stderr",
     "output_type": "stream",
     "text": [
      "[2019-03-05 11:14:12,384] SavedModel written to: b'/home/phw/rsl/CS234_Project/data/td3/td3_s0/simple_save/saved_model.pb'\n"
     ]
    },
    {
     "name": "stdout",
     "output_type": "stream",
     "text": [
      "---------------------------------------\n",
      "|             Epoch |               2 |\n",
      "|      AverageEpRet |            -265 |\n",
      "|          StdEpRet |            64.1 |\n",
      "|          MaxEpRet |            -183 |\n",
      "|          MinEpRet |            -360 |\n",
      "|  AverageTestEpRet |            -404 |\n",
      "|      StdTestEpRet |              58 |\n",
      "|      MaxTestEpRet |            -330 |\n",
      "|      MinTestEpRet |            -533 |\n",
      "|             EpLen |           1e+03 |\n",
      "|         TestEpLen |           1e+03 |\n",
      "| TotalEnvInteracts |           1e+04 |\n",
      "|     AverageQ1Vals |            9.83 |\n",
      "|         StdQ1Vals |            7.81 |\n",
      "|         MaxQ1Vals |              39 |\n",
      "|         MinQ1Vals |           -6.08 |\n",
      "|     AverageQ2Vals |            9.83 |\n",
      "|         StdQ2Vals |            7.81 |\n",
      "|         MaxQ2Vals |            39.4 |\n",
      "|         MinQ2Vals |           -6.01 |\n",
      "|            LossPi |           -11.7 |\n",
      "|             LossQ |            2.45 |\n",
      "|              Time |            33.3 |\n",
      "---------------------------------------\n",
      "INFO:tensorflow:Assets added to graph.\n"
     ]
    },
    {
     "name": "stderr",
     "output_type": "stream",
     "text": [
      "[2019-03-05 11:14:30,976] Assets added to graph.\n"
     ]
    },
    {
     "name": "stdout",
     "output_type": "stream",
     "text": [
      "INFO:tensorflow:No assets to write.\n"
     ]
    },
    {
     "name": "stderr",
     "output_type": "stream",
     "text": [
      "[2019-03-05 11:14:30,977] No assets to write.\n"
     ]
    },
    {
     "name": "stdout",
     "output_type": "stream",
     "text": [
      "INFO:tensorflow:SavedModel written to: b'/home/phw/rsl/CS234_Project/data/td3/td3_s0/simple_save/saved_model.pb'\n"
     ]
    },
    {
     "name": "stderr",
     "output_type": "stream",
     "text": [
      "[2019-03-05 11:14:31,221] SavedModel written to: b'/home/phw/rsl/CS234_Project/data/td3/td3_s0/simple_save/saved_model.pb'\n"
     ]
    },
    {
     "name": "stdout",
     "output_type": "stream",
     "text": [
      "---------------------------------------\n",
      "|             Epoch |               3 |\n",
      "|      AverageEpRet |            -318 |\n",
      "|          StdEpRet |             229 |\n",
      "|          MaxEpRet |             138 |\n",
      "|          MinEpRet |            -461 |\n",
      "|  AverageTestEpRet |            -762 |\n",
      "|      StdTestEpRet |             181 |\n",
      "|      MaxTestEpRet |            -414 |\n",
      "|      MinTestEpRet |            -996 |\n",
      "|             EpLen |           1e+03 |\n",
      "|         TestEpLen |           1e+03 |\n",
      "| TotalEnvInteracts |         1.5e+04 |\n",
      "|     AverageQ1Vals |            17.8 |\n",
      "|         StdQ1Vals |             9.8 |\n",
      "|         MaxQ1Vals |              47 |\n",
      "|         MinQ1Vals |           -4.41 |\n",
      "|     AverageQ2Vals |            17.8 |\n",
      "|         StdQ2Vals |             9.8 |\n",
      "|         MaxQ2Vals |            47.2 |\n",
      "|         MinQ2Vals |           -4.15 |\n",
      "|            LossPi |           -19.1 |\n",
      "|             LossQ |            3.41 |\n",
      "|              Time |            51.8 |\n",
      "---------------------------------------\n",
      "INFO:tensorflow:Assets added to graph.\n"
     ]
    },
    {
     "name": "stderr",
     "output_type": "stream",
     "text": [
      "[2019-03-05 11:14:49,094] Assets added to graph.\n"
     ]
    },
    {
     "name": "stdout",
     "output_type": "stream",
     "text": [
      "INFO:tensorflow:No assets to write.\n"
     ]
    },
    {
     "name": "stderr",
     "output_type": "stream",
     "text": [
      "[2019-03-05 11:14:49,095] No assets to write.\n"
     ]
    },
    {
     "name": "stdout",
     "output_type": "stream",
     "text": [
      "INFO:tensorflow:SavedModel written to: b'/home/phw/rsl/CS234_Project/data/td3/td3_s0/simple_save/saved_model.pb'\n"
     ]
    },
    {
     "name": "stderr",
     "output_type": "stream",
     "text": [
      "[2019-03-05 11:14:49,313] SavedModel written to: b'/home/phw/rsl/CS234_Project/data/td3/td3_s0/simple_save/saved_model.pb'\n"
     ]
    },
    {
     "name": "stdout",
     "output_type": "stream",
     "text": [
      "---------------------------------------\n",
      "|             Epoch |               4 |\n",
      "|      AverageEpRet |           -65.4 |\n",
      "|          StdEpRet |             637 |\n",
      "|          MaxEpRet |        1.08e+03 |\n",
      "|          MinEpRet |            -889 |\n",
      "|  AverageTestEpRet |             877 |\n",
      "|      StdTestEpRet |             515 |\n",
      "|      MaxTestEpRet |        1.62e+03 |\n",
      "|      MinTestEpRet |           -92.3 |\n",
      "|             EpLen |           1e+03 |\n",
      "|         TestEpLen |           1e+03 |\n",
      "| TotalEnvInteracts |           2e+04 |\n",
      "|     AverageQ1Vals |            18.8 |\n",
      "|         StdQ1Vals |            14.2 |\n",
      "|         MaxQ1Vals |            64.5 |\n",
      "|         MinQ1Vals |           -11.3 |\n",
      "|     AverageQ2Vals |            18.8 |\n",
      "|         StdQ2Vals |            14.2 |\n",
      "|         MaxQ2Vals |            63.4 |\n",
      "|         MinQ2Vals |           -10.8 |\n",
      "|            LossPi |             -20 |\n",
      "|             LossQ |            3.79 |\n",
      "|              Time |              70 |\n",
      "---------------------------------------\n",
      "INFO:tensorflow:Assets added to graph.\n"
     ]
    },
    {
     "name": "stderr",
     "output_type": "stream",
     "text": [
      "[2019-03-05 11:15:07,363] Assets added to graph.\n"
     ]
    },
    {
     "name": "stdout",
     "output_type": "stream",
     "text": [
      "INFO:tensorflow:No assets to write.\n"
     ]
    },
    {
     "name": "stderr",
     "output_type": "stream",
     "text": [
      "[2019-03-05 11:15:07,364] No assets to write.\n"
     ]
    },
    {
     "name": "stdout",
     "output_type": "stream",
     "text": [
      "INFO:tensorflow:SavedModel written to: b'/home/phw/rsl/CS234_Project/data/td3/td3_s0/simple_save/saved_model.pb'\n"
     ]
    },
    {
     "name": "stderr",
     "output_type": "stream",
     "text": [
      "[2019-03-05 11:15:07,614] SavedModel written to: b'/home/phw/rsl/CS234_Project/data/td3/td3_s0/simple_save/saved_model.pb'\n"
     ]
    },
    {
     "name": "stdout",
     "output_type": "stream",
     "text": [
      "---------------------------------------\n",
      "|             Epoch |               5 |\n",
      "|      AverageEpRet |             838 |\n",
      "|          StdEpRet |             571 |\n",
      "|          MaxEpRet |        1.41e+03 |\n",
      "|          MinEpRet |           0.457 |\n",
      "|  AverageTestEpRet |        1.27e+03 |\n",
      "|      StdTestEpRet |             612 |\n",
      "|      MaxTestEpRet |        1.88e+03 |\n",
      "|      MinTestEpRet |             166 |\n",
      "|             EpLen |           1e+03 |\n",
      "|         TestEpLen |           1e+03 |\n",
      "| TotalEnvInteracts |         2.5e+04 |\n",
      "|     AverageQ1Vals |            20.7 |\n",
      "|         StdQ1Vals |            18.6 |\n",
      "|         MaxQ1Vals |            77.5 |\n",
      "|         MinQ1Vals |           -13.8 |\n",
      "|     AverageQ2Vals |            20.7 |\n",
      "|         StdQ2Vals |            18.6 |\n",
      "|         MaxQ2Vals |            79.5 |\n",
      "|         MinQ2Vals |           -12.5 |\n",
      "|            LossPi |           -21.7 |\n",
      "|             LossQ |            4.38 |\n",
      "|              Time |            88.6 |\n",
      "---------------------------------------\n",
      "INFO:tensorflow:Assets added to graph.\n"
     ]
    },
    {
     "name": "stderr",
     "output_type": "stream",
     "text": [
      "[2019-03-05 11:15:27,454] Assets added to graph.\n"
     ]
    },
    {
     "name": "stdout",
     "output_type": "stream",
     "text": [
      "INFO:tensorflow:No assets to write.\n"
     ]
    },
    {
     "name": "stderr",
     "output_type": "stream",
     "text": [
      "[2019-03-05 11:15:27,455] No assets to write.\n"
     ]
    },
    {
     "name": "stdout",
     "output_type": "stream",
     "text": [
      "INFO:tensorflow:SavedModel written to: b'/home/phw/rsl/CS234_Project/data/td3/td3_s0/simple_save/saved_model.pb'\n"
     ]
    },
    {
     "name": "stderr",
     "output_type": "stream",
     "text": [
      "[2019-03-05 11:15:27,692] SavedModel written to: b'/home/phw/rsl/CS234_Project/data/td3/td3_s0/simple_save/saved_model.pb'\n"
     ]
    },
    {
     "name": "stdout",
     "output_type": "stream",
     "text": [
      "---------------------------------------\n",
      "|             Epoch |               6 |\n",
      "|      AverageEpRet |             770 |\n",
      "|          StdEpRet |             701 |\n",
      "|          MaxEpRet |           2e+03 |\n",
      "|          MinEpRet |            83.9 |\n",
      "|  AverageTestEpRet |        1.24e+03 |\n",
      "|      StdTestEpRet |        1.08e+03 |\n",
      "|      MaxTestEpRet |        2.51e+03 |\n",
      "|      MinTestEpRet |           -83.5 |\n",
      "|             EpLen |           1e+03 |\n",
      "|         TestEpLen |           1e+03 |\n",
      "| TotalEnvInteracts |           3e+04 |\n",
      "|     AverageQ1Vals |            25.7 |\n",
      "|         StdQ1Vals |            24.8 |\n",
      "|         MaxQ1Vals |            99.8 |\n",
      "|         MinQ1Vals |           -16.7 |\n",
      "|     AverageQ2Vals |            25.7 |\n",
      "|         StdQ2Vals |            24.8 |\n",
      "|         MaxQ2Vals |             100 |\n",
      "|         MinQ2Vals |             -16 |\n",
      "|            LossPi |           -26.8 |\n",
      "|             LossQ |            6.94 |\n",
      "|              Time |             108 |\n",
      "---------------------------------------\n",
      "INFO:tensorflow:Assets added to graph.\n"
     ]
    },
    {
     "name": "stderr",
     "output_type": "stream",
     "text": [
      "[2019-03-05 11:15:47,570] Assets added to graph.\n"
     ]
    },
    {
     "name": "stdout",
     "output_type": "stream",
     "text": [
      "INFO:tensorflow:No assets to write.\n"
     ]
    },
    {
     "name": "stderr",
     "output_type": "stream",
     "text": [
      "[2019-03-05 11:15:47,571] No assets to write.\n"
     ]
    },
    {
     "name": "stdout",
     "output_type": "stream",
     "text": [
      "INFO:tensorflow:SavedModel written to: b'/home/phw/rsl/CS234_Project/data/td3/td3_s0/simple_save/saved_model.pb'\n"
     ]
    },
    {
     "name": "stderr",
     "output_type": "stream",
     "text": [
      "[2019-03-05 11:15:47,822] SavedModel written to: b'/home/phw/rsl/CS234_Project/data/td3/td3_s0/simple_save/saved_model.pb'\n"
     ]
    },
    {
     "name": "stdout",
     "output_type": "stream",
     "text": [
      "---------------------------------------\n",
      "|             Epoch |               7 |\n",
      "|      AverageEpRet |        1.59e+03 |\n",
      "|          StdEpRet |             821 |\n",
      "|          MaxEpRet |        2.48e+03 |\n",
      "|          MinEpRet |             198 |\n",
      "|  AverageTestEpRet |         2.3e+03 |\n",
      "|      StdTestEpRet |            80.9 |\n",
      "|      MaxTestEpRet |        2.42e+03 |\n",
      "|      MinTestEpRet |        2.15e+03 |\n",
      "|             EpLen |           1e+03 |\n",
      "|         TestEpLen |           1e+03 |\n",
      "| TotalEnvInteracts |         3.5e+04 |\n",
      "|     AverageQ1Vals |            32.6 |\n",
      "|         StdQ1Vals |            32.6 |\n",
      "|         MaxQ1Vals |             123 |\n",
      "|         MinQ1Vals |           -18.5 |\n",
      "|     AverageQ2Vals |            32.6 |\n",
      "|         StdQ2Vals |            32.6 |\n",
      "|         MaxQ2Vals |             121 |\n",
      "|         MinQ2Vals |           -17.7 |\n",
      "|            LossPi |           -33.9 |\n",
      "|             LossQ |            10.1 |\n",
      "|              Time |             129 |\n",
      "---------------------------------------\n",
      "INFO:tensorflow:Assets added to graph.\n"
     ]
    },
    {
     "name": "stderr",
     "output_type": "stream",
     "text": [
      "[2019-03-05 11:16:07,188] Assets added to graph.\n"
     ]
    },
    {
     "name": "stdout",
     "output_type": "stream",
     "text": [
      "INFO:tensorflow:No assets to write.\n"
     ]
    },
    {
     "name": "stderr",
     "output_type": "stream",
     "text": [
      "[2019-03-05 11:16:07,189] No assets to write.\n"
     ]
    },
    {
     "name": "stdout",
     "output_type": "stream",
     "text": [
      "INFO:tensorflow:SavedModel written to: b'/home/phw/rsl/CS234_Project/data/td3/td3_s0/simple_save/saved_model.pb'\n"
     ]
    },
    {
     "name": "stderr",
     "output_type": "stream",
     "text": [
      "[2019-03-05 11:16:07,481] SavedModel written to: b'/home/phw/rsl/CS234_Project/data/td3/td3_s0/simple_save/saved_model.pb'\n"
     ]
    },
    {
     "name": "stdout",
     "output_type": "stream",
     "text": [
      "---------------------------------------\n",
      "|             Epoch |               8 |\n",
      "|      AverageEpRet |        2.04e+03 |\n",
      "|          StdEpRet |             172 |\n",
      "|          MaxEpRet |        2.27e+03 |\n",
      "|          MinEpRet |        1.84e+03 |\n",
      "|  AverageTestEpRet |         2.4e+03 |\n",
      "|      StdTestEpRet |             674 |\n",
      "|      MaxTestEpRet |        2.87e+03 |\n",
      "|      MinTestEpRet |             623 |\n",
      "|             EpLen |           1e+03 |\n",
      "|         TestEpLen |           1e+03 |\n",
      "| TotalEnvInteracts |           4e+04 |\n",
      "|     AverageQ1Vals |            45.4 |\n",
      "|         StdQ1Vals |            40.4 |\n",
      "|         MaxQ1Vals |             136 |\n",
      "|         MinQ1Vals |           -21.3 |\n",
      "|     AverageQ2Vals |            45.4 |\n",
      "|         StdQ2Vals |            40.4 |\n",
      "|         MaxQ2Vals |             137 |\n",
      "|         MinQ2Vals |           -21.1 |\n",
      "|            LossPi |           -46.9 |\n",
      "|             LossQ |              13 |\n",
      "|              Time |             148 |\n",
      "---------------------------------------\n",
      "INFO:tensorflow:Assets added to graph.\n"
     ]
    },
    {
     "name": "stderr",
     "output_type": "stream",
     "text": [
      "[2019-03-05 11:16:25,445] Assets added to graph.\n"
     ]
    },
    {
     "name": "stdout",
     "output_type": "stream",
     "text": [
      "INFO:tensorflow:No assets to write.\n"
     ]
    },
    {
     "name": "stderr",
     "output_type": "stream",
     "text": [
      "[2019-03-05 11:16:25,446] No assets to write.\n"
     ]
    },
    {
     "name": "stdout",
     "output_type": "stream",
     "text": [
      "INFO:tensorflow:SavedModel written to: b'/home/phw/rsl/CS234_Project/data/td3/td3_s0/simple_save/saved_model.pb'\n"
     ]
    },
    {
     "name": "stderr",
     "output_type": "stream",
     "text": [
      "[2019-03-05 11:16:25,721] SavedModel written to: b'/home/phw/rsl/CS234_Project/data/td3/td3_s0/simple_save/saved_model.pb'\n"
     ]
    },
    {
     "name": "stdout",
     "output_type": "stream",
     "text": [
      "---------------------------------------\n",
      "|             Epoch |               9 |\n",
      "|      AverageEpRet |        2.18e+03 |\n",
      "|          StdEpRet |        1.12e+03 |\n",
      "|          MaxEpRet |        2.84e+03 |\n",
      "|          MinEpRet |             -35 |\n",
      "|  AverageTestEpRet |        1.65e+03 |\n",
      "|      StdTestEpRet |             830 |\n",
      "|      MaxTestEpRet |        3.08e+03 |\n",
      "|      MinTestEpRet |             243 |\n",
      "|             EpLen |           1e+03 |\n",
      "|         TestEpLen |           1e+03 |\n",
      "| TotalEnvInteracts |         4.5e+04 |\n",
      "|     AverageQ1Vals |            57.7 |\n",
      "|         StdQ1Vals |            46.9 |\n",
      "|         MaxQ1Vals |             149 |\n",
      "|         MinQ1Vals |             -22 |\n",
      "|     AverageQ2Vals |            57.7 |\n",
      "|         StdQ2Vals |            46.9 |\n",
      "|         MaxQ2Vals |             150 |\n",
      "|         MinQ2Vals |           -22.4 |\n",
      "|            LossPi |           -59.2 |\n",
      "|             LossQ |              16 |\n",
      "|              Time |             166 |\n",
      "---------------------------------------\n",
      "INFO:tensorflow:Assets added to graph.\n"
     ]
    },
    {
     "name": "stderr",
     "output_type": "stream",
     "text": [
      "[2019-03-05 11:16:43,773] Assets added to graph.\n"
     ]
    },
    {
     "name": "stdout",
     "output_type": "stream",
     "text": [
      "INFO:tensorflow:No assets to write.\n"
     ]
    },
    {
     "name": "stderr",
     "output_type": "stream",
     "text": [
      "[2019-03-05 11:16:43,774] No assets to write.\n"
     ]
    },
    {
     "name": "stdout",
     "output_type": "stream",
     "text": [
      "INFO:tensorflow:SavedModel written to: b'/home/phw/rsl/CS234_Project/data/td3/td3_s0/simple_save/saved_model.pb'\n"
     ]
    },
    {
     "name": "stderr",
     "output_type": "stream",
     "text": [
      "[2019-03-05 11:16:44,067] SavedModel written to: b'/home/phw/rsl/CS234_Project/data/td3/td3_s0/simple_save/saved_model.pb'\n"
     ]
    },
    {
     "name": "stdout",
     "output_type": "stream",
     "text": [
      "---------------------------------------\n",
      "|             Epoch |              10 |\n",
      "|      AverageEpRet |         2.3e+03 |\n",
      "|          StdEpRet |             938 |\n",
      "|          MaxEpRet |        3.06e+03 |\n",
      "|          MinEpRet |             456 |\n",
      "|  AverageTestEpRet |        2.56e+03 |\n",
      "|      StdTestEpRet |             716 |\n",
      "|      MaxTestEpRet |        3.25e+03 |\n",
      "|      MinTestEpRet |             710 |\n",
      "|             EpLen |           1e+03 |\n",
      "|         TestEpLen |           1e+03 |\n",
      "| TotalEnvInteracts |           5e+04 |\n",
      "|     AverageQ1Vals |            68.9 |\n",
      "|         StdQ1Vals |            53.5 |\n",
      "|         MaxQ1Vals |             164 |\n",
      "|         MinQ1Vals |           -23.9 |\n",
      "|     AverageQ2Vals |            68.9 |\n",
      "|         StdQ2Vals |            53.5 |\n",
      "|         MaxQ2Vals |             164 |\n",
      "|         MinQ2Vals |           -24.4 |\n",
      "|            LossPi |           -70.4 |\n",
      "|             LossQ |            17.9 |\n",
      "|              Time |             185 |\n",
      "---------------------------------------\n",
      "INFO:tensorflow:Assets added to graph.\n"
     ]
    },
    {
     "name": "stderr",
     "output_type": "stream",
     "text": [
      "[2019-03-05 11:17:02,062] Assets added to graph.\n"
     ]
    },
    {
     "name": "stdout",
     "output_type": "stream",
     "text": [
      "INFO:tensorflow:No assets to write.\n"
     ]
    },
    {
     "name": "stderr",
     "output_type": "stream",
     "text": [
      "[2019-03-05 11:17:02,063] No assets to write.\n"
     ]
    },
    {
     "name": "stdout",
     "output_type": "stream",
     "text": [
      "INFO:tensorflow:SavedModel written to: b'/home/phw/rsl/CS234_Project/data/td3/td3_s0/simple_save/saved_model.pb'\n"
     ]
    },
    {
     "name": "stderr",
     "output_type": "stream",
     "text": [
      "[2019-03-05 11:17:02,362] SavedModel written to: b'/home/phw/rsl/CS234_Project/data/td3/td3_s0/simple_save/saved_model.pb'\n"
     ]
    },
    {
     "name": "stdout",
     "output_type": "stream",
     "text": [
      "---------------------------------------\n",
      "|             Epoch |              11 |\n",
      "|      AverageEpRet |        2.51e+03 |\n",
      "|          StdEpRet |        1.19e+03 |\n",
      "|          MaxEpRet |        3.19e+03 |\n",
      "|          MinEpRet |             141 |\n",
      "|  AverageTestEpRet |        3.01e+03 |\n",
      "|      StdTestEpRet |             350 |\n",
      "|      MaxTestEpRet |        3.22e+03 |\n",
      "|      MinTestEpRet |        1.99e+03 |\n",
      "|             EpLen |           1e+03 |\n",
      "|         TestEpLen |           1e+03 |\n",
      "| TotalEnvInteracts |         5.5e+04 |\n",
      "|     AverageQ1Vals |              83 |\n",
      "|         StdQ1Vals |            59.2 |\n",
      "|         MaxQ1Vals |             181 |\n",
      "|         MinQ1Vals |           -23.8 |\n",
      "|     AverageQ2Vals |              83 |\n",
      "|         StdQ2Vals |            59.2 |\n",
      "|         MaxQ2Vals |             182 |\n",
      "|         MinQ2Vals |           -24.5 |\n",
      "|            LossPi |           -84.6 |\n",
      "|             LossQ |            19.6 |\n",
      "|              Time |             203 |\n",
      "---------------------------------------\n",
      "INFO:tensorflow:Assets added to graph.\n"
     ]
    },
    {
     "name": "stderr",
     "output_type": "stream",
     "text": [
      "[2019-03-05 11:17:20,450] Assets added to graph.\n"
     ]
    },
    {
     "name": "stdout",
     "output_type": "stream",
     "text": [
      "INFO:tensorflow:No assets to write.\n"
     ]
    },
    {
     "name": "stderr",
     "output_type": "stream",
     "text": [
      "[2019-03-05 11:17:20,452] No assets to write.\n"
     ]
    },
    {
     "name": "stdout",
     "output_type": "stream",
     "text": [
      "INFO:tensorflow:SavedModel written to: b'/home/phw/rsl/CS234_Project/data/td3/td3_s0/simple_save/saved_model.pb'\n"
     ]
    },
    {
     "name": "stderr",
     "output_type": "stream",
     "text": [
      "[2019-03-05 11:17:20,790] SavedModel written to: b'/home/phw/rsl/CS234_Project/data/td3/td3_s0/simple_save/saved_model.pb'\n"
     ]
    },
    {
     "name": "stdout",
     "output_type": "stream",
     "text": [
      "---------------------------------------\n",
      "|             Epoch |              12 |\n",
      "|      AverageEpRet |        1.63e+03 |\n",
      "|          StdEpRet |        1.08e+03 |\n",
      "|          MaxEpRet |        2.98e+03 |\n",
      "|          MinEpRet |             414 |\n",
      "|  AverageTestEpRet |        3.01e+03 |\n",
      "|      StdTestEpRet |             854 |\n",
      "|      MaxTestEpRet |        3.38e+03 |\n",
      "|      MinTestEpRet |             445 |\n",
      "|             EpLen |           1e+03 |\n",
      "|         TestEpLen |           1e+03 |\n",
      "| TotalEnvInteracts |           6e+04 |\n",
      "|     AverageQ1Vals |            92.3 |\n",
      "|         StdQ1Vals |            65.1 |\n",
      "|         MaxQ1Vals |             198 |\n",
      "|         MinQ1Vals |           -26.3 |\n",
      "|     AverageQ2Vals |            92.3 |\n",
      "|         StdQ2Vals |            65.1 |\n",
      "|         MaxQ2Vals |             197 |\n",
      "|         MinQ2Vals |           -28.7 |\n",
      "|            LossPi |           -93.9 |\n",
      "|             LossQ |            22.5 |\n",
      "|              Time |             222 |\n",
      "---------------------------------------\n",
      "INFO:tensorflow:Assets added to graph.\n"
     ]
    },
    {
     "name": "stderr",
     "output_type": "stream",
     "text": [
      "[2019-03-05 11:17:40,874] Assets added to graph.\n"
     ]
    },
    {
     "name": "stdout",
     "output_type": "stream",
     "text": [
      "INFO:tensorflow:No assets to write.\n"
     ]
    },
    {
     "name": "stderr",
     "output_type": "stream",
     "text": [
      "[2019-03-05 11:17:40,875] No assets to write.\n"
     ]
    },
    {
     "name": "stdout",
     "output_type": "stream",
     "text": [
      "INFO:tensorflow:SavedModel written to: b'/home/phw/rsl/CS234_Project/data/td3/td3_s0/simple_save/saved_model.pb'\n"
     ]
    },
    {
     "name": "stderr",
     "output_type": "stream",
     "text": [
      "[2019-03-05 11:17:41,261] SavedModel written to: b'/home/phw/rsl/CS234_Project/data/td3/td3_s0/simple_save/saved_model.pb'\n"
     ]
    },
    {
     "name": "stdout",
     "output_type": "stream",
     "text": [
      "---------------------------------------\n",
      "|             Epoch |              13 |\n",
      "|      AverageEpRet |        3.07e+03 |\n",
      "|          StdEpRet |             185 |\n",
      "|          MaxEpRet |        3.28e+03 |\n",
      "|          MinEpRet |        2.76e+03 |\n",
      "|  AverageTestEpRet |        3.43e+03 |\n",
      "|      StdTestEpRet |             259 |\n",
      "|      MaxTestEpRet |        3.68e+03 |\n",
      "|      MinTestEpRet |        2.75e+03 |\n",
      "|             EpLen |           1e+03 |\n",
      "|         TestEpLen |           1e+03 |\n",
      "| TotalEnvInteracts |         6.5e+04 |\n",
      "|     AverageQ1Vals |             103 |\n",
      "|         StdQ1Vals |            70.4 |\n",
      "|         MaxQ1Vals |             214 |\n",
      "|         MinQ1Vals |           -35.1 |\n",
      "|     AverageQ2Vals |             103 |\n",
      "|         StdQ2Vals |            70.4 |\n",
      "|         MaxQ2Vals |             215 |\n",
      "|         MinQ2Vals |           -30.7 |\n",
      "|            LossPi |            -105 |\n",
      "|             LossQ |            24.9 |\n",
      "|              Time |             243 |\n",
      "---------------------------------------\n",
      "INFO:tensorflow:Assets added to graph.\n"
     ]
    },
    {
     "name": "stderr",
     "output_type": "stream",
     "text": [
      "[2019-03-05 11:18:01,133] Assets added to graph.\n"
     ]
    },
    {
     "name": "stdout",
     "output_type": "stream",
     "text": [
      "INFO:tensorflow:No assets to write.\n"
     ]
    },
    {
     "name": "stderr",
     "output_type": "stream",
     "text": [
      "[2019-03-05 11:18:01,134] No assets to write.\n"
     ]
    },
    {
     "name": "stdout",
     "output_type": "stream",
     "text": [
      "INFO:tensorflow:SavedModel written to: b'/home/phw/rsl/CS234_Project/data/td3/td3_s0/simple_save/saved_model.pb'\n"
     ]
    },
    {
     "name": "stderr",
     "output_type": "stream",
     "text": [
      "[2019-03-05 11:18:01,495] SavedModel written to: b'/home/phw/rsl/CS234_Project/data/td3/td3_s0/simple_save/saved_model.pb'\n"
     ]
    },
    {
     "name": "stdout",
     "output_type": "stream",
     "text": [
      "---------------------------------------\n",
      "|             Epoch |              14 |\n",
      "|      AverageEpRet |         2.8e+03 |\n",
      "|          StdEpRet |        1.43e+03 |\n",
      "|          MaxEpRet |         3.7e+03 |\n",
      "|          MinEpRet |           -37.1 |\n",
      "|  AverageTestEpRet |        3.02e+03 |\n",
      "|      StdTestEpRet |             882 |\n",
      "|      MaxTestEpRet |         3.5e+03 |\n",
      "|      MinTestEpRet |             409 |\n",
      "|             EpLen |           1e+03 |\n",
      "|         TestEpLen |           1e+03 |\n",
      "| TotalEnvInteracts |           7e+04 |\n",
      "|     AverageQ1Vals |             115 |\n",
      "|         StdQ1Vals |            74.9 |\n",
      "|         MaxQ1Vals |             231 |\n",
      "|         MinQ1Vals |           -36.8 |\n",
      "|     AverageQ2Vals |             115 |\n",
      "|         StdQ2Vals |            74.9 |\n",
      "|         MaxQ2Vals |             233 |\n",
      "|         MinQ2Vals |           -38.3 |\n",
      "|            LossPi |            -116 |\n",
      "|             LossQ |            27.4 |\n",
      "|              Time |             262 |\n",
      "---------------------------------------\n",
      "INFO:tensorflow:Assets added to graph.\n"
     ]
    },
    {
     "name": "stderr",
     "output_type": "stream",
     "text": [
      "[2019-03-05 11:18:20,999] Assets added to graph.\n"
     ]
    },
    {
     "name": "stdout",
     "output_type": "stream",
     "text": [
      "INFO:tensorflow:No assets to write.\n"
     ]
    },
    {
     "name": "stderr",
     "output_type": "stream",
     "text": [
      "[2019-03-05 11:18:21,001] No assets to write.\n"
     ]
    },
    {
     "name": "stdout",
     "output_type": "stream",
     "text": [
      "INFO:tensorflow:SavedModel written to: b'/home/phw/rsl/CS234_Project/data/td3/td3_s0/simple_save/saved_model.pb'\n"
     ]
    },
    {
     "name": "stderr",
     "output_type": "stream",
     "text": [
      "[2019-03-05 11:18:21,378] SavedModel written to: b'/home/phw/rsl/CS234_Project/data/td3/td3_s0/simple_save/saved_model.pb'\n"
     ]
    },
    {
     "name": "stdout",
     "output_type": "stream",
     "text": [
      "---------------------------------------\n",
      "|             Epoch |              15 |\n",
      "|      AverageEpRet |        3.41e+03 |\n",
      "|          StdEpRet |             145 |\n",
      "|          MaxEpRet |        3.64e+03 |\n",
      "|          MinEpRet |         3.2e+03 |\n",
      "|  AverageTestEpRet |        1.62e+03 |\n",
      "|      StdTestEpRet |             805 |\n",
      "|      MaxTestEpRet |        2.61e+03 |\n",
      "|      MinTestEpRet |            90.1 |\n",
      "|             EpLen |           1e+03 |\n",
      "|         TestEpLen |           1e+03 |\n",
      "| TotalEnvInteracts |         7.5e+04 |\n",
      "|     AverageQ1Vals |             126 |\n",
      "|         StdQ1Vals |            79.1 |\n",
      "|         MaxQ1Vals |             244 |\n",
      "|         MinQ1Vals |           -41.1 |\n",
      "|     AverageQ2Vals |             126 |\n",
      "|         StdQ2Vals |            79.1 |\n",
      "|         MaxQ2Vals |             244 |\n",
      "|         MinQ2Vals |           -39.4 |\n",
      "|            LossPi |            -128 |\n",
      "|             LossQ |            29.3 |\n",
      "|              Time |             282 |\n",
      "---------------------------------------\n",
      "INFO:tensorflow:Assets added to graph.\n"
     ]
    },
    {
     "name": "stderr",
     "output_type": "stream",
     "text": [
      "[2019-03-05 11:18:40,868] Assets added to graph.\n"
     ]
    },
    {
     "name": "stdout",
     "output_type": "stream",
     "text": [
      "INFO:tensorflow:No assets to write.\n"
     ]
    },
    {
     "name": "stderr",
     "output_type": "stream",
     "text": [
      "[2019-03-05 11:18:40,869] No assets to write.\n"
     ]
    },
    {
     "name": "stdout",
     "output_type": "stream",
     "text": [
      "INFO:tensorflow:SavedModel written to: b'/home/phw/rsl/CS234_Project/data/td3/td3_s0/simple_save/saved_model.pb'\n"
     ]
    },
    {
     "name": "stderr",
     "output_type": "stream",
     "text": [
      "[2019-03-05 11:18:41,263] SavedModel written to: b'/home/phw/rsl/CS234_Project/data/td3/td3_s0/simple_save/saved_model.pb'\n"
     ]
    },
    {
     "name": "stdout",
     "output_type": "stream",
     "text": [
      "---------------------------------------\n",
      "|             Epoch |              16 |\n",
      "|      AverageEpRet |        2.53e+03 |\n",
      "|          StdEpRet |        1.47e+03 |\n",
      "|          MaxEpRet |        3.73e+03 |\n",
      "|          MinEpRet |            -361 |\n",
      "|  AverageTestEpRet |        3.61e+03 |\n",
      "|      StdTestEpRet |             319 |\n",
      "|      MaxTestEpRet |         3.9e+03 |\n",
      "|      MinTestEpRet |        2.75e+03 |\n",
      "|             EpLen |           1e+03 |\n",
      "|         TestEpLen |           1e+03 |\n",
      "| TotalEnvInteracts |           8e+04 |\n",
      "|     AverageQ1Vals |             137 |\n",
      "|         StdQ1Vals |            82.5 |\n",
      "|         MaxQ1Vals |             262 |\n",
      "|         MinQ1Vals |           -41.2 |\n",
      "|     AverageQ2Vals |             137 |\n",
      "|         StdQ2Vals |            82.5 |\n",
      "|         MaxQ2Vals |             263 |\n",
      "|         MinQ2Vals |           -47.2 |\n",
      "|            LossPi |            -139 |\n",
      "|             LossQ |            32.5 |\n",
      "|              Time |             302 |\n",
      "---------------------------------------\n",
      "INFO:tensorflow:Assets added to graph.\n"
     ]
    },
    {
     "name": "stderr",
     "output_type": "stream",
     "text": [
      "[2019-03-05 11:18:59,399] Assets added to graph.\n"
     ]
    },
    {
     "name": "stdout",
     "output_type": "stream",
     "text": [
      "INFO:tensorflow:No assets to write.\n"
     ]
    },
    {
     "name": "stderr",
     "output_type": "stream",
     "text": [
      "[2019-03-05 11:18:59,400] No assets to write.\n"
     ]
    },
    {
     "name": "stdout",
     "output_type": "stream",
     "text": [
      "INFO:tensorflow:SavedModel written to: b'/home/phw/rsl/CS234_Project/data/td3/td3_s0/simple_save/saved_model.pb'\n"
     ]
    },
    {
     "name": "stderr",
     "output_type": "stream",
     "text": [
      "[2019-03-05 11:18:59,786] SavedModel written to: b'/home/phw/rsl/CS234_Project/data/td3/td3_s0/simple_save/saved_model.pb'\n"
     ]
    },
    {
     "name": "stdout",
     "output_type": "stream",
     "text": [
      "---------------------------------------\n",
      "|             Epoch |              17 |\n",
      "|      AverageEpRet |        2.58e+03 |\n",
      "|          StdEpRet |           1e+03 |\n",
      "|          MaxEpRet |         3.6e+03 |\n",
      "|          MinEpRet |             969 |\n",
      "|  AverageTestEpRet |        2.82e+03 |\n",
      "|      StdTestEpRet |        1.28e+03 |\n",
      "|      MaxTestEpRet |        3.79e+03 |\n",
      "|      MinTestEpRet |            65.8 |\n",
      "|             EpLen |           1e+03 |\n",
      "|         TestEpLen |           1e+03 |\n",
      "| TotalEnvInteracts |         8.5e+04 |\n",
      "|     AverageQ1Vals |             145 |\n",
      "|         StdQ1Vals |            87.5 |\n",
      "|         MaxQ1Vals |             276 |\n",
      "|         MinQ1Vals |           -50.1 |\n",
      "|     AverageQ2Vals |             145 |\n",
      "|         StdQ2Vals |            87.5 |\n",
      "|         MaxQ2Vals |             276 |\n",
      "|         MinQ2Vals |           -54.2 |\n",
      "|            LossPi |            -146 |\n",
      "|             LossQ |            34.9 |\n",
      "|              Time |             320 |\n",
      "---------------------------------------\n",
      "INFO:tensorflow:Assets added to graph.\n"
     ]
    },
    {
     "name": "stderr",
     "output_type": "stream",
     "text": [
      "[2019-03-05 11:19:18,430] Assets added to graph.\n"
     ]
    },
    {
     "name": "stdout",
     "output_type": "stream",
     "text": [
      "INFO:tensorflow:No assets to write.\n"
     ]
    },
    {
     "name": "stderr",
     "output_type": "stream",
     "text": [
      "[2019-03-05 11:19:18,433] No assets to write.\n"
     ]
    },
    {
     "name": "stdout",
     "output_type": "stream",
     "text": [
      "INFO:tensorflow:SavedModel written to: b'/home/phw/rsl/CS234_Project/data/td3/td3_s0/simple_save/saved_model.pb'\n"
     ]
    },
    {
     "name": "stderr",
     "output_type": "stream",
     "text": [
      "[2019-03-05 11:19:18,830] SavedModel written to: b'/home/phw/rsl/CS234_Project/data/td3/td3_s0/simple_save/saved_model.pb'\n"
     ]
    },
    {
     "name": "stdout",
     "output_type": "stream",
     "text": [
      "---------------------------------------\n",
      "|             Epoch |              18 |\n",
      "|      AverageEpRet |        2.79e+03 |\n",
      "|          StdEpRet |        1.42e+03 |\n",
      "|          MaxEpRet |        3.76e+03 |\n",
      "|          MinEpRet |           -11.2 |\n",
      "|  AverageTestEpRet |        2.87e+03 |\n",
      "|      StdTestEpRet |        1.24e+03 |\n",
      "|      MaxTestEpRet |        4.12e+03 |\n",
      "|      MinTestEpRet |             425 |\n",
      "|             EpLen |           1e+03 |\n",
      "|         TestEpLen |           1e+03 |\n",
      "| TotalEnvInteracts |           9e+04 |\n",
      "|     AverageQ1Vals |             152 |\n",
      "|         StdQ1Vals |            91.7 |\n",
      "|         MaxQ1Vals |             290 |\n",
      "|         MinQ1Vals |           -62.2 |\n",
      "|     AverageQ2Vals |             152 |\n",
      "|         StdQ2Vals |            91.7 |\n",
      "|         MaxQ2Vals |             290 |\n",
      "|         MinQ2Vals |           -75.2 |\n",
      "|            LossPi |            -154 |\n",
      "|             LossQ |            38.9 |\n",
      "|              Time |             340 |\n",
      "---------------------------------------\n",
      "INFO:tensorflow:Assets added to graph.\n"
     ]
    },
    {
     "name": "stderr",
     "output_type": "stream",
     "text": [
      "[2019-03-05 11:19:36,908] Assets added to graph.\n"
     ]
    },
    {
     "name": "stdout",
     "output_type": "stream",
     "text": [
      "INFO:tensorflow:No assets to write.\n"
     ]
    },
    {
     "name": "stderr",
     "output_type": "stream",
     "text": [
      "[2019-03-05 11:19:36,910] No assets to write.\n"
     ]
    },
    {
     "name": "stdout",
     "output_type": "stream",
     "text": [
      "INFO:tensorflow:SavedModel written to: b'/home/phw/rsl/CS234_Project/data/td3/td3_s0/simple_save/saved_model.pb'\n"
     ]
    },
    {
     "name": "stderr",
     "output_type": "stream",
     "text": [
      "[2019-03-05 11:19:37,321] SavedModel written to: b'/home/phw/rsl/CS234_Project/data/td3/td3_s0/simple_save/saved_model.pb'\n"
     ]
    },
    {
     "name": "stdout",
     "output_type": "stream",
     "text": [
      "---------------------------------------\n",
      "|             Epoch |              19 |\n",
      "|      AverageEpRet |        3.59e+03 |\n",
      "|          StdEpRet |             158 |\n",
      "|          MaxEpRet |         3.8e+03 |\n",
      "|          MinEpRet |        3.42e+03 |\n",
      "|  AverageTestEpRet |        3.85e+03 |\n",
      "|      StdTestEpRet |             163 |\n",
      "|      MaxTestEpRet |        4.06e+03 |\n",
      "|      MinTestEpRet |        3.55e+03 |\n",
      "|             EpLen |           1e+03 |\n",
      "|         TestEpLen |           1e+03 |\n",
      "| TotalEnvInteracts |         9.5e+04 |\n",
      "|     AverageQ1Vals |             163 |\n",
      "|         StdQ1Vals |            93.8 |\n",
      "|         MaxQ1Vals |             295 |\n",
      "|         MinQ1Vals |           -66.3 |\n",
      "|     AverageQ2Vals |             163 |\n",
      "|         StdQ2Vals |            93.8 |\n",
      "|         MaxQ2Vals |             296 |\n",
      "|         MinQ2Vals |           -74.3 |\n",
      "|            LossPi |            -164 |\n",
      "|             LossQ |            41.8 |\n",
      "|              Time |             358 |\n",
      "---------------------------------------\n",
      "INFO:tensorflow:Assets added to graph.\n"
     ]
    },
    {
     "name": "stderr",
     "output_type": "stream",
     "text": [
      "[2019-03-05 11:19:58,843] Assets added to graph.\n"
     ]
    },
    {
     "name": "stdout",
     "output_type": "stream",
     "text": [
      "INFO:tensorflow:No assets to write.\n"
     ]
    },
    {
     "name": "stderr",
     "output_type": "stream",
     "text": [
      "[2019-03-05 11:19:58,844] No assets to write.\n"
     ]
    },
    {
     "name": "stdout",
     "output_type": "stream",
     "text": [
      "INFO:tensorflow:SavedModel written to: b'/home/phw/rsl/CS234_Project/data/td3/td3_s0/simple_save/saved_model.pb'\n"
     ]
    },
    {
     "name": "stderr",
     "output_type": "stream",
     "text": [
      "[2019-03-05 11:19:59,265] SavedModel written to: b'/home/phw/rsl/CS234_Project/data/td3/td3_s0/simple_save/saved_model.pb'\n"
     ]
    },
    {
     "name": "stdout",
     "output_type": "stream",
     "text": [
      "---------------------------------------\n",
      "|             Epoch |              20 |\n",
      "|      AverageEpRet |        3.25e+03 |\n",
      "|          StdEpRet |        1.15e+03 |\n",
      "|          MaxEpRet |        3.95e+03 |\n",
      "|          MinEpRet |             947 |\n",
      "|  AverageTestEpRet |        3.91e+03 |\n",
      "|      StdTestEpRet |             594 |\n",
      "|      MaxTestEpRet |        4.25e+03 |\n",
      "|      MinTestEpRet |        2.16e+03 |\n",
      "|             EpLen |           1e+03 |\n",
      "|         TestEpLen |           1e+03 |\n",
      "| TotalEnvInteracts |           1e+05 |\n",
      "|     AverageQ1Vals |             172 |\n",
      "|         StdQ1Vals |            95.9 |\n",
      "|         MaxQ1Vals |             303 |\n",
      "|         MinQ1Vals |           -63.9 |\n",
      "|     AverageQ2Vals |             172 |\n",
      "|         StdQ2Vals |            95.9 |\n",
      "|         MaxQ2Vals |             304 |\n",
      "|         MinQ2Vals |           -75.6 |\n",
      "|            LossPi |            -173 |\n",
      "|             LossQ |            43.2 |\n",
      "|              Time |             380 |\n",
      "---------------------------------------\n",
      "INFO:tensorflow:Assets added to graph.\n"
     ]
    },
    {
     "name": "stderr",
     "output_type": "stream",
     "text": [
      "[2019-03-05 11:20:17,332] Assets added to graph.\n"
     ]
    },
    {
     "name": "stdout",
     "output_type": "stream",
     "text": [
      "INFO:tensorflow:No assets to write.\n"
     ]
    },
    {
     "name": "stderr",
     "output_type": "stream",
     "text": [
      "[2019-03-05 11:20:17,333] No assets to write.\n"
     ]
    },
    {
     "name": "stdout",
     "output_type": "stream",
     "text": [
      "INFO:tensorflow:SavedModel written to: b'/home/phw/rsl/CS234_Project/data/td3/td3_s0/simple_save/saved_model.pb'\n"
     ]
    },
    {
     "name": "stderr",
     "output_type": "stream",
     "text": [
      "[2019-03-05 11:20:17,768] SavedModel written to: b'/home/phw/rsl/CS234_Project/data/td3/td3_s0/simple_save/saved_model.pb'\n"
     ]
    },
    {
     "name": "stdout",
     "output_type": "stream",
     "text": [
      "---------------------------------------\n",
      "|             Epoch |              21 |\n",
      "|      AverageEpRet |        3.78e+03 |\n",
      "|          StdEpRet |             283 |\n",
      "|          MaxEpRet |        4.09e+03 |\n",
      "|          MinEpRet |        3.42e+03 |\n",
      "|  AverageTestEpRet |        2.23e+03 |\n",
      "|      StdTestEpRet |        1.44e+03 |\n",
      "|      MaxTestEpRet |        3.91e+03 |\n",
      "|      MinTestEpRet |            -243 |\n",
      "|             EpLen |           1e+03 |\n",
      "|         TestEpLen |           1e+03 |\n",
      "| TotalEnvInteracts |        1.05e+05 |\n",
      "|     AverageQ1Vals |             180 |\n",
      "|         StdQ1Vals |            98.6 |\n",
      "|         MaxQ1Vals |             311 |\n",
      "|         MinQ1Vals |             -63 |\n",
      "|     AverageQ2Vals |             180 |\n",
      "|         StdQ2Vals |            98.6 |\n",
      "|         MaxQ2Vals |             309 |\n",
      "|         MinQ2Vals |           -70.2 |\n",
      "|            LossPi |            -182 |\n",
      "|             LossQ |            44.5 |\n",
      "|              Time |             398 |\n",
      "---------------------------------------\n",
      "INFO:tensorflow:Assets added to graph.\n"
     ]
    },
    {
     "name": "stderr",
     "output_type": "stream",
     "text": [
      "[2019-03-05 11:20:35,814] Assets added to graph.\n"
     ]
    },
    {
     "name": "stdout",
     "output_type": "stream",
     "text": [
      "INFO:tensorflow:No assets to write.\n"
     ]
    },
    {
     "name": "stderr",
     "output_type": "stream",
     "text": [
      "[2019-03-05 11:20:35,815] No assets to write.\n"
     ]
    },
    {
     "name": "stdout",
     "output_type": "stream",
     "text": [
      "INFO:tensorflow:SavedModel written to: b'/home/phw/rsl/CS234_Project/data/td3/td3_s0/simple_save/saved_model.pb'\n"
     ]
    },
    {
     "name": "stderr",
     "output_type": "stream",
     "text": [
      "[2019-03-05 11:20:36,264] SavedModel written to: b'/home/phw/rsl/CS234_Project/data/td3/td3_s0/simple_save/saved_model.pb'\n"
     ]
    },
    {
     "name": "stdout",
     "output_type": "stream",
     "text": [
      "---------------------------------------\n",
      "|             Epoch |              22 |\n",
      "|      AverageEpRet |        2.78e+03 |\n",
      "|          StdEpRet |        1.46e+03 |\n",
      "|          MaxEpRet |        4.06e+03 |\n",
      "|          MinEpRet |             764 |\n",
      "|  AverageTestEpRet |        3.88e+03 |\n",
      "|      StdTestEpRet |             810 |\n",
      "|      MaxTestEpRet |        4.39e+03 |\n",
      "|      MinTestEpRet |        1.52e+03 |\n",
      "|             EpLen |           1e+03 |\n",
      "|         TestEpLen |           1e+03 |\n",
      "| TotalEnvInteracts |         1.1e+05 |\n",
      "|     AverageQ1Vals |             186 |\n",
      "|         StdQ1Vals |             101 |\n",
      "|         MaxQ1Vals |             322 |\n",
      "|         MinQ1Vals |           -66.2 |\n",
      "|     AverageQ2Vals |             186 |\n",
      "|         StdQ2Vals |             101 |\n",
      "|         MaxQ2Vals |             321 |\n",
      "|         MinQ2Vals |           -70.4 |\n",
      "|            LossPi |            -188 |\n",
      "|             LossQ |            46.6 |\n",
      "|              Time |             417 |\n",
      "---------------------------------------\n",
      "INFO:tensorflow:Assets added to graph.\n"
     ]
    },
    {
     "name": "stderr",
     "output_type": "stream",
     "text": [
      "[2019-03-05 11:20:55,096] Assets added to graph.\n"
     ]
    },
    {
     "name": "stdout",
     "output_type": "stream",
     "text": [
      "INFO:tensorflow:No assets to write.\n"
     ]
    },
    {
     "name": "stderr",
     "output_type": "stream",
     "text": [
      "[2019-03-05 11:20:55,097] No assets to write.\n"
     ]
    },
    {
     "name": "stdout",
     "output_type": "stream",
     "text": [
      "INFO:tensorflow:SavedModel written to: b'/home/phw/rsl/CS234_Project/data/td3/td3_s0/simple_save/saved_model.pb'\n"
     ]
    },
    {
     "name": "stderr",
     "output_type": "stream",
     "text": [
      "[2019-03-05 11:20:55,576] SavedModel written to: b'/home/phw/rsl/CS234_Project/data/td3/td3_s0/simple_save/saved_model.pb'\n"
     ]
    },
    {
     "name": "stdout",
     "output_type": "stream",
     "text": [
      "---------------------------------------\n",
      "|             Epoch |              23 |\n",
      "|      AverageEpRet |        3.61e+03 |\n",
      "|          StdEpRet |             480 |\n",
      "|          MaxEpRet |        4.06e+03 |\n",
      "|          MinEpRet |        2.74e+03 |\n",
      "|  AverageTestEpRet |        4.22e+03 |\n",
      "|      StdTestEpRet |             143 |\n",
      "|      MaxTestEpRet |        4.47e+03 |\n",
      "|      MinTestEpRet |        4.02e+03 |\n",
      "|             EpLen |           1e+03 |\n",
      "|         TestEpLen |           1e+03 |\n",
      "| TotalEnvInteracts |        1.15e+05 |\n",
      "|     AverageQ1Vals |             194 |\n",
      "|         StdQ1Vals |             103 |\n",
      "|         MaxQ1Vals |             328 |\n",
      "|         MinQ1Vals |           -66.3 |\n",
      "|     AverageQ2Vals |             194 |\n",
      "|         StdQ2Vals |             103 |\n",
      "|         MaxQ2Vals |             330 |\n",
      "|         MinQ2Vals |           -68.2 |\n",
      "|            LossPi |            -196 |\n",
      "|             LossQ |            48.5 |\n",
      "|              Time |             437 |\n",
      "---------------------------------------\n",
      "INFO:tensorflow:Assets added to graph.\n"
     ]
    },
    {
     "name": "stderr",
     "output_type": "stream",
     "text": [
      "[2019-03-05 11:21:15,247] Assets added to graph.\n"
     ]
    },
    {
     "name": "stdout",
     "output_type": "stream",
     "text": [
      "INFO:tensorflow:No assets to write.\n"
     ]
    },
    {
     "name": "stderr",
     "output_type": "stream",
     "text": [
      "[2019-03-05 11:21:15,248] No assets to write.\n"
     ]
    },
    {
     "name": "stdout",
     "output_type": "stream",
     "text": [
      "INFO:tensorflow:SavedModel written to: b'/home/phw/rsl/CS234_Project/data/td3/td3_s0/simple_save/saved_model.pb'\n"
     ]
    },
    {
     "name": "stderr",
     "output_type": "stream",
     "text": [
      "[2019-03-05 11:21:15,763] SavedModel written to: b'/home/phw/rsl/CS234_Project/data/td3/td3_s0/simple_save/saved_model.pb'\n"
     ]
    },
    {
     "name": "stdout",
     "output_type": "stream",
     "text": [
      "---------------------------------------\n",
      "|             Epoch |              24 |\n",
      "|      AverageEpRet |        3.87e+03 |\n",
      "|          StdEpRet |             386 |\n",
      "|          MaxEpRet |        4.36e+03 |\n",
      "|          MinEpRet |        3.22e+03 |\n",
      "|  AverageTestEpRet |        4.58e+03 |\n",
      "|      StdTestEpRet |             102 |\n",
      "|      MaxTestEpRet |        4.78e+03 |\n",
      "|      MinTestEpRet |         4.4e+03 |\n",
      "|             EpLen |           1e+03 |\n",
      "|         TestEpLen |           1e+03 |\n",
      "| TotalEnvInteracts |         1.2e+05 |\n",
      "|     AverageQ1Vals |             201 |\n",
      "|         StdQ1Vals |             104 |\n",
      "|         MaxQ1Vals |             335 |\n",
      "|         MinQ1Vals |           -68.5 |\n",
      "|     AverageQ2Vals |             201 |\n",
      "|         StdQ2Vals |             104 |\n",
      "|         MaxQ2Vals |             336 |\n",
      "|         MinQ2Vals |           -75.3 |\n",
      "|            LossPi |            -203 |\n",
      "|             LossQ |              50 |\n",
      "|              Time |             456 |\n",
      "---------------------------------------\n",
      "INFO:tensorflow:Assets added to graph.\n"
     ]
    },
    {
     "name": "stderr",
     "output_type": "stream",
     "text": [
      "[2019-03-05 11:21:35,143] Assets added to graph.\n"
     ]
    },
    {
     "name": "stdout",
     "output_type": "stream",
     "text": [
      "INFO:tensorflow:No assets to write.\n"
     ]
    },
    {
     "name": "stderr",
     "output_type": "stream",
     "text": [
      "[2019-03-05 11:21:35,144] No assets to write.\n"
     ]
    },
    {
     "name": "stdout",
     "output_type": "stream",
     "text": [
      "INFO:tensorflow:SavedModel written to: b'/home/phw/rsl/CS234_Project/data/td3/td3_s0/simple_save/saved_model.pb'\n"
     ]
    },
    {
     "name": "stderr",
     "output_type": "stream",
     "text": [
      "[2019-03-05 11:21:35,635] SavedModel written to: b'/home/phw/rsl/CS234_Project/data/td3/td3_s0/simple_save/saved_model.pb'\n"
     ]
    },
    {
     "name": "stdout",
     "output_type": "stream",
     "text": [
      "---------------------------------------\n",
      "|             Epoch |              25 |\n",
      "|      AverageEpRet |        4.18e+03 |\n",
      "|          StdEpRet |             294 |\n",
      "|          MaxEpRet |        4.66e+03 |\n",
      "|          MinEpRet |        3.74e+03 |\n",
      "|  AverageTestEpRet |        3.97e+03 |\n",
      "|      StdTestEpRet |        1.01e+03 |\n",
      "|      MaxTestEpRet |        4.69e+03 |\n",
      "|      MinTestEpRet |        1.86e+03 |\n",
      "|             EpLen |           1e+03 |\n",
      "|         TestEpLen |           1e+03 |\n",
      "| TotalEnvInteracts |        1.25e+05 |\n",
      "|     AverageQ1Vals |             209 |\n",
      "|         StdQ1Vals |             105 |\n",
      "|         MaxQ1Vals |             340 |\n",
      "|         MinQ1Vals |           -74.3 |\n",
      "|     AverageQ2Vals |             209 |\n",
      "|         StdQ2Vals |             105 |\n",
      "|         MaxQ2Vals |             341 |\n",
      "|         MinQ2Vals |           -73.8 |\n",
      "|            LossPi |            -211 |\n",
      "|             LossQ |            49.5 |\n",
      "|              Time |             477 |\n",
      "---------------------------------------\n",
      "INFO:tensorflow:Assets added to graph.\n"
     ]
    },
    {
     "name": "stderr",
     "output_type": "stream",
     "text": [
      "[2019-03-05 11:21:55,484] Assets added to graph.\n"
     ]
    },
    {
     "name": "stdout",
     "output_type": "stream",
     "text": [
      "INFO:tensorflow:No assets to write.\n"
     ]
    },
    {
     "name": "stderr",
     "output_type": "stream",
     "text": [
      "[2019-03-05 11:21:55,487] No assets to write.\n"
     ]
    },
    {
     "name": "stdout",
     "output_type": "stream",
     "text": [
      "INFO:tensorflow:SavedModel written to: b'/home/phw/rsl/CS234_Project/data/td3/td3_s0/simple_save/saved_model.pb'\n"
     ]
    },
    {
     "name": "stderr",
     "output_type": "stream",
     "text": [
      "[2019-03-05 11:21:56,042] SavedModel written to: b'/home/phw/rsl/CS234_Project/data/td3/td3_s0/simple_save/saved_model.pb'\n"
     ]
    },
    {
     "name": "stdout",
     "output_type": "stream",
     "text": [
      "---------------------------------------\n",
      "|             Epoch |              26 |\n",
      "|      AverageEpRet |        4.47e+03 |\n",
      "|          StdEpRet |             156 |\n",
      "|          MaxEpRet |        4.61e+03 |\n",
      "|          MinEpRet |        4.25e+03 |\n",
      "|  AverageTestEpRet |         4.4e+03 |\n",
      "|      StdTestEpRet |             118 |\n",
      "|      MaxTestEpRet |        4.58e+03 |\n",
      "|      MinTestEpRet |        4.24e+03 |\n",
      "|             EpLen |           1e+03 |\n",
      "|         TestEpLen |           1e+03 |\n",
      "| TotalEnvInteracts |         1.3e+05 |\n",
      "|     AverageQ1Vals |             217 |\n",
      "|         StdQ1Vals |             106 |\n",
      "|         MaxQ1Vals |             351 |\n",
      "|         MinQ1Vals |           -70.4 |\n",
      "|     AverageQ2Vals |             217 |\n",
      "|         StdQ2Vals |             106 |\n",
      "|         MaxQ2Vals |             350 |\n",
      "|         MinQ2Vals |           -74.9 |\n",
      "|            LossPi |            -219 |\n",
      "|             LossQ |            51.8 |\n",
      "|              Time |             497 |\n",
      "---------------------------------------\n",
      "INFO:tensorflow:Assets added to graph.\n"
     ]
    },
    {
     "name": "stderr",
     "output_type": "stream",
     "text": [
      "[2019-03-05 11:22:15,688] Assets added to graph.\n"
     ]
    },
    {
     "name": "stdout",
     "output_type": "stream",
     "text": [
      "INFO:tensorflow:No assets to write.\n"
     ]
    },
    {
     "name": "stderr",
     "output_type": "stream",
     "text": [
      "[2019-03-05 11:22:15,689] No assets to write.\n"
     ]
    },
    {
     "name": "stdout",
     "output_type": "stream",
     "text": [
      "INFO:tensorflow:SavedModel written to: b'/home/phw/rsl/CS234_Project/data/td3/td3_s0/simple_save/saved_model.pb'\n"
     ]
    },
    {
     "name": "stderr",
     "output_type": "stream",
     "text": [
      "[2019-03-05 11:22:16,231] SavedModel written to: b'/home/phw/rsl/CS234_Project/data/td3/td3_s0/simple_save/saved_model.pb'\n"
     ]
    },
    {
     "name": "stdout",
     "output_type": "stream",
     "text": [
      "---------------------------------------\n",
      "|             Epoch |              27 |\n",
      "|      AverageEpRet |         4.3e+03 |\n",
      "|          StdEpRet |             232 |\n",
      "|          MaxEpRet |        4.54e+03 |\n",
      "|          MinEpRet |        3.88e+03 |\n",
      "|  AverageTestEpRet |        4.67e+03 |\n",
      "|      StdTestEpRet |            57.7 |\n",
      "|      MaxTestEpRet |        4.74e+03 |\n",
      "|      MinTestEpRet |        4.53e+03 |\n",
      "|             EpLen |           1e+03 |\n",
      "|         TestEpLen |           1e+03 |\n",
      "| TotalEnvInteracts |        1.35e+05 |\n",
      "|     AverageQ1Vals |             226 |\n",
      "|         StdQ1Vals |             107 |\n",
      "|         MaxQ1Vals |             357 |\n",
      "|         MinQ1Vals |           -67.7 |\n",
      "|     AverageQ2Vals |             226 |\n",
      "|         StdQ2Vals |             107 |\n",
      "|         MaxQ2Vals |             358 |\n",
      "|         MinQ2Vals |           -71.1 |\n",
      "|            LossPi |            -228 |\n",
      "|             LossQ |            51.3 |\n",
      "|              Time |             517 |\n",
      "---------------------------------------\n",
      "INFO:tensorflow:Assets added to graph.\n"
     ]
    },
    {
     "name": "stderr",
     "output_type": "stream",
     "text": [
      "[2019-03-05 11:22:36,208] Assets added to graph.\n"
     ]
    },
    {
     "name": "stdout",
     "output_type": "stream",
     "text": [
      "INFO:tensorflow:No assets to write.\n"
     ]
    },
    {
     "name": "stderr",
     "output_type": "stream",
     "text": [
      "[2019-03-05 11:22:36,209] No assets to write.\n"
     ]
    },
    {
     "name": "stdout",
     "output_type": "stream",
     "text": [
      "INFO:tensorflow:SavedModel written to: b'/home/phw/rsl/CS234_Project/data/td3/td3_s0/simple_save/saved_model.pb'\n"
     ]
    },
    {
     "name": "stderr",
     "output_type": "stream",
     "text": [
      "[2019-03-05 11:22:36,731] SavedModel written to: b'/home/phw/rsl/CS234_Project/data/td3/td3_s0/simple_save/saved_model.pb'\n"
     ]
    },
    {
     "name": "stdout",
     "output_type": "stream",
     "text": [
      "---------------------------------------\n",
      "|             Epoch |              28 |\n",
      "|      AverageEpRet |         4.5e+03 |\n",
      "|          StdEpRet |             236 |\n",
      "|          MaxEpRet |        4.82e+03 |\n",
      "|          MinEpRet |        4.11e+03 |\n",
      "|  AverageTestEpRet |        4.03e+03 |\n",
      "|      StdTestEpRet |        1.36e+03 |\n",
      "|      MaxTestEpRet |        4.67e+03 |\n",
      "|      MinTestEpRet |           -25.2 |\n",
      "|             EpLen |           1e+03 |\n",
      "|         TestEpLen |           1e+03 |\n",
      "| TotalEnvInteracts |         1.4e+05 |\n",
      "|     AverageQ1Vals |             235 |\n",
      "|         StdQ1Vals |             108 |\n",
      "|         MaxQ1Vals |             367 |\n",
      "|         MinQ1Vals |           -62.3 |\n",
      "|     AverageQ2Vals |             235 |\n",
      "|         StdQ2Vals |             108 |\n",
      "|         MaxQ2Vals |             368 |\n",
      "|         MinQ2Vals |           -70.2 |\n",
      "|            LossPi |            -237 |\n",
      "|             LossQ |            52.5 |\n",
      "|              Time |             538 |\n",
      "---------------------------------------\n",
      "INFO:tensorflow:Assets added to graph.\n"
     ]
    },
    {
     "name": "stderr",
     "output_type": "stream",
     "text": [
      "[2019-03-05 11:22:57,050] Assets added to graph.\n"
     ]
    },
    {
     "name": "stdout",
     "output_type": "stream",
     "text": [
      "INFO:tensorflow:No assets to write.\n"
     ]
    },
    {
     "name": "stderr",
     "output_type": "stream",
     "text": [
      "[2019-03-05 11:22:57,051] No assets to write.\n"
     ]
    },
    {
     "name": "stdout",
     "output_type": "stream",
     "text": [
      "INFO:tensorflow:SavedModel written to: b'/home/phw/rsl/CS234_Project/data/td3/td3_s0/simple_save/saved_model.pb'\n"
     ]
    },
    {
     "name": "stderr",
     "output_type": "stream",
     "text": [
      "[2019-03-05 11:22:57,633] SavedModel written to: b'/home/phw/rsl/CS234_Project/data/td3/td3_s0/simple_save/saved_model.pb'\n"
     ]
    },
    {
     "name": "stdout",
     "output_type": "stream",
     "text": [
      "---------------------------------------\n",
      "|             Epoch |              29 |\n",
      "|      AverageEpRet |         4.6e+03 |\n",
      "|          StdEpRet |             159 |\n",
      "|          MaxEpRet |        4.79e+03 |\n",
      "|          MinEpRet |        4.38e+03 |\n",
      "|  AverageTestEpRet |        4.54e+03 |\n",
      "|      StdTestEpRet |             100 |\n",
      "|      MaxTestEpRet |        4.68e+03 |\n",
      "|      MinTestEpRet |        4.42e+03 |\n",
      "|             EpLen |           1e+03 |\n",
      "|         TestEpLen |           1e+03 |\n",
      "| TotalEnvInteracts |        1.45e+05 |\n",
      "|     AverageQ1Vals |             244 |\n",
      "|         StdQ1Vals |             109 |\n",
      "|         MaxQ1Vals |             382 |\n",
      "|         MinQ1Vals |           -63.5 |\n",
      "|     AverageQ2Vals |             244 |\n",
      "|         StdQ2Vals |             109 |\n",
      "|         MaxQ2Vals |             380 |\n",
      "|         MinQ2Vals |             -68 |\n",
      "|            LossPi |            -246 |\n",
      "|             LossQ |            53.2 |\n",
      "|              Time |             559 |\n",
      "---------------------------------------\n",
      "INFO:tensorflow:Assets added to graph.\n"
     ]
    },
    {
     "name": "stderr",
     "output_type": "stream",
     "text": [
      "[2019-03-05 11:23:17,241] Assets added to graph.\n"
     ]
    },
    {
     "name": "stdout",
     "output_type": "stream",
     "text": [
      "INFO:tensorflow:No assets to write.\n"
     ]
    },
    {
     "name": "stderr",
     "output_type": "stream",
     "text": [
      "[2019-03-05 11:23:17,242] No assets to write.\n"
     ]
    },
    {
     "name": "stdout",
     "output_type": "stream",
     "text": [
      "INFO:tensorflow:SavedModel written to: b'/home/phw/rsl/CS234_Project/data/td3/td3_s0/simple_save/saved_model.pb'\n"
     ]
    },
    {
     "name": "stderr",
     "output_type": "stream",
     "text": [
      "[2019-03-05 11:23:17,842] SavedModel written to: b'/home/phw/rsl/CS234_Project/data/td3/td3_s0/simple_save/saved_model.pb'\n"
     ]
    },
    {
     "name": "stdout",
     "output_type": "stream",
     "text": [
      "---------------------------------------\n",
      "|             Epoch |              30 |\n",
      "|      AverageEpRet |        4.75e+03 |\n",
      "|          StdEpRet |             251 |\n",
      "|          MaxEpRet |         5.1e+03 |\n",
      "|          MinEpRet |        4.52e+03 |\n",
      "|  AverageTestEpRet |        3.98e+03 |\n",
      "|      StdTestEpRet |        1.14e+03 |\n",
      "|      MaxTestEpRet |        4.51e+03 |\n",
      "|      MinTestEpRet |             568 |\n",
      "|             EpLen |           1e+03 |\n",
      "|         TestEpLen |           1e+03 |\n",
      "| TotalEnvInteracts |         1.5e+05 |\n",
      "|     AverageQ1Vals |             252 |\n",
      "|         StdQ1Vals |             110 |\n",
      "|         MaxQ1Vals |             382 |\n",
      "|         MinQ1Vals |           -71.4 |\n",
      "|     AverageQ2Vals |             252 |\n",
      "|         StdQ2Vals |             110 |\n",
      "|         MaxQ2Vals |             381 |\n",
      "|         MinQ2Vals |           -72.7 |\n",
      "|            LossPi |            -254 |\n",
      "|             LossQ |            53.6 |\n",
      "|              Time |             579 |\n",
      "---------------------------------------\n",
      "INFO:tensorflow:Assets added to graph.\n"
     ]
    },
    {
     "name": "stderr",
     "output_type": "stream",
     "text": [
      "[2019-03-05 11:23:36,832] Assets added to graph.\n"
     ]
    },
    {
     "name": "stdout",
     "output_type": "stream",
     "text": [
      "INFO:tensorflow:No assets to write.\n"
     ]
    },
    {
     "name": "stderr",
     "output_type": "stream",
     "text": [
      "[2019-03-05 11:23:36,833] No assets to write.\n"
     ]
    },
    {
     "name": "stdout",
     "output_type": "stream",
     "text": [
      "INFO:tensorflow:SavedModel written to: b'/home/phw/rsl/CS234_Project/data/td3/td3_s0/simple_save/saved_model.pb'\n"
     ]
    },
    {
     "name": "stderr",
     "output_type": "stream",
     "text": [
      "[2019-03-05 11:23:37,400] SavedModel written to: b'/home/phw/rsl/CS234_Project/data/td3/td3_s0/simple_save/saved_model.pb'\n"
     ]
    },
    {
     "name": "stdout",
     "output_type": "stream",
     "text": [
      "---------------------------------------\n",
      "|             Epoch |              31 |\n",
      "|      AverageEpRet |        4.65e+03 |\n",
      "|          StdEpRet |             331 |\n",
      "|          MaxEpRet |        4.99e+03 |\n",
      "|          MinEpRet |        4.05e+03 |\n",
      "|  AverageTestEpRet |        4.77e+03 |\n",
      "|      StdTestEpRet |             110 |\n",
      "|      MaxTestEpRet |        4.94e+03 |\n",
      "|      MinTestEpRet |        4.64e+03 |\n",
      "|             EpLen |           1e+03 |\n",
      "|         TestEpLen |           1e+03 |\n",
      "| TotalEnvInteracts |        1.55e+05 |\n",
      "|     AverageQ1Vals |             261 |\n",
      "|         StdQ1Vals |             111 |\n",
      "|         MaxQ1Vals |             398 |\n",
      "|         MinQ1Vals |           -59.4 |\n",
      "|     AverageQ2Vals |             261 |\n",
      "|         StdQ2Vals |             111 |\n",
      "|         MaxQ2Vals |             398 |\n",
      "|         MinQ2Vals |           -64.8 |\n",
      "|            LossPi |            -264 |\n",
      "|             LossQ |            55.4 |\n",
      "|              Time |             598 |\n",
      "---------------------------------------\n",
      "INFO:tensorflow:Assets added to graph.\n"
     ]
    },
    {
     "name": "stderr",
     "output_type": "stream",
     "text": [
      "[2019-03-05 11:23:56,189] Assets added to graph.\n"
     ]
    },
    {
     "name": "stdout",
     "output_type": "stream",
     "text": [
      "INFO:tensorflow:No assets to write.\n"
     ]
    },
    {
     "name": "stderr",
     "output_type": "stream",
     "text": [
      "[2019-03-05 11:23:56,190] No assets to write.\n"
     ]
    },
    {
     "name": "stdout",
     "output_type": "stream",
     "text": [
      "INFO:tensorflow:SavedModel written to: b'/home/phw/rsl/CS234_Project/data/td3/td3_s0/simple_save/saved_model.pb'\n"
     ]
    },
    {
     "name": "stderr",
     "output_type": "stream",
     "text": [
      "[2019-03-05 11:23:56,792] SavedModel written to: b'/home/phw/rsl/CS234_Project/data/td3/td3_s0/simple_save/saved_model.pb'\n"
     ]
    },
    {
     "name": "stdout",
     "output_type": "stream",
     "text": [
      "---------------------------------------\n",
      "|             Epoch |              32 |\n",
      "|      AverageEpRet |         4.1e+03 |\n",
      "|          StdEpRet |        1.35e+03 |\n",
      "|          MaxEpRet |        5.24e+03 |\n",
      "|          MinEpRet |        1.46e+03 |\n",
      "|  AverageTestEpRet |        4.69e+03 |\n",
      "|      StdTestEpRet |        1.23e+03 |\n",
      "|      MaxTestEpRet |        5.46e+03 |\n",
      "|      MinTestEpRet |        1.06e+03 |\n",
      "|             EpLen |           1e+03 |\n",
      "|         TestEpLen |           1e+03 |\n",
      "| TotalEnvInteracts |         1.6e+05 |\n",
      "|     AverageQ1Vals |             268 |\n",
      "|         StdQ1Vals |             114 |\n",
      "|         MaxQ1Vals |             405 |\n",
      "|         MinQ1Vals |           -61.3 |\n",
      "|     AverageQ2Vals |             268 |\n",
      "|         StdQ2Vals |             114 |\n",
      "|         MaxQ2Vals |             404 |\n",
      "|         MinQ2Vals |             -63 |\n",
      "|            LossPi |            -270 |\n",
      "|             LossQ |              57 |\n",
      "|              Time |             618 |\n",
      "---------------------------------------\n",
      "INFO:tensorflow:Assets added to graph.\n"
     ]
    },
    {
     "name": "stderr",
     "output_type": "stream",
     "text": [
      "[2019-03-05 11:24:15,590] Assets added to graph.\n"
     ]
    },
    {
     "name": "stdout",
     "output_type": "stream",
     "text": [
      "INFO:tensorflow:No assets to write.\n"
     ]
    },
    {
     "name": "stderr",
     "output_type": "stream",
     "text": [
      "[2019-03-05 11:24:15,591] No assets to write.\n"
     ]
    },
    {
     "name": "stdout",
     "output_type": "stream",
     "text": [
      "INFO:tensorflow:SavedModel written to: b'/home/phw/rsl/CS234_Project/data/td3/td3_s0/simple_save/saved_model.pb'\n"
     ]
    },
    {
     "name": "stderr",
     "output_type": "stream",
     "text": [
      "[2019-03-05 11:24:16,180] SavedModel written to: b'/home/phw/rsl/CS234_Project/data/td3/td3_s0/simple_save/saved_model.pb'\n"
     ]
    },
    {
     "name": "stdout",
     "output_type": "stream",
     "text": [
      "---------------------------------------\n",
      "|             Epoch |              33 |\n",
      "|      AverageEpRet |        4.88e+03 |\n",
      "|          StdEpRet |             192 |\n",
      "|          MaxEpRet |        5.11e+03 |\n",
      "|          MinEpRet |        4.54e+03 |\n",
      "|  AverageTestEpRet |         4.4e+03 |\n",
      "|      StdTestEpRet |        1.45e+03 |\n",
      "|      MaxTestEpRet |        5.16e+03 |\n",
      "|      MinTestEpRet |             147 |\n",
      "|             EpLen |           1e+03 |\n",
      "|         TestEpLen |           1e+03 |\n",
      "| TotalEnvInteracts |        1.65e+05 |\n",
      "|     AverageQ1Vals |             276 |\n",
      "|         StdQ1Vals |             115 |\n",
      "|         MaxQ1Vals |             406 |\n",
      "|         MinQ1Vals |           -59.2 |\n",
      "|     AverageQ2Vals |             276 |\n",
      "|         StdQ2Vals |             115 |\n",
      "|         MaxQ2Vals |             405 |\n",
      "|         MinQ2Vals |           -68.8 |\n",
      "|            LossPi |            -279 |\n",
      "|             LossQ |            58.4 |\n",
      "|              Time |             637 |\n",
      "---------------------------------------\n",
      "INFO:tensorflow:Assets added to graph.\n"
     ]
    },
    {
     "name": "stderr",
     "output_type": "stream",
     "text": [
      "[2019-03-05 11:24:34,206] Assets added to graph.\n"
     ]
    },
    {
     "name": "stdout",
     "output_type": "stream",
     "text": [
      "INFO:tensorflow:No assets to write.\n"
     ]
    },
    {
     "name": "stderr",
     "output_type": "stream",
     "text": [
      "[2019-03-05 11:24:34,207] No assets to write.\n"
     ]
    },
    {
     "name": "stdout",
     "output_type": "stream",
     "text": [
      "INFO:tensorflow:SavedModel written to: b'/home/phw/rsl/CS234_Project/data/td3/td3_s0/simple_save/saved_model.pb'\n"
     ]
    },
    {
     "name": "stderr",
     "output_type": "stream",
     "text": [
      "[2019-03-05 11:24:34,850] SavedModel written to: b'/home/phw/rsl/CS234_Project/data/td3/td3_s0/simple_save/saved_model.pb'\n"
     ]
    },
    {
     "name": "stdout",
     "output_type": "stream",
     "text": [
      "---------------------------------------\n",
      "|             Epoch |              34 |\n",
      "|      AverageEpRet |        5.01e+03 |\n",
      "|          StdEpRet |             237 |\n",
      "|          MaxEpRet |        5.39e+03 |\n",
      "|          MinEpRet |        4.67e+03 |\n",
      "|  AverageTestEpRet |         5.3e+03 |\n",
      "|      StdTestEpRet |             161 |\n",
      "|      MaxTestEpRet |        5.55e+03 |\n",
      "|      MinTestEpRet |        5.02e+03 |\n",
      "|             EpLen |           1e+03 |\n",
      "|         TestEpLen |           1e+03 |\n",
      "| TotalEnvInteracts |         1.7e+05 |\n",
      "|     AverageQ1Vals |             284 |\n",
      "|         StdQ1Vals |             116 |\n",
      "|         MaxQ1Vals |             414 |\n",
      "|         MinQ1Vals |           -59.3 |\n",
      "|     AverageQ2Vals |             284 |\n",
      "|         StdQ2Vals |             116 |\n",
      "|         MaxQ2Vals |             414 |\n",
      "|         MinQ2Vals |           -63.8 |\n",
      "|            LossPi |            -287 |\n",
      "|             LossQ |            58.5 |\n",
      "|              Time |             656 |\n",
      "---------------------------------------\n",
      "INFO:tensorflow:Assets added to graph.\n"
     ]
    },
    {
     "name": "stderr",
     "output_type": "stream",
     "text": [
      "[2019-03-05 11:24:52,854] Assets added to graph.\n"
     ]
    },
    {
     "name": "stdout",
     "output_type": "stream",
     "text": [
      "INFO:tensorflow:No assets to write.\n"
     ]
    },
    {
     "name": "stderr",
     "output_type": "stream",
     "text": [
      "[2019-03-05 11:24:52,855] No assets to write.\n"
     ]
    },
    {
     "name": "stdout",
     "output_type": "stream",
     "text": [
      "INFO:tensorflow:SavedModel written to: b'/home/phw/rsl/CS234_Project/data/td3/td3_s0/simple_save/saved_model.pb'\n"
     ]
    },
    {
     "name": "stderr",
     "output_type": "stream",
     "text": [
      "[2019-03-05 11:24:53,468] SavedModel written to: b'/home/phw/rsl/CS234_Project/data/td3/td3_s0/simple_save/saved_model.pb'\n"
     ]
    },
    {
     "name": "stdout",
     "output_type": "stream",
     "text": [
      "---------------------------------------\n",
      "|             Epoch |              35 |\n",
      "|      AverageEpRet |        4.88e+03 |\n",
      "|          StdEpRet |             323 |\n",
      "|          MaxEpRet |        5.25e+03 |\n",
      "|          MinEpRet |         4.3e+03 |\n",
      "|  AverageTestEpRet |        5.21e+03 |\n",
      "|      StdTestEpRet |            69.3 |\n",
      "|      MaxTestEpRet |        5.36e+03 |\n",
      "|      MinTestEpRet |        5.14e+03 |\n",
      "|             EpLen |           1e+03 |\n",
      "|         TestEpLen |           1e+03 |\n",
      "| TotalEnvInteracts |        1.75e+05 |\n",
      "|     AverageQ1Vals |             292 |\n",
      "|         StdQ1Vals |             117 |\n",
      "|         MaxQ1Vals |             426 |\n",
      "|         MinQ1Vals |           -59.2 |\n",
      "|     AverageQ2Vals |             292 |\n",
      "|         StdQ2Vals |             117 |\n",
      "|         MaxQ2Vals |             422 |\n",
      "|         MinQ2Vals |           -72.6 |\n",
      "|            LossPi |            -294 |\n",
      "|             LossQ |            58.5 |\n",
      "|              Time |             674 |\n",
      "---------------------------------------\n",
      "INFO:tensorflow:Assets added to graph.\n"
     ]
    },
    {
     "name": "stderr",
     "output_type": "stream",
     "text": [
      "[2019-03-05 11:25:11,913] Assets added to graph.\n"
     ]
    },
    {
     "name": "stdout",
     "output_type": "stream",
     "text": [
      "INFO:tensorflow:No assets to write.\n"
     ]
    },
    {
     "name": "stderr",
     "output_type": "stream",
     "text": [
      "[2019-03-05 11:25:11,914] No assets to write.\n"
     ]
    },
    {
     "name": "stdout",
     "output_type": "stream",
     "text": [
      "INFO:tensorflow:SavedModel written to: b'/home/phw/rsl/CS234_Project/data/td3/td3_s0/simple_save/saved_model.pb'\n"
     ]
    },
    {
     "name": "stderr",
     "output_type": "stream",
     "text": [
      "[2019-03-05 11:25:12,545] SavedModel written to: b'/home/phw/rsl/CS234_Project/data/td3/td3_s0/simple_save/saved_model.pb'\n"
     ]
    },
    {
     "name": "stdout",
     "output_type": "stream",
     "text": [
      "---------------------------------------\n",
      "|             Epoch |              36 |\n",
      "|      AverageEpRet |        4.88e+03 |\n",
      "|          StdEpRet |             542 |\n",
      "|          MaxEpRet |         5.3e+03 |\n",
      "|          MinEpRet |        3.81e+03 |\n",
      "|  AverageTestEpRet |        4.99e+03 |\n",
      "|      StdTestEpRet |        1.61e+03 |\n",
      "|      MaxTestEpRet |        5.73e+03 |\n",
      "|      MinTestEpRet |             180 |\n",
      "|             EpLen |           1e+03 |\n",
      "|         TestEpLen |           1e+03 |\n",
      "| TotalEnvInteracts |         1.8e+05 |\n",
      "|     AverageQ1Vals |             300 |\n",
      "|         StdQ1Vals |             118 |\n",
      "|         MaxQ1Vals |             425 |\n",
      "|         MinQ1Vals |           -64.2 |\n",
      "|     AverageQ2Vals |             300 |\n",
      "|         StdQ2Vals |             118 |\n",
      "|         MaxQ2Vals |             424 |\n",
      "|         MinQ2Vals |           -69.6 |\n",
      "|            LossPi |            -302 |\n",
      "|             LossQ |            60.2 |\n",
      "|              Time |             693 |\n",
      "---------------------------------------\n",
      "INFO:tensorflow:Assets added to graph.\n"
     ]
    },
    {
     "name": "stderr",
     "output_type": "stream",
     "text": [
      "[2019-03-05 11:25:30,679] Assets added to graph.\n"
     ]
    },
    {
     "name": "stdout",
     "output_type": "stream",
     "text": [
      "INFO:tensorflow:No assets to write.\n"
     ]
    },
    {
     "name": "stderr",
     "output_type": "stream",
     "text": [
      "[2019-03-05 11:25:30,681] No assets to write.\n"
     ]
    },
    {
     "name": "stdout",
     "output_type": "stream",
     "text": [
      "INFO:tensorflow:SavedModel written to: b'/home/phw/rsl/CS234_Project/data/td3/td3_s0/simple_save/saved_model.pb'\n"
     ]
    },
    {
     "name": "stderr",
     "output_type": "stream",
     "text": [
      "[2019-03-05 11:25:31,324] SavedModel written to: b'/home/phw/rsl/CS234_Project/data/td3/td3_s0/simple_save/saved_model.pb'\n"
     ]
    },
    {
     "name": "stdout",
     "output_type": "stream",
     "text": [
      "---------------------------------------\n",
      "|             Epoch |              37 |\n",
      "|      AverageEpRet |        3.92e+03 |\n",
      "|          StdEpRet |        1.87e+03 |\n",
      "|          MaxEpRet |        5.23e+03 |\n",
      "|          MinEpRet |             203 |\n",
      "|  AverageTestEpRet |         4.8e+03 |\n",
      "|      StdTestEpRet |             107 |\n",
      "|      MaxTestEpRet |        5.02e+03 |\n",
      "|      MinTestEpRet |        4.67e+03 |\n",
      "|             EpLen |           1e+03 |\n",
      "|         TestEpLen |           1e+03 |\n",
      "| TotalEnvInteracts |        1.85e+05 |\n",
      "|     AverageQ1Vals |             306 |\n",
      "|         StdQ1Vals |             119 |\n",
      "|         MaxQ1Vals |             434 |\n",
      "|         MinQ1Vals |             -60 |\n",
      "|     AverageQ2Vals |             306 |\n",
      "|         StdQ2Vals |             119 |\n",
      "|         MaxQ2Vals |             432 |\n",
      "|         MinQ2Vals |           -84.3 |\n",
      "|            LossPi |            -309 |\n",
      "|             LossQ |            61.4 |\n",
      "|              Time |             712 |\n",
      "---------------------------------------\n",
      "INFO:tensorflow:Assets added to graph.\n"
     ]
    },
    {
     "name": "stderr",
     "output_type": "stream",
     "text": [
      "[2019-03-05 11:25:49,402] Assets added to graph.\n"
     ]
    },
    {
     "name": "stdout",
     "output_type": "stream",
     "text": [
      "INFO:tensorflow:No assets to write.\n"
     ]
    },
    {
     "name": "stderr",
     "output_type": "stream",
     "text": [
      "[2019-03-05 11:25:49,403] No assets to write.\n"
     ]
    },
    {
     "name": "stdout",
     "output_type": "stream",
     "text": [
      "INFO:tensorflow:SavedModel written to: b'/home/phw/rsl/CS234_Project/data/td3/td3_s0/simple_save/saved_model.pb'\n"
     ]
    },
    {
     "name": "stderr",
     "output_type": "stream",
     "text": [
      "[2019-03-05 11:25:50,048] SavedModel written to: b'/home/phw/rsl/CS234_Project/data/td3/td3_s0/simple_save/saved_model.pb'\n"
     ]
    },
    {
     "name": "stdout",
     "output_type": "stream",
     "text": [
      "---------------------------------------\n",
      "|             Epoch |              38 |\n",
      "|      AverageEpRet |        5.12e+03 |\n",
      "|          StdEpRet |             223 |\n",
      "|          MaxEpRet |        5.51e+03 |\n",
      "|          MinEpRet |        4.83e+03 |\n",
      "|  AverageTestEpRet |        5.73e+03 |\n",
      "|      StdTestEpRet |             114 |\n",
      "|      MaxTestEpRet |        5.86e+03 |\n",
      "|      MinTestEpRet |        5.44e+03 |\n",
      "|             EpLen |           1e+03 |\n",
      "|         TestEpLen |           1e+03 |\n",
      "| TotalEnvInteracts |         1.9e+05 |\n",
      "|     AverageQ1Vals |             312 |\n",
      "|         StdQ1Vals |             119 |\n",
      "|         MaxQ1Vals |             441 |\n",
      "|         MinQ1Vals |             -55 |\n",
      "|     AverageQ2Vals |             312 |\n",
      "|         StdQ2Vals |             119 |\n",
      "|         MaxQ2Vals |             439 |\n",
      "|         MinQ2Vals |           -74.6 |\n",
      "|            LossPi |            -314 |\n",
      "|             LossQ |            62.8 |\n",
      "|              Time |             731 |\n",
      "---------------------------------------\n",
      "INFO:tensorflow:Assets added to graph.\n"
     ]
    },
    {
     "name": "stderr",
     "output_type": "stream",
     "text": [
      "[2019-03-05 11:26:08,133] Assets added to graph.\n"
     ]
    },
    {
     "name": "stdout",
     "output_type": "stream",
     "text": [
      "INFO:tensorflow:No assets to write.\n"
     ]
    },
    {
     "name": "stderr",
     "output_type": "stream",
     "text": [
      "[2019-03-05 11:26:08,134] No assets to write.\n"
     ]
    },
    {
     "name": "stdout",
     "output_type": "stream",
     "text": [
      "INFO:tensorflow:SavedModel written to: b'/home/phw/rsl/CS234_Project/data/td3/td3_s0/simple_save/saved_model.pb'\n"
     ]
    },
    {
     "name": "stderr",
     "output_type": "stream",
     "text": [
      "[2019-03-05 11:26:08,794] SavedModel written to: b'/home/phw/rsl/CS234_Project/data/td3/td3_s0/simple_save/saved_model.pb'\n"
     ]
    },
    {
     "name": "stdout",
     "output_type": "stream",
     "text": [
      "---------------------------------------\n",
      "|             Epoch |              39 |\n",
      "|      AverageEpRet |         4.2e+03 |\n",
      "|          StdEpRet |        1.72e+03 |\n",
      "|          MaxEpRet |        5.55e+03 |\n",
      "|          MinEpRet |             801 |\n",
      "|  AverageTestEpRet |        5.34e+03 |\n",
      "|      StdTestEpRet |            84.2 |\n",
      "|      MaxTestEpRet |        5.43e+03 |\n",
      "|      MinTestEpRet |        5.12e+03 |\n",
      "|             EpLen |           1e+03 |\n",
      "|         TestEpLen |           1e+03 |\n",
      "| TotalEnvInteracts |        1.95e+05 |\n",
      "|     AverageQ1Vals |             318 |\n",
      "|         StdQ1Vals |             121 |\n",
      "|         MaxQ1Vals |             443 |\n",
      "|         MinQ1Vals |           -50.1 |\n",
      "|     AverageQ2Vals |             318 |\n",
      "|         StdQ2Vals |             121 |\n",
      "|         MaxQ2Vals |             444 |\n",
      "|         MinQ2Vals |           -62.6 |\n",
      "|            LossPi |            -320 |\n",
      "|             LossQ |            60.7 |\n",
      "|              Time |             750 |\n",
      "---------------------------------------\n",
      "INFO:tensorflow:Assets added to graph.\n"
     ]
    },
    {
     "name": "stderr",
     "output_type": "stream",
     "text": [
      "[2019-03-05 11:26:28,109] Assets added to graph.\n"
     ]
    },
    {
     "name": "stdout",
     "output_type": "stream",
     "text": [
      "INFO:tensorflow:No assets to write.\n"
     ]
    },
    {
     "name": "stderr",
     "output_type": "stream",
     "text": [
      "[2019-03-05 11:26:28,111] No assets to write.\n"
     ]
    },
    {
     "name": "stdout",
     "output_type": "stream",
     "text": [
      "INFO:tensorflow:SavedModel written to: b'/home/phw/rsl/CS234_Project/data/td3/td3_s0/simple_save/saved_model.pb'\n"
     ]
    },
    {
     "name": "stderr",
     "output_type": "stream",
     "text": [
      "[2019-03-05 11:26:28,824] SavedModel written to: b'/home/phw/rsl/CS234_Project/data/td3/td3_s0/simple_save/saved_model.pb'\n"
     ]
    },
    {
     "name": "stdout",
     "output_type": "stream",
     "text": [
      "---------------------------------------\n",
      "|             Epoch |              40 |\n",
      "|      AverageEpRet |        5.13e+03 |\n",
      "|          StdEpRet |             155 |\n",
      "|          MaxEpRet |        5.35e+03 |\n",
      "|          MinEpRet |        4.88e+03 |\n",
      "|  AverageTestEpRet |         5.8e+03 |\n",
      "|      StdTestEpRet |            95.1 |\n",
      "|      MaxTestEpRet |        5.97e+03 |\n",
      "|      MinTestEpRet |        5.66e+03 |\n",
      "|             EpLen |           1e+03 |\n",
      "|         TestEpLen |           1e+03 |\n",
      "| TotalEnvInteracts |           2e+05 |\n",
      "|     AverageQ1Vals |             323 |\n",
      "|         StdQ1Vals |             122 |\n",
      "|         MaxQ1Vals |             449 |\n",
      "|         MinQ1Vals |           -53.4 |\n",
      "|     AverageQ2Vals |             323 |\n",
      "|         StdQ2Vals |             122 |\n",
      "|         MaxQ2Vals |             449 |\n",
      "|         MinQ2Vals |           -69.8 |\n",
      "|            LossPi |            -325 |\n",
      "|             LossQ |              62 |\n",
      "|              Time |             770 |\n",
      "---------------------------------------\n",
      "INFO:tensorflow:Assets added to graph.\n"
     ]
    },
    {
     "name": "stderr",
     "output_type": "stream",
     "text": [
      "[2019-03-05 11:26:47,576] Assets added to graph.\n"
     ]
    },
    {
     "name": "stdout",
     "output_type": "stream",
     "text": [
      "INFO:tensorflow:No assets to write.\n"
     ]
    },
    {
     "name": "stderr",
     "output_type": "stream",
     "text": [
      "[2019-03-05 11:26:47,577] No assets to write.\n"
     ]
    },
    {
     "name": "stdout",
     "output_type": "stream",
     "text": [
      "INFO:tensorflow:SavedModel written to: b'/home/phw/rsl/CS234_Project/data/td3/td3_s0/simple_save/saved_model.pb'\n"
     ]
    },
    {
     "name": "stderr",
     "output_type": "stream",
     "text": [
      "[2019-03-05 11:26:48,254] SavedModel written to: b'/home/phw/rsl/CS234_Project/data/td3/td3_s0/simple_save/saved_model.pb'\n"
     ]
    },
    {
     "name": "stdout",
     "output_type": "stream",
     "text": [
      "---------------------------------------\n",
      "|             Epoch |              41 |\n",
      "|      AverageEpRet |        5.18e+03 |\n",
      "|          StdEpRet |             144 |\n",
      "|          MaxEpRet |        5.46e+03 |\n",
      "|          MinEpRet |        5.05e+03 |\n",
      "|  AverageTestEpRet |        5.19e+03 |\n",
      "|      StdTestEpRet |             114 |\n",
      "|      MaxTestEpRet |        5.29e+03 |\n",
      "|      MinTestEpRet |        4.94e+03 |\n",
      "|             EpLen |           1e+03 |\n",
      "|         TestEpLen |           1e+03 |\n",
      "| TotalEnvInteracts |        2.05e+05 |\n",
      "|     AverageQ1Vals |             328 |\n",
      "|         StdQ1Vals |             123 |\n",
      "|         MaxQ1Vals |             451 |\n",
      "|         MinQ1Vals |           -60.7 |\n",
      "|     AverageQ2Vals |             328 |\n",
      "|         StdQ2Vals |             123 |\n",
      "|         MaxQ2Vals |             453 |\n",
      "|         MinQ2Vals |           -76.9 |\n",
      "|            LossPi |            -330 |\n",
      "|             LossQ |            61.2 |\n",
      "|              Time |             789 |\n",
      "---------------------------------------\n",
      "INFO:tensorflow:Assets added to graph.\n"
     ]
    },
    {
     "name": "stderr",
     "output_type": "stream",
     "text": [
      "[2019-03-05 11:27:07,047] Assets added to graph.\n"
     ]
    },
    {
     "name": "stdout",
     "output_type": "stream",
     "text": [
      "INFO:tensorflow:No assets to write.\n"
     ]
    },
    {
     "name": "stderr",
     "output_type": "stream",
     "text": [
      "[2019-03-05 11:27:07,048] No assets to write.\n"
     ]
    },
    {
     "name": "stdout",
     "output_type": "stream",
     "text": [
      "INFO:tensorflow:SavedModel written to: b'/home/phw/rsl/CS234_Project/data/td3/td3_s0/simple_save/saved_model.pb'\n"
     ]
    },
    {
     "name": "stderr",
     "output_type": "stream",
     "text": [
      "[2019-03-05 11:27:07,753] SavedModel written to: b'/home/phw/rsl/CS234_Project/data/td3/td3_s0/simple_save/saved_model.pb'\n"
     ]
    },
    {
     "name": "stdout",
     "output_type": "stream",
     "text": [
      "---------------------------------------\n",
      "|             Epoch |              42 |\n",
      "|      AverageEpRet |        5.11e+03 |\n",
      "|          StdEpRet |            97.6 |\n",
      "|          MaxEpRet |        5.27e+03 |\n",
      "|          MinEpRet |        4.96e+03 |\n",
      "|  AverageTestEpRet |        5.47e+03 |\n",
      "|      StdTestEpRet |            59.7 |\n",
      "|      MaxTestEpRet |        5.61e+03 |\n",
      "|      MinTestEpRet |        5.41e+03 |\n",
      "|             EpLen |           1e+03 |\n",
      "|         TestEpLen |           1e+03 |\n",
      "| TotalEnvInteracts |         2.1e+05 |\n",
      "|     AverageQ1Vals |             333 |\n",
      "|         StdQ1Vals |             123 |\n",
      "|         MaxQ1Vals |             454 |\n",
      "|         MinQ1Vals |           -70.7 |\n",
      "|     AverageQ2Vals |             333 |\n",
      "|         StdQ2Vals |             123 |\n",
      "|         MaxQ2Vals |             453 |\n",
      "|         MinQ2Vals |           -91.1 |\n",
      "|            LossPi |            -335 |\n",
      "|             LossQ |            62.5 |\n",
      "|              Time |             808 |\n",
      "---------------------------------------\n",
      "INFO:tensorflow:Assets added to graph.\n"
     ]
    },
    {
     "name": "stderr",
     "output_type": "stream",
     "text": [
      "[2019-03-05 11:27:25,781] Assets added to graph.\n"
     ]
    },
    {
     "name": "stdout",
     "output_type": "stream",
     "text": [
      "INFO:tensorflow:No assets to write.\n"
     ]
    },
    {
     "name": "stderr",
     "output_type": "stream",
     "text": [
      "[2019-03-05 11:27:25,782] No assets to write.\n"
     ]
    },
    {
     "name": "stdout",
     "output_type": "stream",
     "text": [
      "INFO:tensorflow:SavedModel written to: b'/home/phw/rsl/CS234_Project/data/td3/td3_s0/simple_save/saved_model.pb'\n"
     ]
    },
    {
     "name": "stderr",
     "output_type": "stream",
     "text": [
      "[2019-03-05 11:27:26,497] SavedModel written to: b'/home/phw/rsl/CS234_Project/data/td3/td3_s0/simple_save/saved_model.pb'\n"
     ]
    },
    {
     "name": "stdout",
     "output_type": "stream",
     "text": [
      "---------------------------------------\n",
      "|             Epoch |              43 |\n",
      "|      AverageEpRet |        5.28e+03 |\n",
      "|          StdEpRet |             190 |\n",
      "|          MaxEpRet |        5.54e+03 |\n",
      "|          MinEpRet |        5.05e+03 |\n",
      "|  AverageTestEpRet |        5.15e+03 |\n",
      "|      StdTestEpRet |             167 |\n",
      "|      MaxTestEpRet |         5.4e+03 |\n",
      "|      MinTestEpRet |        4.79e+03 |\n",
      "|             EpLen |           1e+03 |\n",
      "|         TestEpLen |           1e+03 |\n",
      "| TotalEnvInteracts |        2.15e+05 |\n",
      "|     AverageQ1Vals |             338 |\n",
      "|         StdQ1Vals |             123 |\n",
      "|         MaxQ1Vals |             455 |\n",
      "|         MinQ1Vals |             -65 |\n",
      "|     AverageQ2Vals |             338 |\n",
      "|         StdQ2Vals |             123 |\n",
      "|         MaxQ2Vals |             456 |\n",
      "|         MinQ2Vals |           -78.3 |\n",
      "|            LossPi |            -340 |\n",
      "|             LossQ |            62.1 |\n",
      "|              Time |             827 |\n",
      "---------------------------------------\n",
      "INFO:tensorflow:Assets added to graph.\n"
     ]
    },
    {
     "name": "stderr",
     "output_type": "stream",
     "text": [
      "[2019-03-05 11:27:45,500] Assets added to graph.\n"
     ]
    },
    {
     "name": "stdout",
     "output_type": "stream",
     "text": [
      "INFO:tensorflow:No assets to write.\n"
     ]
    },
    {
     "name": "stderr",
     "output_type": "stream",
     "text": [
      "[2019-03-05 11:27:45,501] No assets to write.\n"
     ]
    },
    {
     "name": "stdout",
     "output_type": "stream",
     "text": [
      "INFO:tensorflow:SavedModel written to: b'/home/phw/rsl/CS234_Project/data/td3/td3_s0/simple_save/saved_model.pb'\n"
     ]
    },
    {
     "name": "stderr",
     "output_type": "stream",
     "text": [
      "[2019-03-05 11:27:46,235] SavedModel written to: b'/home/phw/rsl/CS234_Project/data/td3/td3_s0/simple_save/saved_model.pb'\n"
     ]
    },
    {
     "name": "stdout",
     "output_type": "stream",
     "text": [
      "---------------------------------------\n",
      "|             Epoch |              44 |\n",
      "|      AverageEpRet |        4.96e+03 |\n",
      "|          StdEpRet |             218 |\n",
      "|          MaxEpRet |        5.22e+03 |\n",
      "|          MinEpRet |        4.69e+03 |\n",
      "|  AverageTestEpRet |        5.26e+03 |\n",
      "|      StdTestEpRet |             123 |\n",
      "|      MaxTestEpRet |        5.49e+03 |\n",
      "|      MinTestEpRet |        5.04e+03 |\n",
      "|             EpLen |           1e+03 |\n",
      "|         TestEpLen |           1e+03 |\n",
      "| TotalEnvInteracts |         2.2e+05 |\n",
      "|     AverageQ1Vals |             342 |\n",
      "|         StdQ1Vals |             123 |\n",
      "|         MaxQ1Vals |             459 |\n",
      "|         MinQ1Vals |           -69.4 |\n",
      "|     AverageQ2Vals |             342 |\n",
      "|         StdQ2Vals |             123 |\n",
      "|         MaxQ2Vals |             459 |\n",
      "|         MinQ2Vals |           -87.7 |\n",
      "|            LossPi |            -344 |\n",
      "|             LossQ |            60.1 |\n",
      "|              Time |             847 |\n",
      "---------------------------------------\n",
      "INFO:tensorflow:Assets added to graph.\n"
     ]
    },
    {
     "name": "stderr",
     "output_type": "stream",
     "text": [
      "[2019-03-05 11:28:04,705] Assets added to graph.\n"
     ]
    },
    {
     "name": "stdout",
     "output_type": "stream",
     "text": [
      "INFO:tensorflow:No assets to write.\n"
     ]
    },
    {
     "name": "stderr",
     "output_type": "stream",
     "text": [
      "[2019-03-05 11:28:04,706] No assets to write.\n"
     ]
    },
    {
     "name": "stdout",
     "output_type": "stream",
     "text": [
      "INFO:tensorflow:SavedModel written to: b'/home/phw/rsl/CS234_Project/data/td3/td3_s0/simple_save/saved_model.pb'\n"
     ]
    },
    {
     "name": "stderr",
     "output_type": "stream",
     "text": [
      "[2019-03-05 11:28:05,526] SavedModel written to: b'/home/phw/rsl/CS234_Project/data/td3/td3_s0/simple_save/saved_model.pb'\n"
     ]
    },
    {
     "name": "stdout",
     "output_type": "stream",
     "text": [
      "---------------------------------------\n",
      "|             Epoch |              45 |\n",
      "|      AverageEpRet |        5.16e+03 |\n",
      "|          StdEpRet |             139 |\n",
      "|          MaxEpRet |        5.33e+03 |\n",
      "|          MinEpRet |        4.96e+03 |\n",
      "|  AverageTestEpRet |        5.35e+03 |\n",
      "|      StdTestEpRet |             138 |\n",
      "|      MaxTestEpRet |         5.6e+03 |\n",
      "|      MinTestEpRet |        5.14e+03 |\n",
      "|             EpLen |           1e+03 |\n",
      "|         TestEpLen |           1e+03 |\n",
      "| TotalEnvInteracts |        2.25e+05 |\n",
      "|     AverageQ1Vals |             346 |\n",
      "|         StdQ1Vals |             123 |\n",
      "|         MaxQ1Vals |             461 |\n",
      "|         MinQ1Vals |           -69.4 |\n",
      "|     AverageQ2Vals |             346 |\n",
      "|         StdQ2Vals |             123 |\n",
      "|         MaxQ2Vals |             462 |\n",
      "|         MinQ2Vals |           -77.7 |\n",
      "|            LossPi |            -349 |\n",
      "|             LossQ |            61.1 |\n",
      "|              Time |             866 |\n",
      "---------------------------------------\n",
      "INFO:tensorflow:Assets added to graph.\n"
     ]
    },
    {
     "name": "stderr",
     "output_type": "stream",
     "text": [
      "[2019-03-05 11:28:23,718] Assets added to graph.\n"
     ]
    },
    {
     "name": "stdout",
     "output_type": "stream",
     "text": [
      "INFO:tensorflow:No assets to write.\n"
     ]
    },
    {
     "name": "stderr",
     "output_type": "stream",
     "text": [
      "[2019-03-05 11:28:23,720] No assets to write.\n"
     ]
    },
    {
     "name": "stdout",
     "output_type": "stream",
     "text": [
      "INFO:tensorflow:SavedModel written to: b'/home/phw/rsl/CS234_Project/data/td3/td3_s0/simple_save/saved_model.pb'\n"
     ]
    },
    {
     "name": "stderr",
     "output_type": "stream",
     "text": [
      "[2019-03-05 11:28:24,471] SavedModel written to: b'/home/phw/rsl/CS234_Project/data/td3/td3_s0/simple_save/saved_model.pb'\n"
     ]
    },
    {
     "name": "stdout",
     "output_type": "stream",
     "text": [
      "---------------------------------------\n",
      "|             Epoch |              46 |\n",
      "|      AverageEpRet |        5.17e+03 |\n",
      "|          StdEpRet |             166 |\n",
      "|          MaxEpRet |        5.42e+03 |\n",
      "|          MinEpRet |        4.99e+03 |\n",
      "|  AverageTestEpRet |        5.27e+03 |\n",
      "|      StdTestEpRet |              84 |\n",
      "|      MaxTestEpRet |         5.4e+03 |\n",
      "|      MinTestEpRet |        5.08e+03 |\n",
      "|             EpLen |           1e+03 |\n",
      "|         TestEpLen |           1e+03 |\n",
      "| TotalEnvInteracts |         2.3e+05 |\n",
      "|     AverageQ1Vals |             350 |\n",
      "|         StdQ1Vals |             123 |\n",
      "|         MaxQ1Vals |             463 |\n",
      "|         MinQ1Vals |           -55.2 |\n",
      "|     AverageQ2Vals |             350 |\n",
      "|         StdQ2Vals |             123 |\n",
      "|         MaxQ2Vals |             465 |\n",
      "|         MinQ2Vals |           -57.6 |\n",
      "|            LossPi |            -353 |\n",
      "|             LossQ |            60.9 |\n",
      "|              Time |             885 |\n",
      "---------------------------------------\n",
      "INFO:tensorflow:Assets added to graph.\n"
     ]
    },
    {
     "name": "stderr",
     "output_type": "stream",
     "text": [
      "[2019-03-05 11:28:42,879] Assets added to graph.\n"
     ]
    },
    {
     "name": "stdout",
     "output_type": "stream",
     "text": [
      "INFO:tensorflow:No assets to write.\n"
     ]
    },
    {
     "name": "stderr",
     "output_type": "stream",
     "text": [
      "[2019-03-05 11:28:42,880] No assets to write.\n"
     ]
    },
    {
     "name": "stdout",
     "output_type": "stream",
     "text": [
      "INFO:tensorflow:SavedModel written to: b'/home/phw/rsl/CS234_Project/data/td3/td3_s0/simple_save/saved_model.pb'\n"
     ]
    },
    {
     "name": "stderr",
     "output_type": "stream",
     "text": [
      "[2019-03-05 11:28:43,640] SavedModel written to: b'/home/phw/rsl/CS234_Project/data/td3/td3_s0/simple_save/saved_model.pb'\n"
     ]
    },
    {
     "name": "stdout",
     "output_type": "stream",
     "text": [
      "---------------------------------------\n",
      "|             Epoch |              47 |\n",
      "|      AverageEpRet |        5.28e+03 |\n",
      "|          StdEpRet |             218 |\n",
      "|          MaxEpRet |         5.6e+03 |\n",
      "|          MinEpRet |        5.02e+03 |\n",
      "|  AverageTestEpRet |        5.32e+03 |\n",
      "|      StdTestEpRet |             138 |\n",
      "|      MaxTestEpRet |        5.48e+03 |\n",
      "|      MinTestEpRet |        4.98e+03 |\n",
      "|             EpLen |           1e+03 |\n",
      "|         TestEpLen |           1e+03 |\n",
      "| TotalEnvInteracts |        2.35e+05 |\n",
      "|     AverageQ1Vals |             354 |\n",
      "|         StdQ1Vals |             122 |\n",
      "|         MaxQ1Vals |             464 |\n",
      "|         MinQ1Vals |           -65.6 |\n",
      "|     AverageQ2Vals |             354 |\n",
      "|         StdQ2Vals |             122 |\n",
      "|         MaxQ2Vals |             465 |\n",
      "|         MinQ2Vals |           -75.7 |\n",
      "|            LossPi |            -356 |\n",
      "|             LossQ |            58.8 |\n",
      "|              Time |             904 |\n",
      "---------------------------------------\n",
      "INFO:tensorflow:Assets added to graph.\n"
     ]
    },
    {
     "name": "stderr",
     "output_type": "stream",
     "text": [
      "[2019-03-05 11:29:04,195] Assets added to graph.\n"
     ]
    },
    {
     "name": "stdout",
     "output_type": "stream",
     "text": [
      "INFO:tensorflow:No assets to write.\n"
     ]
    },
    {
     "name": "stderr",
     "output_type": "stream",
     "text": [
      "[2019-03-05 11:29:04,196] No assets to write.\n"
     ]
    },
    {
     "name": "stdout",
     "output_type": "stream",
     "text": [
      "INFO:tensorflow:SavedModel written to: b'/home/phw/rsl/CS234_Project/data/td3/td3_s0/simple_save/saved_model.pb'\n"
     ]
    },
    {
     "name": "stderr",
     "output_type": "stream",
     "text": [
      "[2019-03-05 11:29:04,990] SavedModel written to: b'/home/phw/rsl/CS234_Project/data/td3/td3_s0/simple_save/saved_model.pb'\n"
     ]
    },
    {
     "name": "stdout",
     "output_type": "stream",
     "text": [
      "---------------------------------------\n",
      "|             Epoch |              48 |\n",
      "|      AverageEpRet |        5.27e+03 |\n",
      "|          StdEpRet |            53.8 |\n",
      "|          MaxEpRet |        5.36e+03 |\n",
      "|          MinEpRet |        5.22e+03 |\n",
      "|  AverageTestEpRet |        5.44e+03 |\n",
      "|      StdTestEpRet |             104 |\n",
      "|      MaxTestEpRet |        5.55e+03 |\n",
      "|      MinTestEpRet |        5.18e+03 |\n",
      "|             EpLen |           1e+03 |\n",
      "|         TestEpLen |           1e+03 |\n",
      "| TotalEnvInteracts |         2.4e+05 |\n",
      "|     AverageQ1Vals |             357 |\n",
      "|         StdQ1Vals |             122 |\n",
      "|         MaxQ1Vals |             467 |\n",
      "|         MinQ1Vals |           -53.2 |\n",
      "|     AverageQ2Vals |             357 |\n",
      "|         StdQ2Vals |             122 |\n",
      "|         MaxQ2Vals |             469 |\n",
      "|         MinQ2Vals |           -59.1 |\n",
      "|            LossPi |            -359 |\n",
      "|             LossQ |            58.7 |\n",
      "|              Time |             926 |\n",
      "---------------------------------------\n",
      "INFO:tensorflow:Assets added to graph.\n"
     ]
    },
    {
     "name": "stderr",
     "output_type": "stream",
     "text": [
      "[2019-03-05 11:29:23,757] Assets added to graph.\n"
     ]
    },
    {
     "name": "stdout",
     "output_type": "stream",
     "text": [
      "INFO:tensorflow:No assets to write.\n"
     ]
    },
    {
     "name": "stderr",
     "output_type": "stream",
     "text": [
      "[2019-03-05 11:29:23,758] No assets to write.\n"
     ]
    },
    {
     "name": "stdout",
     "output_type": "stream",
     "text": [
      "INFO:tensorflow:SavedModel written to: b'/home/phw/rsl/CS234_Project/data/td3/td3_s0/simple_save/saved_model.pb'\n"
     ]
    },
    {
     "name": "stderr",
     "output_type": "stream",
     "text": [
      "[2019-03-05 11:29:24,544] SavedModel written to: b'/home/phw/rsl/CS234_Project/data/td3/td3_s0/simple_save/saved_model.pb'\n"
     ]
    }
   ],
   "source": [
    "td3(lambda : gym.make(env), \n",
    "    actor_critic=core.mlp_actor_critic,\n",
    "    ac_kwargs=dict(hidden_sizes=[hid]*l),\n",
    "    gamma=gamma, \n",
    "    seed=seed, \n",
    "    epochs=epochs,\n",
    "    logger_kwargs=logger_kwargs)"
   ]
  },
  {
   "cell_type": "code",
   "execution_count": null,
   "metadata": {
    "collapsed": true
   },
   "outputs": [],
   "source": []
  }
 ],
 "metadata": {
  "kernelspec": {
   "display_name": "Python [conda env:py36]",
   "language": "python",
   "name": "conda-env-py36-py"
  },
  "language_info": {
   "codemirror_mode": {
    "name": "ipython",
    "version": 3
   },
   "file_extension": ".py",
   "mimetype": "text/x-python",
   "name": "python",
   "nbconvert_exporter": "python",
   "pygments_lexer": "ipython3",
   "version": "3.6.2"
  }
 },
 "nbformat": 4,
 "nbformat_minor": 2
}
