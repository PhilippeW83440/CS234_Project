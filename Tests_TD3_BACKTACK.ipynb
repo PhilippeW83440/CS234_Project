{
 "cells": [
  {
   "cell_type": "markdown",
   "metadata": {},
   "source": [
    "# TD3 with Backtracking Line Search\n"
   ]
  },
  {
   "cell_type": "code",
   "execution_count": 1,
   "metadata": {
    "collapsed": false
   },
   "outputs": [
    {
     "name": "stdout",
     "output_type": "stream",
     "text": [
      "core.py  __pycache__  td3.py\r\n"
     ]
    }
   ],
   "source": [
    "!ls spinup/algos/td3_backtrack/"
   ]
  },
  {
   "cell_type": "code",
   "execution_count": 2,
   "metadata": {
    "collapsed": false
   },
   "outputs": [],
   "source": [
    "from spinup.algos.td3_backtrack.core import *\n",
    "from spinup.algos.td3_backtrack.td3 import *"
   ]
  },
  {
   "cell_type": "code",
   "execution_count": 3,
   "metadata": {
    "collapsed": false
   },
   "outputs": [
    {
     "name": "stdout",
     "output_type": "stream",
     "text": [
      "1.14.2\n",
      "1.7.1\n"
     ]
    }
   ],
   "source": [
    "print(np.__version__)\n",
    "print(tf.__version__)"
   ]
  },
  {
   "cell_type": "code",
   "execution_count": 4,
   "metadata": {
    "collapsed": true
   },
   "outputs": [],
   "source": [
    "import gym_act"
   ]
  },
  {
   "cell_type": "code",
   "execution_count": 5,
   "metadata": {
    "collapsed": true
   },
   "outputs": [],
   "source": [
    "env='HalfCheetah-v1'\n",
    "#env='InvertedPendulum-v1'\n",
    "env='Act-v0'\n",
    "hid=300\n",
    "l=1\n",
    "gamma=0.99\n",
    "seed=0\n",
    "epochs=10\n",
    "exp_name='td3'\n",
    "pi_lr=1e-3\n",
    "q_lr=1e-3\n",
    "replay_size=int(1e6)\n",
    "act_noise=0.1\n",
    "\n",
    "# required for our Backtracking Line Search\n",
    "\n",
    "# we will check constraint on every state\n",
    "batch_size=100\n",
    "lr_decay=0.9"
   ]
  },
  {
   "cell_type": "code",
   "execution_count": 6,
   "metadata": {
    "collapsed": true
   },
   "outputs": [],
   "source": [
    "from spinup.utils.run_utils import setup_logger_kwargs\n",
    "logger_kwargs = setup_logger_kwargs(exp_name, seed)"
   ]
  },
  {
   "cell_type": "code",
   "execution_count": 7,
   "metadata": {
    "collapsed": false
   },
   "outputs": [
    {
     "name": "stderr",
     "output_type": "stream",
     "text": [
      "[2019-03-16 12:13:46,901] Making new env: Act-v0\n",
      "/home/philippew/anaconda3/envs/py36/lib/python3.6/site-packages/gym/envs/registration.py:17: PkgResourcesDeprecationWarning: Parameters to load are deprecated.  Call .resolve and .require separately.\n",
      "  result = entry_point.load(False)\n",
      "[2019-03-16 12:13:46,929] Making new env: Act-v0\n"
     ]
    },
    {
     "name": "stdout",
     "output_type": "stream",
     "text": [
      "Warning: Log dir /home/philippew/CS234_Project/data/td3/td3_s0 already exists! Storing info there anyway.\n",
      "\u001b[32;1mLogging data to /home/philippew/CS234_Project/data/td3/td3_s0/progress.txt\u001b[0m\n",
      "\u001b[36;1mSaving config:\n",
      "\u001b[0m\n",
      "{\n",
      "    \"ac_kwargs\":\t{\n",
      "        \"hidden_sizes\":\t[\n",
      "            300\n",
      "        ]\n",
      "    },\n",
      "    \"act_noise\":\t0.1,\n",
      "    \"actor_critic\":\t\"mlp_actor_critic\",\n",
      "    \"backtrack_decay\":\t0.8,\n",
      "    \"backtrack_iters\":\t10,\n",
      "    \"batch_size\":\t100,\n",
      "    \"env_fn\":\t\"<function <lambda> at 0x7f9279a46840>\",\n",
      "    \"epochs\":\t10,\n",
      "    \"exp_name\":\t\"td3\",\n",
      "    \"gamma\":\t0.99,\n",
      "    \"logger\":\t{\n",
      "        \"<spinup.utils.logx.EpochLogger object at 0x7f9279a43668>\":\t{\n",
      "            \"epoch_dict\":\t{},\n",
      "            \"exp_name\":\t\"td3\",\n",
      "            \"first_row\":\ttrue,\n",
      "            \"log_current_row\":\t{},\n",
      "            \"log_headers\":\t[],\n",
      "            \"output_dir\":\t\"/home/philippew/CS234_Project/data/td3/td3_s0\",\n",
      "            \"output_file\":\t{\n",
      "                \"<_io.TextIOWrapper name='/home/philippew/CS234_Project/data/td3/td3_s0/progress.txt' mode='w' encoding='UTF-8'>\":\t{\n",
      "                    \"mode\":\t\"w\"\n",
      "                }\n",
      "            }\n",
      "        }\n",
      "    },\n",
      "    \"logger_kwargs\":\t{\n",
      "        \"exp_name\":\t\"td3\",\n",
      "        \"output_dir\":\t\"/home/philippew/CS234_Project/data/td3/td3_s0\"\n",
      "    },\n",
      "    \"lr_decay\":\t0.9,\n",
      "    \"max_ep_len\":\t1000,\n",
      "    \"noise_clip\":\t0.5,\n",
      "    \"pi_lr\":\t0.001,\n",
      "    \"policy_delay\":\t2,\n",
      "    \"polyak\":\t0.995,\n",
      "    \"q_lr\":\t0.001,\n",
      "    \"replay_size\":\t1000000,\n",
      "    \"save_freq\":\t1,\n",
      "    \"seed\":\t0,\n",
      "    \"start_steps\":\t10000,\n",
      "    \"steps_per_epoch\":\t5000,\n",
      "    \"target_noise\":\t0.2\n",
      "}\n",
      "ACT (Anti Collision Tests) with 2 cars using cv driver model\n",
      "SEED 9701216252075146808\n",
      "ACT (Anti Collision Tests) with 2 cars using cv driver model\n",
      "SEED 11013520752914822398\n",
      "\n",
      "Number of parameters: \t pi: 4201, \t q1: 4501, \t q2: 4501, \t total: 13203\n",
      "\n",
      "[<tf.Variable 'main/pi/dense/kernel:0' shape=(12, 300) dtype=float32_ref>, <tf.Variable 'main/pi/dense/bias:0' shape=(300,) dtype=float32_ref>, <tf.Variable 'main/pi/dense_1/kernel:0' shape=(300, 1) dtype=float32_ref>, <tf.Variable 'main/pi/dense_1/bias:0' shape=(1,) dtype=float32_ref>]\n",
      "Tensor(\"concat:0\", shape=(4201,), dtype=float32)\n",
      "BACKTRACKING: improvement at iter 7 new_penalty=24.328432799303208 old_penalty=24.328461865482375\n",
      "BACKTRACKING: improvement at iter 3 new_penalty=14.42246908917996 old_penalty=14.422469215005734\n",
      "BACKTRACKING: improvement at iter 8 new_penalty=29.575098520969263 old_penalty=29.575130124081674\n",
      "BACKTRACKING: improvement at iter 6 new_penalty=14.714970253772574 old_penalty=14.714973514039709\n",
      "BACKTRACKING: improvement at iter 1 new_penalty=19.522763817316715 old_penalty=19.522779095738937\n",
      "BACKTRACKING: improvement at iter 3 new_penalty=24.477468480281793 old_penalty=24.477479837857665\n",
      "BACKTRACKING: improvement at iter 5 new_penalty=300.08399499641024 old_penalty=300.0839949967995\n",
      "BACKTRACKING: improvement at iter 7 new_penalty=203.3544036056865 old_penalty=203.3544036488271\n",
      "BACKTRACKING: improvement at iter 6 new_penalty=233.03410083935228 old_penalty=233.03410083974148\n",
      "BACKTRACKING: improvement at iter 3 new_penalty=188.09062400976725 old_penalty=188.09062401015646\n",
      "BACKTRACKING: improvement at iter 5 new_penalty=194.81639610790492 old_penalty=194.81639611216107\n",
      "BACKTRACKING: improvement at iter 6 new_penalty=198.4783435153794 old_penalty=198.47834379172457\n",
      "BACKTRACKING: improvement at iter 6 new_penalty=160.03665186464332 old_penalty=160.03665198102377\n",
      "BACKTRACKING: improvement at iter 4 new_penalty=148.96830577792224 old_penalty=148.96830577794987\n",
      "BACKTRACKING: improvement at iter 0 new_penalty=162.92495940241355 old_penalty=162.9249594761422\n",
      "BACKTRACKING: improvement at iter 3 new_penalty=171.81854517400362 old_penalty=171.81854517421297\n",
      "BACKTRACKING: improvement at iter 5 new_penalty=252.01432858023114 old_penalty=252.01432862439808\n",
      "BACKTRACKING: improvement at iter 4 new_penalty=253.94658618846879 old_penalty=253.9465861956372\n",
      "BACKTRACKING: improvement at iter 0 new_penalty=201.4912359828681 old_penalty=201.49123598516732\n",
      "BACKTRACKING: improvement at iter 2 new_penalty=215.99424446424615 old_penalty=215.99424446427287\n",
      "BACKTRACKING: improvement at iter 6 new_penalty=257.88807859183584 old_penalty=257.8880785918625\n",
      "BACKTRACKING: improvement at iter 6 new_penalty=189.43221333043002 old_penalty=189.4322133304567\n",
      "BACKTRACKING: improvement at iter 8 new_penalty=217.79922560411595 old_penalty=217.79922560414266\n",
      "BACKTRACKING: improvement at iter 1 new_penalty=229.73688072265864 old_penalty=229.73688072268536\n",
      "BACKTRACKING: improvement at iter 4 new_penalty=212.70946999747417 old_penalty=212.70947001785888\n",
      "BACKTRACKING: improvement at iter 0 new_penalty=185.2791035710025 old_penalty=185.27910358554954\n",
      "BACKTRACKING: improvement at iter 0 new_penalty=246.82291882284815 old_penalty=246.82291882596732\n",
      "BACKTRACKING: improvement at iter 0 new_penalty=157.85658493369743 old_penalty=157.85658493375084\n",
      "BACKTRACKING: improvement at iter 4 new_penalty=187.3192062808875 old_penalty=187.3192062809142\n",
      "BACKTRACKING: improvement at iter 0 new_penalty=199.55908924337564 old_penalty=199.5590893671008\n",
      "BACKTRACKING: improvement at iter 9 new_penalty=210.63190965171654 old_penalty=210.63190965176992\n",
      "BACKTRACKING: improvement at iter 7 new_penalty=185.73374401194593 old_penalty=185.7337440119993\n",
      "BACKTRACKING: improvement at iter 8 new_penalty=222.7955115510118 old_penalty=222.79551155110263\n",
      "BACKTRACKING: improvement at iter 2 new_penalty=252.21804758204212 old_penalty=252.21804784283387\n",
      "BACKTRACKING: improvement at iter 0 new_penalty=254.15747813007977 old_penalty=254.15824588960533\n",
      "BACKTRACKING: improvement at iter 3 new_penalty=197.48480878389378 old_penalty=197.48481048955247\n",
      "BACKTRACKING: improvement at iter 0 new_penalty=213.32824414609834 old_penalty=213.36406253105042\n",
      "BACKTRACKING: improvement at iter 7 new_penalty=207.43383503531058 old_penalty=207.43383621284832\n",
      "BACKTRACKING: improvement at iter 3 new_penalty=273.3684426186607 old_penalty=273.4733613561088\n",
      "BACKTRACKING: improvement at iter 2 new_penalty=286.09954228674565 old_penalty=286.11541833206053\n",
      "BACKTRACKING: improvement at iter 6 new_penalty=189.7365288079625 old_penalty=189.74363612458035\n",
      "BACKTRACKING: improvement at iter 1 new_penalty=266.2121896022245 old_penalty=266.21223287020564\n",
      "BACKTRACKING: improvement at iter 2 new_penalty=262.1389969218061 old_penalty=262.13901175655064\n",
      "BACKTRACKING: improvement at iter 7 new_penalty=239.52516831629902 old_penalty=239.5252295367951\n",
      "BACKTRACKING: improvement at iter 6 new_penalty=273.4336738396325 old_penalty=273.47277044652\n",
      "BACKTRACKING: improvement at iter 1 new_penalty=262.860264218024 old_penalty=262.8616456099471\n",
      "BACKTRACKING: improvement at iter 0 new_penalty=200.36911154602151 old_penalty=200.36911684548204\n",
      "BACKTRACKING: improvement at iter 2 new_penalty=149.0464147269443 old_penalty=149.04641527913589\n",
      "BACKTRACKING: improvement at iter 2 new_penalty=223.2816704676503 old_penalty=223.28167609572105\n",
      "BACKTRACKING: improvement at iter 3 new_penalty=215.29431671255148 old_penalty=215.29432734159812\n",
      "BACKTRACKING: improvement at iter 6 new_penalty=200.19427224896634 old_penalty=200.19427235116027\n",
      "INFO:tensorflow:Assets added to graph.\n"
     ]
    },
    {
     "name": "stderr",
     "output_type": "stream",
     "text": [
      "[2019-03-16 12:17:23,772] Assets added to graph.\n"
     ]
    },
    {
     "name": "stdout",
     "output_type": "stream",
     "text": [
      "INFO:tensorflow:No assets to write.\n"
     ]
    },
    {
     "name": "stderr",
     "output_type": "stream",
     "text": [
      "[2019-03-16 12:17:23,773] No assets to write.\n"
     ]
    },
    {
     "name": "stdout",
     "output_type": "stream",
     "text": [
      "INFO:tensorflow:SavedModel written to: b'/home/philippew/CS234_Project/data/td3/td3_s0/simple_save/saved_model.pb'\n"
     ]
    },
    {
     "name": "stderr",
     "output_type": "stream",
     "text": [
      "[2019-03-16 12:17:23,936] SavedModel written to: b'/home/philippew/CS234_Project/data/td3/td3_s0/simple_save/saved_model.pb'\n"
     ]
    },
    {
     "name": "stdout",
     "output_type": "stream",
     "text": [
      "---------------------------------------\n",
      "|             Epoch |               1 |\n",
      "|      AverageEpRet |            -619 |\n",
      "|          StdEpRet |        1.71e+03 |\n",
      "|          MaxEpRet |             954 |\n",
      "|          MinEpRet |       -3.98e+03 |\n",
      "|  AverageTestEpRet |              40 |\n",
      "|      StdTestEpRet |        1.13e+03 |\n",
      "|      MaxTestEpRet |             951 |\n",
      "|      MinTestEpRet |       -2.72e+03 |\n",
      "|             EpLen |            41.9 |\n",
      "|         TestEpLen |            57.4 |\n",
      "| TotalEnvInteracts |           5e+03 |\n",
      "|     AverageQ1Vals |           -44.5 |\n",
      "|         StdQ1Vals |             352 |\n",
      "|         MaxQ1Vals |        1.43e+03 |\n",
      "|         MinQ1Vals |          -1e+03 |\n",
      "|     AverageQ2Vals |           -44.5 |\n",
      "|         StdQ2Vals |             352 |\n",
      "|         MaxQ2Vals |        1.44e+03 |\n",
      "|         MinQ2Vals |            -991 |\n",
      "|            LossPi |            39.9 |\n",
      "|             LossQ |         1.9e+04 |\n",
      "|              Time |             216 |\n",
      "---------------------------------------\n",
      "BACKTRACKING: improvement at iter 7 new_penalty=225.87098628872832 old_penalty=225.8709862996619\n",
      "BACKTRACKING: improvement at iter 0 new_penalty=153.81449898095542 old_penalty=153.81449962257807\n",
      "BACKTRACKING: improvement at iter 5 new_penalty=142.9179865443666 old_penalty=142.91798655409343\n"
     ]
    },
    {
     "ename": "KeyboardInterrupt",
     "evalue": "",
     "output_type": "error",
     "traceback": [
      "\u001b[0;31m---------------------------------------------------------------------------\u001b[0m",
      "\u001b[0;31mKeyboardInterrupt\u001b[0m                         Traceback (most recent call last)",
      "\u001b[0;32m<ipython-input-7-5ef49165c2d2>\u001b[0m in \u001b[0;36m<module>\u001b[0;34m\u001b[0m\n\u001b[1;32m     11\u001b[0m     \u001b[0mact_noise\u001b[0m\u001b[0;34m=\u001b[0m\u001b[0mact_noise\u001b[0m\u001b[0;34m,\u001b[0m\u001b[0;34m\u001b[0m\u001b[0;34m\u001b[0m\u001b[0m\n\u001b[1;32m     12\u001b[0m     \u001b[0mlr_decay\u001b[0m\u001b[0;34m=\u001b[0m\u001b[0;36m0.9\u001b[0m\u001b[0;34m,\u001b[0m\u001b[0;34m\u001b[0m\u001b[0;34m\u001b[0m\u001b[0m\n\u001b[0;32m---> 13\u001b[0;31m     logger_kwargs=logger_kwargs)\n\u001b[0m",
      "\u001b[0;32m~/CS234_Project/spinup/algos/td3_backtrack/td3.py\u001b[0m in \u001b[0;36mtd3\u001b[0;34m(env_fn, actor_critic, ac_kwargs, seed, steps_per_epoch, epochs, replay_size, gamma, polyak, pi_lr, q_lr, batch_size, start_steps, act_noise, target_noise, noise_clip, policy_delay, max_ep_len, lr_decay, backtrack_iters, backtrack_decay, logger_kwargs, save_freq)\u001b[0m\n\u001b[1;32m    324\u001b[0m \u001b[0;34m\u001b[0m\u001b[0m\n\u001b[1;32m    325\u001b[0m                                         \u001b[0mold_actions\u001b[0m \u001b[0;34m=\u001b[0m \u001b[0mget_actions\u001b[0m\u001b[0;34m(\u001b[0m\u001b[0mstates\u001b[0m\u001b[0;34m)\u001b[0m\u001b[0;34m\u001b[0m\u001b[0;34m\u001b[0m\u001b[0m\n\u001b[0;32m--> 326\u001b[0;31m                                         \u001b[0mold_penalty\u001b[0m \u001b[0;34m=\u001b[0m \u001b[0menv\u001b[0m\u001b[0;34m.\u001b[0m\u001b[0mpenalty\u001b[0m\u001b[0;34m(\u001b[0m\u001b[0mstates\u001b[0m\u001b[0;34m,\u001b[0m \u001b[0mold_actions\u001b[0m\u001b[0;34m)\u001b[0m\u001b[0;34m\u001b[0m\u001b[0;34m\u001b[0m\u001b[0m\n\u001b[0m\u001b[1;32m    327\u001b[0m \u001b[0;34m\u001b[0m\u001b[0m\n\u001b[1;32m    328\u001b[0m                                         \u001b[0;31m#outs = sess.run([pi_loss, train_pi_op, target_update], feed_dict)\u001b[0m\u001b[0;34m\u001b[0m\u001b[0;34m\u001b[0m\u001b[0;34m\u001b[0m\u001b[0m\n",
      "\u001b[0;32m~/CS234_Project/gym-act/gym_act/envs/act_env.py\u001b[0m in \u001b[0;36mpenalty\u001b[0;34m(self, states, actions)\u001b[0m\n\u001b[1;32m    361\u001b[0m                 \u001b[0mpenalty\u001b[0m \u001b[0;34m=\u001b[0m \u001b[0;36m0\u001b[0m\u001b[0;34m\u001b[0m\u001b[0;34m\u001b[0m\u001b[0m\n\u001b[1;32m    362\u001b[0m                 \u001b[0;32mfor\u001b[0m \u001b[0ms\u001b[0m\u001b[0;34m,\u001b[0m\u001b[0ma\u001b[0m \u001b[0;32min\u001b[0m \u001b[0mzip\u001b[0m\u001b[0;34m(\u001b[0m\u001b[0mstates\u001b[0m\u001b[0;34m,\u001b[0m \u001b[0mactions\u001b[0m\u001b[0;34m)\u001b[0m\u001b[0;34m:\u001b[0m\u001b[0;34m\u001b[0m\u001b[0;34m\u001b[0m\u001b[0m\n\u001b[0;32m--> 363\u001b[0;31m                         \u001b[0mpenalty\u001b[0m \u001b[0;34m+=\u001b[0m \u001b[0mself\u001b[0m\u001b[0;34m.\u001b[0m\u001b[0mpenalty_sa\u001b[0m\u001b[0;34m(\u001b[0m\u001b[0ms\u001b[0m\u001b[0;34m,\u001b[0m\u001b[0ma\u001b[0m\u001b[0;34m)\u001b[0m\u001b[0;34m\u001b[0m\u001b[0;34m\u001b[0m\u001b[0m\n\u001b[0m\u001b[1;32m    364\u001b[0m                 \u001b[0;32mreturn\u001b[0m \u001b[0mpenalty\u001b[0m\u001b[0;34m\u001b[0m\u001b[0;34m\u001b[0m\u001b[0m\n\u001b[1;32m    365\u001b[0m \u001b[0;34m\u001b[0m\u001b[0m\n",
      "\u001b[0;32m~/CS234_Project/gym-act/gym_act/envs/act_env.py\u001b[0m in \u001b[0;36mpenalty_sa\u001b[0;34m(self, state, a)\u001b[0m\n\u001b[1;32m    342\u001b[0m                         \u001b[0maccel\u001b[0m \u001b[0;34m=\u001b[0m \u001b[0mself\u001b[0m\u001b[0;34m.\u001b[0m\u001b[0mdrivers\u001b[0m\u001b[0;34m[\u001b[0m\u001b[0mn\u001b[0m\u001b[0;34m]\u001b[0m\u001b[0;34m.\u001b[0m\u001b[0mstep\u001b[0m\u001b[0;34m(\u001b[0m\u001b[0;34m)\u001b[0m \u001b[0;31m# CALL driver model\u001b[0m\u001b[0;34m\u001b[0m\u001b[0;34m\u001b[0m\u001b[0m\n\u001b[1;32m    343\u001b[0m                         \u001b[0ma_obj\u001b[0m \u001b[0;34m=\u001b[0m \u001b[0mnp\u001b[0m\u001b[0;34m.\u001b[0m\u001b[0marray\u001b[0m\u001b[0;34m(\u001b[0m\u001b[0;34m[\u001b[0m\u001b[0maccel\u001b[0m\u001b[0;34m,\u001b[0m \u001b[0;36m0.0\u001b[0m\u001b[0;34m]\u001b[0m\u001b[0;34m)\u001b[0m \u001b[0;31m# always [0.0, 0.0] with CV driver model\u001b[0m\u001b[0;34m\u001b[0m\u001b[0;34m\u001b[0m\u001b[0m\n\u001b[0;32m--> 344\u001b[0;31m                         \u001b[0msp\u001b[0m\u001b[0;34m[\u001b[0m\u001b[0midx\u001b[0m\u001b[0;34m:\u001b[0m\u001b[0midx\u001b[0m\u001b[0;34m+\u001b[0m\u001b[0;36m4\u001b[0m\u001b[0;34m]\u001b[0m \u001b[0;34m=\u001b[0m \u001b[0mtransition_ca\u001b[0m\u001b[0;34m(\u001b[0m\u001b[0ms_obj\u001b[0m\u001b[0;34m,\u001b[0m \u001b[0ma_obj\u001b[0m\u001b[0;34m)\u001b[0m\u001b[0;34m\u001b[0m\u001b[0;34m\u001b[0m\u001b[0m\n\u001b[0m\u001b[1;32m    345\u001b[0m                         \u001b[0midx\u001b[0m \u001b[0;34m+=\u001b[0m \u001b[0;36m4\u001b[0m\u001b[0;34m\u001b[0m\u001b[0;34m\u001b[0m\u001b[0m\n\u001b[1;32m    346\u001b[0m \u001b[0;34m\u001b[0m\u001b[0m\n",
      "\u001b[0;32m~/CS234_Project/gym-act/gym_act/envs/act_env.py\u001b[0m in \u001b[0;36mtransition_ca\u001b[0;34m(s, a)\u001b[0m\n\u001b[1;32m    217\u001b[0m                                 \u001b[0;34m[\u001b[0m\u001b[0;36m0.0\u001b[0m\u001b[0;34m,\u001b[0m \u001b[0;36m1.0\u001b[0m\u001b[0;34m,\u001b[0m \u001b[0;36m0.0\u001b[0m\u001b[0;34m,\u001b[0m \u001b[0mdt\u001b[0m\u001b[0;34m]\u001b[0m\u001b[0;34m,\u001b[0m\u001b[0;34m\u001b[0m\u001b[0;34m\u001b[0m\u001b[0m\n\u001b[1;32m    218\u001b[0m                                 \u001b[0;34m[\u001b[0m\u001b[0;36m0.0\u001b[0m\u001b[0;34m,\u001b[0m \u001b[0;36m0.0\u001b[0m\u001b[0;34m,\u001b[0m \u001b[0;36m1.0\u001b[0m\u001b[0;34m,\u001b[0m \u001b[0;36m0.0\u001b[0m\u001b[0;34m]\u001b[0m\u001b[0;34m,\u001b[0m\u001b[0;34m\u001b[0m\u001b[0;34m\u001b[0m\u001b[0m\n\u001b[0;32m--> 219\u001b[0;31m \t\t\t\t[0.0, 0.0, 0.0, 1.0]])\n\u001b[0m\u001b[1;32m    220\u001b[0m \tTa = np.matrix([[0.5*dt**2, 0.0],\n\u001b[1;32m    221\u001b[0m                                 \u001b[0;34m[\u001b[0m\u001b[0;36m0.0\u001b[0m\u001b[0;34m,\u001b[0m      \u001b[0;36m0.5\u001b[0m\u001b[0;34m*\u001b[0m\u001b[0mdt\u001b[0m\u001b[0;34m**\u001b[0m\u001b[0;36m2\u001b[0m\u001b[0;34m]\u001b[0m\u001b[0;34m,\u001b[0m\u001b[0;34m\u001b[0m\u001b[0;34m\u001b[0m\u001b[0m\n",
      "\u001b[0;32m~/anaconda3/envs/py36/lib/python3.6/site-packages/numpy/matrixlib/defmatrix.py\u001b[0m in \u001b[0;36m__new__\u001b[0;34m(subtype, data, dtype, copy)\u001b[0m\n\u001b[1;32m    253\u001b[0m         ret = N.ndarray.__new__(subtype, shape, arr.dtype,\n\u001b[1;32m    254\u001b[0m                                 \u001b[0mbuffer\u001b[0m\u001b[0;34m=\u001b[0m\u001b[0marr\u001b[0m\u001b[0;34m,\u001b[0m\u001b[0;34m\u001b[0m\u001b[0;34m\u001b[0m\u001b[0m\n\u001b[0;32m--> 255\u001b[0;31m                                 order=order)\n\u001b[0m\u001b[1;32m    256\u001b[0m         \u001b[0;32mreturn\u001b[0m \u001b[0mret\u001b[0m\u001b[0;34m\u001b[0m\u001b[0;34m\u001b[0m\u001b[0m\n\u001b[1;32m    257\u001b[0m \u001b[0;34m\u001b[0m\u001b[0m\n",
      "\u001b[0;32m~/anaconda3/envs/py36/lib/python3.6/site-packages/numpy/matrixlib/defmatrix.py\u001b[0m in \u001b[0;36m__array_finalize__\u001b[0;34m(self, obj)\u001b[0m\n\u001b[1;32m    256\u001b[0m         \u001b[0;32mreturn\u001b[0m \u001b[0mret\u001b[0m\u001b[0;34m\u001b[0m\u001b[0;34m\u001b[0m\u001b[0m\n\u001b[1;32m    257\u001b[0m \u001b[0;34m\u001b[0m\u001b[0m\n\u001b[0;32m--> 258\u001b[0;31m     \u001b[0;32mdef\u001b[0m \u001b[0m__array_finalize__\u001b[0m\u001b[0;34m(\u001b[0m\u001b[0mself\u001b[0m\u001b[0;34m,\u001b[0m \u001b[0mobj\u001b[0m\u001b[0;34m)\u001b[0m\u001b[0;34m:\u001b[0m\u001b[0;34m\u001b[0m\u001b[0;34m\u001b[0m\u001b[0m\n\u001b[0m\u001b[1;32m    259\u001b[0m         \u001b[0mself\u001b[0m\u001b[0;34m.\u001b[0m\u001b[0m_getitem\u001b[0m \u001b[0;34m=\u001b[0m \u001b[0;32mFalse\u001b[0m\u001b[0;34m\u001b[0m\u001b[0;34m\u001b[0m\u001b[0m\n\u001b[1;32m    260\u001b[0m         \u001b[0;32mif\u001b[0m \u001b[0;34m(\u001b[0m\u001b[0misinstance\u001b[0m\u001b[0;34m(\u001b[0m\u001b[0mobj\u001b[0m\u001b[0;34m,\u001b[0m \u001b[0mmatrix\u001b[0m\u001b[0;34m)\u001b[0m \u001b[0;32mand\u001b[0m \u001b[0mobj\u001b[0m\u001b[0;34m.\u001b[0m\u001b[0m_getitem\u001b[0m\u001b[0;34m)\u001b[0m\u001b[0;34m:\u001b[0m \u001b[0;32mreturn\u001b[0m\u001b[0;34m\u001b[0m\u001b[0;34m\u001b[0m\u001b[0m\n",
      "\u001b[0;31mKeyboardInterrupt\u001b[0m: "
     ]
    }
   ],
   "source": [
    "td3(lambda : gym.make(env), \n",
    "    actor_critic=core.mlp_actor_critic,\n",
    "    ac_kwargs=dict(hidden_sizes=[hid]*l),\n",
    "    gamma=gamma, \n",
    "    seed=seed, \n",
    "    epochs=epochs,\n",
    "    pi_lr=pi_lr,\n",
    "    q_lr=q_lr,\n",
    "    batch_size=batch_size,\n",
    "    replay_size=replay_size,\n",
    "    act_noise=act_noise,\n",
    "    lr_decay=0.9,\n",
    "    logger_kwargs=logger_kwargs)"
   ]
  },
  {
   "cell_type": "code",
   "execution_count": null,
   "metadata": {
    "collapsed": false
   },
   "outputs": [],
   "source": [
    "backtrack_coeff = 0.9\n",
    "backtrack_iters=40\n",
    "for j in range(backtrack_iters):\n",
    "    print(backtrack_coeff**j)"
   ]
  },
  {
   "cell_type": "code",
   "execution_count": null,
   "metadata": {
    "collapsed": false
   },
   "outputs": [],
   "source": [
    "backtrack_coeff = 0.95\n",
    "backtrack_iters=10\n",
    "lr = 1\n",
    "for j in range(backtrack_iters):\n",
    "    lr = lr * backtrack_coeff\n",
    "    print(lr)"
   ]
  },
  {
   "cell_type": "code",
   "execution_count": null,
   "metadata": {
    "collapsed": true
   },
   "outputs": [],
   "source": [
    "pipo1=np.array([1, 2])"
   ]
  },
  {
   "cell_type": "code",
   "execution_count": null,
   "metadata": {
    "collapsed": false
   },
   "outputs": [],
   "source": [
    "pipo2=np.array([3, 2])"
   ]
  },
  {
   "cell_type": "code",
   "execution_count": null,
   "metadata": {
    "collapsed": false
   },
   "outputs": [],
   "source": [
    "pipo=np.array([pipo1, pipo2])"
   ]
  },
  {
   "cell_type": "code",
   "execution_count": null,
   "metadata": {
    "collapsed": false
   },
   "outputs": [],
   "source": [
    "type(pipo)"
   ]
  },
  {
   "cell_type": "code",
   "execution_count": null,
   "metadata": {
    "collapsed": false
   },
   "outputs": [],
   "source": [
    "for p in pipo:\n",
    "    print(p)"
   ]
  },
  {
   "cell_type": "code",
   "execution_count": null,
   "metadata": {
    "collapsed": false
   },
   "outputs": [],
   "source": [
    "np.clip(pipo, -1, 1)"
   ]
  },
  {
   "cell_type": "code",
   "execution_count": null,
   "metadata": {
    "collapsed": true
   },
   "outputs": [],
   "source": []
  }
 ],
 "metadata": {
  "anaconda-cloud": {},
  "kernelspec": {
   "display_name": "Python [conda env:py36]",
   "language": "python",
   "name": "conda-env-py36-py"
  },
  "language_info": {
   "codemirror_mode": {
    "name": "ipython",
    "version": 3
   },
   "file_extension": ".py",
   "mimetype": "text/x-python",
   "name": "python",
   "nbconvert_exporter": "python",
   "pygments_lexer": "ipython3",
   "version": "3.6.8"
  }
 },
 "nbformat": 4,
 "nbformat_minor": 2
}
