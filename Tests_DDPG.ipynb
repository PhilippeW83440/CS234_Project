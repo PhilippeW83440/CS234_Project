{
 "cells": [
  {
   "cell_type": "markdown",
   "metadata": {},
   "source": [
    "Out of https://github.com/openai/spinningup/blob/master/spinup/algos/ddpg"
   ]
  },
  {
   "cell_type": "markdown",
   "metadata": {},
   "source": [
    "# core.py"
   ]
  },
  {
   "cell_type": "code",
   "execution_count": 1,
   "metadata": {},
   "outputs": [
    {
     "name": "stdout",
     "output_type": "stream",
     "text": [
      "core.py\r\n"
     ]
    }
   ],
   "source": [
    "!ls spinup/algos/ddpg/"
   ]
  },
  {
   "cell_type": "markdown",
   "metadata": {},
   "source": [
    "# logx.py"
   ]
  },
  {
   "cell_type": "code",
   "execution_count": 2,
   "metadata": {},
   "outputs": [
    {
     "name": "stdout",
     "output_type": "stream",
     "text": [
      "logx.py  mpi_tools.py  __pycache__  run_utils.py  serialization_utils.py\r\n"
     ]
    }
   ],
   "source": [
    "!ls spinup/utils/"
   ]
  },
  {
   "cell_type": "markdown",
   "metadata": {},
   "source": [
    "# ddpg.py"
   ]
  },
  {
   "cell_type": "code",
   "execution_count": 3,
   "metadata": {
    "collapsed": true
   },
   "outputs": [],
   "source": [
    "import numpy as np\n",
    "import tensorflow as tf\n",
    "import gym\n",
    "import time"
   ]
  },
  {
   "cell_type": "code",
   "execution_count": 4,
   "metadata": {},
   "outputs": [],
   "source": [
    "from spinup.algos.ddpg import core\n",
    "from spinup.algos.ddpg.core import get_vars\n",
    "from spinup.utils.logx import EpochLogger"
   ]
  },
  {
   "cell_type": "code",
   "execution_count": 5,
   "metadata": {
    "collapsed": true
   },
   "outputs": [],
   "source": [
    "class ReplayBuffer:\n",
    "    \"\"\"\n",
    "    A simple FIFO experience replay buffer for DDPG agents.\n",
    "    \"\"\"\n",
    "\n",
    "    def __init__(self, obs_dim, act_dim, size):\n",
    "        self.obs1_buf = np.zeros([size, obs_dim], dtype=np.float32)\n",
    "        self.obs2_buf = np.zeros([size, obs_dim], dtype=np.float32)\n",
    "        self.acts_buf = np.zeros([size, act_dim], dtype=np.float32)\n",
    "        self.rews_buf = np.zeros(size, dtype=np.float32)\n",
    "        self.done_buf = np.zeros(size, dtype=np.float32)\n",
    "        self.ptr, self.size, self.max_size = 0, 0, size\n",
    "\n",
    "    def store(self, obs, act, rew, next_obs, done):\n",
    "        self.obs1_buf[self.ptr] = obs\n",
    "        self.obs2_buf[self.ptr] = next_obs\n",
    "        self.acts_buf[self.ptr] = act\n",
    "        self.rews_buf[self.ptr] = rew\n",
    "        self.done_buf[self.ptr] = done\n",
    "        self.ptr = (self.ptr+1) % self.max_size\n",
    "        self.size = min(self.size+1, self.max_size)\n",
    "\n",
    "    def sample_batch(self, batch_size=32):\n",
    "        idxs = np.random.randint(0, self.size, size=batch_size)\n",
    "        return dict(obs1=self.obs1_buf[idxs],\n",
    "                    obs2=self.obs2_buf[idxs],\n",
    "                    acts=self.acts_buf[idxs],\n",
    "                    rews=self.rews_buf[idxs],\n",
    "                    done=self.done_buf[idxs])"
   ]
  },
  {
   "cell_type": "code",
   "execution_count": 7,
   "metadata": {},
   "outputs": [],
   "source": [
    "\"\"\"\n",
    "Deep Deterministic Policy Gradient (DDPG)\n",
    "\"\"\"\n",
    "def ddpg(env_fn, actor_critic=core.mlp_actor_critic, ac_kwargs=dict(), seed=0, \n",
    "         steps_per_epoch=5000, epochs=100, replay_size=int(1e6), gamma=0.99, \n",
    "         polyak=0.995, pi_lr=1e-3, q_lr=1e-3, batch_size=100, start_steps=10000, \n",
    "         act_noise=0.1, max_ep_len=1000, logger_kwargs=dict(), save_freq=1):\n",
    "    \"\"\"\n",
    "    Args:\n",
    "        env_fn : A function which creates a copy of the environment.\n",
    "            The environment must satisfy the OpenAI Gym API.\n",
    "        actor_critic: A function which takes in placeholder symbols \n",
    "            for state, ``x_ph``, and action, ``a_ph``, and returns the main \n",
    "            outputs from the agent's Tensorflow computation graph:\n",
    "            ===========  ================  ======================================\n",
    "            Symbol       Shape             Description\n",
    "            ===========  ================  ======================================\n",
    "            ``pi``       (batch, act_dim)  | Deterministically computes actions\n",
    "                                           | from policy given states.\n",
    "            ``q``        (batch,)          | Gives the current estimate of Q* for \n",
    "                                           | states in ``x_ph`` and actions in\n",
    "                                           | ``a_ph``.\n",
    "            ``q_pi``     (batch,)          | Gives the composition of ``q`` and \n",
    "                                           | ``pi`` for states in ``x_ph``: \n",
    "                                           | q(x, pi(x)).\n",
    "            ===========  ================  ======================================\n",
    "        ac_kwargs (dict): Any kwargs appropriate for the actor_critic \n",
    "            function you provided to DDPG.\n",
    "        seed (int): Seed for random number generators.\n",
    "        steps_per_epoch (int): Number of steps of interaction (state-action pairs) \n",
    "            for the agent and the environment in each epoch.\n",
    "        epochs (int): Number of epochs to run and train agent.\n",
    "        replay_size (int): Maximum length of replay buffer.\n",
    "        gamma (float): Discount factor. (Always between 0 and 1.)\n",
    "        polyak (float): Interpolation factor in polyak averaging for target \n",
    "            networks. Target networks are updated towards main networks \n",
    "            according to:\n",
    "            .. math:: \\\\theta_{\\\\text{targ}} \\\\leftarrow \n",
    "                \\\\rho \\\\theta_{\\\\text{targ}} + (1-\\\\rho) \\\\theta\n",
    "            where :math:`\\\\rho` is polyak. (Always between 0 and 1, usually \n",
    "            close to 1.)\n",
    "        pi_lr (float): Learning rate for policy.\n",
    "        q_lr (float): Learning rate for Q-networks.\n",
    "        batch_size (int): Minibatch size for SGD.\n",
    "        start_steps (int): Number of steps for uniform-random action selection,\n",
    "            before running real policy. Helps exploration.\n",
    "        act_noise (float): Stddev for Gaussian exploration noise added to \n",
    "            policy at training time. (At test time, no noise is added.)\n",
    "        max_ep_len (int): Maximum length of trajectory / episode / rollout.\n",
    "        logger_kwargs (dict): Keyword args for EpochLogger.\n",
    "        save_freq (int): How often (in terms of gap between epochs) to save\n",
    "            the current policy and value function.\n",
    "    \"\"\"\n",
    "\n",
    "    logger = EpochLogger(**logger_kwargs)\n",
    "    logger.save_config(locals())\n",
    "\n",
    "    tf.set_random_seed(seed)\n",
    "    np.random.seed(seed)\n",
    "\n",
    "    env, test_env = env_fn(), env_fn()\n",
    "    obs_dim = env.observation_space.shape[0]\n",
    "    act_dim = env.action_space.shape[0]\n",
    "\n",
    "    # Action limit for clamping: critically, assumes all dimensions share the same bound!\n",
    "    act_limit = env.action_space.high[0]\n",
    "\n",
    "    # Share information about action space with policy architecture\n",
    "    ac_kwargs['action_space'] = env.action_space\n",
    "\n",
    "    # Inputs to computation graph\n",
    "    x_ph, a_ph, x2_ph, r_ph, d_ph = core.placeholders(obs_dim, act_dim, obs_dim, None, None)\n",
    "\n",
    "    # Main outputs from computation graph\n",
    "    with tf.variable_scope('main'):\n",
    "        pi, q, q_pi = actor_critic(x_ph, a_ph, **ac_kwargs)\n",
    "    \n",
    "    # Target networks\n",
    "    with tf.variable_scope('target'):\n",
    "        # Note that the action placeholder going to actor_critic here is \n",
    "        # irrelevant, because we only need q_targ(s, pi_targ(s)).\n",
    "        pi_targ, _, q_pi_targ  = actor_critic(x2_ph, a_ph, **ac_kwargs)\n",
    "\n",
    "    # Experience buffer\n",
    "    replay_buffer = ReplayBuffer(obs_dim=obs_dim, act_dim=act_dim, size=replay_size)\n",
    "\n",
    "    # Count variables\n",
    "    var_counts = tuple(core.count_vars(scope) for scope in ['main/pi', 'main/q', 'main'])\n",
    "    print('\\nNumber of parameters: \\t pi: %d, \\t q: %d, \\t total: %d\\n'%var_counts)\n",
    "\n",
    "    # Bellman backup for Q function\n",
    "    backup = tf.stop_gradient(r_ph + gamma*(1-d_ph)*q_pi_targ)\n",
    "\n",
    "    # DDPG losses\n",
    "    pi_loss = -tf.reduce_mean(q_pi)\n",
    "    q_loss = tf.reduce_mean((q-backup)**2)\n",
    "\n",
    "    # Separate train ops for pi, q\n",
    "    pi_optimizer = tf.train.AdamOptimizer(learning_rate=pi_lr)\n",
    "    q_optimizer = tf.train.AdamOptimizer(learning_rate=q_lr)\n",
    "    train_pi_op = pi_optimizer.minimize(pi_loss, var_list=get_vars('main/pi'))\n",
    "    train_q_op = q_optimizer.minimize(q_loss, var_list=get_vars('main/q'))\n",
    "\n",
    "    # Polyak averaging for target variables\n",
    "    target_update = tf.group([tf.assign(v_targ, polyak*v_targ + (1-polyak)*v_main)\n",
    "                              for v_main, v_targ in zip(get_vars('main'), get_vars('target'))])\n",
    "\n",
    "    # Initializing targets to match main variables\n",
    "    target_init = tf.group([tf.assign(v_targ, v_main)\n",
    "                              for v_main, v_targ in zip(get_vars('main'), get_vars('target'))])\n",
    "\n",
    "    sess = tf.Session()\n",
    "    sess.run(tf.global_variables_initializer())\n",
    "    sess.run(target_init)\n",
    "\n",
    "    # Setup model saving\n",
    "    logger.setup_tf_saver(sess, inputs={'x': x_ph, 'a': a_ph}, outputs={'pi': pi, 'q': q})\n",
    "\n",
    "    def get_action(o, noise_scale):\n",
    "        a = sess.run(pi, feed_dict={x_ph: o.reshape(1,-1)})[0]\n",
    "        a += noise_scale * np.random.randn(act_dim)\n",
    "        return np.clip(a, -act_limit, act_limit)\n",
    "\n",
    "    def test_agent(n=10):\n",
    "        for j in range(n):\n",
    "            o, r, d, ep_ret, ep_len = test_env.reset(), 0, False, 0, 0\n",
    "            while not(d or (ep_len == max_ep_len)):\n",
    "                # Take deterministic actions at test time (noise_scale=0)\n",
    "                o, r, d, _ = test_env.step(get_action(o, 0))\n",
    "                ep_ret += r\n",
    "                ep_len += 1\n",
    "            logger.store(TestEpRet=ep_ret, TestEpLen=ep_len)\n",
    "\n",
    "    start_time = time.time()\n",
    "    o, r, d, ep_ret, ep_len = env.reset(), 0, False, 0, 0\n",
    "    total_steps = steps_per_epoch * epochs\n",
    "\n",
    "    # Main loop: collect experience in env and update/log each epoch\n",
    "    for t in range(total_steps):\n",
    "\n",
    "        \"\"\"\n",
    "        Until start_steps have elapsed, randomly sample actions\n",
    "        from a uniform distribution for better exploration. Afterwards, \n",
    "        use the learned policy (with some noise, via act_noise). \n",
    "        \"\"\"\n",
    "        if t > start_steps:\n",
    "            a = get_action(o, act_noise)\n",
    "        else:\n",
    "            a = env.action_space.sample()\n",
    "\n",
    "        # Step the env\n",
    "        o2, r, d, _ = env.step(a)\n",
    "        ep_ret += r\n",
    "        ep_len += 1\n",
    "\n",
    "        # Ignore the \"done\" signal if it comes from hitting the time\n",
    "        # horizon (that is, when it's an artificial terminal signal\n",
    "        # that isn't based on the agent's state)\n",
    "        d = False if ep_len==max_ep_len else d\n",
    "\n",
    "        # Store experience to replay buffer\n",
    "        replay_buffer.store(o, a, r, o2, d)\n",
    "\n",
    "        # Super critical, easy to overlook step: make sure to update \n",
    "        # most recent observation!\n",
    "        o = o2\n",
    "\n",
    "        if d or (ep_len == max_ep_len):\n",
    "            \"\"\"\n",
    "            Perform all DDPG updates at the end of the trajectory,\n",
    "            in accordance with tuning done by TD3 paper authors.\n",
    "            \"\"\"\n",
    "            for _ in range(ep_len):\n",
    "                batch = replay_buffer.sample_batch(batch_size)\n",
    "                feed_dict = {x_ph: batch['obs1'],\n",
    "                             x2_ph: batch['obs2'],\n",
    "                             a_ph: batch['acts'],\n",
    "                             r_ph: batch['rews'],\n",
    "                             d_ph: batch['done']\n",
    "                            }\n",
    "\n",
    "                # Q-learning update\n",
    "                outs = sess.run([q_loss, q, train_q_op], feed_dict)\n",
    "                logger.store(LossQ=outs[0], QVals=outs[1])\n",
    "\n",
    "                # Policy update\n",
    "                outs = sess.run([pi_loss, train_pi_op, target_update], feed_dict)\n",
    "                logger.store(LossPi=outs[0])\n",
    "\n",
    "            logger.store(EpRet=ep_ret, EpLen=ep_len)\n",
    "            o, r, d, ep_ret, ep_len = env.reset(), 0, False, 0, 0\n",
    "\n",
    "        # End of epoch wrap-up\n",
    "        if t > 0 and t % steps_per_epoch == 0:\n",
    "            epoch = t // steps_per_epoch\n",
    "\n",
    "            # Save model\n",
    "            if (epoch % save_freq == 0) or (epoch == epochs-1):\n",
    "                logger.save_state({'env': env}, None)\n",
    "\n",
    "            # Test the performance of the deterministic version of the agent.\n",
    "            test_agent()\n",
    "\n",
    "            # Log info about epoch\n",
    "            logger.log_tabular('Epoch', epoch)\n",
    "            logger.log_tabular('EpRet', with_min_and_max=True)\n",
    "            logger.log_tabular('TestEpRet', with_min_and_max=True)\n",
    "            logger.log_tabular('EpLen', average_only=True)\n",
    "            logger.log_tabular('TestEpLen', average_only=True)\n",
    "            logger.log_tabular('TotalEnvInteracts', t)\n",
    "            logger.log_tabular('QVals', with_min_and_max=True)\n",
    "            logger.log_tabular('LossPi', average_only=True)\n",
    "            logger.log_tabular('LossQ', average_only=True)\n",
    "            logger.log_tabular('Time', time.time()-start_time)\n",
    "            logger.dump_tabular()"
   ]
  },
  {
   "cell_type": "code",
   "execution_count": 8,
   "metadata": {
    "collapsed": true
   },
   "outputs": [],
   "source": [
    "env='HalfCheetah-v1'\n",
    "hid=300\n",
    "l=1\n",
    "gamma=0.99\n",
    "seed=0\n",
    "epochs=50\n",
    "exp_name='ddpg'"
   ]
  },
  {
   "cell_type": "code",
   "execution_count": 9,
   "metadata": {},
   "outputs": [],
   "source": [
    "from spinup.utils.run_utils import setup_logger_kwargs\n",
    "logger_kwargs = setup_logger_kwargs(exp_name, seed)"
   ]
  },
  {
   "cell_type": "code",
   "execution_count": 10,
   "metadata": {},
   "outputs": [
    {
     "name": "stderr",
     "output_type": "stream",
     "text": [
      "[2019-03-05 10:00:13,353] Making new env: HalfCheetah-v1\n"
     ]
    },
    {
     "name": "stdout",
     "output_type": "stream",
     "text": [
      "Warning: Log dir /home/phw/rsl/CS234_Project/data/ddpg/ddpg_s0 already exists! Storing info there anyway.\n",
      "\u001b[32;1mLogging data to /home/phw/rsl/CS234_Project/data/ddpg/ddpg_s0/progress.txt\u001b[0m\n",
      "\u001b[36;1mSaving config:\n",
      "\u001b[0m\n",
      "{\n",
      "    \"ac_kwargs\":\t{\n",
      "        \"hidden_sizes\":\t[\n",
      "            300\n",
      "        ]\n",
      "    },\n",
      "    \"act_noise\":\t0.1,\n",
      "    \"actor_critic\":\t\"mlp_actor_critic\",\n",
      "    \"batch_size\":\t100,\n",
      "    \"env_fn\":\t\"<function <lambda> at 0x7f7c78018b70>\",\n",
      "    \"epochs\":\t50,\n",
      "    \"exp_name\":\t\"ddpg\",\n",
      "    \"gamma\":\t0.99,\n",
      "    \"logger\":\t{\n",
      "        \"<spinup.utils.logx.EpochLogger object at 0x7f7c7803f320>\":\t{\n",
      "            \"epoch_dict\":\t{},\n",
      "            \"exp_name\":\t\"ddpg\",\n",
      "            \"first_row\":\ttrue,\n",
      "            \"log_current_row\":\t{},\n",
      "            \"log_headers\":\t[],\n",
      "            \"output_dir\":\t\"/home/phw/rsl/CS234_Project/data/ddpg/ddpg_s0\",\n",
      "            \"output_file\":\t{\n",
      "                \"<_io.TextIOWrapper name='/home/phw/rsl/CS234_Project/data/ddpg/ddpg_s0/progress.txt' mode='w' encoding='UTF-8'>\":\t{\n",
      "                    \"mode\":\t\"w\"\n",
      "                }\n",
      "            }\n",
      "        }\n",
      "    },\n",
      "    \"logger_kwargs\":\t{\n",
      "        \"exp_name\":\t\"ddpg\",\n",
      "        \"output_dir\":\t\"/home/phw/rsl/CS234_Project/data/ddpg/ddpg_s0\"\n",
      "    },\n",
      "    \"max_ep_len\":\t1000,\n",
      "    \"pi_lr\":\t0.001,\n",
      "    \"polyak\":\t0.995,\n",
      "    \"q_lr\":\t0.001,\n",
      "    \"replay_size\":\t1000000,\n",
      "    \"save_freq\":\t1,\n",
      "    \"seed\":\t0,\n",
      "    \"start_steps\":\t10000,\n",
      "    \"steps_per_epoch\":\t5000\n",
      "}\n"
     ]
    },
    {
     "name": "stderr",
     "output_type": "stream",
     "text": [
      "[2019-03-05 10:00:13,587] Making new env: HalfCheetah-v1\n"
     ]
    },
    {
     "name": "stdout",
     "output_type": "stream",
     "text": [
      "\n",
      "Number of parameters: \t pi: 7206, \t q: 7501, \t total: 14707\n",
      "\n",
      "INFO:tensorflow:Assets added to graph.\n"
     ]
    },
    {
     "name": "stderr",
     "output_type": "stream",
     "text": [
      "[2019-03-05 10:00:25,936] Assets added to graph.\n"
     ]
    },
    {
     "name": "stdout",
     "output_type": "stream",
     "text": [
      "INFO:tensorflow:No assets to write.\n"
     ]
    },
    {
     "name": "stderr",
     "output_type": "stream",
     "text": [
      "[2019-03-05 10:00:25,937] No assets to write.\n"
     ]
    },
    {
     "name": "stdout",
     "output_type": "stream",
     "text": [
      "INFO:tensorflow:SavedModel written to: b'/home/phw/rsl/CS234_Project/data/ddpg/ddpg_s0/simple_save/saved_model.pb'\n"
     ]
    },
    {
     "name": "stderr",
     "output_type": "stream",
     "text": [
      "[2019-03-05 10:00:26,081] SavedModel written to: b'/home/phw/rsl/CS234_Project/data/ddpg/ddpg_s0/simple_save/saved_model.pb'\n"
     ]
    },
    {
     "name": "stdout",
     "output_type": "stream",
     "text": [
      "---------------------------------------\n",
      "|             Epoch |               1 |\n",
      "|      AverageEpRet |            -339 |\n",
      "|          StdEpRet |            95.8 |\n",
      "|          MaxEpRet |            -215 |\n",
      "|          MinEpRet |            -476 |\n",
      "|  AverageTestEpRet |            -597 |\n",
      "|      StdTestEpRet |             7.6 |\n",
      "|      MaxTestEpRet |            -587 |\n",
      "|      MinTestEpRet |            -611 |\n",
      "|             EpLen |           1e+03 |\n",
      "|         TestEpLen |           1e+03 |\n",
      "| TotalEnvInteracts |           5e+03 |\n",
      "|      AverageQVals |            7.28 |\n",
      "|          StdQVals |            6.71 |\n",
      "|          MaxQVals |            35.3 |\n",
      "|          MinQVals |           -5.01 |\n",
      "|            LossPi |           -8.63 |\n",
      "|             LossQ |            0.68 |\n",
      "|              Time |            17.4 |\n",
      "---------------------------------------\n",
      "INFO:tensorflow:Assets added to graph.\n"
     ]
    },
    {
     "name": "stderr",
     "output_type": "stream",
     "text": [
      "[2019-03-05 10:00:43,420] Assets added to graph.\n"
     ]
    },
    {
     "name": "stdout",
     "output_type": "stream",
     "text": [
      "INFO:tensorflow:No assets to write.\n"
     ]
    },
    {
     "name": "stderr",
     "output_type": "stream",
     "text": [
      "[2019-03-05 10:00:43,422] No assets to write.\n"
     ]
    },
    {
     "name": "stdout",
     "output_type": "stream",
     "text": [
      "INFO:tensorflow:SavedModel written to: b'/home/phw/rsl/CS234_Project/data/ddpg/ddpg_s0/simple_save/saved_model.pb'\n"
     ]
    },
    {
     "name": "stderr",
     "output_type": "stream",
     "text": [
      "[2019-03-05 10:00:43,571] SavedModel written to: b'/home/phw/rsl/CS234_Project/data/ddpg/ddpg_s0/simple_save/saved_model.pb'\n"
     ]
    },
    {
     "name": "stdout",
     "output_type": "stream",
     "text": [
      "---------------------------------------\n",
      "|             Epoch |               2 |\n",
      "|      AverageEpRet |            -276 |\n",
      "|          StdEpRet |            80.5 |\n",
      "|          MaxEpRet |            -186 |\n",
      "|          MinEpRet |            -417 |\n",
      "|  AverageTestEpRet |            -363 |\n",
      "|      StdTestEpRet |            58.6 |\n",
      "|      MaxTestEpRet |            -266 |\n",
      "|      MinTestEpRet |            -446 |\n",
      "|             EpLen |           1e+03 |\n",
      "|         TestEpLen |           1e+03 |\n",
      "| TotalEnvInteracts |           1e+04 |\n",
      "|      AverageQVals |              45 |\n",
      "|          StdQVals |            14.1 |\n",
      "|          MaxQVals |            81.7 |\n",
      "|          MinQVals |            9.34 |\n",
      "|            LossPi |           -47.7 |\n",
      "|             LossQ |             1.2 |\n",
      "|              Time |            34.5 |\n",
      "---------------------------------------\n",
      "INFO:tensorflow:Assets added to graph.\n"
     ]
    },
    {
     "name": "stderr",
     "output_type": "stream",
     "text": [
      "[2019-03-05 10:01:02,890] Assets added to graph.\n"
     ]
    },
    {
     "name": "stdout",
     "output_type": "stream",
     "text": [
      "INFO:tensorflow:No assets to write.\n"
     ]
    },
    {
     "name": "stderr",
     "output_type": "stream",
     "text": [
      "[2019-03-05 10:01:02,892] No assets to write.\n"
     ]
    },
    {
     "name": "stdout",
     "output_type": "stream",
     "text": [
      "INFO:tensorflow:SavedModel written to: b'/home/phw/rsl/CS234_Project/data/ddpg/ddpg_s0/simple_save/saved_model.pb'\n"
     ]
    },
    {
     "name": "stderr",
     "output_type": "stream",
     "text": [
      "[2019-03-05 10:01:03,036] SavedModel written to: b'/home/phw/rsl/CS234_Project/data/ddpg/ddpg_s0/simple_save/saved_model.pb'\n"
     ]
    },
    {
     "name": "stdout",
     "output_type": "stream",
     "text": [
      "---------------------------------------\n",
      "|             Epoch |               3 |\n",
      "|      AverageEpRet |            -206 |\n",
      "|          StdEpRet |             176 |\n",
      "|          MaxEpRet |             120 |\n",
      "|          MinEpRet |            -366 |\n",
      "|  AverageTestEpRet |            -530 |\n",
      "|      StdTestEpRet |            28.1 |\n",
      "|      MaxTestEpRet |            -466 |\n",
      "|      MinTestEpRet |            -576 |\n",
      "|             EpLen |           1e+03 |\n",
      "|         TestEpLen |           1e+03 |\n",
      "| TotalEnvInteracts |         1.5e+04 |\n",
      "|      AverageQVals |            68.9 |\n",
      "|          StdQVals |             6.7 |\n",
      "|          MaxQVals |            93.2 |\n",
      "|          MinQVals |              45 |\n",
      "|            LossPi |           -70.1 |\n",
      "|             LossQ |            1.94 |\n",
      "|              Time |            54.3 |\n",
      "---------------------------------------\n",
      "INFO:tensorflow:Assets added to graph.\n"
     ]
    },
    {
     "name": "stderr",
     "output_type": "stream",
     "text": [
      "[2019-03-05 10:01:23,244] Assets added to graph.\n"
     ]
    },
    {
     "name": "stdout",
     "output_type": "stream",
     "text": [
      "INFO:tensorflow:No assets to write.\n"
     ]
    },
    {
     "name": "stderr",
     "output_type": "stream",
     "text": [
      "[2019-03-05 10:01:23,245] No assets to write.\n"
     ]
    },
    {
     "name": "stdout",
     "output_type": "stream",
     "text": [
      "INFO:tensorflow:SavedModel written to: b'/home/phw/rsl/CS234_Project/data/ddpg/ddpg_s0/simple_save/saved_model.pb'\n"
     ]
    },
    {
     "name": "stderr",
     "output_type": "stream",
     "text": [
      "[2019-03-05 10:01:23,400] SavedModel written to: b'/home/phw/rsl/CS234_Project/data/ddpg/ddpg_s0/simple_save/saved_model.pb'\n"
     ]
    },
    {
     "name": "stdout",
     "output_type": "stream",
     "text": [
      "---------------------------------------\n",
      "|             Epoch |               4 |\n",
      "|      AverageEpRet |            -436 |\n",
      "|          StdEpRet |              44 |\n",
      "|          MaxEpRet |            -378 |\n",
      "|          MinEpRet |            -502 |\n",
      "|  AverageTestEpRet |            -505 |\n",
      "|      StdTestEpRet |             111 |\n",
      "|      MaxTestEpRet |            -317 |\n",
      "|      MinTestEpRet |            -686 |\n",
      "|             EpLen |           1e+03 |\n",
      "|         TestEpLen |           1e+03 |\n",
      "| TotalEnvInteracts |           2e+04 |\n",
      "|      AverageQVals |              69 |\n",
      "|          StdQVals |            7.92 |\n",
      "|          MaxQVals |             100 |\n",
      "|          MinQVals |            43.4 |\n",
      "|            LossPi |           -69.8 |\n",
      "|             LossQ |            2.15 |\n",
      "|              Time |            74.2 |\n",
      "---------------------------------------\n",
      "INFO:tensorflow:Assets added to graph.\n"
     ]
    },
    {
     "name": "stderr",
     "output_type": "stream",
     "text": [
      "[2019-03-05 10:01:47,239] Assets added to graph.\n"
     ]
    },
    {
     "name": "stdout",
     "output_type": "stream",
     "text": [
      "INFO:tensorflow:No assets to write.\n"
     ]
    },
    {
     "name": "stderr",
     "output_type": "stream",
     "text": [
      "[2019-03-05 10:01:47,241] No assets to write.\n"
     ]
    },
    {
     "name": "stdout",
     "output_type": "stream",
     "text": [
      "INFO:tensorflow:SavedModel written to: b'/home/phw/rsl/CS234_Project/data/ddpg/ddpg_s0/simple_save/saved_model.pb'\n"
     ]
    },
    {
     "name": "stderr",
     "output_type": "stream",
     "text": [
      "[2019-03-05 10:01:47,411] SavedModel written to: b'/home/phw/rsl/CS234_Project/data/ddpg/ddpg_s0/simple_save/saved_model.pb'\n"
     ]
    },
    {
     "name": "stdout",
     "output_type": "stream",
     "text": [
      "---------------------------------------\n",
      "|             Epoch |               5 |\n",
      "|      AverageEpRet |             -67 |\n",
      "|          StdEpRet |             472 |\n",
      "|          MaxEpRet |             544 |\n",
      "|          MinEpRet |            -522 |\n",
      "|  AverageTestEpRet |            -231 |\n",
      "|      StdTestEpRet |             264 |\n",
      "|      MaxTestEpRet |             277 |\n",
      "|      MinTestEpRet |            -616 |\n",
      "|             EpLen |           1e+03 |\n",
      "|         TestEpLen |           1e+03 |\n",
      "| TotalEnvInteracts |         2.5e+04 |\n",
      "|      AverageQVals |            61.9 |\n",
      "|          StdQVals |            12.7 |\n",
      "|          MaxQVals |             106 |\n",
      "|          MinQVals |            34.2 |\n",
      "|            LossPi |           -62.8 |\n",
      "|             LossQ |            2.47 |\n",
      "|              Time |            98.3 |\n",
      "---------------------------------------\n",
      "INFO:tensorflow:Assets added to graph.\n"
     ]
    },
    {
     "name": "stderr",
     "output_type": "stream",
     "text": [
      "[2019-03-05 10:02:06,200] Assets added to graph.\n"
     ]
    },
    {
     "name": "stdout",
     "output_type": "stream",
     "text": [
      "INFO:tensorflow:No assets to write.\n"
     ]
    },
    {
     "name": "stderr",
     "output_type": "stream",
     "text": [
      "[2019-03-05 10:02:06,201] No assets to write.\n"
     ]
    },
    {
     "name": "stdout",
     "output_type": "stream",
     "text": [
      "INFO:tensorflow:SavedModel written to: b'/home/phw/rsl/CS234_Project/data/ddpg/ddpg_s0/simple_save/saved_model.pb'\n"
     ]
    },
    {
     "name": "stderr",
     "output_type": "stream",
     "text": [
      "[2019-03-05 10:02:06,415] SavedModel written to: b'/home/phw/rsl/CS234_Project/data/ddpg/ddpg_s0/simple_save/saved_model.pb'\n"
     ]
    },
    {
     "name": "stdout",
     "output_type": "stream",
     "text": [
      "---------------------------------------\n",
      "|             Epoch |               6 |\n",
      "|      AverageEpRet |        1.63e+03 |\n",
      "|          StdEpRet |             948 |\n",
      "|          MaxEpRet |        2.34e+03 |\n",
      "|          MinEpRet |            -218 |\n",
      "|  AverageTestEpRet |        2.81e+03 |\n",
      "|      StdTestEpRet |            41.1 |\n",
      "|      MaxTestEpRet |         2.9e+03 |\n",
      "|      MinTestEpRet |        2.75e+03 |\n",
      "|             EpLen |           1e+03 |\n",
      "|         TestEpLen |           1e+03 |\n",
      "| TotalEnvInteracts |           3e+04 |\n",
      "|      AverageQVals |            70.3 |\n",
      "|          StdQVals |            23.6 |\n",
      "|          MaxQVals |             143 |\n",
      "|          MinQVals |           -6.43 |\n",
      "|            LossPi |           -71.6 |\n",
      "|             LossQ |            2.95 |\n",
      "|              Time |             117 |\n",
      "---------------------------------------\n",
      "INFO:tensorflow:Assets added to graph.\n"
     ]
    },
    {
     "name": "stderr",
     "output_type": "stream",
     "text": [
      "[2019-03-05 10:02:25,084] Assets added to graph.\n"
     ]
    },
    {
     "name": "stdout",
     "output_type": "stream",
     "text": [
      "INFO:tensorflow:No assets to write.\n"
     ]
    },
    {
     "name": "stderr",
     "output_type": "stream",
     "text": [
      "[2019-03-05 10:02:25,086] No assets to write.\n"
     ]
    },
    {
     "name": "stdout",
     "output_type": "stream",
     "text": [
      "INFO:tensorflow:SavedModel written to: b'/home/phw/rsl/CS234_Project/data/ddpg/ddpg_s0/simple_save/saved_model.pb'\n"
     ]
    },
    {
     "name": "stderr",
     "output_type": "stream",
     "text": [
      "[2019-03-05 10:02:25,263] SavedModel written to: b'/home/phw/rsl/CS234_Project/data/ddpg/ddpg_s0/simple_save/saved_model.pb'\n"
     ]
    },
    {
     "name": "stdout",
     "output_type": "stream",
     "text": [
      "---------------------------------------\n",
      "|             Epoch |               7 |\n",
      "|      AverageEpRet |        2.39e+03 |\n",
      "|          StdEpRet |             106 |\n",
      "|          MaxEpRet |         2.5e+03 |\n",
      "|          MinEpRet |        2.21e+03 |\n",
      "|  AverageTestEpRet |        2.85e+03 |\n",
      "|      StdTestEpRet |            37.5 |\n",
      "|      MaxTestEpRet |         2.9e+03 |\n",
      "|      MinTestEpRet |        2.77e+03 |\n",
      "|             EpLen |           1e+03 |\n",
      "|         TestEpLen |           1e+03 |\n",
      "| TotalEnvInteracts |         3.5e+04 |\n",
      "|      AverageQVals |            96.8 |\n",
      "|          StdQVals |            35.3 |\n",
      "|          MaxQVals |             177 |\n",
      "|          MinQVals |           -1.51 |\n",
      "|            LossPi |           -98.4 |\n",
      "|             LossQ |            3.57 |\n",
      "|              Time |             136 |\n",
      "---------------------------------------\n",
      "INFO:tensorflow:Assets added to graph.\n"
     ]
    },
    {
     "name": "stderr",
     "output_type": "stream",
     "text": [
      "[2019-03-05 10:02:43,919] Assets added to graph.\n"
     ]
    },
    {
     "name": "stdout",
     "output_type": "stream",
     "text": [
      "INFO:tensorflow:No assets to write.\n"
     ]
    },
    {
     "name": "stderr",
     "output_type": "stream",
     "text": [
      "[2019-03-05 10:02:43,920] No assets to write.\n"
     ]
    },
    {
     "name": "stdout",
     "output_type": "stream",
     "text": [
      "INFO:tensorflow:SavedModel written to: b'/home/phw/rsl/CS234_Project/data/ddpg/ddpg_s0/simple_save/saved_model.pb'\n"
     ]
    },
    {
     "name": "stderr",
     "output_type": "stream",
     "text": [
      "[2019-03-05 10:02:44,115] SavedModel written to: b'/home/phw/rsl/CS234_Project/data/ddpg/ddpg_s0/simple_save/saved_model.pb'\n"
     ]
    },
    {
     "name": "stdout",
     "output_type": "stream",
     "text": [
      "---------------------------------------\n",
      "|             Epoch |               8 |\n",
      "|      AverageEpRet |        2.59e+03 |\n",
      "|          StdEpRet |            68.6 |\n",
      "|          MaxEpRet |        2.67e+03 |\n",
      "|          MinEpRet |        2.48e+03 |\n",
      "|  AverageTestEpRet |        2.91e+03 |\n",
      "|      StdTestEpRet |            39.2 |\n",
      "|      MaxTestEpRet |        2.98e+03 |\n",
      "|      MinTestEpRet |        2.83e+03 |\n",
      "|             EpLen |           1e+03 |\n",
      "|         TestEpLen |           1e+03 |\n",
      "| TotalEnvInteracts |           4e+04 |\n",
      "|      AverageQVals |             128 |\n",
      "|          StdQVals |            42.2 |\n",
      "|          MaxQVals |             206 |\n",
      "|          MinQVals |            4.77 |\n",
      "|            LossPi |            -130 |\n",
      "|             LossQ |            4.04 |\n",
      "|              Time |             155 |\n",
      "---------------------------------------\n",
      "INFO:tensorflow:Assets added to graph.\n"
     ]
    },
    {
     "name": "stderr",
     "output_type": "stream",
     "text": [
      "[2019-03-05 10:03:03,954] Assets added to graph.\n"
     ]
    },
    {
     "name": "stdout",
     "output_type": "stream",
     "text": [
      "INFO:tensorflow:No assets to write.\n"
     ]
    },
    {
     "name": "stderr",
     "output_type": "stream",
     "text": [
      "[2019-03-05 10:03:03,955] No assets to write.\n"
     ]
    },
    {
     "name": "stdout",
     "output_type": "stream",
     "text": [
      "INFO:tensorflow:SavedModel written to: b'/home/phw/rsl/CS234_Project/data/ddpg/ddpg_s0/simple_save/saved_model.pb'\n"
     ]
    },
    {
     "name": "stderr",
     "output_type": "stream",
     "text": [
      "[2019-03-05 10:03:04,156] SavedModel written to: b'/home/phw/rsl/CS234_Project/data/ddpg/ddpg_s0/simple_save/saved_model.pb'\n"
     ]
    },
    {
     "name": "stdout",
     "output_type": "stream",
     "text": [
      "---------------------------------------\n",
      "|             Epoch |               9 |\n",
      "|      AverageEpRet |        2.63e+03 |\n",
      "|          StdEpRet |            30.5 |\n",
      "|          MaxEpRet |        2.66e+03 |\n",
      "|          MinEpRet |        2.58e+03 |\n",
      "|  AverageTestEpRet |        2.63e+03 |\n",
      "|      StdTestEpRet |        1.05e+03 |\n",
      "|      MaxTestEpRet |        3.03e+03 |\n",
      "|      MinTestEpRet |            -515 |\n",
      "|             EpLen |           1e+03 |\n",
      "|         TestEpLen |           1e+03 |\n",
      "| TotalEnvInteracts |         4.5e+04 |\n",
      "|      AverageQVals |             159 |\n",
      "|          StdQVals |            45.2 |\n",
      "|          MaxQVals |             232 |\n",
      "|          MinQVals |            25.5 |\n",
      "|            LossPi |            -160 |\n",
      "|             LossQ |            4.24 |\n",
      "|              Time |             175 |\n",
      "---------------------------------------\n",
      "INFO:tensorflow:Assets added to graph.\n"
     ]
    },
    {
     "name": "stderr",
     "output_type": "stream",
     "text": [
      "[2019-03-05 10:03:23,561] Assets added to graph.\n"
     ]
    },
    {
     "name": "stdout",
     "output_type": "stream",
     "text": [
      "INFO:tensorflow:No assets to write.\n"
     ]
    },
    {
     "name": "stderr",
     "output_type": "stream",
     "text": [
      "[2019-03-05 10:03:23,562] No assets to write.\n"
     ]
    },
    {
     "name": "stdout",
     "output_type": "stream",
     "text": [
      "INFO:tensorflow:SavedModel written to: b'/home/phw/rsl/CS234_Project/data/ddpg/ddpg_s0/simple_save/saved_model.pb'\n"
     ]
    },
    {
     "name": "stderr",
     "output_type": "stream",
     "text": [
      "[2019-03-05 10:03:23,766] SavedModel written to: b'/home/phw/rsl/CS234_Project/data/ddpg/ddpg_s0/simple_save/saved_model.pb'\n"
     ]
    },
    {
     "name": "stdout",
     "output_type": "stream",
     "text": [
      "---------------------------------------\n",
      "|             Epoch |              10 |\n",
      "|      AverageEpRet |        2.72e+03 |\n",
      "|          StdEpRet |            24.7 |\n",
      "|          MaxEpRet |        2.75e+03 |\n",
      "|          MinEpRet |        2.69e+03 |\n",
      "|  AverageTestEpRet |        2.56e+03 |\n",
      "|      StdTestEpRet |             221 |\n",
      "|      MaxTestEpRet |        2.75e+03 |\n",
      "|      MinTestEpRet |        1.96e+03 |\n",
      "|             EpLen |           1e+03 |\n",
      "|         TestEpLen |           1e+03 |\n",
      "| TotalEnvInteracts |           5e+04 |\n",
      "|      AverageQVals |             188 |\n",
      "|          StdQVals |            45.8 |\n",
      "|          MaxQVals |             255 |\n",
      "|          MinQVals |            50.3 |\n",
      "|            LossPi |            -189 |\n",
      "|             LossQ |            4.22 |\n",
      "|              Time |             195 |\n",
      "---------------------------------------\n",
      "INFO:tensorflow:Assets added to graph.\n"
     ]
    },
    {
     "name": "stderr",
     "output_type": "stream",
     "text": [
      "[2019-03-05 10:03:42,303] Assets added to graph.\n"
     ]
    },
    {
     "name": "stdout",
     "output_type": "stream",
     "text": [
      "INFO:tensorflow:No assets to write.\n"
     ]
    },
    {
     "name": "stderr",
     "output_type": "stream",
     "text": [
      "[2019-03-05 10:03:42,305] No assets to write.\n"
     ]
    },
    {
     "name": "stdout",
     "output_type": "stream",
     "text": [
      "INFO:tensorflow:SavedModel written to: b'/home/phw/rsl/CS234_Project/data/ddpg/ddpg_s0/simple_save/saved_model.pb'\n"
     ]
    },
    {
     "name": "stderr",
     "output_type": "stream",
     "text": [
      "[2019-03-05 10:03:42,526] SavedModel written to: b'/home/phw/rsl/CS234_Project/data/ddpg/ddpg_s0/simple_save/saved_model.pb'\n"
     ]
    },
    {
     "name": "stdout",
     "output_type": "stream",
     "text": [
      "---------------------------------------\n",
      "|             Epoch |              11 |\n",
      "|      AverageEpRet |        2.68e+03 |\n",
      "|          StdEpRet |            52.8 |\n",
      "|          MaxEpRet |        2.74e+03 |\n",
      "|          MinEpRet |        2.61e+03 |\n",
      "|  AverageTestEpRet |        2.89e+03 |\n",
      "|      StdTestEpRet |            50.2 |\n",
      "|      MaxTestEpRet |        2.97e+03 |\n",
      "|      MinTestEpRet |        2.79e+03 |\n",
      "|             EpLen |           1e+03 |\n",
      "|         TestEpLen |           1e+03 |\n",
      "| TotalEnvInteracts |         5.5e+04 |\n",
      "|      AverageQVals |             213 |\n",
      "|          StdQVals |            44.6 |\n",
      "|          MaxQVals |             273 |\n",
      "|          MinQVals |            74.3 |\n",
      "|            LossPi |            -214 |\n",
      "|             LossQ |             4.1 |\n",
      "|              Time |             213 |\n",
      "---------------------------------------\n",
      "INFO:tensorflow:Assets added to graph.\n"
     ]
    },
    {
     "name": "stderr",
     "output_type": "stream",
     "text": [
      "[2019-03-05 10:04:00,992] Assets added to graph.\n"
     ]
    },
    {
     "name": "stdout",
     "output_type": "stream",
     "text": [
      "INFO:tensorflow:No assets to write.\n"
     ]
    },
    {
     "name": "stderr",
     "output_type": "stream",
     "text": [
      "[2019-03-05 10:04:00,993] No assets to write.\n"
     ]
    },
    {
     "name": "stdout",
     "output_type": "stream",
     "text": [
      "INFO:tensorflow:SavedModel written to: b'/home/phw/rsl/CS234_Project/data/ddpg/ddpg_s0/simple_save/saved_model.pb'\n"
     ]
    },
    {
     "name": "stderr",
     "output_type": "stream",
     "text": [
      "[2019-03-05 10:04:01,216] SavedModel written to: b'/home/phw/rsl/CS234_Project/data/ddpg/ddpg_s0/simple_save/saved_model.pb'\n"
     ]
    },
    {
     "name": "stdout",
     "output_type": "stream",
     "text": [
      "---------------------------------------\n",
      "|             Epoch |              12 |\n",
      "|      AverageEpRet |        2.69e+03 |\n",
      "|          StdEpRet |            16.3 |\n",
      "|          MaxEpRet |        2.72e+03 |\n",
      "|          MinEpRet |        2.67e+03 |\n",
      "|  AverageTestEpRet |        2.77e+03 |\n",
      "|      StdTestEpRet |             538 |\n",
      "|      MaxTestEpRet |        3.03e+03 |\n",
      "|      MinTestEpRet |        1.17e+03 |\n",
      "|             EpLen |           1e+03 |\n",
      "|         TestEpLen |           1e+03 |\n",
      "| TotalEnvInteracts |           6e+04 |\n",
      "|      AverageQVals |             235 |\n",
      "|          StdQVals |            41.5 |\n",
      "|          MaxQVals |             287 |\n",
      "|          MinQVals |             103 |\n",
      "|            LossPi |            -236 |\n",
      "|             LossQ |            3.89 |\n",
      "|              Time |             232 |\n",
      "---------------------------------------\n",
      "INFO:tensorflow:Assets added to graph.\n"
     ]
    },
    {
     "name": "stderr",
     "output_type": "stream",
     "text": [
      "[2019-03-05 10:04:19,744] Assets added to graph.\n"
     ]
    },
    {
     "name": "stdout",
     "output_type": "stream",
     "text": [
      "INFO:tensorflow:No assets to write.\n"
     ]
    },
    {
     "name": "stderr",
     "output_type": "stream",
     "text": [
      "[2019-03-05 10:04:19,745] No assets to write.\n"
     ]
    },
    {
     "name": "stdout",
     "output_type": "stream",
     "text": [
      "INFO:tensorflow:SavedModel written to: b'/home/phw/rsl/CS234_Project/data/ddpg/ddpg_s0/simple_save/saved_model.pb'\n"
     ]
    },
    {
     "name": "stderr",
     "output_type": "stream",
     "text": [
      "[2019-03-05 10:04:19,997] SavedModel written to: b'/home/phw/rsl/CS234_Project/data/ddpg/ddpg_s0/simple_save/saved_model.pb'\n"
     ]
    },
    {
     "name": "stdout",
     "output_type": "stream",
     "text": [
      "---------------------------------------\n",
      "|             Epoch |              13 |\n",
      "|      AverageEpRet |        2.61e+03 |\n",
      "|          StdEpRet |             253 |\n",
      "|          MaxEpRet |        2.81e+03 |\n",
      "|          MinEpRet |        2.12e+03 |\n",
      "|  AverageTestEpRet |             825 |\n",
      "|      StdTestEpRet |             980 |\n",
      "|      MaxTestEpRet |        2.17e+03 |\n",
      "|      MinTestEpRet |            -520 |\n",
      "|             EpLen |           1e+03 |\n",
      "|         TestEpLen |           1e+03 |\n",
      "| TotalEnvInteracts |         6.5e+04 |\n",
      "|      AverageQVals |             252 |\n",
      "|          StdQVals |            38.1 |\n",
      "|          MaxQVals |             301 |\n",
      "|          MinQVals |             138 |\n",
      "|            LossPi |            -254 |\n",
      "|             LossQ |            3.73 |\n",
      "|              Time |             251 |\n",
      "---------------------------------------\n",
      "INFO:tensorflow:Assets added to graph.\n"
     ]
    },
    {
     "name": "stderr",
     "output_type": "stream",
     "text": [
      "[2019-03-05 10:04:39,040] Assets added to graph.\n"
     ]
    },
    {
     "name": "stdout",
     "output_type": "stream",
     "text": [
      "INFO:tensorflow:No assets to write.\n"
     ]
    },
    {
     "name": "stderr",
     "output_type": "stream",
     "text": [
      "[2019-03-05 10:04:39,041] No assets to write.\n"
     ]
    },
    {
     "name": "stdout",
     "output_type": "stream",
     "text": [
      "INFO:tensorflow:SavedModel written to: b'/home/phw/rsl/CS234_Project/data/ddpg/ddpg_s0/simple_save/saved_model.pb'\n"
     ]
    },
    {
     "name": "stderr",
     "output_type": "stream",
     "text": [
      "[2019-03-05 10:04:39,284] SavedModel written to: b'/home/phw/rsl/CS234_Project/data/ddpg/ddpg_s0/simple_save/saved_model.pb'\n"
     ]
    },
    {
     "name": "stdout",
     "output_type": "stream",
     "text": [
      "---------------------------------------\n",
      "|             Epoch |              14 |\n",
      "|      AverageEpRet |        1.57e+03 |\n",
      "|          StdEpRet |        1.31e+03 |\n",
      "|          MaxEpRet |        2.81e+03 |\n",
      "|          MinEpRet |            -150 |\n",
      "|  AverageTestEpRet |         1.4e+03 |\n",
      "|      StdTestEpRet |        1.15e+03 |\n",
      "|      MaxTestEpRet |        3.03e+03 |\n",
      "|      MinTestEpRet |           -62.6 |\n",
      "|             EpLen |           1e+03 |\n",
      "|         TestEpLen |           1e+03 |\n",
      "| TotalEnvInteracts |           7e+04 |\n",
      "|      AverageQVals |             265 |\n",
      "|          StdQVals |            37.6 |\n",
      "|          MaxQVals |             310 |\n",
      "|          MinQVals |             143 |\n",
      "|            LossPi |            -266 |\n",
      "|             LossQ |            3.92 |\n",
      "|              Time |             270 |\n",
      "---------------------------------------\n",
      "INFO:tensorflow:Assets added to graph.\n"
     ]
    },
    {
     "name": "stderr",
     "output_type": "stream",
     "text": [
      "[2019-03-05 10:04:59,172] Assets added to graph.\n"
     ]
    },
    {
     "name": "stdout",
     "output_type": "stream",
     "text": [
      "INFO:tensorflow:No assets to write.\n"
     ]
    },
    {
     "name": "stderr",
     "output_type": "stream",
     "text": [
      "[2019-03-05 10:04:59,173] No assets to write.\n"
     ]
    },
    {
     "name": "stdout",
     "output_type": "stream",
     "text": [
      "INFO:tensorflow:SavedModel written to: b'/home/phw/rsl/CS234_Project/data/ddpg/ddpg_s0/simple_save/saved_model.pb'\n"
     ]
    },
    {
     "name": "stderr",
     "output_type": "stream",
     "text": [
      "[2019-03-05 10:04:59,428] SavedModel written to: b'/home/phw/rsl/CS234_Project/data/ddpg/ddpg_s0/simple_save/saved_model.pb'\n"
     ]
    },
    {
     "name": "stdout",
     "output_type": "stream",
     "text": [
      "---------------------------------------\n",
      "|             Epoch |              15 |\n",
      "|      AverageEpRet |        2.12e+03 |\n",
      "|          StdEpRet |        1.13e+03 |\n",
      "|          MaxEpRet |        2.77e+03 |\n",
      "|          MinEpRet |            -121 |\n",
      "|  AverageTestEpRet |        2.61e+03 |\n",
      "|      StdTestEpRet |             940 |\n",
      "|      MaxTestEpRet |           3e+03 |\n",
      "|      MinTestEpRet |            -200 |\n",
      "|             EpLen |           1e+03 |\n",
      "|         TestEpLen |           1e+03 |\n",
      "| TotalEnvInteracts |         7.5e+04 |\n",
      "|      AverageQVals |             268 |\n",
      "|          StdQVals |            44.1 |\n",
      "|          MaxQVals |             318 |\n",
      "|          MinQVals |             130 |\n",
      "|            LossPi |            -270 |\n",
      "|             LossQ |            4.43 |\n",
      "|              Time |             290 |\n",
      "---------------------------------------\n",
      "INFO:tensorflow:Assets added to graph.\n"
     ]
    },
    {
     "name": "stderr",
     "output_type": "stream",
     "text": [
      "[2019-03-05 10:05:19,336] Assets added to graph.\n"
     ]
    },
    {
     "name": "stdout",
     "output_type": "stream",
     "text": [
      "INFO:tensorflow:No assets to write.\n"
     ]
    },
    {
     "name": "stderr",
     "output_type": "stream",
     "text": [
      "[2019-03-05 10:05:19,337] No assets to write.\n"
     ]
    },
    {
     "name": "stdout",
     "output_type": "stream",
     "text": [
      "INFO:tensorflow:SavedModel written to: b'/home/phw/rsl/CS234_Project/data/ddpg/ddpg_s0/simple_save/saved_model.pb'\n"
     ]
    },
    {
     "name": "stderr",
     "output_type": "stream",
     "text": [
      "[2019-03-05 10:05:19,599] SavedModel written to: b'/home/phw/rsl/CS234_Project/data/ddpg/ddpg_s0/simple_save/saved_model.pb'\n"
     ]
    },
    {
     "name": "stdout",
     "output_type": "stream",
     "text": [
      "---------------------------------------\n",
      "|             Epoch |              16 |\n",
      "|      AverageEpRet |        2.77e+03 |\n",
      "|          StdEpRet |              29 |\n",
      "|          MaxEpRet |        2.82e+03 |\n",
      "|          MinEpRet |        2.74e+03 |\n",
      "|  AverageTestEpRet |        2.87e+03 |\n",
      "|      StdTestEpRet |             209 |\n",
      "|      MaxTestEpRet |        2.97e+03 |\n",
      "|      MinTestEpRet |        2.25e+03 |\n",
      "|             EpLen |           1e+03 |\n",
      "|         TestEpLen |           1e+03 |\n",
      "| TotalEnvInteracts |           8e+04 |\n",
      "|      AverageQVals |             273 |\n",
      "|          StdQVals |            50.4 |\n",
      "|          MaxQVals |             326 |\n",
      "|          MinQVals |             122 |\n",
      "|            LossPi |            -274 |\n",
      "|             LossQ |            4.64 |\n",
      "|              Time |             310 |\n",
      "---------------------------------------\n",
      "INFO:tensorflow:Assets added to graph.\n"
     ]
    },
    {
     "name": "stderr",
     "output_type": "stream",
     "text": [
      "[2019-03-05 10:05:38,930] Assets added to graph.\n"
     ]
    },
    {
     "name": "stdout",
     "output_type": "stream",
     "text": [
      "INFO:tensorflow:No assets to write.\n"
     ]
    },
    {
     "name": "stderr",
     "output_type": "stream",
     "text": [
      "[2019-03-05 10:05:38,931] No assets to write.\n"
     ]
    },
    {
     "name": "stdout",
     "output_type": "stream",
     "text": [
      "INFO:tensorflow:SavedModel written to: b'/home/phw/rsl/CS234_Project/data/ddpg/ddpg_s0/simple_save/saved_model.pb'\n"
     ]
    },
    {
     "name": "stderr",
     "output_type": "stream",
     "text": [
      "[2019-03-05 10:05:39,205] SavedModel written to: b'/home/phw/rsl/CS234_Project/data/ddpg/ddpg_s0/simple_save/saved_model.pb'\n"
     ]
    },
    {
     "name": "stdout",
     "output_type": "stream",
     "text": [
      "---------------------------------------\n",
      "|             Epoch |              17 |\n",
      "|      AverageEpRet |        2.78e+03 |\n",
      "|          StdEpRet |            38.9 |\n",
      "|          MaxEpRet |        2.83e+03 |\n",
      "|          MinEpRet |        2.74e+03 |\n",
      "|  AverageTestEpRet |        3.01e+03 |\n",
      "|      StdTestEpRet |            42.6 |\n",
      "|      MaxTestEpRet |        3.08e+03 |\n",
      "|      MinTestEpRet |         2.9e+03 |\n",
      "|             EpLen |           1e+03 |\n",
      "|         TestEpLen |           1e+03 |\n",
      "| TotalEnvInteracts |         8.5e+04 |\n",
      "|      AverageQVals |             279 |\n",
      "|          StdQVals |            53.8 |\n",
      "|          MaxQVals |             332 |\n",
      "|          MinQVals |             112 |\n",
      "|            LossPi |            -280 |\n",
      "|             LossQ |            4.65 |\n",
      "|              Time |             330 |\n",
      "---------------------------------------\n",
      "INFO:tensorflow:Assets added to graph.\n"
     ]
    },
    {
     "name": "stderr",
     "output_type": "stream",
     "text": [
      "[2019-03-05 10:05:58,855] Assets added to graph.\n"
     ]
    },
    {
     "name": "stdout",
     "output_type": "stream",
     "text": [
      "INFO:tensorflow:No assets to write.\n"
     ]
    },
    {
     "name": "stderr",
     "output_type": "stream",
     "text": [
      "[2019-03-05 10:05:58,856] No assets to write.\n"
     ]
    },
    {
     "name": "stdout",
     "output_type": "stream",
     "text": [
      "INFO:tensorflow:SavedModel written to: b'/home/phw/rsl/CS234_Project/data/ddpg/ddpg_s0/simple_save/saved_model.pb'\n"
     ]
    },
    {
     "name": "stderr",
     "output_type": "stream",
     "text": [
      "[2019-03-05 10:05:59,138] SavedModel written to: b'/home/phw/rsl/CS234_Project/data/ddpg/ddpg_s0/simple_save/saved_model.pb'\n"
     ]
    },
    {
     "name": "stdout",
     "output_type": "stream",
     "text": [
      "---------------------------------------\n",
      "|             Epoch |              18 |\n",
      "|      AverageEpRet |        2.76e+03 |\n",
      "|          StdEpRet |            36.4 |\n",
      "|          MaxEpRet |        2.83e+03 |\n",
      "|          MinEpRet |        2.74e+03 |\n",
      "|  AverageTestEpRet |        2.97e+03 |\n",
      "|      StdTestEpRet |            23.6 |\n",
      "|      MaxTestEpRet |        3.01e+03 |\n",
      "|      MinTestEpRet |        2.92e+03 |\n",
      "|             EpLen |           1e+03 |\n",
      "|         TestEpLen |           1e+03 |\n",
      "| TotalEnvInteracts |           9e+04 |\n",
      "|      AverageQVals |             284 |\n",
      "|          StdQVals |            55.7 |\n",
      "|          MaxQVals |             336 |\n",
      "|          MinQVals |             104 |\n",
      "|            LossPi |            -286 |\n",
      "|             LossQ |            4.57 |\n",
      "|              Time |             350 |\n",
      "---------------------------------------\n",
      "INFO:tensorflow:Assets added to graph.\n"
     ]
    },
    {
     "name": "stderr",
     "output_type": "stream",
     "text": [
      "[2019-03-05 10:06:18,082] Assets added to graph.\n"
     ]
    },
    {
     "name": "stdout",
     "output_type": "stream",
     "text": [
      "INFO:tensorflow:No assets to write.\n"
     ]
    },
    {
     "name": "stderr",
     "output_type": "stream",
     "text": [
      "[2019-03-05 10:06:18,083] No assets to write.\n"
     ]
    },
    {
     "name": "stdout",
     "output_type": "stream",
     "text": [
      "INFO:tensorflow:SavedModel written to: b'/home/phw/rsl/CS234_Project/data/ddpg/ddpg_s0/simple_save/saved_model.pb'\n"
     ]
    },
    {
     "name": "stderr",
     "output_type": "stream",
     "text": [
      "[2019-03-05 10:06:18,408] SavedModel written to: b'/home/phw/rsl/CS234_Project/data/ddpg/ddpg_s0/simple_save/saved_model.pb'\n"
     ]
    },
    {
     "name": "stdout",
     "output_type": "stream",
     "text": [
      "---------------------------------------\n",
      "|             Epoch |              19 |\n",
      "|      AverageEpRet |        2.79e+03 |\n",
      "|          StdEpRet |            56.2 |\n",
      "|          MaxEpRet |        2.85e+03 |\n",
      "|          MinEpRet |        2.69e+03 |\n",
      "|  AverageTestEpRet |        2.99e+03 |\n",
      "|      StdTestEpRet |              34 |\n",
      "|      MaxTestEpRet |        3.05e+03 |\n",
      "|      MinTestEpRet |        2.91e+03 |\n",
      "|             EpLen |           1e+03 |\n",
      "|         TestEpLen |           1e+03 |\n",
      "| TotalEnvInteracts |         9.5e+04 |\n",
      "|      AverageQVals |             289 |\n",
      "|          StdQVals |            57.3 |\n",
      "|          MaxQVals |             339 |\n",
      "|          MinQVals |            91.6 |\n",
      "|            LossPi |            -290 |\n",
      "|             LossQ |            4.51 |\n",
      "|              Time |             369 |\n",
      "---------------------------------------\n",
      "INFO:tensorflow:Assets added to graph.\n"
     ]
    },
    {
     "name": "stderr",
     "output_type": "stream",
     "text": [
      "[2019-03-05 10:06:37,873] Assets added to graph.\n"
     ]
    },
    {
     "name": "stdout",
     "output_type": "stream",
     "text": [
      "INFO:tensorflow:No assets to write.\n"
     ]
    },
    {
     "name": "stderr",
     "output_type": "stream",
     "text": [
      "[2019-03-05 10:06:37,874] No assets to write.\n"
     ]
    },
    {
     "name": "stdout",
     "output_type": "stream",
     "text": [
      "INFO:tensorflow:SavedModel written to: b'/home/phw/rsl/CS234_Project/data/ddpg/ddpg_s0/simple_save/saved_model.pb'\n"
     ]
    },
    {
     "name": "stderr",
     "output_type": "stream",
     "text": [
      "[2019-03-05 10:06:38,170] SavedModel written to: b'/home/phw/rsl/CS234_Project/data/ddpg/ddpg_s0/simple_save/saved_model.pb'\n"
     ]
    },
    {
     "name": "stdout",
     "output_type": "stream",
     "text": [
      "---------------------------------------\n",
      "|             Epoch |              20 |\n",
      "|      AverageEpRet |        2.79e+03 |\n",
      "|          StdEpRet |            28.1 |\n",
      "|          MaxEpRet |        2.84e+03 |\n",
      "|          MinEpRet |        2.76e+03 |\n",
      "|  AverageTestEpRet |        2.64e+03 |\n",
      "|      StdTestEpRet |             151 |\n",
      "|      MaxTestEpRet |        2.82e+03 |\n",
      "|      MinTestEpRet |        2.33e+03 |\n",
      "|             EpLen |           1e+03 |\n",
      "|         TestEpLen |           1e+03 |\n",
      "| TotalEnvInteracts |           1e+05 |\n",
      "|      AverageQVals |             293 |\n",
      "|          StdQVals |            57.9 |\n",
      "|          MaxQVals |             340 |\n",
      "|          MinQVals |            84.8 |\n",
      "|            LossPi |            -294 |\n",
      "|             LossQ |            4.35 |\n",
      "|              Time |             389 |\n",
      "---------------------------------------\n",
      "INFO:tensorflow:Assets added to graph.\n"
     ]
    },
    {
     "name": "stderr",
     "output_type": "stream",
     "text": [
      "[2019-03-05 10:06:56,942] Assets added to graph.\n"
     ]
    },
    {
     "name": "stdout",
     "output_type": "stream",
     "text": [
      "INFO:tensorflow:No assets to write.\n"
     ]
    },
    {
     "name": "stderr",
     "output_type": "stream",
     "text": [
      "[2019-03-05 10:06:56,943] No assets to write.\n"
     ]
    },
    {
     "name": "stdout",
     "output_type": "stream",
     "text": [
      "INFO:tensorflow:SavedModel written to: b'/home/phw/rsl/CS234_Project/data/ddpg/ddpg_s0/simple_save/saved_model.pb'\n"
     ]
    },
    {
     "name": "stderr",
     "output_type": "stream",
     "text": [
      "[2019-03-05 10:06:57,247] SavedModel written to: b'/home/phw/rsl/CS234_Project/data/ddpg/ddpg_s0/simple_save/saved_model.pb'\n"
     ]
    },
    {
     "name": "stdout",
     "output_type": "stream",
     "text": [
      "---------------------------------------\n",
      "|             Epoch |              21 |\n",
      "|      AverageEpRet |        2.77e+03 |\n",
      "|          StdEpRet |            23.8 |\n",
      "|          MaxEpRet |        2.79e+03 |\n",
      "|          MinEpRet |        2.72e+03 |\n",
      "|  AverageTestEpRet |        3.01e+03 |\n",
      "|      StdTestEpRet |            36.4 |\n",
      "|      MaxTestEpRet |        3.06e+03 |\n",
      "|      MinTestEpRet |        2.93e+03 |\n",
      "|             EpLen |           1e+03 |\n",
      "|         TestEpLen |           1e+03 |\n",
      "| TotalEnvInteracts |        1.05e+05 |\n",
      "|      AverageQVals |             296 |\n",
      "|          StdQVals |            57.9 |\n",
      "|          MaxQVals |             343 |\n",
      "|          MinQVals |            73.6 |\n",
      "|            LossPi |            -298 |\n",
      "|             LossQ |            4.16 |\n",
      "|              Time |             408 |\n",
      "---------------------------------------\n",
      "INFO:tensorflow:Assets added to graph.\n"
     ]
    },
    {
     "name": "stderr",
     "output_type": "stream",
     "text": [
      "[2019-03-05 10:07:16,443] Assets added to graph.\n"
     ]
    },
    {
     "name": "stdout",
     "output_type": "stream",
     "text": [
      "INFO:tensorflow:No assets to write.\n"
     ]
    },
    {
     "name": "stderr",
     "output_type": "stream",
     "text": [
      "[2019-03-05 10:07:16,445] No assets to write.\n"
     ]
    },
    {
     "name": "stdout",
     "output_type": "stream",
     "text": [
      "INFO:tensorflow:SavedModel written to: b'/home/phw/rsl/CS234_Project/data/ddpg/ddpg_s0/simple_save/saved_model.pb'\n"
     ]
    },
    {
     "name": "stderr",
     "output_type": "stream",
     "text": [
      "[2019-03-05 10:07:16,763] SavedModel written to: b'/home/phw/rsl/CS234_Project/data/ddpg/ddpg_s0/simple_save/saved_model.pb'\n"
     ]
    },
    {
     "name": "stdout",
     "output_type": "stream",
     "text": [
      "---------------------------------------\n",
      "|             Epoch |              22 |\n",
      "|      AverageEpRet |         2.8e+03 |\n",
      "|          StdEpRet |            20.1 |\n",
      "|          MaxEpRet |        2.83e+03 |\n",
      "|          MinEpRet |        2.77e+03 |\n",
      "|  AverageTestEpRet |        2.99e+03 |\n",
      "|      StdTestEpRet |            47.9 |\n",
      "|      MaxTestEpRet |        3.06e+03 |\n",
      "|      MinTestEpRet |        2.87e+03 |\n",
      "|             EpLen |           1e+03 |\n",
      "|         TestEpLen |           1e+03 |\n",
      "| TotalEnvInteracts |         1.1e+05 |\n",
      "|      AverageQVals |             299 |\n",
      "|          StdQVals |            57.7 |\n",
      "|          MaxQVals |             344 |\n",
      "|          MinQVals |            69.4 |\n",
      "|            LossPi |            -300 |\n",
      "|             LossQ |            3.98 |\n",
      "|              Time |             428 |\n",
      "---------------------------------------\n",
      "INFO:tensorflow:Assets added to graph.\n"
     ]
    },
    {
     "name": "stderr",
     "output_type": "stream",
     "text": [
      "[2019-03-05 10:07:38,215] Assets added to graph.\n"
     ]
    },
    {
     "name": "stdout",
     "output_type": "stream",
     "text": [
      "INFO:tensorflow:No assets to write.\n"
     ]
    },
    {
     "name": "stderr",
     "output_type": "stream",
     "text": [
      "[2019-03-05 10:07:38,216] No assets to write.\n"
     ]
    },
    {
     "name": "stdout",
     "output_type": "stream",
     "text": [
      "INFO:tensorflow:SavedModel written to: b'/home/phw/rsl/CS234_Project/data/ddpg/ddpg_s0/simple_save/saved_model.pb'\n"
     ]
    },
    {
     "name": "stderr",
     "output_type": "stream",
     "text": [
      "[2019-03-05 10:07:38,566] SavedModel written to: b'/home/phw/rsl/CS234_Project/data/ddpg/ddpg_s0/simple_save/saved_model.pb'\n"
     ]
    },
    {
     "name": "stdout",
     "output_type": "stream",
     "text": [
      "---------------------------------------\n",
      "|             Epoch |              23 |\n",
      "|      AverageEpRet |         2.8e+03 |\n",
      "|          StdEpRet |            35.8 |\n",
      "|          MaxEpRet |        2.86e+03 |\n",
      "|          MinEpRet |        2.74e+03 |\n",
      "|  AverageTestEpRet |        3.07e+03 |\n",
      "|      StdTestEpRet |            23.5 |\n",
      "|      MaxTestEpRet |        3.12e+03 |\n",
      "|      MinTestEpRet |        3.04e+03 |\n",
      "|             EpLen |           1e+03 |\n",
      "|         TestEpLen |           1e+03 |\n",
      "| TotalEnvInteracts |        1.15e+05 |\n",
      "|      AverageQVals |             302 |\n",
      "|          StdQVals |            56.7 |\n",
      "|          MaxQVals |             346 |\n",
      "|          MinQVals |            60.9 |\n",
      "|            LossPi |            -303 |\n",
      "|             LossQ |            3.84 |\n",
      "|              Time |             450 |\n",
      "---------------------------------------\n",
      "INFO:tensorflow:Assets added to graph.\n"
     ]
    },
    {
     "name": "stderr",
     "output_type": "stream",
     "text": [
      "[2019-03-05 10:07:58,338] Assets added to graph.\n"
     ]
    },
    {
     "name": "stdout",
     "output_type": "stream",
     "text": [
      "INFO:tensorflow:No assets to write.\n"
     ]
    },
    {
     "name": "stderr",
     "output_type": "stream",
     "text": [
      "[2019-03-05 10:07:58,339] No assets to write.\n"
     ]
    },
    {
     "name": "stdout",
     "output_type": "stream",
     "text": [
      "INFO:tensorflow:SavedModel written to: b'/home/phw/rsl/CS234_Project/data/ddpg/ddpg_s0/simple_save/saved_model.pb'\n"
     ]
    },
    {
     "name": "stderr",
     "output_type": "stream",
     "text": [
      "[2019-03-05 10:07:58,672] SavedModel written to: b'/home/phw/rsl/CS234_Project/data/ddpg/ddpg_s0/simple_save/saved_model.pb'\n"
     ]
    },
    {
     "name": "stdout",
     "output_type": "stream",
     "text": [
      "---------------------------------------\n",
      "|             Epoch |              24 |\n",
      "|      AverageEpRet |        2.82e+03 |\n",
      "|          StdEpRet |            30.8 |\n",
      "|          MaxEpRet |        2.88e+03 |\n",
      "|          MinEpRet |        2.79e+03 |\n",
      "|  AverageTestEpRet |        3.03e+03 |\n",
      "|      StdTestEpRet |            30.1 |\n",
      "|      MaxTestEpRet |        3.08e+03 |\n",
      "|      MinTestEpRet |        2.98e+03 |\n",
      "|             EpLen |           1e+03 |\n",
      "|         TestEpLen |           1e+03 |\n",
      "| TotalEnvInteracts |         1.2e+05 |\n",
      "|      AverageQVals |             304 |\n",
      "|          StdQVals |            55.1 |\n",
      "|          MaxQVals |             344 |\n",
      "|          MinQVals |            59.3 |\n",
      "|            LossPi |            -305 |\n",
      "|             LossQ |            3.67 |\n",
      "|              Time |             469 |\n",
      "---------------------------------------\n",
      "INFO:tensorflow:Assets added to graph.\n"
     ]
    },
    {
     "name": "stderr",
     "output_type": "stream",
     "text": [
      "[2019-03-05 10:08:20,160] Assets added to graph.\n"
     ]
    },
    {
     "name": "stdout",
     "output_type": "stream",
     "text": [
      "INFO:tensorflow:No assets to write.\n"
     ]
    },
    {
     "name": "stderr",
     "output_type": "stream",
     "text": [
      "[2019-03-05 10:08:20,162] No assets to write.\n"
     ]
    },
    {
     "name": "stdout",
     "output_type": "stream",
     "text": [
      "INFO:tensorflow:SavedModel written to: b'/home/phw/rsl/CS234_Project/data/ddpg/ddpg_s0/simple_save/saved_model.pb'\n"
     ]
    },
    {
     "name": "stderr",
     "output_type": "stream",
     "text": [
      "[2019-03-05 10:08:20,506] SavedModel written to: b'/home/phw/rsl/CS234_Project/data/ddpg/ddpg_s0/simple_save/saved_model.pb'\n"
     ]
    },
    {
     "name": "stdout",
     "output_type": "stream",
     "text": [
      "---------------------------------------\n",
      "|             Epoch |              25 |\n",
      "|      AverageEpRet |         2.8e+03 |\n",
      "|          StdEpRet |            39.8 |\n",
      "|          MaxEpRet |        2.85e+03 |\n",
      "|          MinEpRet |        2.73e+03 |\n",
      "|  AverageTestEpRet |        3.03e+03 |\n",
      "|      StdTestEpRet |              29 |\n",
      "|      MaxTestEpRet |        3.07e+03 |\n",
      "|      MinTestEpRet |        2.97e+03 |\n",
      "|             EpLen |           1e+03 |\n",
      "|         TestEpLen |           1e+03 |\n",
      "| TotalEnvInteracts |        1.25e+05 |\n",
      "|      AverageQVals |             306 |\n",
      "|          StdQVals |            53.6 |\n",
      "|          MaxQVals |             345 |\n",
      "|          MinQVals |            55.5 |\n",
      "|            LossPi |            -307 |\n",
      "|             LossQ |            3.47 |\n",
      "|              Time |             491 |\n",
      "---------------------------------------\n",
      "INFO:tensorflow:Assets added to graph.\n"
     ]
    },
    {
     "name": "stderr",
     "output_type": "stream",
     "text": [
      "[2019-03-05 10:08:41,008] Assets added to graph.\n"
     ]
    },
    {
     "name": "stdout",
     "output_type": "stream",
     "text": [
      "INFO:tensorflow:No assets to write.\n"
     ]
    },
    {
     "name": "stderr",
     "output_type": "stream",
     "text": [
      "[2019-03-05 10:08:41,009] No assets to write.\n"
     ]
    },
    {
     "name": "stdout",
     "output_type": "stream",
     "text": [
      "INFO:tensorflow:SavedModel written to: b'/home/phw/rsl/CS234_Project/data/ddpg/ddpg_s0/simple_save/saved_model.pb'\n"
     ]
    },
    {
     "name": "stderr",
     "output_type": "stream",
     "text": [
      "[2019-03-05 10:08:41,361] SavedModel written to: b'/home/phw/rsl/CS234_Project/data/ddpg/ddpg_s0/simple_save/saved_model.pb'\n"
     ]
    },
    {
     "name": "stdout",
     "output_type": "stream",
     "text": [
      "---------------------------------------\n",
      "|             Epoch |              26 |\n",
      "|      AverageEpRet |        2.82e+03 |\n",
      "|          StdEpRet |            32.8 |\n",
      "|          MaxEpRet |        2.86e+03 |\n",
      "|          MinEpRet |        2.77e+03 |\n",
      "|  AverageTestEpRet |        2.98e+03 |\n",
      "|      StdTestEpRet |            39.5 |\n",
      "|      MaxTestEpRet |        3.03e+03 |\n",
      "|      MinTestEpRet |        2.92e+03 |\n",
      "|             EpLen |           1e+03 |\n",
      "|         TestEpLen |           1e+03 |\n",
      "| TotalEnvInteracts |         1.3e+05 |\n",
      "|      AverageQVals |             307 |\n",
      "|          StdQVals |            52.5 |\n",
      "|          MaxQVals |             345 |\n",
      "|          MinQVals |            53.8 |\n",
      "|            LossPi |            -308 |\n",
      "|             LossQ |            3.26 |\n",
      "|              Time |             512 |\n",
      "---------------------------------------\n",
      "INFO:tensorflow:Assets added to graph.\n"
     ]
    },
    {
     "name": "stderr",
     "output_type": "stream",
     "text": [
      "[2019-03-05 10:09:00,497] Assets added to graph.\n"
     ]
    },
    {
     "name": "stdout",
     "output_type": "stream",
     "text": [
      "INFO:tensorflow:No assets to write.\n"
     ]
    },
    {
     "name": "stderr",
     "output_type": "stream",
     "text": [
      "[2019-03-05 10:09:00,498] No assets to write.\n"
     ]
    },
    {
     "name": "stdout",
     "output_type": "stream",
     "text": [
      "INFO:tensorflow:SavedModel written to: b'/home/phw/rsl/CS234_Project/data/ddpg/ddpg_s0/simple_save/saved_model.pb'\n"
     ]
    },
    {
     "name": "stderr",
     "output_type": "stream",
     "text": [
      "[2019-03-05 10:09:00,863] SavedModel written to: b'/home/phw/rsl/CS234_Project/data/ddpg/ddpg_s0/simple_save/saved_model.pb'\n"
     ]
    },
    {
     "name": "stdout",
     "output_type": "stream",
     "text": [
      "---------------------------------------\n",
      "|             Epoch |              27 |\n",
      "|      AverageEpRet |        2.81e+03 |\n",
      "|          StdEpRet |              27 |\n",
      "|          MaxEpRet |        2.85e+03 |\n",
      "|          MinEpRet |        2.77e+03 |\n",
      "|  AverageTestEpRet |        2.92e+03 |\n",
      "|      StdTestEpRet |            75.9 |\n",
      "|      MaxTestEpRet |        3.02e+03 |\n",
      "|      MinTestEpRet |        2.79e+03 |\n",
      "|             EpLen |           1e+03 |\n",
      "|         TestEpLen |           1e+03 |\n",
      "| TotalEnvInteracts |        1.35e+05 |\n",
      "|      AverageQVals |             308 |\n",
      "|          StdQVals |            51.2 |\n",
      "|          MaxQVals |             349 |\n",
      "|          MinQVals |            58.1 |\n",
      "|            LossPi |            -309 |\n",
      "|             LossQ |            3.19 |\n",
      "|              Time |             532 |\n",
      "---------------------------------------\n",
      "INFO:tensorflow:Assets added to graph.\n"
     ]
    },
    {
     "name": "stderr",
     "output_type": "stream",
     "text": [
      "[2019-03-05 10:09:20,321] Assets added to graph.\n"
     ]
    },
    {
     "name": "stdout",
     "output_type": "stream",
     "text": [
      "INFO:tensorflow:No assets to write.\n"
     ]
    },
    {
     "name": "stderr",
     "output_type": "stream",
     "text": [
      "[2019-03-05 10:09:20,322] No assets to write.\n"
     ]
    },
    {
     "name": "stdout",
     "output_type": "stream",
     "text": [
      "INFO:tensorflow:SavedModel written to: b'/home/phw/rsl/CS234_Project/data/ddpg/ddpg_s0/simple_save/saved_model.pb'\n"
     ]
    },
    {
     "name": "stderr",
     "output_type": "stream",
     "text": [
      "[2019-03-05 10:09:20,697] SavedModel written to: b'/home/phw/rsl/CS234_Project/data/ddpg/ddpg_s0/simple_save/saved_model.pb'\n"
     ]
    },
    {
     "name": "stdout",
     "output_type": "stream",
     "text": [
      "---------------------------------------\n",
      "|             Epoch |              28 |\n",
      "|      AverageEpRet |        2.82e+03 |\n",
      "|          StdEpRet |            24.3 |\n",
      "|          MaxEpRet |        2.86e+03 |\n",
      "|          MinEpRet |        2.79e+03 |\n",
      "|  AverageTestEpRet |           3e+03 |\n",
      "|      StdTestEpRet |            34.6 |\n",
      "|      MaxTestEpRet |        3.06e+03 |\n",
      "|      MinTestEpRet |        2.93e+03 |\n",
      "|             EpLen |           1e+03 |\n",
      "|         TestEpLen |           1e+03 |\n",
      "| TotalEnvInteracts |         1.4e+05 |\n",
      "|      AverageQVals |             309 |\n",
      "|          StdQVals |            50.3 |\n",
      "|          MaxQVals |             350 |\n",
      "|          MinQVals |            64.7 |\n",
      "|            LossPi |            -310 |\n",
      "|             LossQ |            3.04 |\n",
      "|              Time |             552 |\n",
      "---------------------------------------\n",
      "INFO:tensorflow:Assets added to graph.\n"
     ]
    },
    {
     "name": "stderr",
     "output_type": "stream",
     "text": [
      "[2019-03-05 10:09:39,987] Assets added to graph.\n"
     ]
    },
    {
     "name": "stdout",
     "output_type": "stream",
     "text": [
      "INFO:tensorflow:No assets to write.\n"
     ]
    },
    {
     "name": "stderr",
     "output_type": "stream",
     "text": [
      "[2019-03-05 10:09:39,988] No assets to write.\n"
     ]
    },
    {
     "name": "stdout",
     "output_type": "stream",
     "text": [
      "INFO:tensorflow:SavedModel written to: b'/home/phw/rsl/CS234_Project/data/ddpg/ddpg_s0/simple_save/saved_model.pb'\n"
     ]
    },
    {
     "name": "stderr",
     "output_type": "stream",
     "text": [
      "[2019-03-05 10:09:40,364] SavedModel written to: b'/home/phw/rsl/CS234_Project/data/ddpg/ddpg_s0/simple_save/saved_model.pb'\n"
     ]
    },
    {
     "name": "stdout",
     "output_type": "stream",
     "text": [
      "---------------------------------------\n",
      "|             Epoch |              29 |\n",
      "|      AverageEpRet |        2.82e+03 |\n",
      "|          StdEpRet |              19 |\n",
      "|          MaxEpRet |        2.84e+03 |\n",
      "|          MinEpRet |        2.79e+03 |\n",
      "|  AverageTestEpRet |           3e+03 |\n",
      "|      StdTestEpRet |             106 |\n",
      "|      MaxTestEpRet |        3.09e+03 |\n",
      "|      MinTestEpRet |         2.7e+03 |\n",
      "|             EpLen |           1e+03 |\n",
      "|         TestEpLen |           1e+03 |\n",
      "| TotalEnvInteracts |        1.45e+05 |\n",
      "|      AverageQVals |             310 |\n",
      "|          StdQVals |            49.3 |\n",
      "|          MaxQVals |             350 |\n",
      "|          MinQVals |            66.4 |\n",
      "|            LossPi |            -311 |\n",
      "|             LossQ |            2.94 |\n",
      "|              Time |             571 |\n",
      "---------------------------------------\n",
      "INFO:tensorflow:Assets added to graph.\n"
     ]
    },
    {
     "name": "stderr",
     "output_type": "stream",
     "text": [
      "[2019-03-05 10:09:59,647] Assets added to graph.\n"
     ]
    },
    {
     "name": "stdout",
     "output_type": "stream",
     "text": [
      "INFO:tensorflow:No assets to write.\n"
     ]
    },
    {
     "name": "stderr",
     "output_type": "stream",
     "text": [
      "[2019-03-05 10:09:59,649] No assets to write.\n"
     ]
    },
    {
     "name": "stdout",
     "output_type": "stream",
     "text": [
      "INFO:tensorflow:SavedModel written to: b'/home/phw/rsl/CS234_Project/data/ddpg/ddpg_s0/simple_save/saved_model.pb'\n"
     ]
    },
    {
     "name": "stderr",
     "output_type": "stream",
     "text": [
      "[2019-03-05 10:10:00,034] SavedModel written to: b'/home/phw/rsl/CS234_Project/data/ddpg/ddpg_s0/simple_save/saved_model.pb'\n"
     ]
    },
    {
     "name": "stdout",
     "output_type": "stream",
     "text": [
      "---------------------------------------\n",
      "|             Epoch |              30 |\n",
      "|      AverageEpRet |        2.83e+03 |\n",
      "|          StdEpRet |            55.5 |\n",
      "|          MaxEpRet |         2.9e+03 |\n",
      "|          MinEpRet |        2.73e+03 |\n",
      "|  AverageTestEpRet |        3.07e+03 |\n",
      "|      StdTestEpRet |            47.5 |\n",
      "|      MaxTestEpRet |        3.18e+03 |\n",
      "|      MinTestEpRet |        3.01e+03 |\n",
      "|             EpLen |           1e+03 |\n",
      "|         TestEpLen |           1e+03 |\n",
      "| TotalEnvInteracts |         1.5e+05 |\n",
      "|      AverageQVals |             311 |\n",
      "|          StdQVals |            48.5 |\n",
      "|          MaxQVals |             349 |\n",
      "|          MinQVals |              71 |\n",
      "|            LossPi |            -312 |\n",
      "|             LossQ |            2.82 |\n",
      "|              Time |             591 |\n",
      "---------------------------------------\n",
      "INFO:tensorflow:Assets added to graph.\n"
     ]
    },
    {
     "name": "stderr",
     "output_type": "stream",
     "text": [
      "[2019-03-05 10:10:20,807] Assets added to graph.\n"
     ]
    },
    {
     "name": "stdout",
     "output_type": "stream",
     "text": [
      "INFO:tensorflow:No assets to write.\n"
     ]
    },
    {
     "name": "stderr",
     "output_type": "stream",
     "text": [
      "[2019-03-05 10:10:20,808] No assets to write.\n"
     ]
    },
    {
     "name": "stdout",
     "output_type": "stream",
     "text": [
      "INFO:tensorflow:SavedModel written to: b'/home/phw/rsl/CS234_Project/data/ddpg/ddpg_s0/simple_save/saved_model.pb'\n"
     ]
    },
    {
     "name": "stderr",
     "output_type": "stream",
     "text": [
      "[2019-03-05 10:10:21,228] SavedModel written to: b'/home/phw/rsl/CS234_Project/data/ddpg/ddpg_s0/simple_save/saved_model.pb'\n"
     ]
    },
    {
     "name": "stdout",
     "output_type": "stream",
     "text": [
      "---------------------------------------\n",
      "|             Epoch |              31 |\n",
      "|      AverageEpRet |        2.83e+03 |\n",
      "|          StdEpRet |            37.3 |\n",
      "|          MaxEpRet |        2.88e+03 |\n",
      "|          MinEpRet |        2.77e+03 |\n",
      "|  AverageTestEpRet |        2.59e+03 |\n",
      "|      StdTestEpRet |             980 |\n",
      "|      MaxTestEpRet |        3.08e+03 |\n",
      "|      MinTestEpRet |            -313 |\n",
      "|             EpLen |           1e+03 |\n",
      "|         TestEpLen |           1e+03 |\n",
      "| TotalEnvInteracts |        1.55e+05 |\n",
      "|      AverageQVals |             312 |\n",
      "|          StdQVals |            47.1 |\n",
      "|          MaxQVals |             349 |\n",
      "|          MinQVals |            81.9 |\n",
      "|            LossPi |            -313 |\n",
      "|             LossQ |            2.75 |\n",
      "|              Time |             612 |\n",
      "---------------------------------------\n",
      "INFO:tensorflow:Assets added to graph.\n"
     ]
    },
    {
     "name": "stderr",
     "output_type": "stream",
     "text": [
      "[2019-03-05 10:10:40,647] Assets added to graph.\n"
     ]
    },
    {
     "name": "stdout",
     "output_type": "stream",
     "text": [
      "INFO:tensorflow:No assets to write.\n"
     ]
    },
    {
     "name": "stderr",
     "output_type": "stream",
     "text": [
      "[2019-03-05 10:10:40,648] No assets to write.\n"
     ]
    },
    {
     "name": "stdout",
     "output_type": "stream",
     "text": [
      "INFO:tensorflow:SavedModel written to: b'/home/phw/rsl/CS234_Project/data/ddpg/ddpg_s0/simple_save/saved_model.pb'\n"
     ]
    },
    {
     "name": "stderr",
     "output_type": "stream",
     "text": [
      "[2019-03-05 10:10:41,097] SavedModel written to: b'/home/phw/rsl/CS234_Project/data/ddpg/ddpg_s0/simple_save/saved_model.pb'\n"
     ]
    },
    {
     "name": "stdout",
     "output_type": "stream",
     "text": [
      "---------------------------------------\n",
      "|             Epoch |              32 |\n",
      "|      AverageEpRet |        2.91e+03 |\n",
      "|          StdEpRet |            73.7 |\n",
      "|          MaxEpRet |        2.99e+03 |\n",
      "|          MinEpRet |         2.8e+03 |\n",
      "|  AverageTestEpRet |        3.05e+03 |\n",
      "|      StdTestEpRet |             194 |\n",
      "|      MaxTestEpRet |        3.29e+03 |\n",
      "|      MinTestEpRet |        2.62e+03 |\n",
      "|             EpLen |           1e+03 |\n",
      "|         TestEpLen |           1e+03 |\n",
      "| TotalEnvInteracts |         1.6e+05 |\n",
      "|      AverageQVals |             312 |\n",
      "|          StdQVals |            46.3 |\n",
      "|          MaxQVals |             349 |\n",
      "|          MinQVals |            85.6 |\n",
      "|            LossPi |            -313 |\n",
      "|             LossQ |            2.69 |\n",
      "|              Time |             632 |\n",
      "---------------------------------------\n",
      "INFO:tensorflow:Assets added to graph.\n"
     ]
    },
    {
     "name": "stderr",
     "output_type": "stream",
     "text": [
      "[2019-03-05 10:11:00,143] Assets added to graph.\n"
     ]
    },
    {
     "name": "stdout",
     "output_type": "stream",
     "text": [
      "INFO:tensorflow:No assets to write.\n"
     ]
    },
    {
     "name": "stderr",
     "output_type": "stream",
     "text": [
      "[2019-03-05 10:11:00,144] No assets to write.\n"
     ]
    },
    {
     "name": "stdout",
     "output_type": "stream",
     "text": [
      "INFO:tensorflow:SavedModel written to: b'/home/phw/rsl/CS234_Project/data/ddpg/ddpg_s0/simple_save/saved_model.pb'\n"
     ]
    },
    {
     "name": "stderr",
     "output_type": "stream",
     "text": [
      "[2019-03-05 10:11:00,570] SavedModel written to: b'/home/phw/rsl/CS234_Project/data/ddpg/ddpg_s0/simple_save/saved_model.pb'\n"
     ]
    },
    {
     "name": "stdout",
     "output_type": "stream",
     "text": [
      "---------------------------------------\n",
      "|             Epoch |              33 |\n",
      "|      AverageEpRet |        2.88e+03 |\n",
      "|          StdEpRet |            85.6 |\n",
      "|          MaxEpRet |        2.98e+03 |\n",
      "|          MinEpRet |        2.75e+03 |\n",
      "|  AverageTestEpRet |        3.04e+03 |\n",
      "|      StdTestEpRet |             445 |\n",
      "|      MaxTestEpRet |        3.33e+03 |\n",
      "|      MinTestEpRet |        1.73e+03 |\n",
      "|             EpLen |           1e+03 |\n",
      "|         TestEpLen |           1e+03 |\n",
      "| TotalEnvInteracts |        1.65e+05 |\n",
      "|      AverageQVals |             314 |\n",
      "|          StdQVals |            45.9 |\n",
      "|          MaxQVals |             352 |\n",
      "|          MinQVals |            93.9 |\n",
      "|            LossPi |            -315 |\n",
      "|             LossQ |            2.74 |\n",
      "|              Time |             651 |\n",
      "---------------------------------------\n",
      "INFO:tensorflow:Assets added to graph.\n"
     ]
    },
    {
     "name": "stderr",
     "output_type": "stream",
     "text": [
      "[2019-03-05 10:11:19,128] Assets added to graph.\n"
     ]
    },
    {
     "name": "stdout",
     "output_type": "stream",
     "text": [
      "INFO:tensorflow:No assets to write.\n"
     ]
    },
    {
     "name": "stderr",
     "output_type": "stream",
     "text": [
      "[2019-03-05 10:11:19,129] No assets to write.\n"
     ]
    },
    {
     "name": "stdout",
     "output_type": "stream",
     "text": [
      "INFO:tensorflow:SavedModel written to: b'/home/phw/rsl/CS234_Project/data/ddpg/ddpg_s0/simple_save/saved_model.pb'\n"
     ]
    },
    {
     "name": "stderr",
     "output_type": "stream",
     "text": [
      "[2019-03-05 10:11:19,563] SavedModel written to: b'/home/phw/rsl/CS234_Project/data/ddpg/ddpg_s0/simple_save/saved_model.pb'\n"
     ]
    },
    {
     "name": "stdout",
     "output_type": "stream",
     "text": [
      "---------------------------------------\n",
      "|             Epoch |              34 |\n",
      "|      AverageEpRet |        2.97e+03 |\n",
      "|          StdEpRet |            63.7 |\n",
      "|          MaxEpRet |        3.09e+03 |\n",
      "|          MinEpRet |         2.9e+03 |\n",
      "|  AverageTestEpRet |        3.28e+03 |\n",
      "|      StdTestEpRet |            82.4 |\n",
      "|      MaxTestEpRet |        3.39e+03 |\n",
      "|      MinTestEpRet |        3.12e+03 |\n",
      "|             EpLen |           1e+03 |\n",
      "|         TestEpLen |           1e+03 |\n",
      "| TotalEnvInteracts |         1.7e+05 |\n",
      "|      AverageQVals |             317 |\n",
      "|          StdQVals |            46.1 |\n",
      "|          MaxQVals |             356 |\n",
      "|          MinQVals |            93.5 |\n",
      "|            LossPi |            -318 |\n",
      "|             LossQ |            2.84 |\n",
      "|              Time |             670 |\n",
      "---------------------------------------\n",
      "INFO:tensorflow:Assets added to graph.\n"
     ]
    },
    {
     "name": "stderr",
     "output_type": "stream",
     "text": [
      "[2019-03-05 10:11:38,161] Assets added to graph.\n"
     ]
    },
    {
     "name": "stdout",
     "output_type": "stream",
     "text": [
      "INFO:tensorflow:No assets to write.\n"
     ]
    },
    {
     "name": "stderr",
     "output_type": "stream",
     "text": [
      "[2019-03-05 10:11:38,162] No assets to write.\n"
     ]
    },
    {
     "name": "stdout",
     "output_type": "stream",
     "text": [
      "INFO:tensorflow:SavedModel written to: b'/home/phw/rsl/CS234_Project/data/ddpg/ddpg_s0/simple_save/saved_model.pb'\n"
     ]
    },
    {
     "name": "stderr",
     "output_type": "stream",
     "text": [
      "[2019-03-05 10:11:38,602] SavedModel written to: b'/home/phw/rsl/CS234_Project/data/ddpg/ddpg_s0/simple_save/saved_model.pb'\n"
     ]
    },
    {
     "name": "stdout",
     "output_type": "stream",
     "text": [
      "---------------------------------------\n",
      "|             Epoch |              35 |\n",
      "|      AverageEpRet |        3.11e+03 |\n",
      "|          StdEpRet |            83.7 |\n",
      "|          MaxEpRet |        3.24e+03 |\n",
      "|          MinEpRet |        2.98e+03 |\n",
      "|  AverageTestEpRet |        3.69e+03 |\n",
      "|      StdTestEpRet |             221 |\n",
      "|      MaxTestEpRet |        4.07e+03 |\n",
      "|      MinTestEpRet |        3.38e+03 |\n",
      "|             EpLen |           1e+03 |\n",
      "|         TestEpLen |           1e+03 |\n",
      "| TotalEnvInteracts |        1.75e+05 |\n",
      "|      AverageQVals |             321 |\n",
      "|          StdQVals |            46.8 |\n",
      "|          MaxQVals |             366 |\n",
      "|          MinQVals |            97.8 |\n",
      "|            LossPi |            -322 |\n",
      "|             LossQ |            3.06 |\n",
      "|              Time |             689 |\n",
      "---------------------------------------\n",
      "INFO:tensorflow:Assets added to graph.\n"
     ]
    },
    {
     "name": "stderr",
     "output_type": "stream",
     "text": [
      "[2019-03-05 10:11:59,943] Assets added to graph.\n"
     ]
    },
    {
     "name": "stdout",
     "output_type": "stream",
     "text": [
      "INFO:tensorflow:No assets to write.\n"
     ]
    },
    {
     "name": "stderr",
     "output_type": "stream",
     "text": [
      "[2019-03-05 10:11:59,944] No assets to write.\n"
     ]
    },
    {
     "name": "stdout",
     "output_type": "stream",
     "text": [
      "INFO:tensorflow:SavedModel written to: b'/home/phw/rsl/CS234_Project/data/ddpg/ddpg_s0/simple_save/saved_model.pb'\n"
     ]
    },
    {
     "name": "stderr",
     "output_type": "stream",
     "text": [
      "[2019-03-05 10:12:00,404] SavedModel written to: b'/home/phw/rsl/CS234_Project/data/ddpg/ddpg_s0/simple_save/saved_model.pb'\n"
     ]
    },
    {
     "name": "stdout",
     "output_type": "stream",
     "text": [
      "---------------------------------------\n",
      "|             Epoch |              36 |\n",
      "|      AverageEpRet |        3.38e+03 |\n",
      "|          StdEpRet |             190 |\n",
      "|          MaxEpRet |        3.64e+03 |\n",
      "|          MinEpRet |        3.19e+03 |\n",
      "|  AverageTestEpRet |        3.85e+03 |\n",
      "|      StdTestEpRet |        1.04e+03 |\n",
      "|      MaxTestEpRet |        4.52e+03 |\n",
      "|      MinTestEpRet |             811 |\n",
      "|             EpLen |           1e+03 |\n",
      "|         TestEpLen |           1e+03 |\n",
      "| TotalEnvInteracts |         1.8e+05 |\n",
      "|      AverageQVals |             327 |\n",
      "|          StdQVals |              48 |\n",
      "|          MaxQVals |             386 |\n",
      "|          MinQVals |            99.7 |\n",
      "|            LossPi |            -328 |\n",
      "|             LossQ |            3.41 |\n",
      "|              Time |             711 |\n",
      "---------------------------------------\n",
      "INFO:tensorflow:Assets added to graph.\n"
     ]
    },
    {
     "name": "stderr",
     "output_type": "stream",
     "text": [
      "[2019-03-05 10:12:19,011] Assets added to graph.\n"
     ]
    },
    {
     "name": "stdout",
     "output_type": "stream",
     "text": [
      "INFO:tensorflow:No assets to write.\n"
     ]
    },
    {
     "name": "stderr",
     "output_type": "stream",
     "text": [
      "[2019-03-05 10:12:19,012] No assets to write.\n"
     ]
    },
    {
     "name": "stdout",
     "output_type": "stream",
     "text": [
      "INFO:tensorflow:SavedModel written to: b'/home/phw/rsl/CS234_Project/data/ddpg/ddpg_s0/simple_save/saved_model.pb'\n"
     ]
    },
    {
     "name": "stderr",
     "output_type": "stream",
     "text": [
      "[2019-03-05 10:12:19,478] SavedModel written to: b'/home/phw/rsl/CS234_Project/data/ddpg/ddpg_s0/simple_save/saved_model.pb'\n"
     ]
    },
    {
     "name": "stdout",
     "output_type": "stream",
     "text": [
      "---------------------------------------\n",
      "|             Epoch |              37 |\n",
      "|      AverageEpRet |        3.84e+03 |\n",
      "|          StdEpRet |            58.7 |\n",
      "|          MaxEpRet |         3.9e+03 |\n",
      "|          MinEpRet |        3.74e+03 |\n",
      "|  AverageTestEpRet |        4.22e+03 |\n",
      "|      StdTestEpRet |             315 |\n",
      "|      MaxTestEpRet |        4.61e+03 |\n",
      "|      MinTestEpRet |         3.5e+03 |\n",
      "|             EpLen |           1e+03 |\n",
      "|         TestEpLen |           1e+03 |\n",
      "| TotalEnvInteracts |        1.85e+05 |\n",
      "|      AverageQVals |             335 |\n",
      "|          StdQVals |            49.1 |\n",
      "|          MaxQVals |             406 |\n",
      "|          MinQVals |              97 |\n",
      "|            LossPi |            -337 |\n",
      "|             LossQ |            3.85 |\n",
      "|              Time |             730 |\n",
      "---------------------------------------\n",
      "INFO:tensorflow:Assets added to graph.\n"
     ]
    },
    {
     "name": "stderr",
     "output_type": "stream",
     "text": [
      "[2019-03-05 10:12:38,048] Assets added to graph.\n"
     ]
    },
    {
     "name": "stdout",
     "output_type": "stream",
     "text": [
      "INFO:tensorflow:No assets to write.\n"
     ]
    },
    {
     "name": "stderr",
     "output_type": "stream",
     "text": [
      "[2019-03-05 10:12:38,049] No assets to write.\n"
     ]
    },
    {
     "name": "stdout",
     "output_type": "stream",
     "text": [
      "INFO:tensorflow:SavedModel written to: b'/home/phw/rsl/CS234_Project/data/ddpg/ddpg_s0/simple_save/saved_model.pb'\n"
     ]
    },
    {
     "name": "stderr",
     "output_type": "stream",
     "text": [
      "[2019-03-05 10:12:38,524] SavedModel written to: b'/home/phw/rsl/CS234_Project/data/ddpg/ddpg_s0/simple_save/saved_model.pb'\n"
     ]
    },
    {
     "name": "stdout",
     "output_type": "stream",
     "text": [
      "---------------------------------------\n",
      "|             Epoch |              38 |\n",
      "|      AverageEpRet |        3.72e+03 |\n",
      "|          StdEpRet |             225 |\n",
      "|          MaxEpRet |        4.02e+03 |\n",
      "|          MinEpRet |        3.44e+03 |\n",
      "|  AverageTestEpRet |        3.44e+03 |\n",
      "|      StdTestEpRet |             737 |\n",
      "|      MaxTestEpRet |        4.11e+03 |\n",
      "|      MinTestEpRet |        1.29e+03 |\n",
      "|             EpLen |           1e+03 |\n",
      "|         TestEpLen |           1e+03 |\n",
      "| TotalEnvInteracts |         1.9e+05 |\n",
      "|      AverageQVals |             346 |\n",
      "|          StdQVals |            51.1 |\n",
      "|          MaxQVals |             420 |\n",
      "|          MinQVals |            95.7 |\n",
      "|            LossPi |            -348 |\n",
      "|             LossQ |            4.32 |\n",
      "|              Time |             749 |\n",
      "---------------------------------------\n",
      "INFO:tensorflow:Assets added to graph.\n"
     ]
    },
    {
     "name": "stderr",
     "output_type": "stream",
     "text": [
      "[2019-03-05 10:12:57,063] Assets added to graph.\n"
     ]
    },
    {
     "name": "stdout",
     "output_type": "stream",
     "text": [
      "INFO:tensorflow:No assets to write.\n"
     ]
    },
    {
     "name": "stderr",
     "output_type": "stream",
     "text": [
      "[2019-03-05 10:12:57,064] No assets to write.\n"
     ]
    },
    {
     "name": "stdout",
     "output_type": "stream",
     "text": [
      "INFO:tensorflow:SavedModel written to: b'/home/phw/rsl/CS234_Project/data/ddpg/ddpg_s0/simple_save/saved_model.pb'\n"
     ]
    },
    {
     "name": "stderr",
     "output_type": "stream",
     "text": [
      "[2019-03-05 10:12:57,542] SavedModel written to: b'/home/phw/rsl/CS234_Project/data/ddpg/ddpg_s0/simple_save/saved_model.pb'\n"
     ]
    },
    {
     "name": "stdout",
     "output_type": "stream",
     "text": [
      "---------------------------------------\n",
      "|             Epoch |              39 |\n",
      "|      AverageEpRet |        3.82e+03 |\n",
      "|          StdEpRet |             132 |\n",
      "|          MaxEpRet |        3.94e+03 |\n",
      "|          MinEpRet |        3.63e+03 |\n",
      "|  AverageTestEpRet |        4.08e+03 |\n",
      "|      StdTestEpRet |             197 |\n",
      "|      MaxTestEpRet |        4.32e+03 |\n",
      "|      MinTestEpRet |        3.65e+03 |\n",
      "|             EpLen |           1e+03 |\n",
      "|         TestEpLen |           1e+03 |\n",
      "| TotalEnvInteracts |        1.95e+05 |\n",
      "|      AverageQVals |             358 |\n",
      "|          StdQVals |            52.8 |\n",
      "|          MaxQVals |             435 |\n",
      "|          MinQVals |            98.6 |\n",
      "|            LossPi |            -359 |\n",
      "|             LossQ |            4.85 |\n",
      "|              Time |             768 |\n",
      "---------------------------------------\n",
      "INFO:tensorflow:Assets added to graph.\n"
     ]
    },
    {
     "name": "stderr",
     "output_type": "stream",
     "text": [
      "[2019-03-05 10:13:16,868] Assets added to graph.\n"
     ]
    },
    {
     "name": "stdout",
     "output_type": "stream",
     "text": [
      "INFO:tensorflow:No assets to write.\n"
     ]
    },
    {
     "name": "stderr",
     "output_type": "stream",
     "text": [
      "[2019-03-05 10:13:16,869] No assets to write.\n"
     ]
    },
    {
     "name": "stdout",
     "output_type": "stream",
     "text": [
      "INFO:tensorflow:SavedModel written to: b'/home/phw/rsl/CS234_Project/data/ddpg/ddpg_s0/simple_save/saved_model.pb'\n"
     ]
    },
    {
     "name": "stderr",
     "output_type": "stream",
     "text": [
      "[2019-03-05 10:13:17,360] SavedModel written to: b'/home/phw/rsl/CS234_Project/data/ddpg/ddpg_s0/simple_save/saved_model.pb'\n"
     ]
    },
    {
     "name": "stdout",
     "output_type": "stream",
     "text": [
      "---------------------------------------\n",
      "|             Epoch |              40 |\n",
      "|      AverageEpRet |        3.79e+03 |\n",
      "|          StdEpRet |             214 |\n",
      "|          MaxEpRet |        4.09e+03 |\n",
      "|          MinEpRet |        3.55e+03 |\n",
      "|  AverageTestEpRet |        4.05e+03 |\n",
      "|      StdTestEpRet |             210 |\n",
      "|      MaxTestEpRet |        4.36e+03 |\n",
      "|      MinTestEpRet |        3.73e+03 |\n",
      "|             EpLen |           1e+03 |\n",
      "|         TestEpLen |           1e+03 |\n",
      "| TotalEnvInteracts |           2e+05 |\n",
      "|      AverageQVals |             369 |\n",
      "|          StdQVals |            54.6 |\n",
      "|          MaxQVals |             448 |\n",
      "|          MinQVals |             105 |\n",
      "|            LossPi |            -370 |\n",
      "|             LossQ |            5.54 |\n",
      "|              Time |             788 |\n",
      "---------------------------------------\n",
      "INFO:tensorflow:Assets added to graph.\n"
     ]
    },
    {
     "name": "stderr",
     "output_type": "stream",
     "text": [
      "[2019-03-05 10:13:37,854] Assets added to graph.\n"
     ]
    },
    {
     "name": "stdout",
     "output_type": "stream",
     "text": [
      "INFO:tensorflow:No assets to write.\n"
     ]
    },
    {
     "name": "stderr",
     "output_type": "stream",
     "text": [
      "[2019-03-05 10:13:37,856] No assets to write.\n"
     ]
    },
    {
     "name": "stdout",
     "output_type": "stream",
     "text": [
      "INFO:tensorflow:SavedModel written to: b'/home/phw/rsl/CS234_Project/data/ddpg/ddpg_s0/simple_save/saved_model.pb'\n"
     ]
    },
    {
     "name": "stderr",
     "output_type": "stream",
     "text": [
      "[2019-03-05 10:13:38,426] SavedModel written to: b'/home/phw/rsl/CS234_Project/data/ddpg/ddpg_s0/simple_save/saved_model.pb'\n"
     ]
    },
    {
     "name": "stdout",
     "output_type": "stream",
     "text": [
      "---------------------------------------\n",
      "|             Epoch |              41 |\n",
      "|      AverageEpRet |        3.82e+03 |\n",
      "|          StdEpRet |             293 |\n",
      "|          MaxEpRet |        4.25e+03 |\n",
      "|          MinEpRet |        3.36e+03 |\n",
      "|  AverageTestEpRet |        4.45e+03 |\n",
      "|      StdTestEpRet |             134 |\n",
      "|      MaxTestEpRet |        4.67e+03 |\n",
      "|      MinTestEpRet |        4.19e+03 |\n",
      "|             EpLen |           1e+03 |\n",
      "|         TestEpLen |           1e+03 |\n",
      "| TotalEnvInteracts |        2.05e+05 |\n",
      "|      AverageQVals |             379 |\n",
      "|          StdQVals |            54.7 |\n",
      "|          MaxQVals |             457 |\n",
      "|          MinQVals |             111 |\n",
      "|            LossPi |            -380 |\n",
      "|             LossQ |            5.95 |\n",
      "|              Time |             810 |\n",
      "---------------------------------------\n",
      "INFO:tensorflow:Assets added to graph.\n"
     ]
    },
    {
     "name": "stderr",
     "output_type": "stream",
     "text": [
      "[2019-03-05 10:13:58,703] Assets added to graph.\n"
     ]
    },
    {
     "name": "stdout",
     "output_type": "stream",
     "text": [
      "INFO:tensorflow:No assets to write.\n"
     ]
    },
    {
     "name": "stderr",
     "output_type": "stream",
     "text": [
      "[2019-03-05 10:13:58,704] No assets to write.\n"
     ]
    },
    {
     "name": "stdout",
     "output_type": "stream",
     "text": [
      "INFO:tensorflow:SavedModel written to: b'/home/phw/rsl/CS234_Project/data/ddpg/ddpg_s0/simple_save/saved_model.pb'\n"
     ]
    },
    {
     "name": "stderr",
     "output_type": "stream",
     "text": [
      "[2019-03-05 10:13:59,245] SavedModel written to: b'/home/phw/rsl/CS234_Project/data/ddpg/ddpg_s0/simple_save/saved_model.pb'\n"
     ]
    },
    {
     "name": "stdout",
     "output_type": "stream",
     "text": [
      "---------------------------------------\n",
      "|             Epoch |              42 |\n",
      "|      AverageEpRet |        4.06e+03 |\n",
      "|          StdEpRet |             101 |\n",
      "|          MaxEpRet |        4.21e+03 |\n",
      "|          MinEpRet |        3.92e+03 |\n",
      "|  AverageTestEpRet |        4.34e+03 |\n",
      "|      StdTestEpRet |             285 |\n",
      "|      MaxTestEpRet |        4.75e+03 |\n",
      "|      MinTestEpRet |        3.62e+03 |\n",
      "|             EpLen |           1e+03 |\n",
      "|         TestEpLen |           1e+03 |\n",
      "| TotalEnvInteracts |         2.1e+05 |\n",
      "|      AverageQVals |             386 |\n",
      "|          StdQVals |            54.3 |\n",
      "|          MaxQVals |             465 |\n",
      "|          MinQVals |             132 |\n",
      "|            LossPi |            -388 |\n",
      "|             LossQ |            6.19 |\n",
      "|              Time |             831 |\n",
      "---------------------------------------\n",
      "INFO:tensorflow:Assets added to graph.\n"
     ]
    },
    {
     "name": "stderr",
     "output_type": "stream",
     "text": [
      "[2019-03-05 10:14:18,317] Assets added to graph.\n"
     ]
    },
    {
     "name": "stdout",
     "output_type": "stream",
     "text": [
      "INFO:tensorflow:No assets to write.\n"
     ]
    },
    {
     "name": "stderr",
     "output_type": "stream",
     "text": [
      "[2019-03-05 10:14:18,318] No assets to write.\n"
     ]
    },
    {
     "name": "stdout",
     "output_type": "stream",
     "text": [
      "INFO:tensorflow:SavedModel written to: b'/home/phw/rsl/CS234_Project/data/ddpg/ddpg_s0/simple_save/saved_model.pb'\n"
     ]
    },
    {
     "name": "stderr",
     "output_type": "stream",
     "text": [
      "[2019-03-05 10:14:18,832] SavedModel written to: b'/home/phw/rsl/CS234_Project/data/ddpg/ddpg_s0/simple_save/saved_model.pb'\n"
     ]
    },
    {
     "name": "stdout",
     "output_type": "stream",
     "text": [
      "---------------------------------------\n",
      "|             Epoch |              43 |\n",
      "|      AverageEpRet |        4.02e+03 |\n",
      "|          StdEpRet |             102 |\n",
      "|          MaxEpRet |        4.14e+03 |\n",
      "|          MinEpRet |         3.9e+03 |\n",
      "|  AverageTestEpRet |        4.41e+03 |\n",
      "|      StdTestEpRet |             265 |\n",
      "|      MaxTestEpRet |         4.8e+03 |\n",
      "|      MinTestEpRet |        3.93e+03 |\n",
      "|             EpLen |           1e+03 |\n",
      "|         TestEpLen |           1e+03 |\n",
      "| TotalEnvInteracts |        2.15e+05 |\n",
      "|      AverageQVals |             393 |\n",
      "|          StdQVals |            54.6 |\n",
      "|          MaxQVals |             474 |\n",
      "|          MinQVals |             136 |\n",
      "|            LossPi |            -395 |\n",
      "|             LossQ |            6.46 |\n",
      "|              Time |             850 |\n",
      "---------------------------------------\n",
      "INFO:tensorflow:Assets added to graph.\n"
     ]
    },
    {
     "name": "stderr",
     "output_type": "stream",
     "text": [
      "[2019-03-05 10:14:37,390] Assets added to graph.\n"
     ]
    },
    {
     "name": "stdout",
     "output_type": "stream",
     "text": [
      "INFO:tensorflow:No assets to write.\n"
     ]
    },
    {
     "name": "stderr",
     "output_type": "stream",
     "text": [
      "[2019-03-05 10:14:37,391] No assets to write.\n"
     ]
    },
    {
     "name": "stdout",
     "output_type": "stream",
     "text": [
      "INFO:tensorflow:SavedModel written to: b'/home/phw/rsl/CS234_Project/data/ddpg/ddpg_s0/simple_save/saved_model.pb'\n"
     ]
    },
    {
     "name": "stderr",
     "output_type": "stream",
     "text": [
      "[2019-03-05 10:14:37,915] SavedModel written to: b'/home/phw/rsl/CS234_Project/data/ddpg/ddpg_s0/simple_save/saved_model.pb'\n"
     ]
    },
    {
     "name": "stdout",
     "output_type": "stream",
     "text": [
      "---------------------------------------\n",
      "|             Epoch |              44 |\n",
      "|      AverageEpRet |        4.03e+03 |\n",
      "|          StdEpRet |            58.3 |\n",
      "|          MaxEpRet |         4.1e+03 |\n",
      "|          MinEpRet |        3.94e+03 |\n",
      "|  AverageTestEpRet |        4.42e+03 |\n",
      "|      StdTestEpRet |             246 |\n",
      "|      MaxTestEpRet |        4.71e+03 |\n",
      "|      MinTestEpRet |           4e+03 |\n",
      "|             EpLen |           1e+03 |\n",
      "|         TestEpLen |           1e+03 |\n",
      "| TotalEnvInteracts |         2.2e+05 |\n",
      "|      AverageQVals |             400 |\n",
      "|          StdQVals |            54.8 |\n",
      "|          MaxQVals |             479 |\n",
      "|          MinQVals |             140 |\n",
      "|            LossPi |            -402 |\n",
      "|             LossQ |            6.69 |\n",
      "|              Time |             869 |\n",
      "---------------------------------------\n",
      "INFO:tensorflow:Assets added to graph.\n"
     ]
    },
    {
     "name": "stderr",
     "output_type": "stream",
     "text": [
      "[2019-03-05 10:15:01,210] Assets added to graph.\n"
     ]
    },
    {
     "name": "stdout",
     "output_type": "stream",
     "text": [
      "INFO:tensorflow:No assets to write.\n"
     ]
    },
    {
     "name": "stderr",
     "output_type": "stream",
     "text": [
      "[2019-03-05 10:15:01,212] No assets to write.\n"
     ]
    },
    {
     "name": "stdout",
     "output_type": "stream",
     "text": [
      "INFO:tensorflow:SavedModel written to: b'/home/phw/rsl/CS234_Project/data/ddpg/ddpg_s0/simple_save/saved_model.pb'\n"
     ]
    },
    {
     "name": "stderr",
     "output_type": "stream",
     "text": [
      "[2019-03-05 10:15:01,796] SavedModel written to: b'/home/phw/rsl/CS234_Project/data/ddpg/ddpg_s0/simple_save/saved_model.pb'\n"
     ]
    },
    {
     "name": "stdout",
     "output_type": "stream",
     "text": [
      "---------------------------------------\n",
      "|             Epoch |              45 |\n",
      "|      AverageEpRet |        4.01e+03 |\n",
      "|          StdEpRet |             180 |\n",
      "|          MaxEpRet |        4.16e+03 |\n",
      "|          MinEpRet |        3.69e+03 |\n",
      "|  AverageTestEpRet |         4.4e+03 |\n",
      "|      StdTestEpRet |             167 |\n",
      "|      MaxTestEpRet |        4.59e+03 |\n",
      "|      MinTestEpRet |        3.99e+03 |\n",
      "|             EpLen |           1e+03 |\n",
      "|         TestEpLen |           1e+03 |\n",
      "| TotalEnvInteracts |        2.25e+05 |\n",
      "|      AverageQVals |             406 |\n",
      "|          StdQVals |            55.1 |\n",
      "|          MaxQVals |             483 |\n",
      "|          MinQVals |             141 |\n",
      "|            LossPi |            -408 |\n",
      "|             LossQ |            6.79 |\n",
      "|              Time |             893 |\n",
      "---------------------------------------\n",
      "INFO:tensorflow:Assets added to graph.\n"
     ]
    },
    {
     "name": "stderr",
     "output_type": "stream",
     "text": [
      "[2019-03-05 10:15:21,165] Assets added to graph.\n"
     ]
    },
    {
     "name": "stdout",
     "output_type": "stream",
     "text": [
      "INFO:tensorflow:No assets to write.\n"
     ]
    },
    {
     "name": "stderr",
     "output_type": "stream",
     "text": [
      "[2019-03-05 10:15:21,167] No assets to write.\n"
     ]
    },
    {
     "name": "stdout",
     "output_type": "stream",
     "text": [
      "INFO:tensorflow:SavedModel written to: b'/home/phw/rsl/CS234_Project/data/ddpg/ddpg_s0/simple_save/saved_model.pb'\n"
     ]
    },
    {
     "name": "stderr",
     "output_type": "stream",
     "text": [
      "[2019-03-05 10:15:21,712] SavedModel written to: b'/home/phw/rsl/CS234_Project/data/ddpg/ddpg_s0/simple_save/saved_model.pb'\n"
     ]
    },
    {
     "name": "stdout",
     "output_type": "stream",
     "text": [
      "---------------------------------------\n",
      "|             Epoch |              46 |\n",
      "|      AverageEpRet |        4.08e+03 |\n",
      "|          StdEpRet |             163 |\n",
      "|          MaxEpRet |        4.26e+03 |\n",
      "|          MinEpRet |        3.78e+03 |\n",
      "|  AverageTestEpRet |         4.3e+03 |\n",
      "|      StdTestEpRet |            96.9 |\n",
      "|      MaxTestEpRet |        4.51e+03 |\n",
      "|      MinTestEpRet |        4.18e+03 |\n",
      "|             EpLen |           1e+03 |\n",
      "|         TestEpLen |           1e+03 |\n",
      "| TotalEnvInteracts |         2.3e+05 |\n",
      "|      AverageQVals |             412 |\n",
      "|          StdQVals |              55 |\n",
      "|          MaxQVals |             488 |\n",
      "|          MinQVals |             155 |\n",
      "|            LossPi |            -413 |\n",
      "|             LossQ |            6.85 |\n",
      "|              Time |             913 |\n",
      "---------------------------------------\n",
      "INFO:tensorflow:Assets added to graph.\n"
     ]
    },
    {
     "name": "stderr",
     "output_type": "stream",
     "text": [
      "[2019-03-05 10:15:40,466] Assets added to graph.\n"
     ]
    },
    {
     "name": "stdout",
     "output_type": "stream",
     "text": [
      "INFO:tensorflow:No assets to write.\n"
     ]
    },
    {
     "name": "stderr",
     "output_type": "stream",
     "text": [
      "[2019-03-05 10:15:40,467] No assets to write.\n"
     ]
    },
    {
     "name": "stdout",
     "output_type": "stream",
     "text": [
      "INFO:tensorflow:SavedModel written to: b'/home/phw/rsl/CS234_Project/data/ddpg/ddpg_s0/simple_save/saved_model.pb'\n"
     ]
    },
    {
     "name": "stderr",
     "output_type": "stream",
     "text": [
      "[2019-03-05 10:15:41,025] SavedModel written to: b'/home/phw/rsl/CS234_Project/data/ddpg/ddpg_s0/simple_save/saved_model.pb'\n"
     ]
    },
    {
     "name": "stdout",
     "output_type": "stream",
     "text": [
      "---------------------------------------\n",
      "|             Epoch |              47 |\n",
      "|      AverageEpRet |        4.18e+03 |\n",
      "|          StdEpRet |              90 |\n",
      "|          MaxEpRet |        4.28e+03 |\n",
      "|          MinEpRet |        4.04e+03 |\n",
      "|  AverageTestEpRet |        4.65e+03 |\n",
      "|      StdTestEpRet |            58.8 |\n",
      "|      MaxTestEpRet |        4.75e+03 |\n",
      "|      MinTestEpRet |        4.56e+03 |\n",
      "|             EpLen |           1e+03 |\n",
      "|         TestEpLen |           1e+03 |\n",
      "| TotalEnvInteracts |        2.35e+05 |\n",
      "|      AverageQVals |             417 |\n",
      "|          StdQVals |              55 |\n",
      "|          MaxQVals |             493 |\n",
      "|          MinQVals |             160 |\n",
      "|            LossPi |            -418 |\n",
      "|             LossQ |            7.04 |\n",
      "|              Time |             932 |\n",
      "---------------------------------------\n",
      "INFO:tensorflow:Assets added to graph.\n"
     ]
    },
    {
     "name": "stderr",
     "output_type": "stream",
     "text": [
      "[2019-03-05 10:16:01,439] Assets added to graph.\n"
     ]
    },
    {
     "name": "stdout",
     "output_type": "stream",
     "text": [
      "INFO:tensorflow:No assets to write.\n"
     ]
    },
    {
     "name": "stderr",
     "output_type": "stream",
     "text": [
      "[2019-03-05 10:16:01,440] No assets to write.\n"
     ]
    },
    {
     "name": "stdout",
     "output_type": "stream",
     "text": [
      "INFO:tensorflow:SavedModel written to: b'/home/phw/rsl/CS234_Project/data/ddpg/ddpg_s0/simple_save/saved_model.pb'\n"
     ]
    },
    {
     "name": "stderr",
     "output_type": "stream",
     "text": [
      "[2019-03-05 10:16:01,997] SavedModel written to: b'/home/phw/rsl/CS234_Project/data/ddpg/ddpg_s0/simple_save/saved_model.pb'\n"
     ]
    },
    {
     "name": "stdout",
     "output_type": "stream",
     "text": [
      "---------------------------------------\n",
      "|             Epoch |              48 |\n",
      "|      AverageEpRet |        4.19e+03 |\n",
      "|          StdEpRet |            44.5 |\n",
      "|          MaxEpRet |        4.25e+03 |\n",
      "|          MinEpRet |        4.13e+03 |\n",
      "|  AverageTestEpRet |        4.23e+03 |\n",
      "|      StdTestEpRet |        1.12e+03 |\n",
      "|      MaxTestEpRet |        4.86e+03 |\n",
      "|      MinTestEpRet |             903 |\n",
      "|             EpLen |           1e+03 |\n",
      "|         TestEpLen |           1e+03 |\n",
      "| TotalEnvInteracts |         2.4e+05 |\n",
      "|      AverageQVals |             421 |\n",
      "|          StdQVals |            54.8 |\n",
      "|          MaxQVals |             494 |\n",
      "|          MinQVals |             165 |\n",
      "|            LossPi |            -423 |\n",
      "|             LossQ |               7 |\n",
      "|              Time |             953 |\n",
      "---------------------------------------\n",
      "INFO:tensorflow:Assets added to graph.\n"
     ]
    },
    {
     "name": "stderr",
     "output_type": "stream",
     "text": [
      "[2019-03-05 10:16:20,563] Assets added to graph.\n"
     ]
    },
    {
     "name": "stdout",
     "output_type": "stream",
     "text": [
      "INFO:tensorflow:No assets to write.\n"
     ]
    },
    {
     "name": "stderr",
     "output_type": "stream",
     "text": [
      "[2019-03-05 10:16:20,564] No assets to write.\n"
     ]
    },
    {
     "name": "stdout",
     "output_type": "stream",
     "text": [
      "INFO:tensorflow:SavedModel written to: b'/home/phw/rsl/CS234_Project/data/ddpg/ddpg_s0/simple_save/saved_model.pb'\n"
     ]
    },
    {
     "name": "stderr",
     "output_type": "stream",
     "text": [
      "[2019-03-05 10:16:21,130] SavedModel written to: b'/home/phw/rsl/CS234_Project/data/ddpg/ddpg_s0/simple_save/saved_model.pb'\n"
     ]
    },
    {
     "name": "stdout",
     "output_type": "stream",
     "text": [
      "---------------------------------------\n",
      "|             Epoch |              49 |\n",
      "|      AverageEpRet |        4.27e+03 |\n",
      "|          StdEpRet |            75.9 |\n",
      "|          MaxEpRet |        4.35e+03 |\n",
      "|          MinEpRet |        4.14e+03 |\n",
      "|  AverageTestEpRet |        4.64e+03 |\n",
      "|      StdTestEpRet |             139 |\n",
      "|      MaxTestEpRet |        4.92e+03 |\n",
      "|      MinTestEpRet |        4.43e+03 |\n",
      "|             EpLen |           1e+03 |\n",
      "|         TestEpLen |           1e+03 |\n",
      "| TotalEnvInteracts |        2.45e+05 |\n",
      "|      AverageQVals |             426 |\n",
      "|          StdQVals |            54.3 |\n",
      "|          MaxQVals |             496 |\n",
      "|          MinQVals |             173 |\n",
      "|            LossPi |            -428 |\n",
      "|             LossQ |            6.81 |\n",
      "|              Time |             972 |\n",
      "---------------------------------------\n"
     ]
    }
   ],
   "source": [
    "ddpg(lambda : gym.make(env), \n",
    "     actor_critic=core.mlp_actor_critic,\n",
    "     ac_kwargs=dict(hidden_sizes=[hid]*l),\n",
    "     gamma=gamma, \n",
    "     seed=seed, \n",
    "     epochs=epochs, \n",
    "     logger_kwargs=logger_kwargs)"
   ]
  },
  {
   "cell_type": "code",
   "execution_count": null,
   "metadata": {
    "collapsed": true
   },
   "outputs": [],
   "source": []
  }
 ],
 "metadata": {
  "kernelspec": {
   "display_name": "Python [conda env:py36]",
   "language": "python",
   "name": "conda-env-py36-py"
  },
  "language_info": {
   "codemirror_mode": {
    "name": "ipython",
    "version": 3
   },
   "file_extension": ".py",
   "mimetype": "text/x-python",
   "name": "python",
   "nbconvert_exporter": "python",
   "pygments_lexer": "ipython3",
   "version": "3.6.2"
  }
 },
 "nbformat": 4,
 "nbformat_minor": 2
}
