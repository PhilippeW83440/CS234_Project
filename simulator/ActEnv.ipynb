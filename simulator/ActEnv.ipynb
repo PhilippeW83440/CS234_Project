{
 "cells": [
  {
   "cell_type": "markdown",
   "metadata": {},
   "source": [
    "# Anti Collision Tests Environment - openai gym compatible"
   ]
  },
  {
   "cell_type": "code",
   "execution_count": 1,
   "metadata": {
    "collapsed": true
   },
   "outputs": [],
   "source": [
    "import numpy as np\n",
    "import cv2\n",
    "import math"
   ]
  },
  {
   "cell_type": "code",
   "execution_count": 2,
   "metadata": {
    "collapsed": true
   },
   "outputs": [],
   "source": [
    "import matplotlib.pyplot as plt"
   ]
  },
  {
   "cell_type": "code",
   "execution_count": 3,
   "metadata": {
    "collapsed": true
   },
   "outputs": [],
   "source": [
    "def show_img(img):\n",
    "    plt.imshow(img)\n",
    "    plt.show()\n",
    "    \n",
    "def  resize_images(images, f=3):\n",
    "    big_images = []\n",
    "    for img in images:\n",
    "        big_images.append(cv2.resize(img, None, fx=f, fy=f))\n",
    "    return big_images"
   ]
  },
  {
   "cell_type": "code",
   "execution_count": 4,
   "metadata": {
    "collapsed": true
   },
   "outputs": [],
   "source": [
    "plt.rcParams[\"figure.figsize\"]=10,10"
   ]
  },
  {
   "cell_type": "markdown",
   "metadata": {},
   "source": [
    "#  Some useful functions"
   ]
  },
  {
   "cell_type": "code",
   "execution_count": 5,
   "metadata": {
    "collapsed": true
   },
   "outputs": [],
   "source": [
    "def get_dist(obj1, obj2):\n",
    "    return math.sqrt((obj1[0]-obj2[0])**2 + (obj1[1]-obj2[1])**2)"
   ]
  },
  {
   "cell_type": "code",
   "execution_count": 6,
   "metadata": {
    "collapsed": true
   },
   "outputs": [],
   "source": [
    "def get_dist_nearest_obj(s):\n",
    "    nobjs = int(len(s)/4 - 1)\n",
    "    ego = s[0:4]\n",
    "    \n",
    "    dist_nearest_obj = math.inf\n",
    "    num_nearest_obj = -1\n",
    "    \n",
    "    idx = 4\n",
    "    for n in range(nobjs):\n",
    "        obj = s[idx:idx+4]\n",
    "        dist = get_dist(ego, obj)\n",
    "        \n",
    "        if dist < dist_nearest_obj:\n",
    "            dist_nearest_obj = dist\n",
    "            num_nearest_obj = n\n",
    "        idx += 4\n",
    "    \n",
    "    return dist_nearest_obj"
   ]
  },
  {
   "cell_type": "code",
   "execution_count": 7,
   "metadata": {
    "collapsed": true
   },
   "outputs": [],
   "source": [
    "def get_dist_to_goal(s, goal):\n",
    "    return get_dist(s[0:4], goal)"
   ]
  },
  {
   "cell_type": "markdown",
   "metadata": {},
   "source": [
    "# Time To Collision"
   ]
  },
  {
   "cell_type": "code",
   "execution_count": 8,
   "metadata": {
    "collapsed": true
   },
   "outputs": [],
   "source": [
    "def get_TTC(ego, obj, radius):\n",
    "    x1, y1, vx1, vy1 = ego[0], ego[1], ego[2], ego[3]\n",
    "    x2, y2, vx2, vy2 = obj[0], obj[1], obj[2], obj[3]\n",
    "\n",
    "    a = (vx1 - vx2) **2 + (vy1 - vy2) **2\n",
    "    b = 2 * ((x1 - x2) * (vx1 - vx2) + (y1 - y2) * (vy1 - vy2))\n",
    "    c = (x1 - x2) **2 + (y1 - y2) **2 - radius **2\n",
    "\n",
    "    if a == 0 and b == 0:\n",
    "        if c == 0:\n",
    "            return 0\n",
    "        else:\n",
    "            return np.inf\n",
    "\n",
    "    if a == 0 and b != 0:\n",
    "        t = -c / b\n",
    "        if t < 0:\n",
    "            return np.inf\n",
    "        else:\n",
    "            return t\n",
    "\n",
    "    delta = b **2 - 4 * a * c\n",
    "    if delta < 0:\n",
    "        return np.inf\n",
    "\n",
    "    t1 = (-b - np.sqrt(delta)) / (2 * a)\n",
    "    t2 = (-b + np.sqrt(delta)) / (2 * a)\n",
    "    if t1 < 0:\n",
    "        t1 = np.inf\n",
    "\n",
    "    if t2 < 0:\n",
    "        t2 = np.inf\n",
    "\n",
    "    return min(t1, t2)"
   ]
  },
  {
   "cell_type": "code",
   "execution_count": 9,
   "metadata": {
    "collapsed": true
   },
   "outputs": [],
   "source": [
    "def get_smallest_TTC(s):\n",
    "    radius = 15.0\n",
    "    ego = s[0:4]\n",
    "    \n",
    "    smallest_TTC = np.Inf\n",
    "    smallest_TTC_obj = -1\n",
    "    \n",
    "    idx = 4\n",
    "    for n in range(int((len(s)-4)/4)):\n",
    "        obj = s[idx:idx+4]\n",
    "        TTC = get_TTC(ego, obj, radius)\n",
    "        \n",
    "        if TTC < smallest_TTC:\n",
    "            smallest_TTC = TTC\n",
    "            smallest_TTC_obj = n\n",
    "        idx += 4\n",
    "    \n",
    "    return smallest_TTC, smallest_TTC_obj"
   ]
  },
  {
   "cell_type": "code",
   "execution_count": 10,
   "metadata": {},
   "outputs": [
    {
     "name": "stdout",
     "output_type": "stream",
     "text": [
      "dist:  141.4213562373095\n",
      "TTC:  4.4696699141100895\n"
     ]
    }
   ],
   "source": [
    "# just checking\n",
    "obj1 = np.array([0.0, 100, 20, 0])\n",
    "obj2 = np.array([100, 0.0, 0, 20])\n",
    "print(\"dist: \", get_dist(obj1, obj2))\n",
    "print(\"TTC: \", get_TTC(obj1, obj2, 15.0))\n"
   ]
  },
  {
   "cell_type": "markdown",
   "metadata": {},
   "source": [
    "# Openai gym Anti Collision Test Env"
   ]
  },
  {
   "cell_type": "code",
   "execution_count": 35,
   "metadata": {
    "collapsed": true
   },
   "outputs": [],
   "source": [
    "##################################################################\n",
    "# Anti Collision Tests env compatible with gym openai interface\n",
    "##################################################################\n",
    "\n",
    "# API eg https://github.com/openai/gym/blob/master/gym/envs/classic_control/cartpole.py\n",
    "\n",
    "\n",
    "import gym\n",
    "from gym import spaces, logger\n",
    "from gym.utils import seeding\n",
    "\n",
    "import math\n",
    "import numpy as np\n",
    "import cv2\n",
    "import copy\n",
    "\n",
    "def draw_arrow(image, p, q, color, arrow_magnitude=5, thickness=1, line_type=4, shift=0):\n",
    "    # adapted from http://mlikihazar.blogspot.com.au/2013/02/draw-arrow-opencv.html\n",
    "    # draw arrow tail\n",
    "    cv2.line(image, p, q, color, thickness, line_type, shift)\n",
    "    # calc angle of the arrow\n",
    "    angle = np.arctan2(p[1]-q[1], p[0]-q[0])\n",
    "    # starting point of first line of arrow head\n",
    "    p = (int(q[0] + arrow_magnitude * np.cos(angle + np.pi/4)),\n",
    "    int(q[1] + arrow_magnitude * np.sin(angle + np.pi/4)))\n",
    "    # draw first half of arrow head\n",
    "    cv2.line(image, p, q, color, thickness, line_type, shift)\n",
    "    # starting point of second line of arrow head\n",
    "    p = (int(q[0] + arrow_magnitude * np.cos(angle - np.pi/4)),\n",
    "    int(q[1] + arrow_magnitude * np.sin(angle - np.pi/4)))\n",
    "    # draw second half of arrow head\n",
    "    cv2.line(image, p, q, color, thickness, line_type, shift)\n",
    "\n",
    "# Transition with Constant Acceleration model\n",
    "def transition_ca(s, a, dt=0.2):\n",
    "    Ts = np.matrix([[1.0, 0.0, dt,  0.0], \n",
    "                [0.0, 1.0, 0.0, dt],\n",
    "                [0.0, 0.0, 1.0, 0.0],\n",
    "                [0.0, 0.0, 0.0, 1.0]])\n",
    "    Ta = np.matrix([[0.5*dt**2, 0.0],\n",
    "                [0.0,      0.5*dt**2],\n",
    "                [dt,       0.0],\n",
    "                [0.0,      dt]])\n",
    "    return np.dot(Ts, s) + np.dot(Ta, a)\n",
    "\n",
    "\n",
    "class ActEnv(gym.Env):\n",
    "    def __init__(self, nobjs, max_accel=2, dist_collision=10):    \n",
    "        self.nobjs = nobjs\n",
    "        self.max_accel = max_accel\n",
    "        self.dist_collision = dist_collision\n",
    "        \n",
    "        self.action_space = spaces.Box(low=-self.max_accel, high=self.max_accel, shape=(1,))\n",
    "        # 1+nobjs: x,y,vx,vy with x,y in [0,200] and vx,vy in [0,40]\n",
    "        self.observation_space = spaces.Box(low=0.0, high=200.0, shape=((1+nobjs)*4,))\n",
    "        \n",
    "        self.seed()\n",
    "        self.reset()\n",
    "\n",
    "    def seed(self, seed=None):\n",
    "        self.np_random, seed = seeding.np_random(seed)\n",
    "        return [seed]\n",
    "        \n",
    "    def reset(self):\n",
    "        self.reward = None\n",
    "        self.steps = 0\n",
    "        self.smallest_TTC_obj = -1\n",
    "        \n",
    "        # x, y, vx, vy\n",
    "        self.start = np.array([100.0,   0.0,  0.0,  20.0], dtype=int)\n",
    "        self.goal  = np.array([100.0, 200.0, 0.0, 0.0], dtype=int)\n",
    "        # states init\n",
    "        state = ego = self.start\n",
    "        for n in range(int(self.nobjs/2)):\n",
    "            x = self.np_random.randint(low=0, high=50)\n",
    "            y = self.np_random.randint(low=25, high=190)\n",
    "            vx = self.np_random.randint(low=10, high=25)\n",
    "            vy = self.np_random.randint(low=0, high=5)\n",
    "            obj = np.array([x, y, vx, vy])\n",
    "            state = np.append(state, obj)\n",
    "        \n",
    "        for n in range(int(self.nobjs/2)):\n",
    "            x = self.np_random.randint(low=150, high=200)\n",
    "            y = self.np_random.randint(low=25, high=190)\n",
    "            vx = - self.np_random.randint(low=10, high=25)\n",
    "            vy = - self.np_random.randint(low=0, high=5)\n",
    "            obj = np.array([x, y, vx, vy])\n",
    "            state = np.append(state, obj)     \n",
    "        print(state)  \n",
    "        self.s = state\n",
    "        \n",
    "        return self.s\n",
    "    \n",
    "    # TODO reward shaping and reward basic\n",
    "    def _reward(self, s, a, sp):\n",
    "        # Keep track for visualization, plots ...\n",
    "        self.dist_to_goal = get_dist_to_goal(sp, self.goal)\n",
    "        self.dist_nearest_obj = get_dist_nearest_obj(sp)\n",
    "        self.smallest_TTC, self.smallest_TTC_obj = get_smallest_TTC(sp)\n",
    "\n",
    "        # We are dealiong with 3 types of objectives:\n",
    "        # - COMFORT (weiht 1)\n",
    "        # - EFFICIENCY (weight 10)\n",
    "        # - SAFETY (weight 100)\n",
    "\n",
    "        r_comfort = r_efficiency = r_safety = 0\n",
    "\n",
    "        if self.smallest_TTC <= 10.0:\n",
    "            r_safety += -10 - (10 - self.smallest_TTC) * 10 # between [-100, -10]\n",
    "\n",
    "        # SAFETY related + terminal state (overwrite)\n",
    "        if self.dist_nearest_obj <= self.dist_collision:\n",
    "            r_safety += -1000\n",
    "\n",
    "        # The faster we go in this test setup\n",
    "        r_efficiency += a\n",
    "\n",
    "        if a < -2:\n",
    "            r_comfort += -1\n",
    "\n",
    "        # Keep track for visualization, plots ...\n",
    "        self.r_comfort = r_comfort\n",
    "        self.r_efficiency = r_efficiency\n",
    "        self.r_safety = r_safety\n",
    "\n",
    "        return r_comfort + r_efficiency + r_safety\n",
    "        \n",
    "    def render(self):\n",
    "        pos_left = 40\n",
    "        #color_text = (255,255,255)\n",
    "        color_text = (0,0,0)\n",
    "        img = np.zeros([250, 250, 3],dtype=np.uint8)\n",
    "        img.fill(255) # or img[:] = 255\n",
    "        cv2.putText(img, 'Anti Collision Tests', (pos_left, 240), cv2.FONT_HERSHEY_SIMPLEX, 0.5, (0, 0, 255))\n",
    "        \n",
    "        x = self.s[0]; y = self.s[1]; vx = self.s[2]; vy = self.s[3]; v = int(math.sqrt(vx**2 + vy**2)*3.6)\n",
    "        color = (0, 0, 255) # blue\n",
    "        cv2.circle(img, (x, y), 2, color, -1)\n",
    "        draw_arrow(img, (int(x), int(y)), (int(x+vx), int(y+vy)), color)        \n",
    "        cv2.putText(img, str(v) + ' kmh', (x+vx+5, y+vy), cv2.FONT_HERSHEY_SIMPLEX, 0.25, color)\n",
    "        \n",
    "        for i in range(self.nobjs):\n",
    "            if i == self.smallest_TTC_obj:\n",
    "                color = (255, 0, 0) # red\n",
    "            else:\n",
    "                color = (0, 2500, 0) # green\n",
    "            idx = (i+1)*4\n",
    "            x = self.s[idx]; y = self.s[idx+1]; vx = self.s[idx+2]; vy = self.s[idx+3]; v = int(math.sqrt(vx**2 + vy**2)*3.6)\n",
    "            cv2.circle(img, (x, y), 2, color, -1)\n",
    "            draw_arrow(img, (int(x), int(y)), (int(x+vx), int(y+vy)), color)        \n",
    "            cv2.putText(img, str(v) + ' kmh', (x, y), cv2.FONT_HERSHEY_SIMPLEX, 0.25, color_text)\n",
    "        \n",
    "        if self.reward is not None:\n",
    "            str_reward = \"R_com %.2f , R_eff %.2f R_saf %.2f\" % (self.r_comfort, self.r_efficiency, self.r_safety)\n",
    "            cv2.putText(img, str_reward, (pos_left, 205), cv2.FONT_HERSHEY_SIMPLEX, 0.25, color_text)\n",
    "        \n",
    "            str_safety = \"TTC %.2f seconds, D_min %.2f meters\" % (self.smallest_TTC, self.dist_nearest_obj)\n",
    "            cv2.putText(img, str_safety, (pos_left, 215), cv2.FONT_HERSHEY_SIMPLEX, 0.25, color_text)\n",
    "            \n",
    "            str_step = \"Step %d with action %d reward %.2f\" % (self.steps, self.action, self.reward)\n",
    "            cv2.putText(img, str_step, (pos_left, 225), cv2.FONT_HERSHEY_SIMPLEX, 0.25, (0,0,255))\n",
    "        \n",
    "        #img = cv2.resize(img, None, fx=20, fy=20)\n",
    "        #img = cv2.resize(img,(2500, 2500))\n",
    "        return img\n",
    "        \n",
    "    #state, reward, done, info = env.step(action)\n",
    "    def step(self, action):\n",
    "        reward = -1; done = False        \n",
    "        sp = copy.copy(self.s)\n",
    "        \n",
    "        s = self.s[0:4]\n",
    "        a = np.array([0.0, action])\n",
    "        sp[0:4] = transition_ca(s, a)\n",
    "        \n",
    "        idx = 4\n",
    "        for n in range(self.nobjs):\n",
    "            s_obj = self.s[idx:idx+4]\n",
    "            a_obj = np.array([0.0, 0.0]) # TODO CALL Driving Model\n",
    "            sp[idx:idx+4] = transition_ca(s_obj, a_obj)\n",
    "            idx += 4\n",
    "            \n",
    "        reward = self._reward(self.s, action, sp)\n",
    "        \n",
    "        self.s = sp\n",
    "        self.action = action\n",
    "        self.reward = reward\n",
    "        self.steps += 1\n",
    "        \n",
    "        if self.dist_nearest_obj <= self.dist_collision or self.s[1] >= self.goal[1]:\n",
    "            print(\"done: dist_nearest_obj {}, y-ego {}\".format(self.dist_nearest_obj, self.s[1]))\n",
    "            done = True\n",
    "            \n",
    "        return self.s, reward, done, {}\n",
    "    \n",
    "    def close(self):\n",
    "        return"
   ]
  },
  {
   "cell_type": "code",
   "execution_count": 36,
   "metadata": {},
   "outputs": [
    {
     "name": "stdout",
     "output_type": "stream",
     "text": [
      "[100   0   0  20   9  56  11   3   3  39  14   4  26  84  18   4  36 121\n",
      "  11   4  11 187  19   1 189 132 -18   0 191 158 -17  -1 160  90 -12  -4\n",
      " 160 188 -19  -1 176  60 -20  -1]\n"
     ]
    }
   ],
   "source": [
    "env = ActEnv(10)"
   ]
  },
  {
   "cell_type": "code",
   "execution_count": 37,
   "metadata": {},
   "outputs": [
    {
     "data": {
      "image/png": "[encoded data removed]",
      "text/plain": [
       "<Figure size 720x720 with 1 Axes>"
      ]
     },
     "metadata": {},
     "output_type": "display_data"
    }
   ],
   "source": [
    "img = env.render()\n",
    "\n",
    "plt.imshow(img)\n",
    "plt.show()"
   ]
  },
  {
   "cell_type": "code",
   "execution_count": 38,
   "metadata": {
    "collapsed": true
   },
   "outputs": [],
   "source": [
    "pipo = np.arange(20)"
   ]
  },
  {
   "cell_type": "code",
   "execution_count": 43,
   "metadata": {},
   "outputs": [
    {
     "name": "stdout",
     "output_type": "stream",
     "text": [
      "====> Start episode 0\n",
      "[100   0   0  20   1 164  21   1  47  53  16   0  40 151  17   3  36 164\n",
      "  23   0  10 184  23   0 167 117 -20  -3 154  38 -15  -3 190 183 -15  -2\n",
      " 153 136 -11  -4 169 114 -15  -2]\n",
      "Step 0: action=0.0 reward=-87.70909840056356 done=False\n",
      "Step 1: action=0.0 reward=-89.61829748415354 done=False\n",
      "Step 2: action=0.0 reward=-91.52634418899986 done=False\n",
      "Step 3: action=0.0 reward=-93.4332068512409 done=False\n",
      "Step 4: action=0.0 reward=-95.33885171839589 done=False\n",
      "Step 5: action=0.0 reward=-97.24324276134058 done=False\n",
      "Step 6: action=0.0 reward=-99.14634146341463 done=False\n",
      "Step 7: action=0.0 reward=-101.04810658316863 done=False\n",
      "Step 8: action=0.0 reward=-102.94849388660813 done=False\n",
      "Step 9: action=0.0 reward=-104.84745584399802 done=False\n",
      "Step 10: action=0.0 reward=-106.74494128531558 done=False\n",
      "Step 11: action=0.0 reward=-108.64089500723506 done=False\n",
      "Step 12: action=0.0 reward=-102.02571828672696 done=False\n",
      "Step 13: action=0.0 reward=-104.03545108924749 done=False\n",
      "Step 14: action=0.0 reward=-106.04691027265571 done=False\n",
      "Step 15: action=0.0 reward=-108.06017241744145 done=False\n",
      "Step 16: action=0.0 reward=-102.79967799437583 done=False\n",
      "Step 17: action=0.0 reward=-104.99686236136182 done=False\n",
      "Step 18: action=0.0 reward=-107.19116158689543 done=False\n",
      "Step 19: action=0.0 reward=-109.38258815497251 done=False\n",
      "====> Start episode 1\n",
      "[100   0   0  20  10 162  24   3  31 158  17   0  46 138  20   1  19 152\n",
      "  13   0  10 175  10   2 196  26 -19   0 176  68 -23  -2 172 107 -11   0\n",
      " 168 151 -15  -4 152 114 -21  -3]\n",
      "Step 0: action=0.0 reward=-84.7763979604924 done=False\n",
      "Step 1: action=0.0 reward=-86.98521639774734 done=False\n",
      "Step 2: action=0.0 reward=-89.19346661615607 done=False\n",
      "Step 3: action=0.0 reward=-91.40114378177941 done=False\n",
      "Step 4: action=0.0 reward=-93.60824278679425 done=False\n",
      "Step 5: action=0.0 reward=-95.8147582388936 done=False\n",
      "Step 6: action=0.0 reward=-98.02068444988188 done=False\n",
      "Step 7: action=0.0 reward=-100.2260154234051 done=False\n",
      "Step 8: action=0.0 reward=-102.43074484174798 done=False\n",
      "Step 9: action=0.0 reward=-104.63486605162467 done=False\n",
      "Step 10: action=0.0 reward=-106.83837204888061 done=False\n",
      "Step 11: action=0.0 reward=-109.04125546201526 done=False\n",
      "Step 12: action=0.0 reward=-102.4583670825539 done=False\n",
      "done: dist_nearest_obj 6.324555320336759, y-ego 56\n",
      "Step 13: action=0.0 reward=-1104.6990032520966 done=True\n",
      "End of episode 1 with cumulated_reward -2370.128534394069\n",
      "====> Start episode 2\n",
      "[100   0   0  20   7 158  10   3   6  28  19   4   6  33  14   1  36 174\n",
      "  13   3  10 124  11   3 157  67 -14  -4 180  42 -21  -4 165  27 -16  -4\n",
      " 165 170 -15  -2 164  49 -12  -3]\n",
      "Step 0: action=0.0 reward=-42.671606243623955 done=False\n",
      "Step 1: action=0.0 reward=-44.685670088906456 done=False\n",
      "Step 2: action=0.0 reward=-46.6834524566635 done=False\n",
      "Step 3: action=0.0 reward=-48.663182965609984 done=False\n",
      "Step 4: action=0.0 reward=-50.62262233637295 done=False\n",
      "Step 5: action=0.0 reward=-52.5588725558821 done=False\n",
      "Step 6: action=0.0 reward=-93.8520356875764 done=False\n",
      "Step 7: action=0.0 reward=-96.24352331606218 done=False\n",
      "Step 8: action=0.0 reward=-98.53493187531173 done=False\n",
      "Step 9: action=0.0 reward=-100.7879941416513 done=False\n",
      "Step 10: action=0.0 reward=-103.01897255534386 done=False\n",
      "Step 11: action=0.0 reward=-105.23508832082278 done=False\n",
      "Step 12: action=0.0 reward=-107.44030318509536 done=False\n",
      "Step 13: action=0.0 reward=-109.63707016423498 done=False\n",
      "Step 14: action=0.0 reward=-108.79472799083942 done=False\n",
      "Step 15: action=0.0 reward=-60.42396907543285 done=False\n",
      "Step 16: action=0.0 reward=-62.63077994125069 done=False\n",
      "Step 17: action=0.0 reward=-64.8337928865044 done=False\n",
      "Step 18: action=0.0 reward=-67.0329116557527 done=False\n",
      "Step 19: action=0.0 reward=-69.22803004484379 done=False\n"
     ]
    }
   ],
   "source": [
    "max_episodes = 3\n",
    "max_steps = 20\n",
    "\n",
    "for episode in range(max_episodes):\n",
    "    print(\"====> Start episode {}\".format(episode))\n",
    "    env.reset()\n",
    "    cumulated_reward = 0\n",
    "    images = []\n",
    "    for n in range(max_steps):\n",
    "        action = 0.0\n",
    "        state, reward, done, info = env.step(action)\n",
    "        cumulated_reward += reward\n",
    "        print(\"Step {}: action={} reward={} done={}\".format(n, action, reward, done)) # PHW DEBUG\n",
    "        img = env.render()\n",
    "        images.append(img)\n",
    "        if done is True:\n",
    "            print(\"End of episode {} with cumulated_reward {}\".format(episode, cumulated_reward))\n",
    "            break"
   ]
  },
  {
   "cell_type": "code",
   "execution_count": 44,
   "metadata": {},
   "outputs": [
    {
     "data": {
      "image/png": "[encoded data removed]",
      "text/plain": [
       "<Figure size 720x720 with 1 Axes>"
      ]
     },
     "metadata": {},
     "output_type": "display_data"
    }
   ],
   "source": [
    "show_img(images[7])"
   ]
  },
  {
   "cell_type": "markdown",
   "metadata": {
    "collapsed": true
   },
   "source": [
    "# Visualization"
   ]
  },
  {
   "cell_type": "code",
   "execution_count": 45,
   "metadata": {
    "collapsed": true
   },
   "outputs": [],
   "source": [
    "import imageio\n",
    "from IPython.core.display import HTML"
   ]
  },
  {
   "cell_type": "code",
   "execution_count": 46,
   "metadata": {},
   "outputs": [
    {
     "data": {
      "text/html": [
       "<img src=\"img/visu.gif\"/>"
      ],
      "text/plain": [
       "<IPython.core.display.HTML object>"
      ]
     },
     "execution_count": 46,
     "metadata": {},
     "output_type": "execute_result"
    }
   ],
   "source": [
    "imageio.mimsave('img/visu.gif', images, duration=0.2)\n",
    "HTML(\"\"\"<img src=\"img/visu.gif\"/>\"\"\")"
   ]
  },
  {
   "cell_type": "code",
   "execution_count": 47,
   "metadata": {},
   "outputs": [
    {
     "data": {
      "text/html": [
       "<img src=\"img/visu2.gif\"/>"
      ],
      "text/plain": [
       "<IPython.core.display.HTML object>"
      ]
     },
     "execution_count": 47,
     "metadata": {},
     "output_type": "execute_result"
    }
   ],
   "source": [
    "big_images = resize_images(images, f=2)\n",
    "imageio.mimsave('img/visu2.gif', big_images, duration=0.2)\n",
    "HTML(\"\"\"<img src=\"img/visu2.gif\"/>\"\"\")"
   ]
  },
  {
   "cell_type": "code",
   "execution_count": null,
   "metadata": {
    "collapsed": true
   },
   "outputs": [],
   "source": []
  }
 ],
 "metadata": {
  "kernelspec": {
   "display_name": "Python [conda env:py36]",
   "language": "python",
   "name": "conda-env-py36-py"
  },
  "language_info": {
   "codemirror_mode": {
    "name": "ipython",
    "version": 3
   },
   "file_extension": ".py",
   "mimetype": "text/x-python",
   "name": "python",
   "nbconvert_exporter": "python",
   "pygments_lexer": "ipython3",
   "version": "3.6.2"
  }
 },
 "nbformat": 4,
 "nbformat_minor": 2
}
