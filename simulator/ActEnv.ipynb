{
 "cells": [
  {
   "cell_type": "code",
   "execution_count": 1,
   "metadata": {
    "collapsed": true
   },
   "outputs": [],
   "source": [
    "import numpy as np\n",
    "import cv2"
   ]
  },
  {
   "cell_type": "code",
   "execution_count": 2,
   "metadata": {
    "collapsed": true
   },
   "outputs": [],
   "source": [
    "import matplotlib.pyplot as plt"
   ]
  },
  {
   "cell_type": "code",
   "execution_count": 3,
   "metadata": {
    "collapsed": true
   },
   "outputs": [],
   "source": [
    "def show_img(img):\n",
    "    plt.imshow(img)\n",
    "    plt.show()\n",
    "    \n",
    "def  resize_images(images, f=3):\n",
    "    big_images = []\n",
    "    for img in images:\n",
    "        big_images.append(cv2.resize(img, None, fx=f, fy=f))\n",
    "    return big_images"
   ]
  },
  {
   "cell_type": "code",
   "execution_count": 4,
   "metadata": {
    "collapsed": true
   },
   "outputs": [],
   "source": [
    "plt.rcParams[\"figure.figsize\"]=10,10"
   ]
  },
  {
   "cell_type": "markdown",
   "metadata": {},
   "source": [
    "#  Some useful functions"
   ]
  },
  {
   "cell_type": "code",
   "execution_count": 14,
   "metadata": {
    "collapsed": true
   },
   "outputs": [],
   "source": [
    "def get_dist(obj1, obj2):\n",
    "    return math.sqrt((obj1[0]-obj2[0])**2 + (obj1[1]-obj2[1])**2)"
   ]
  },
  {
   "cell_type": "code",
   "execution_count": 20,
   "metadata": {},
   "outputs": [],
   "source": [
    "def get_dist_nearest_obj(s):\n",
    "    nobjs = len(s)/4\n",
    "    ego = s[0:4]\n",
    "    \n",
    "    dist_nearest_obj = math.inf\n",
    "    num_nearest_obj = -1\n",
    "    \n",
    "    idx = 4\n",
    "    for n in range(nobjs):\n",
    "        obj = s[idx:idx+4]\n",
    "        dist = get_dist(ego, obj)\n",
    "        \n",
    "        if dist < dist_nearest_obj:\n",
    "            dist_nearest_obj = dist\n",
    "            num_nearest_obj = n\n",
    "        end\n",
    "        idx += 4\n",
    "    end\n",
    "    \n",
    "    return dist_nearest_obj"
   ]
  },
  {
   "cell_type": "code",
   "execution_count": 21,
   "metadata": {
    "collapsed": true
   },
   "outputs": [],
   "source": [
    "def get_dist_to_goal(s, goal):\n",
    "    return get_dist(s[0:4], goal)"
   ]
  },
  {
   "cell_type": "markdown",
   "metadata": {},
   "source": [
    "# Time To Collision"
   ]
  },
  {
   "cell_type": "code",
   "execution_count": 28,
   "metadata": {
    "collapsed": true
   },
   "outputs": [],
   "source": [
    "def get_TTC(ego, obj, radius):\n",
    "    x1, y1, vx1, vy1 = ego[0], ego[1], ego[2], ego[3]\n",
    "    x2, y2, vx2, vy2 = obj[0], obj[1], obj[2], obj[3]\n",
    "\n",
    "    a = (vx1 - vx2) **2 + (vy1 - vy2) **2\n",
    "    b = 2 * ((x1 - x2) * (vx1 - vx2) + (y1 - y2) * (vy1 - vy2))\n",
    "    c = (x1 - x2) **2 + (y1 - y2) **2 - radius **2\n",
    "\n",
    "    if a == 0 and b == 0:\n",
    "        if c == 0:\n",
    "            return 0\n",
    "        else:\n",
    "            return np.inf\n",
    "\n",
    "    if a == 0 and b != 0:\n",
    "        t = -c / b\n",
    "        if t < 0:\n",
    "            return np.inf\n",
    "        else:\n",
    "            return t\n",
    "\n",
    "    delta = b **2 - 4 * a * c\n",
    "    if delta < 0:\n",
    "        return np.inf\n",
    "\n",
    "    t1 = (-b - np.sqrt(delta)) / (2 * a)\n",
    "    t2 = (-b + np.sqrt(delta)) / (2 * a)\n",
    "    if t1 < 0:\n",
    "        t1 = np.inf\n",
    "\n",
    "    if t2 < 0:\n",
    "        t2 = np.inf\n",
    "\n",
    "    return min(t1, t2)"
   ]
  },
  {
   "cell_type": "code",
   "execution_count": 27,
   "metadata": {
    "collapsed": true
   },
   "outputs": [],
   "source": [
    "def get_smallest_TTC(state_vector):\n",
    "    radius = 15.0\n",
    "    ego = state_vector[0:4]\n",
    "\n",
    "    smallest_TTC = np.inf\n",
    "    smallest_TTC_obj = -1\n",
    "\n",
    "    idx = 4\n",
    "    for id in np.arange(p['n_obj']):\n",
    "        obj = state_vector[idx:idx+4]\n",
    "        TTC = get_TTC(ego, obj, radius)\n",
    "\n",
    "        if TTC < smallest_TTC:\n",
    "            smallest_TTC = TTC\n",
    "            smallest_TTC_obj = id\n",
    "        idx += 4\n",
    "\n",
    "    return smallest_TTC, smallest_TTC_obj"
   ]
  },
  {
   "cell_type": "code",
   "execution_count": 29,
   "metadata": {},
   "outputs": [
    {
     "name": "stdout",
     "output_type": "stream",
     "text": [
      "dist:  141.4213562373095\n",
      "TTC:  4.4696699141100895\n"
     ]
    }
   ],
   "source": [
    "# just checking\n",
    "obj1 = np.array([0.0, 100, 20, 0])\n",
    "obj2 = np.array([100, 0.0, 0, 20])\n",
    "print(\"dist: \", get_dist(obj1, obj2))\n",
    "print(\"TTC: \", get_TTC(obj1, obj2, 15.0))\n"
   ]
  },
  {
   "cell_type": "markdown",
   "metadata": {},
   "source": [
    "# Openai gym Anti Collision Test Env"
   ]
  },
  {
   "cell_type": "code",
   "execution_count": 5,
   "metadata": {
    "collapsed": true
   },
   "outputs": [],
   "source": [
    "##################################################################\n",
    "# Anti Collision Tests env compatible with gym openai interface\n",
    "##################################################################\n",
    "\n",
    "# API eg https://github.com/openai/gym/blob/master/gym/envs/classic_control/cartpole.py\n",
    "\n",
    "\n",
    "import gym\n",
    "from gym import spaces, logger\n",
    "from gym.utils import seeding\n",
    "\n",
    "import math\n",
    "import numpy as np\n",
    "import cv2\n",
    "\n",
    "\n",
    "def draw_arrow(image, p, q, color, arrow_magnitude=5, thickness=1, line_type=4, shift=0):\n",
    "    # adapted from http://mlikihazar.blogspot.com.au/2013/02/draw-arrow-opencv.html\n",
    "    # draw arrow tail\n",
    "    cv2.line(image, p, q, color, thickness, line_type, shift)\n",
    "    # calc angle of the arrow\n",
    "    angle = np.arctan2(p[1]-q[1], p[0]-q[0])\n",
    "    # starting point of first line of arrow head\n",
    "    p = (int(q[0] + arrow_magnitude * np.cos(angle + np.pi/4)),\n",
    "    int(q[1] + arrow_magnitude * np.sin(angle + np.pi/4)))\n",
    "    # draw first half of arrow head\n",
    "    cv2.line(image, p, q, color, thickness, line_type, shift)\n",
    "    # starting point of second line of arrow head\n",
    "    p = (int(q[0] + arrow_magnitude * np.cos(angle - np.pi/4)),\n",
    "    int(q[1] + arrow_magnitude * np.sin(angle - np.pi/4)))\n",
    "    # draw second half of arrow head\n",
    "    cv2.line(image, p, q, color, thickness, line_type, shift)\n",
    "\n",
    "# Transition with Constant Acceleration model\n",
    "def transition_ca(s, a, dt=0.2):\n",
    "    Ts = np.matrix([[1.0, 0.0, dt,  0.0], \n",
    "                [0.0, 1.0, 0.0, dt],\n",
    "                [0.0, 0.0, 1.0, 0.0],\n",
    "                [0.0, 0.0, 0.0, 1.0]])\n",
    "    Ta = np.matrix([[0.5*dt**2, 0.0],\n",
    "                [0.0,      0.5*dt**2],\n",
    "                [dt,       0.0],\n",
    "                [0.0,      dt]])\n",
    "    return np.dot(Ts, s) + np.dot(Ta, a)\n",
    "    \n",
    "    \n",
    "\n",
    "class ActEnv(gym.Env):\n",
    "    def __init__(self, nobjs):    \n",
    "        self.nobjs = nobjs\n",
    "        self.max_accel = 2\n",
    "        \n",
    "        self.action_space = spaces.Box(low=-self.max_accel, high=self.max_accel, shape=(1,))\n",
    "        # 1+nobjs: x,y,vx,vy with x,y in [0,200] and vx,vy in [0,40]\n",
    "        self.observation_space = spaces.Box(low=0.0, high=200.0, shape=((1+nobjs)*4,))\n",
    "        \n",
    "        self.seed()\n",
    "        self.reset()\n",
    "\n",
    "    def seed(self, seed=None):\n",
    "        self.np_random, seed = seeding.np_random(seed)\n",
    "        return [seed]\n",
    "        \n",
    "    def reset(self):\n",
    "        # x, y, vx, vy\n",
    "        self.start = np.array([100.0,   0.0,  0.0,  20.0], dtype=int)\n",
    "        self.goal  = np.array([100.0, 200.0, 0.0, 0.0], dtype=int)\n",
    "        # states init\n",
    "        state = ego = self.start\n",
    "        for n in range(int(self.nobjs/2)):\n",
    "            x = self.np_random.randint(low=0, high=50)\n",
    "            y = self.np_random.randint(low=25, high=190)\n",
    "            vx = self.np_random.randint(low=10, high=25)\n",
    "            vy = self.np_random.randint(low=0, high=5)\n",
    "            obj = np.array([x, y, vx, vy])\n",
    "            state = np.append(state, obj)\n",
    "        \n",
    "        for n in range(int(self.nobjs/2)):\n",
    "            x = self.np_random.randint(low=150, high=200)\n",
    "            y = self.np_random.randint(low=25, high=190)\n",
    "            vx = - self.np_random.randint(low=10, high=25)\n",
    "            vy = - self.np_random.randint(low=0, high=5)\n",
    "            obj = np.array([x, y, vx, vy])\n",
    "            state = np.append(state, obj)     \n",
    "        print(state)  \n",
    "        self.s = state\n",
    "        \n",
    "        return self.s\n",
    "        \n",
    "    def render(self):\n",
    "        img = np.zeros([250, 250, 3],dtype=np.uint8)\n",
    "        img.fill(255) # or img[:] = 255\n",
    "        cv2.putText(img, 'Anti Collision Tests', (50, 240), cv2.FONT_HERSHEY_SIMPLEX, 0.5, (0, 0, 255))\n",
    "        \n",
    "        x = self.s[0]; y = self.s[1]; vx = self.s[2]; vy = self.s[3]; v = int(math.sqrt(vx**2 + vy**2)*3.6)\n",
    "        color = (0, 0, 255) # blue\n",
    "        cv2.circle(img, (x, y), 2, color, -1)\n",
    "        draw_arrow(img, (int(x), int(y)), (int(x+vx), int(y+vy)), color)        \n",
    "        cv2.putText(img, str(v) + ' kmh', (x+vx+5, y+vy), cv2.FONT_HERSHEY_SIMPLEX, 0.25, color)\n",
    "        \n",
    "        color = (0, 255, 0) # green\n",
    "        for i in range(self.nobjs):\n",
    "            idx = (i+1)*4\n",
    "            x = self.s[idx]; y = self.s[idx+1]; vx = self.s[idx+2]; vy = self.s[idx+3]; v = int(math.sqrt(vx**2 + vy**2)*3.6)\n",
    "            cv2.circle(img, (x, y), 2, color, -1)\n",
    "            draw_arrow(img, (int(x), int(y)), (int(x+vx), int(y+vy)), color)        \n",
    "            cv2.putText(img, str(v) + ' kmh', (x, y), cv2.FONT_HERSHEY_SIMPLEX, 0.25, (0,0,0))\n",
    "        \n",
    "        #img = cv2.resize(img, None, fx=20, fy=20)\n",
    "        #img = cv2.resize(img,(2500, 2500))\n",
    "        return img\n",
    "        \n",
    "    #state, reward, done, info = env.step(action)\n",
    "    def step(self, action):\n",
    "        reward = -1\n",
    "        done = False\n",
    "        \n",
    "        s = self.s[0:4]\n",
    "        a = np.array([0.0, action])\n",
    "        self.s[0:4] = transition_ca(s, a)\n",
    "        \n",
    "        idx = 4\n",
    "        for n in range(self.nobjs):\n",
    "            s = self.s[idx:idx+4]\n",
    "            a = np.array([0.0, 0.0]) # TODO CALL Driving Model\n",
    "            self.s[idx:idx+4] = transition_ca(s, a)\n",
    "            idx += 4\n",
    "            \n",
    "        return self.s, reward, done, {}\n",
    "    \n",
    "    def close(self):\n",
    "        return"
   ]
  },
  {
   "cell_type": "code",
   "execution_count": 6,
   "metadata": {},
   "outputs": [
    {
     "name": "stdout",
     "output_type": "stream",
     "text": [
      "[100   0   0  20  14  88  17   2  42  81  11   4   8 165  22   4   0 152\n",
      "  10   0  10 132  18   2 185 110 -17   0 160 129 -17   0 157  32 -19  -4\n",
      " 181 124 -20   0 182  28 -18  -4]\n"
     ]
    }
   ],
   "source": [
    "env = ActEnv(10)"
   ]
  },
  {
   "cell_type": "code",
   "execution_count": 7,
   "metadata": {},
   "outputs": [
    {
     "data": {
      "image/png": "[encoded data removed]",
      "text/plain": [
       "<Figure size 720x720 with 1 Axes>"
      ]
     },
     "metadata": {},
     "output_type": "display_data"
    }
   ],
   "source": [
    "img = env.render()\n",
    "\n",
    "plt.imshow(img)\n",
    "plt.show()"
   ]
  },
  {
   "cell_type": "code",
   "execution_count": 8,
   "metadata": {
    "collapsed": true
   },
   "outputs": [],
   "source": [
    "pipo = np.arange(20)"
   ]
  },
  {
   "cell_type": "code",
   "execution_count": 9,
   "metadata": {},
   "outputs": [],
   "source": [
    "max_steps = 20\n",
    "images = []\n",
    "\n",
    "\n",
    "for i in range(max_steps):\n",
    "    env.step(0)\n",
    "    img = env.render()\n",
    "    images.append(img)"
   ]
  },
  {
   "cell_type": "code",
   "execution_count": 10,
   "metadata": {},
   "outputs": [
    {
     "data": {
      "image/png": "[encoded data removed]",
      "text/plain": [
       "<Figure size 720x720 with 1 Axes>"
      ]
     },
     "metadata": {},
     "output_type": "display_data"
    }
   ],
   "source": [
    "show_img(images[7])"
   ]
  },
  {
   "cell_type": "markdown",
   "metadata": {
    "collapsed": true
   },
   "source": [
    "# Visualization"
   ]
  },
  {
   "cell_type": "code",
   "execution_count": 11,
   "metadata": {
    "collapsed": true
   },
   "outputs": [],
   "source": [
    "import imageio\n",
    "from IPython.core.display import HTML"
   ]
  },
  {
   "cell_type": "code",
   "execution_count": 12,
   "metadata": {},
   "outputs": [
    {
     "data": {
      "text/html": [
       "<img src=\"img/visu.gif\"/>"
      ],
      "text/plain": [
       "<IPython.core.display.HTML object>"
      ]
     },
     "execution_count": 12,
     "metadata": {},
     "output_type": "execute_result"
    }
   ],
   "source": [
    "imageio.mimsave('img/visu.gif', images, duration=0.2)\n",
    "HTML(\"\"\"<img src=\"img/visu.gif\"/>\"\"\")"
   ]
  },
  {
   "cell_type": "code",
   "execution_count": 13,
   "metadata": {},
   "outputs": [
    {
     "data": {
      "text/html": [
       "<img src=\"img/visu2.gif\"/>"
      ],
      "text/plain": [
       "<IPython.core.display.HTML object>"
      ]
     },
     "execution_count": 13,
     "metadata": {},
     "output_type": "execute_result"
    }
   ],
   "source": [
    "big_images = resize_images(images, f=2)\n",
    "imageio.mimsave('img/visu2.gif', big_images, duration=0.2)\n",
    "HTML(\"\"\"<img src=\"img/visu2.gif\"/>\"\"\")"
   ]
  },
  {
   "cell_type": "code",
   "execution_count": null,
   "metadata": {
    "collapsed": true
   },
   "outputs": [],
   "source": []
  }
 ],
 "metadata": {
  "kernelspec": {
   "display_name": "Python [conda env:py36]",
   "language": "python",
   "name": "conda-env-py36-py"
  },
  "language_info": {
   "codemirror_mode": {
    "name": "ipython",
    "version": 3
   },
   "file_extension": ".py",
   "mimetype": "text/x-python",
   "name": "python",
   "nbconvert_exporter": "python",
   "pygments_lexer": "ipython3",
   "version": "3.6.2"
  }
 },
 "nbformat": 4,
 "nbformat_minor": 2
}
