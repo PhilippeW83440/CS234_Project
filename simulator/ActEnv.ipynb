{
 "cells": [
  {
   "cell_type": "markdown",
   "metadata": {},
   "source": [
    "# Anti Collision Tests Environment - openai gym compatible"
   ]
  },
  {
   "cell_type": "code",
   "execution_count": 1,
   "metadata": {
    "collapsed": true
   },
   "outputs": [],
   "source": [
    "import numpy as np\n",
    "import cv2\n",
    "import math"
   ]
  },
  {
   "cell_type": "code",
   "execution_count": 2,
   "metadata": {
    "collapsed": true
   },
   "outputs": [],
   "source": [
    "import matplotlib.pyplot as plt"
   ]
  },
  {
   "cell_type": "code",
   "execution_count": 3,
   "metadata": {
    "collapsed": true
   },
   "outputs": [],
   "source": [
    "def show_img(img):\n",
    "    plt.imshow(img)\n",
    "    plt.show()\n",
    "    \n",
    "def  resize_images(images, f=3):\n",
    "    big_images = []\n",
    "    for img in images:\n",
    "        big_images.append(cv2.resize(img, None, fx=f, fy=f))\n",
    "    return big_images"
   ]
  },
  {
   "cell_type": "code",
   "execution_count": 4,
   "metadata": {
    "collapsed": true
   },
   "outputs": [],
   "source": [
    "plt.rcParams[\"figure.figsize\"]=10,10"
   ]
  },
  {
   "cell_type": "markdown",
   "metadata": {},
   "source": [
    "#  Some useful functions"
   ]
  },
  {
   "cell_type": "code",
   "execution_count": 5,
   "metadata": {
    "collapsed": true
   },
   "outputs": [],
   "source": [
    "def get_dist(obj1, obj2):\n",
    "    return math.sqrt((obj1[0]-obj2[0])**2 + (obj1[1]-obj2[1])**2)"
   ]
  },
  {
   "cell_type": "code",
   "execution_count": 6,
   "metadata": {
    "collapsed": true
   },
   "outputs": [],
   "source": [
    "def get_dist_nearest_obj(s):\n",
    "    nobjs = int(len(s)/4 - 1)\n",
    "    ego = s[0:4]\n",
    "    \n",
    "    dist_nearest_obj = math.inf\n",
    "    num_nearest_obj = -1\n",
    "    \n",
    "    idx = 4\n",
    "    for n in range(nobjs):\n",
    "        obj = s[idx:idx+4]\n",
    "        dist = get_dist(ego, obj)\n",
    "        \n",
    "        if dist < dist_nearest_obj:\n",
    "            dist_nearest_obj = dist\n",
    "            num_nearest_obj = n\n",
    "        idx += 4\n",
    "    \n",
    "    return dist_nearest_obj"
   ]
  },
  {
   "cell_type": "code",
   "execution_count": 7,
   "metadata": {
    "collapsed": true
   },
   "outputs": [],
   "source": [
    "def get_dist_to_goal(s, goal):\n",
    "    return get_dist(s[0:4], goal)"
   ]
  },
  {
   "cell_type": "markdown",
   "metadata": {},
   "source": [
    "# Hard Constraint w.r.t. Time To Collision\n",
    "\n",
    "We want to find out the TTC between ego and each object objects  \n",
    "This is a key information in the decision making process  \n",
    "\n",
    "**We want to define a Hard Constraint s.t. $s_{t+1}=\\pi_{\\theta}(a_t \\mid s_t)$, get_smallest_TTC($s_{t+1}$) >= margin**"
   ]
  },
  {
   "cell_type": "markdown",
   "metadata": {},
   "source": [
    "For the TTC between 2 objects:  \n",
    "* Compute $t=TTC$ such that distance$(\\begin{bmatrix}x_1+\\dot{x_1}t \\\\ y_1+ \\dot{y_1}t \\end{bmatrix} - \\begin{bmatrix}x_2+\\dot{x_2}t \\\\ y_2+\\dot{y_2}t \\end{bmatrix}) <= R$    \n",
    "* R should be replaced by the delta of the 2 objects' radius... i.e. when they collide...    \n",
    "* That's just a quadratic equation in t  "
   ]
  },
  {
   "cell_type": "markdown",
   "metadata": {},
   "source": [
    "$[(x_1 - x_2) + (\\dot{x}_1 - \\dot{x}_2)t]^2 + [(y_1 - y_2) + (\\dot{y}_1 - \\dot{y}_2)t]^2 \\leq R$"
   ]
  },
  {
   "cell_type": "markdown",
   "metadata": {},
   "source": [
    "$ t^2 [(\\dot{x}_1 - \\dot{x}_2)^2+(\\dot{y}_1 - \\dot{y}_2)^2] + 2t [(x_1 - x_2)(\\dot{x}_1-\\dot{x}_2)+(y_1 - y_2) (\\dot{y}_1 - \\dot{y}_2)] + [(x_1 - x_2)^2 + (y_1 - y_2)^2] \\leq R$"
   ]
  },
  {
   "cell_type": "markdown",
   "metadata": {},
   "source": [
    "Let's find $t=TTC$ s.t.:\n",
    "$$ at^2 + bt + c = 0$$  \n",
    "with:  \n",
    "* $a=[(\\dot{x}_1 - \\dot{x}_2)^2+(\\dot{y}_1 - \\dot{y}_2)^2]$   \n",
    "* $b= 2 [(x_1 - x_2)(\\dot{x}_1 - \\dot{x}_2)+(y_1 - y_2) (\\dot{y}_1 - \\dot{y}_2)]$  \n",
    "* $c=[(x_1 - x_2)^2 + (y_1 - y_2)^2] - R^2$  "
   ]
  },
  {
   "cell_type": "code",
   "execution_count": 8,
   "metadata": {
    "collapsed": true
   },
   "outputs": [],
   "source": [
    "def get_TTC(ego, obj, radius):\n",
    "    x1, y1, vx1, vy1 = ego[0], ego[1], ego[2], ego[3]\n",
    "    x2, y2, vx2, vy2 = obj[0], obj[1], obj[2], obj[3]\n",
    "\n",
    "    a = (vx1 - vx2) **2 + (vy1 - vy2) **2\n",
    "    b = 2 * ((x1 - x2) * (vx1 - vx2) + (y1 - y2) * (vy1 - vy2))\n",
    "    c = (x1 - x2) **2 + (y1 - y2) **2 - radius **2\n",
    "\n",
    "    if a == 0 and b == 0:\n",
    "        if c == 0:\n",
    "            return 0\n",
    "        else:\n",
    "            return np.inf\n",
    "\n",
    "    if a == 0 and b != 0:\n",
    "        t = -c / b\n",
    "        if t < 0:\n",
    "            return np.inf\n",
    "        else:\n",
    "            return t\n",
    "\n",
    "    delta = b **2 - 4 * a * c\n",
    "    if delta < 0:\n",
    "        return np.inf\n",
    "\n",
    "    t1 = (-b - np.sqrt(delta)) / (2 * a)\n",
    "    t2 = (-b + np.sqrt(delta)) / (2 * a)\n",
    "    if t1 < 0:\n",
    "        t1 = np.inf\n",
    "\n",
    "    if t2 < 0:\n",
    "        t2 = np.inf\n",
    "\n",
    "    return min(t1, t2)"
   ]
  },
  {
   "cell_type": "code",
   "execution_count": 9,
   "metadata": {
    "collapsed": true
   },
   "outputs": [],
   "source": [
    "def get_smallest_TTC(s):\n",
    "    radius = 15.0\n",
    "    ego = s[0:4]\n",
    "    \n",
    "    smallest_TTC = np.Inf\n",
    "    smallest_TTC_obj = -1\n",
    "    \n",
    "    idx = 4\n",
    "    for n in range(int((len(s)-4)/4)):\n",
    "        obj = s[idx:idx+4]\n",
    "        TTC = get_TTC(ego, obj, radius)\n",
    "        \n",
    "        if TTC < smallest_TTC:\n",
    "            smallest_TTC = TTC\n",
    "            smallest_TTC_obj = n\n",
    "        idx += 4\n",
    "    \n",
    "    return smallest_TTC, smallest_TTC_obj"
   ]
  },
  {
   "cell_type": "code",
   "execution_count": 10,
   "metadata": {},
   "outputs": [
    {
     "name": "stdout",
     "output_type": "stream",
     "text": [
      "dist:  141.4213562373095\n",
      "TTC:  4.4696699141100895\n"
     ]
    }
   ],
   "source": [
    "# just checking\n",
    "obj1 = np.array([0.0, 100, 20, 0])\n",
    "obj2 = np.array([100, 0.0, 0, 20])\n",
    "print(\"dist: \", get_dist(obj1, obj2))\n",
    "print(\"TTC: \", get_TTC(obj1, obj2, 15.0))\n"
   ]
  },
  {
   "cell_type": "markdown",
   "metadata": {},
   "source": [
    "# Driver Models"
   ]
  },
  {
   "cell_type": "code",
   "execution_count": 11,
   "metadata": {
    "collapsed": true
   },
   "outputs": [],
   "source": [
    "# Made up ...\n",
    "\n",
    "class BasicDriverModel():\n",
    "    # stationarity: 1 is very aggressive, 4 is not very aggressive\n",
    "    def __init__(self, statio=3.0, dt=0.2):\n",
    "        self.state = \"SPEED_CONSTANT\" # SACCEL SCONSTANT\n",
    "        self.stationarity = statio # every 1, 2, 3 or 4 seconds\n",
    "        self.accel = 0 # -1 0 1 random uniform on ax\n",
    "        self.duration = 0\n",
    "        self.dt = dt\n",
    "        \n",
    "    def step(self):\n",
    "        if self.state == \"SPEED_CONSTANT\":\n",
    "            self.duration += self.dt\n",
    "            if self.duration >= self.stationarity:\n",
    "                self.accel = np.random.randint(low=-1, high=2)\n",
    "                self.state = \"SPEED_CHANGE\"\n",
    "                self.duration = 0\n",
    "        elif self.state == \"SPEED_CHANGE\":\n",
    "            self.duration += self.dt\n",
    "            if self.duration >= self.stationarity:\n",
    "                self.accel = 0\n",
    "                self.state = \"SPEED_CONSTANT\"\n",
    "                self.duration = 0\n",
    "        return self.accel, self.state  "
   ]
  },
  {
   "cell_type": "code",
   "execution_count": 12,
   "metadata": {},
   "outputs": [
    {
     "name": "stdout",
     "output_type": "stream",
     "text": [
      "accel 0 state SPEED_CONSTANT\n",
      "accel 0 state SPEED_CONSTANT\n",
      "accel 0 state SPEED_CONSTANT\n",
      "accel 0 state SPEED_CONSTANT\n",
      "accel 0 state SPEED_CONSTANT\n",
      "accel 0 state SPEED_CONSTANT\n",
      "accel 0 state SPEED_CONSTANT\n",
      "accel 0 state SPEED_CONSTANT\n",
      "accel 0 state SPEED_CONSTANT\n",
      "accel 0 state SPEED_CONSTANT\n",
      "accel 1 state SPEED_CHANGE\n",
      "accel 1 state SPEED_CHANGE\n",
      "accel 1 state SPEED_CHANGE\n",
      "accel 1 state SPEED_CHANGE\n",
      "accel 1 state SPEED_CHANGE\n",
      "accel 1 state SPEED_CHANGE\n",
      "accel 1 state SPEED_CHANGE\n",
      "accel 1 state SPEED_CHANGE\n",
      "accel 1 state SPEED_CHANGE\n",
      "accel 1 state SPEED_CHANGE\n"
     ]
    }
   ],
   "source": [
    "driver = BasicDriverModel(statio=2.0)\n",
    "for i in range(20):\n",
    "    accel, state = driver.step()\n",
    "    print(\"accel {} state {}\".format(accel, state))"
   ]
  },
  {
   "cell_type": "code",
   "execution_count": 13,
   "metadata": {
    "collapsed": true
   },
   "outputs": [],
   "source": [
    "# cf https://en.wikipedia.org/wiki/Intelligent_driver_model\n",
    "# cf https://github.com/sisl/AutoUrban.jl/blob/master/src/drivermodels/IDMDriver.jl\n",
    "\n",
    "class IntelligentDriverModel():\n",
    "    def __init__(self, v_des = 29.0):\n",
    "        self.a = None # predicted acceleration\n",
    "        self.sigma = 0 # optional stdev on top of the model, set to zero for deterministic behavior\n",
    "        \n",
    "        self.k_spd = 1.0 # proportional constant for speed tracking when in freeflow [s⁻¹]\n",
    "        \n",
    "        self.delta = 4.0 # acceleration exponent [-]\n",
    "        self.T = 1.5 # desired time headway [s]\n",
    "        self.v_des = v_des # desired speed [m/s], typically overwritten\n",
    "        self.s_min = 5.0 # minimum acceptable gap [m]\n",
    "        self.a_max = 3.0 # maximum acceleration ability [m/s²]\n",
    "        self.d_cmf = 2.0 # comfortable deceleration [m/s²] (positive)\n",
    "        self.d_max = 9.0 # maximum decelleration [m/s²] (positive)\n",
    "        \n",
    "    def step(self, v_ego, v_oth, headway):\n",
    "        if v_oth is not None:\n",
    "            assert headway is not None and headway > 0, \"v_oth None but headway > 0\"\n",
    "            if headway > 0.0:\n",
    "                dv = v_oth - v_ego\n",
    "                s_des = self.s_min + v_ego * self.T - v_ego * dv / (2 * math.sqrt(self.a_max * self.d_cmf))\n",
    "                \n",
    "                if self.v_des > 0.0:\n",
    "                    v_ratio = v_ego / self.v_des\n",
    "                else:\n",
    "                    v_ratio = 1.0\n",
    "                                        \n",
    "                self.a = self.a_max * (1.0 - v_ratio**self.delta - (s_des / headway)**2)\n",
    "            # elseif headway > -3.0\n",
    "            #    model.a = -model.d_max\n",
    "            else:\n",
    "                dv = self.v_des - v_ego\n",
    "                self.a = dv * self.k_spd\n",
    "        else:\n",
    "            # no lead vehicle, just drive to match desired speed\n",
    "            dv = self.v_des - v_ego\n",
    "            self.a = dv * self.k_spd # predicted accel to match target speed\n",
    "\n",
    "        if self.a is None:\n",
    "            print(\"headway: {} v_oth: {} v_ego: {}\".format(headway, v_oth, v_ego))\n",
    "        assert self.a is not None, \"idm accel None\"\n",
    "\n",
    "        self.a = np.clip(self.a, -self.d_max, self.a_max)\n",
    "        \n",
    "        if self.sigma > 0:\n",
    "            self.a += self.sigma * np.random.randn()\n",
    "            self.a = np.clip(self.a, -self.d_max, self.a_max)\n",
    "            \n",
    "        return self.a"
   ]
  },
  {
   "cell_type": "code",
   "execution_count": 14,
   "metadata": {},
   "outputs": [
    {
     "name": "stdout",
     "output_type": "stream",
     "text": [
      "v_ego 10.6 a 3.0\n",
      "v_ego 11.2 a 3.0\n",
      "v_ego 11.799999999999999 a 3.0\n",
      "v_ego 12.399999999999999 a 3.0\n",
      "v_ego 12.999999999999998 a 3.0\n",
      "v_ego 13.599999999999998 a 3.0\n",
      "v_ego 14.199999999999998 a 3.0\n",
      "v_ego 14.799999999999997 a 3.0\n",
      "v_ego 15.399999999999997 a 3.0\n",
      "v_ego 15.999999999999996 a 3.0\n",
      "v_ego 16.599999999999998 a 3.0\n",
      "v_ego 17.2 a 3.0\n",
      "v_ego 17.8 a 3.0\n",
      "v_ego 18.400000000000002 a 3.0\n",
      "v_ego 19.000000000000004 a 3.0\n",
      "v_ego 19.600000000000005 a 3.0\n",
      "v_ego 20.200000000000006 a 3.0\n",
      "v_ego 20.800000000000008 a 3.0\n",
      "v_ego 21.40000000000001 a 3.0\n",
      "v_ego 22.00000000000001 a 3.0\n",
      "v_ego 22.600000000000012 a 3.0\n",
      "v_ego 23.200000000000014 a 3.0\n",
      "v_ego 23.800000000000015 a 3.0\n",
      "v_ego 24.400000000000016 a 3.0\n",
      "v_ego 25.000000000000018 a 3.0\n",
      "v_ego 25.60000000000002 a 3.0\n",
      "v_ego 26.20000000000002 a 3.0\n",
      "v_ego 26.800000000000022 a 3.0\n",
      "v_ego 27.400000000000023 a 3.0\n",
      "v_ego 27.92000000000002 a 2.5999999999999766\n",
      "v_ego 28.336000000000016 a 2.0799999999999805\n",
      "v_ego 28.66880000000001 a 1.6639999999999837\n",
      "v_ego 28.935040000000008 a 1.3311999999999884\n",
      "v_ego 29.148032000000008 a 1.0649599999999921\n",
      "v_ego 29.318425600000005 a 0.8519679999999923\n",
      "v_ego 29.454740480000005 a 0.6815743999999953\n",
      "v_ego 29.563792384000003 a 0.5452595199999948\n",
      "v_ego 29.651033907200002 a 0.43620761599999724\n",
      "v_ego 29.720827125760003 a 0.3489660927999978\n",
      "v_ego 29.776661700608003 a 0.2791728742399968\n",
      "v_ego 29.821329360486402 a 0.22333829939199745\n",
      "v_ego 29.857063488389123 a 0.17867063951359796\n",
      "v_ego 29.8856507907113 a 0.14293651161087695\n",
      "v_ego 29.90852063256904 a 0.11434920928870085\n",
      "v_ego 29.926816506055232 a 0.09147936743095997\n",
      "v_ego 29.941453204844187 a 0.07318349394476797\n",
      "v_ego 29.95316256387535 a 0.05854679515581296\n",
      "v_ego 29.96253005110028 a 0.04683743612465108\n",
      "v_ego 29.970024040880226 a 0.03746994889971944\n",
      "v_ego 29.976019232704182 a 0.02997595911977413\n",
      "v_ego 29.980815386163346 a 0.023980767295817884\n",
      "v_ego 29.984652308930677 a 0.019184613836653597\n",
      "v_ego 29.98772184714454 a 0.015347691069322877\n",
      "v_ego 29.990177477715633 a 0.012278152855458302\n",
      "v_ego 29.992141982172505 a 0.009822522284366642\n",
      "v_ego 29.993713585738004 a 0.007858017827494734\n",
      "v_ego 29.994970868590404 a 0.006286414261996498\n",
      "v_ego 29.995976694872322 a 0.005029131409596488\n",
      "v_ego 29.99678135589786 a 0.004023305127677901\n",
      "v_ego 29.997425084718287 a 0.0032186441021408996\n"
     ]
    }
   ],
   "source": [
    "driver = IntelligentDriverModel(v_des=30.0)\n",
    "v_ego = 10\n",
    "dt = 0.2\n",
    "for i in range(60):\n",
    "    a = driver.step(v_ego, None, None)\n",
    "    v_ego += a*dt\n",
    "    print(\"v_ego {} a {}\".format(v_ego, a))"
   ]
  },
  {
   "cell_type": "markdown",
   "metadata": {},
   "source": [
    "# Openai gym Anti Collision Test Env"
   ]
  },
  {
   "cell_type": "code",
   "execution_count": 15,
   "metadata": {
    "collapsed": true
   },
   "outputs": [],
   "source": [
    "##################################################################\n",
    "# Anti Collision Tests env compatible with gym openai interface\n",
    "##################################################################\n",
    "\n",
    "# API eg https://github.com/openai/gym/blob/master/gym/envs/classic_control/cartpole.py\n",
    "\n",
    "stationarity = 4.0\n",
    "\n",
    "\n",
    "import gym\n",
    "from gym import spaces, logger\n",
    "from gym.utils import seeding\n",
    "\n",
    "import math\n",
    "import numpy as np\n",
    "import cv2\n",
    "import copy\n",
    "\n",
    "def draw_arrow(image, p, q, color, arrow_magnitude=5, thickness=1, line_type=4, shift=0):\n",
    "    # adapted from http://mlikihazar.blogspot.com.au/2013/02/draw-arrow-opencv.html\n",
    "    # draw arrow tail\n",
    "    cv2.line(image, p, q, color, thickness, line_type, shift)\n",
    "    # calc angle of the arrow\n",
    "    angle = np.arctan2(p[1]-q[1], p[0]-q[0])\n",
    "    # starting point of first line of arrow head\n",
    "    p = (int(q[0] + arrow_magnitude * np.cos(angle + np.pi/4)),\n",
    "    int(q[1] + arrow_magnitude * np.sin(angle + np.pi/4)))\n",
    "    # draw first half of arrow head\n",
    "    cv2.line(image, p, q, color, thickness, line_type, shift)\n",
    "    # starting point of second line of arrow head\n",
    "    p = (int(q[0] + arrow_magnitude * np.cos(angle - np.pi/4)),\n",
    "    int(q[1] + arrow_magnitude * np.sin(angle - np.pi/4)))\n",
    "    # draw second half of arrow head\n",
    "    cv2.line(image, p, q, color, thickness, line_type, shift)\n",
    "\n",
    "# Transition with Constant Acceleration model\n",
    "def transition_ca(s, a, dt=0.2):\n",
    "    Ts = np.matrix([[1.0, 0.0, dt,  0.0], \n",
    "                [0.0, 1.0, 0.0, dt],\n",
    "                [0.0, 0.0, 1.0, 0.0],\n",
    "                [0.0, 0.0, 0.0, 1.0]])\n",
    "    Ta = np.matrix([[0.5*dt**2, 0.0],\n",
    "                [0.0,      0.5*dt**2],\n",
    "                [dt,       0.0],\n",
    "                [0.0,      dt]])\n",
    "    return np.dot(Ts, s) + np.dot(Ta, a)\n",
    "\n",
    "\n",
    "class ActEnv(gym.Env):\n",
    "    def __init__(self, nobjs, max_accel=2, dist_collision=10, reward_shaping=True):    \n",
    "        self.nobjs = nobjs\n",
    "        self.max_accel = max_accel\n",
    "        self.dist_collision = dist_collision\n",
    "        self.reward_shaping = reward_shaping\n",
    "        \n",
    "        self.action_space = spaces.Box(low=-self.max_accel, high=self.max_accel, shape=(1,))\n",
    "        # 1+nobjs: x,y,vx,vy with x,y in [0,200] and vx,vy in [0,40]\n",
    "        self.observation_space = spaces.Box(low=0.0, high=200.0, shape=((1+nobjs)*4,))\n",
    "        \n",
    "        self.seed()\n",
    "        self.reset()\n",
    "\n",
    "    def seed(self, seed=None):\n",
    "        self.np_random, seed = seeding.np_random(seed)\n",
    "        print(\"SEED {}\".format(seed))\n",
    "        return [seed]\n",
    "        \n",
    "    def reset(self):\n",
    "        self.reward = None\n",
    "        self.steps_beyond_done = 0\n",
    "        self.steps = 0\n",
    "        self.smallest_TTC_obj = -1\n",
    "        \n",
    "        self.drivers = []\n",
    "        \n",
    "        # x, y, vx, vy\n",
    "        self.start = np.array([100.0,   0.0,  0.0,  20.0], dtype=int)\n",
    "        self.goal  = np.array([100.0, 200.0, 0.0, 0.0], dtype=int)\n",
    "        # states init\n",
    "        state = ego = self.start\n",
    "        for n in range(int(self.nobjs/2)):\n",
    "            x = self.np_random.randint(low=0, high=50)\n",
    "            y = self.np_random.randint(low=25, high=190)\n",
    "            vx = self.np_random.randint(low=10, high=25)\n",
    "            vy = self.np_random.randint(low=0, high=5)\n",
    "            obj = np.array([x, y, vx, vy])\n",
    "            state = np.append(state, obj)\n",
    "            driver = BasicDriverModel(statio=stationarity)\n",
    "            self.drivers.append(driver)\n",
    "        \n",
    "        for n in range(int(self.nobjs/2)):\n",
    "            x = self.np_random.randint(low=150, high=200)\n",
    "            y = self.np_random.randint(low=25, high=190)\n",
    "            vx = - self.np_random.randint(low=10, high=25)\n",
    "            vy = - self.np_random.randint(low=0, high=5)\n",
    "            obj = np.array([x, y, vx, vy])\n",
    "            state = np.append(state, obj)\n",
    "            driver = BasicDriverModel(statio=stationarity)\n",
    "            self.drivers.append(driver)\n",
    "            \n",
    "        print(state)  \n",
    "        self.s = state\n",
    "        \n",
    "        return self.s\n",
    "    \n",
    "    # TODO reward shaping and reward basic\n",
    "    def _reward(self, s, a, sp):\n",
    "        # Keep track for visualization, plots ...\n",
    "        self.dist_to_goal = get_dist_to_goal(sp, self.goal)\n",
    "        self.dist_nearest_obj = get_dist_nearest_obj(sp)\n",
    "        self.smallest_TTC, self.smallest_TTC_obj = get_smallest_TTC(sp)\n",
    "\n",
    "        # We are dealiong with 3 types of objectives:\n",
    "        # - COMFORT (weiht 1)\n",
    "        # - EFFICIENCY (weight 10)\n",
    "        # - SAFETY (weight 100)\n",
    "\n",
    "        r_comfort = r_efficiency = r_safety = 0\n",
    "\n",
    "        if self.reward_shaping and self.smallest_TTC <= 10.0:\n",
    "            r_safety += -10 - (10 - self.smallest_TTC) * 10 # between [-100, -10]\n",
    "\n",
    "        # SAFETY related + terminal state (overwrite)\n",
    "        if self.dist_nearest_obj <= self.dist_collision:\n",
    "            r_safety += -1000\n",
    "\n",
    "        # The faster we go in this test setup\n",
    "        r_efficiency += a\n",
    "\n",
    "        if a < -2:\n",
    "            r_comfort += -1\n",
    "\n",
    "        # Keep track for visualization, plots ...\n",
    "        self.r_comfort = r_comfort\n",
    "        self.r_efficiency = r_efficiency\n",
    "        self.r_safety = r_safety\n",
    "\n",
    "        return r_comfort + r_efficiency + r_safety\n",
    "        \n",
    "    def render(self):\n",
    "        pos_left = 40\n",
    "        #color_text = (255,255,255)\n",
    "        color_text = (0,0,0)\n",
    "        img = np.zeros([250, 250, 3],dtype=np.uint8)\n",
    "        img.fill(255) # or img[:] = 255\n",
    "        cv2.putText(img, 'Anti Collision Tests', (pos_left, 240), cv2.FONT_HERSHEY_SIMPLEX, 0.5, (0, 0, 255))\n",
    "        \n",
    "        x = self.s[0]; y = self.s[1]; vx = self.s[2]; vy = self.s[3]; v = int(math.sqrt(vx**2 + vy**2)*3.6)\n",
    "        color = (0, 0, 255) # blue\n",
    "        cv2.circle(img, (x, y), 2, color, -1)\n",
    "        draw_arrow(img, (int(x), int(y)), (int(x+vx), int(y+vy)), color)        \n",
    "        cv2.putText(img, str(v) + ' kmh', (x+vx+5, y+vy), cv2.FONT_HERSHEY_SIMPLEX, 0.25, color)\n",
    "        \n",
    "        for i in range(self.nobjs):\n",
    "            if i == self.smallest_TTC_obj:\n",
    "                color = (255, 0, 0) # red\n",
    "            else:\n",
    "                color = (0, 2500, 0) # green\n",
    "            idx = (i+1)*4\n",
    "            x = self.s[idx]; y = self.s[idx+1]; vx = self.s[idx+2]; vy = self.s[idx+3]; v = int(math.sqrt(vx**2 + vy**2)*3.6)\n",
    "            cv2.circle(img, (x, y), 2, color, -1)\n",
    "            draw_arrow(img, (int(x), int(y)), (int(x+vx), int(y+vy)), color)        \n",
    "            cv2.putText(img, str(v) + ' kmh', (x, y), cv2.FONT_HERSHEY_SIMPLEX, 0.25, color_text)\n",
    "        \n",
    "        if self.reward is not None:\n",
    "            str_reward = \"R_com %.2f , R_eff %.2f R_saf %.2f\" % (self.r_comfort, self.r_efficiency, self.r_safety)\n",
    "            cv2.putText(img, str_reward, (pos_left, 205), cv2.FONT_HERSHEY_SIMPLEX, 0.25, color_text)\n",
    "        \n",
    "            str_safety = \"TTC %.2f seconds, D_min %.2f meters\" % (self.smallest_TTC, self.dist_nearest_obj)\n",
    "            cv2.putText(img, str_safety, (pos_left, 215), cv2.FONT_HERSHEY_SIMPLEX, 0.25, color_text)\n",
    "            \n",
    "            str_step = \"Step %d with action %d reward %.2f\" % (self.steps, self.action, self.reward)\n",
    "            cv2.putText(img, str_step, (pos_left, 225), cv2.FONT_HERSHEY_SIMPLEX, 0.25, (0,0,255))\n",
    "        \n",
    "        #img = cv2.resize(img, None, fx=20, fy=20)\n",
    "        #img = cv2.resize(img,(2500, 2500))\n",
    "        return img\n",
    "        \n",
    "    #state, reward, done, info = env.step(action)\n",
    "    def step(self, action):\n",
    "        reward = -1; done = False; info = {}        \n",
    "        sp = copy.copy(self.s)\n",
    "        \n",
    "        s = self.s[0:4]\n",
    "        a = np.array([0.0, action])\n",
    "        sp[0:4] = transition_ca(s, a)\n",
    "        \n",
    "        idx = 4\n",
    "        for n in range(self.nobjs):\n",
    "            s_obj = self.s[idx:idx+4]\n",
    "            accel, state = self.drivers[n].step() # CALL driver model\n",
    "            #print(\"OBJ {} accel {} state {}\".format(n, accel, state))\n",
    "            a_obj = np.array([accel, 0.0])\n",
    "            sp[idx:idx+4] = transition_ca(s_obj, a_obj)\n",
    "            idx += 4\n",
    "            \n",
    "        reward = self._reward(self.s, action, sp)\n",
    "        \n",
    "        self.s = sp\n",
    "        self.action = action\n",
    "        self.reward = reward\n",
    "        self.steps += 1\n",
    "        \n",
    "        if self.dist_nearest_obj <= self.dist_collision or self.s[1] >= self.goal[1]:\n",
    "            print(\"done: dist_nearest_obj {}, y-ego {}\".format(self.dist_nearest_obj, self.s[1]))\n",
    "            done = True\n",
    "            if self.steps_beyond_done > 0:\n",
    "                logger.warn(\"You are calling 'step()' even though this environment has already returned done = True. You should always call 'reset()' once you receive 'done = True' -- any further steps are undefined behavior.\")\n",
    "            self.steps_beyond_done += 1\n",
    "            if self.dist_nearest_obj <= self.dist_collision:\n",
    "                info = \"fail\"\n",
    "            else:\n",
    "                info = \"success\"\n",
    "                \n",
    "        return self.s, reward, done, info\n",
    "    \n",
    "    def close(self):\n",
    "        return"
   ]
  },
  {
   "cell_type": "code",
   "execution_count": 16,
   "metadata": {},
   "outputs": [
    {
     "name": "stdout",
     "output_type": "stream",
     "text": [
      "SEED 2786379769262599224\n",
      "[100   0   0  20  49  69  11   1  31  59  19   3  15  43  14   3  26  47\n",
      "  17   1  15 150  21   4 159  66 -13  -1 188 132 -17  -1 150 132 -11   0\n",
      " 152 129 -16   0 151 153 -13   0]\n"
     ]
    }
   ],
   "source": [
    "env = ActEnv(10)"
   ]
  },
  {
   "cell_type": "code",
   "execution_count": 17,
   "metadata": {},
   "outputs": [
    {
     "data": {
      "image/png": "[encoded data removed]",
      "text/plain": [
       "<Figure size 720x720 with 1 Axes>"
      ]
     },
     "metadata": {},
     "output_type": "display_data"
    }
   ],
   "source": [
    "img = env.render()\n",
    "\n",
    "plt.imshow(img)\n",
    "plt.show()"
   ]
  },
  {
   "cell_type": "code",
   "execution_count": 19,
   "metadata": {},
   "outputs": [
    {
     "name": "stdout",
     "output_type": "stream",
     "text": [
      "====> Start episode 0\n",
      "[100   0   0  20   7  94  12   0   7  39  15   3  39 101  24   1  34 165\n",
      "  14   3  19 123  22   3 181  68 -23  -1 172  94 -14  -1 172 100 -11  -2\n",
      " 153 156 -16   0 161  80 -17  -1]\n",
      "Step 0: action=0.0 reward=-82.91177543510673 done=False\n",
      "Step 1: action=0.0 reward=-85.14434161198112 done=False\n",
      "Step 2: action=0.0 reward=-87.37426590974255 done=False\n",
      "Step 3: action=0.0 reward=-89.60148054994593 done=False\n",
      "Step 4: action=0.0 reward=-91.82591033773106 done=False\n",
      "Step 5: action=0.0 reward=-94.04747184147246 done=False\n",
      "Step 6: action=0.0 reward=-96.26607242980111 done=False\n",
      "Step 7: action=0.0 reward=-98.48160913632361 done=False\n",
      "Step 8: action=0.0 reward=-100.6939673145641 done=False\n",
      "Step 9: action=0.0 reward=-102.90301903540424 done=False\n",
      "Step 10: action=0.0 reward=-105.10862116568576 done=False\n",
      "Step 11: action=0.0 reward=-107.31061304835626 done=False\n",
      "Step 12: action=0.0 reward=-109.50881367967048 done=False\n",
      "Step 13: action=0.0 reward=-103.94646629140396 done=False\n",
      "done: dist_nearest_obj 5.0990195135927845, y-ego 60\n",
      "Step 14: action=0.0 reward=-1106.2925731860341 done=True\n",
      "End of episode 0 with cumulated_reward -2461.4170009732234\n",
      "====> Start episode 1\n",
      "[100   0   0  20  27  85  17   2  37 168  23   0  27 155  15   3  16 126\n",
      "  12   1  30  41  18   0 193  40 -23  -3 173  86 -22   0 199  78 -13  -1\n",
      " 165 101 -16  -3 166  62 -21  -1]\n",
      "Step 0: action=0.0 reward=-86.86492063238087 done=False\n",
      "Step 1: action=0.0 reward=-89.24587301333325 done=False\n",
      "Step 2: action=0.0 reward=-91.62682539428562 done=False\n",
      "Step 3: action=0.0 reward=-94.00777777523801 done=False\n",
      "Step 4: action=0.0 reward=-96.38873015619039 done=False\n",
      "Step 5: action=0.0 reward=-98.76968253714278 done=False\n",
      "Step 6: action=0.0 reward=-101.15063491809515 done=False\n",
      "Step 7: action=0.0 reward=-103.53158729904754 done=False\n",
      "Step 8: action=0.0 reward=-105.91253967999991 done=False\n",
      "Step 9: action=0.0 reward=-108.2934920609523 done=False\n",
      "Step 10: action=0.0 reward=-100.75412698666675 done=False\n",
      "done: dist_nearest_obj 6.324555320336759, y-ego 48\n",
      "Step 11: action=0.0 reward=-1103.135079367619 done=True\n",
      "End of episode 1 with cumulated_reward -2179.6812698209515\n",
      "====> Start episode 2\n",
      "[100   0   0  20  46  60  20   3  44  44  13   2  24 152  14   1  31 139\n",
      "  18   3   7  34  22   3 150  94 -20  -2 190  88 -11  -1 152  84 -15   0\n",
      " 163 177 -22  -4 168 102 -18  -2]\n",
      "Step 0: action=0.0 reward=-85.82836861564792 done=False\n",
      "Step 1: action=0.0 reward=-88.13387430851812 done=False\n",
      "Step 2: action=0.0 reward=-90.42704152585432 done=False\n",
      "Step 3: action=0.0 reward=-92.70903928467678 done=False\n",
      "Step 4: action=0.0 reward=-94.9808187600526 done=False\n",
      "Step 5: action=0.0 reward=-97.24316472667081 done=False\n",
      "Step 6: action=0.0 reward=-99.4967321453907 done=False\n",
      "Step 7: action=0.0 reward=-101.74207281926289 done=False\n",
      "Step 8: action=0.0 reward=-103.97965521939405 done=False\n",
      "Step 9: action=0.0 reward=-106.20987949502391 done=False\n",
      "Step 10: action=0.0 reward=-108.43308901284976 done=False\n",
      "Step 11: action=0.0 reward=-99.94548596661737 done=False\n",
      "done: dist_nearest_obj 8.246211251235321, y-ego 52\n",
      "Step 12: action=0.0 reward=-1102.0315412381995 done=True\n",
      "End of episode 2 with cumulated_reward -2271.1607631181587\n",
      "====> Start episode 3\n",
      "[100   0   0  20  39  32  20   3  16  88  23   1  41  26  17   3  15 154\n",
      "  11   2   0 175  11   3 190 101 -19  -1 154 145 -22  -4 157 134 -14  -1\n",
      " 156 174 -14   0 194 180 -21  -1]\n",
      "Step 0: action=0.0 reward=-73.35572661877556 done=False\n",
      "Step 1: action=0.0 reward=-75.62256464264608 done=False\n",
      "Step 2: action=0.0 reward=-77.82388815687561 done=False\n",
      "Step 3: action=0.0 reward=-79.98085376820788 done=False\n",
      "Step 4: action=0.0 reward=-82.10482010008994 done=False\n",
      "Step 5: action=0.0 reward=-84.20273404723771 done=False\n",
      "Step 6: action=0.0 reward=-86.27921485727633 done=False\n",
      "Step 7: action=0.0 reward=-88.3375185878391 done=False\n",
      "Step 8: action=0.0 reward=-90.38004106160712 done=False\n",
      "Step 9: action=0.0 reward=-92.40860376369865 done=False\n",
      "Step 10: action=0.0 reward=-94.42462734082355 done=False\n",
      "Step 11: action=0.0 reward=-96.42924244474162 done=False\n",
      "Step 12: action=0.0 reward=-98.42336354346038 done=False\n",
      "Step 13: action=0.0 reward=-100.40773977431405 done=False\n",
      "Step 14: action=0.0 reward=-102.38299098591284 done=False\n",
      "Step 15: action=0.0 reward=-104.3496338957656 done=False\n",
      "Step 16: action=0.0 reward=-106.30810145523245 done=False\n",
      "Step 17: action=0.0 reward=-108.25875742412435 done=False\n",
      "Step 18: action=0.0 reward=-109.90988354303516 done=False\n",
      "done: dist_nearest_obj 8.94427190999916, y-ego 80\n",
      "Step 19: action=0.0 reward=-1102.5649873734965 done=True\n",
      "End of episode 3 with cumulated_reward -2853.9552933851605\n",
      "====> Start episode 4\n",
      "[100   0   0  20  47  94  17   1   0  97  19   0  34 150  14   3  32 103\n",
      "  21   0   1 162  19   1 186  96 -20  -4 174 162 -23  -4 153 173 -24  -1\n",
      " 167 105 -15  -2 193 153 -14  -1]\n",
      "Step 0: action=0.0 reward=-75.3753092562591 done=False\n",
      "Step 1: action=0.0 reward=-77.41064235015082 done=False\n",
      "Step 2: action=0.0 reward=-79.44556212447262 done=False\n",
      "Step 3: action=0.0 reward=-81.48006466097239 done=False\n",
      "Step 4: action=0.0 reward=-83.51414587485867 done=False\n",
      "Step 5: action=0.0 reward=-85.54780150825201 done=False\n",
      "Step 6: action=0.0 reward=-87.5810271232214 done=False\n",
      "Step 7: action=0.0 reward=-89.61381809437609 done=False\n",
      "Step 8: action=0.0 reward=-91.64616960098031 done=False\n",
      "Step 9: action=0.0 reward=-93.67807661855579 done=False\n",
      "Step 10: action=0.0 reward=-95.70953390993321 done=False\n",
      "Step 11: action=0.0 reward=-97.7405360157107 done=False\n",
      "Step 12: action=0.0 reward=-99.77107724407313 done=False\n",
      "Step 13: action=0.0 reward=-101.80115165992154 done=False\n",
      "Step 14: action=0.0 reward=-103.83075307325745 done=False\n",
      "Step 15: action=0.0 reward=-105.85987502676082 done=False\n",
      "Step 16: action=0.0 reward=-107.88851078249476 done=False\n",
      "Step 17: action=0.0 reward=-109.91665330766315 done=False\n",
      "Step 18: action=0.0 reward=-106.06239184746565 done=False\n",
      "done: dist_nearest_obj 7.211102550927978, y-ego 80\n",
      "Step 19: action=0.0 reward=-1109.2327120422656 done=True\n",
      "End of episode 4 with cumulated_reward -2883.105812121645\n",
      "METRICS: SAFETY %collisions = 1.0, COMFORT MeanHardBrake = nan, EFFICIENCY MeanStepsToGoal = nan\n"
     ]
    },
    {
     "name": "stderr",
     "output_type": "stream",
     "text": [
      "/home/phw/anaconda3/envs/py36/lib/python3.6/site-packages/numpy/core/fromnumeric.py:2957: RuntimeWarning: Mean of empty slice.\n",
      "  out=out, **kwargs)\n",
      "/home/phw/anaconda3/envs/py36/lib/python3.6/site-packages/numpy/core/_methods.py:80: RuntimeWarning: invalid value encountered in double_scalars\n",
      "  ret = ret.dtype.type(ret / rcount)\n"
     ]
    }
   ],
   "source": [
    "max_episodes = 5\n",
    "max_steps = 120\n",
    "\n",
    "# METRICS\n",
    "metric_success = 0 # EFFICIENCY\n",
    "metric_steps_to_goal = [] # SAFETY\n",
    "metric_hardbrake = [] # COMFORT\n",
    "\n",
    "for episode in range(max_episodes):\n",
    "    print(\"====> Start episode {}\".format(episode))\n",
    "    env.reset()\n",
    "    cumulated_reward = 0\n",
    "    images = []\n",
    "    \n",
    "    hardbrake = 0    \n",
    "    for n in range(max_steps):\n",
    "        action = 0.0\n",
    "        if action <= -2:\n",
    "            hardbrake += 1\n",
    "        state, reward, done, info = env.step(action)\n",
    "        cumulated_reward += reward\n",
    "        print(\"Step {}: action={} reward={} done={}\".format(n, action, reward, done)) # PHW DEBUG\n",
    "        img = env.render()\n",
    "        images.append(img)\n",
    "        if done is True:\n",
    "            if info == \"success\":\n",
    "                metric_success += 1\n",
    "                metric_steps_to_goal.append(n)\n",
    "                metric_hardbrake.append(hardbrake)\n",
    "            print(\"End of episode {} with cumulated_reward {}\".format(episode, cumulated_reward))\n",
    "            break\n",
    "            \n",
    "print(\"METRICS: SAFETY %collisions = {}, COMFORT MeanHardBrake = {}, EFFICIENCY MeanStepsToGoal = {}\".format(1-metric_success/max_episodes, np.mean(metric_hardbrake), np.mean(metric_steps_to_goal)))"
   ]
  },
  {
   "cell_type": "code",
   "execution_count": 20,
   "metadata": {},
   "outputs": [
    {
     "name": "stdout",
     "output_type": "stream",
     "text": [
      "[]\n",
      "0\n",
      "[]\n",
      "5\n"
     ]
    }
   ],
   "source": [
    "print(metric_hardbrake)\n",
    "print(metric_success)\n",
    "print(metric_steps_to_goal)\n",
    "print(max_episodes)"
   ]
  },
  {
   "cell_type": "code",
   "execution_count": 25,
   "metadata": {},
   "outputs": [
    {
     "data": {
      "image/png": "[encoded data removed]",
      "text/plain": [
       "<Figure size 720x720 with 1 Axes>"
      ]
     },
     "metadata": {},
     "output_type": "display_data"
    }
   ],
   "source": [
    "show_img(images[8])"
   ]
  },
  {
   "cell_type": "markdown",
   "metadata": {
    "collapsed": true
   },
   "source": [
    "# Visualization"
   ]
  },
  {
   "cell_type": "code",
   "execution_count": 22,
   "metadata": {
    "collapsed": true
   },
   "outputs": [],
   "source": [
    "import imageio\n",
    "from IPython.core.display import HTML"
   ]
  },
  {
   "cell_type": "code",
   "execution_count": 23,
   "metadata": {},
   "outputs": [
    {
     "data": {
      "text/html": [
       "<img src=\"img/visu.gif\"/>"
      ],
      "text/plain": [
       "<IPython.core.display.HTML object>"
      ]
     },
     "execution_count": 23,
     "metadata": {},
     "output_type": "execute_result"
    }
   ],
   "source": [
    "imageio.mimsave('img/visu.gif', images, duration=0.2)\n",
    "HTML(\"\"\"<img src=\"img/visu.gif\"/>\"\"\")"
   ]
  },
  {
   "cell_type": "code",
   "execution_count": 24,
   "metadata": {},
   "outputs": [
    {
     "data": {
      "text/html": [
       "<img src=\"img/visu2.gif\"/>"
      ],
      "text/plain": [
       "<IPython.core.display.HTML object>"
      ]
     },
     "execution_count": 24,
     "metadata": {},
     "output_type": "execute_result"
    }
   ],
   "source": [
    "big_images = resize_images(images, f=2)\n",
    "imageio.mimsave('img/visu2.gif', big_images, duration=0.2)\n",
    "HTML(\"\"\"<img src=\"img/visu2.gif\"/>\"\"\")"
   ]
  },
  {
   "cell_type": "code",
   "execution_count": null,
   "metadata": {
    "collapsed": true
   },
   "outputs": [],
   "source": []
  }
 ],
 "metadata": {
  "kernelspec": {
   "display_name": "Python [conda env:py36]",
   "language": "python",
   "name": "conda-env-py36-py"
  },
  "language_info": {
   "codemirror_mode": {
    "name": "ipython",
    "version": 3
   },
   "file_extension": ".py",
   "mimetype": "text/x-python",
   "name": "python",
   "nbconvert_exporter": "python",
   "pygments_lexer": "ipython3",
   "version": "3.6.2"
  }
 },
 "nbformat": 4,
 "nbformat_minor": 2
}
