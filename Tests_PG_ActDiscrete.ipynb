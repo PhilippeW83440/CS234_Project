{
 "cells": [
  {
   "cell_type": "code",
   "execution_count": 1,
   "metadata": {
    "collapsed": true
   },
   "outputs": [],
   "source": [
    "import tensorflow as tf\n",
    "import numpy as np\n",
    "import gym\n",
    "from gym.spaces import Discrete, Box"
   ]
  },
  {
   "cell_type": "markdown",
   "metadata": {},
   "source": [
    "# The most simple PG algo with discrete action space"
   ]
  },
  {
   "cell_type": "code",
   "execution_count": 2,
   "metadata": {
    "collapsed": true
   },
   "outputs": [],
   "source": [
    "def mlp(x, sizes, activation=tf.tanh, output_activation=None):\n",
    "    # Build a feedforward neural network.\n",
    "    for size in sizes[:-1]:\n",
    "        x = tf.layers.dense(x, units=size, activation=activation)\n",
    "    return tf.layers.dense(x, units=sizes[-1], activation=output_activation)\n",
    "\n",
    "def reward_to_go(rews):\n",
    "    n = len(rews)\n",
    "    rtgs = np.zeros_like(rews)\n",
    "    for i in reversed(range(n)):\n",
    "        rtgs[i] = rews[i] + (rtgs[i+1] if i+1 < n else 0)\n",
    "    return rtgs\n",
    "\n",
    "def train(env_name='CartPole-v0', hidden_sizes=[32], lr=1e-2, \n",
    "          epochs=50, batch_size=5000, render=False):\n",
    "\n",
    "    # make environment, check spaces, get obs / act dims\n",
    "    env = gym.make(env_name)\n",
    "    assert isinstance(env.observation_space, Box), \\\n",
    "        \"This example only works for envs with continuous state spaces.\"\n",
    "    assert isinstance(env.action_space, Discrete), \\\n",
    "        \"This example only works for envs with discrete action spaces.\"\n",
    "\n",
    "    obs_dim = env.observation_space.shape[0]\n",
    "    n_acts = env.action_space.n\n",
    "\n",
    "    # make core of policy network\n",
    "    obs_ph = tf.placeholder(shape=(None, obs_dim), dtype=tf.float32)\n",
    "    logits = mlp(obs_ph, sizes=hidden_sizes+[n_acts])\n",
    "\n",
    "    # make action selection op (outputs int actions, sampled from policy)\n",
    "    actions = tf.squeeze(tf.multinomial(logits=logits,num_samples=1), axis=1)\n",
    "\n",
    "    # make loss function whose gradient, for the right data, is policy gradient\n",
    "    weights_ph = tf.placeholder(shape=(None,), dtype=tf.float32)\n",
    "    act_ph = tf.placeholder(shape=(None,), dtype=tf.int32)\n",
    "    action_masks = tf.one_hot(act_ph, n_acts)\n",
    "    log_probs = tf.reduce_sum(action_masks * tf.nn.log_softmax(logits), axis=1)\n",
    "    loss = -tf.reduce_mean(weights_ph * log_probs)\n",
    "\n",
    "    # make train op\n",
    "    train_op = tf.train.AdamOptimizer(learning_rate=lr).minimize(loss)\n",
    "\n",
    "    sess = tf.InteractiveSession()\n",
    "    sess.run(tf.global_variables_initializer())\n",
    "\n",
    "    # for training policy\n",
    "    def train_one_epoch():\n",
    "        # make some empty lists for logging.\n",
    "        batch_obs = []          # for observations\n",
    "        batch_acts = []         # for actions\n",
    "        batch_weights = []      # for reward-to-go weighting in policy gradient\n",
    "        batch_rets = []         # for measuring episode returns\n",
    "        batch_lens = []         # for measuring episode lengths\n",
    "\n",
    "        # reset episode-specific variables\n",
    "        obs = env.reset()       # first obs comes from starting distribution\n",
    "        done = False            # signal from environment that episode is over\n",
    "        ep_rews = []            # list for rewards accrued throughout ep\n",
    "\n",
    "        # render first episode of each epoch\n",
    "        finished_rendering_this_epoch = False\n",
    "\n",
    "        # collect experience by acting in the environment with current policy\n",
    "        while True:\n",
    "\n",
    "            # rendering\n",
    "            if (not finished_rendering_this_epoch) and render:\n",
    "                env.render()\n",
    "\n",
    "            # save obs\n",
    "            batch_obs.append(obs.copy())\n",
    "\n",
    "            # act in the environment\n",
    "            act = sess.run(actions, {obs_ph: obs.reshape(1,-1)})[0]\n",
    "            obs, rew, done, _ = env.step(act)\n",
    "\n",
    "            # save action, reward\n",
    "            batch_acts.append(act)\n",
    "            ep_rews.append(rew)\n",
    "\n",
    "            if done:\n",
    "                # if episode is over, record info about episode\n",
    "                ep_ret, ep_len = sum(ep_rews), len(ep_rews)\n",
    "                batch_rets.append(ep_ret)\n",
    "                batch_lens.append(ep_len)\n",
    "\n",
    "                # the weight for each logprob(a_t|s_t) is reward-to-go from t\n",
    "                batch_weights += list(reward_to_go(ep_rews))\n",
    "\n",
    "                # reset episode-specific variables\n",
    "                obs, done, ep_rews = env.reset(), False, []\n",
    "\n",
    "                # won't render again this epoch\n",
    "                finished_rendering_this_epoch = True\n",
    "\n",
    "                # end experience loop if we have enough of it\n",
    "                if len(batch_obs) > batch_size:\n",
    "                    break\n",
    "\n",
    "        # take a single policy gradient update step\n",
    "        batch_loss, _ = sess.run([loss, train_op],\n",
    "                                 feed_dict={\n",
    "                                    obs_ph: np.array(batch_obs),\n",
    "                                    act_ph: np.array(batch_acts),\n",
    "                                    weights_ph: np.array(batch_weights)\n",
    "                                 })\n",
    "        return batch_loss, batch_rets, batch_lens\n",
    "\n",
    "    # training loop\n",
    "    for i in range(epochs):\n",
    "        batch_loss, batch_rets, batch_lens = train_one_epoch()\n",
    "        print('epoch: %3d \\t loss: %.3f \\t return: %.3f \\t ep_len: %.3f'%\n",
    "                (i, batch_loss, np.mean(batch_rets), np.mean(batch_lens)))"
   ]
  },
  {
   "cell_type": "code",
   "execution_count": 3,
   "metadata": {
    "collapsed": true
   },
   "outputs": [],
   "source": [
    "import gym_act"
   ]
  },
  {
   "cell_type": "code",
   "execution_count": 6,
   "metadata": {
    "collapsed": true
   },
   "outputs": [],
   "source": [
    "env_name='CartPole-v0'\n",
    "env_name='ActDiscrete-v0'\n",
    "lr=1e-1\n",
    "render=False\n",
    "epochs=200"
   ]
  },
  {
   "cell_type": "code",
   "execution_count": 7,
   "metadata": {
    "collapsed": false
   },
   "outputs": [
    {
     "name": "stderr",
     "output_type": "stream",
     "text": [
      "[2019-03-15 21:27:44,648] Making new env: ActDiscrete-v0\n"
     ]
    },
    {
     "name": "stdout",
     "output_type": "stream",
     "text": [
      "ACT (Anti Collision Tests) with 2 cars using cv driver model\n",
      "SEED 7086687208948489140\n",
      "epoch:   0 \t loss: 822.037 \t return: 329.887 \t ep_len: 51.557\n",
      "epoch:   1 \t loss: 446.678 \t return: 129.338 \t ep_len: 36.129\n",
      "epoch:   2 \t loss: 412.969 \t return: 290.031 \t ep_len: 38.214\n",
      "epoch:   3 \t loss: 378.446 \t return: 312.896 \t ep_len: 43.626\n",
      "epoch:   4 \t loss: 327.365 \t return: 249.782 \t ep_len: 40.540\n",
      "epoch:   5 \t loss: 277.026 \t return: 204.169 \t ep_len: 35.268\n",
      "epoch:   6 \t loss: 274.522 \t return: 211.742 \t ep_len: 33.291\n",
      "epoch:   7 \t loss: 224.852 \t return: 209.378 \t ep_len: 33.865\n",
      "epoch:   8 \t loss: 225.740 \t return: 172.166 \t ep_len: 33.132\n",
      "epoch:   9 \t loss: 241.998 \t return: 337.803 \t ep_len: 35.437\n",
      "epoch:  10 \t loss: 182.717 \t return: 132.358 \t ep_len: 33.205\n",
      "epoch:  11 \t loss: 195.952 \t return: 197.191 \t ep_len: 33.072\n",
      "epoch:  12 \t loss: 190.769 \t return: 251.556 \t ep_len: 33.212\n",
      "epoch:  13 \t loss: 194.740 \t return: 224.980 \t ep_len: 33.298\n",
      "epoch:  14 \t loss: 177.785 \t return: 164.362 \t ep_len: 33.007\n",
      "epoch:  15 \t loss: 168.744 \t return: 132.797 \t ep_len: 31.759\n",
      "epoch:  16 \t loss: 190.896 \t return: 222.183 \t ep_len: 32.719\n",
      "epoch:  17 \t loss: 198.157 \t return: 333.327 \t ep_len: 33.340\n",
      "epoch:  18 \t loss: 175.186 \t return: 168.700 \t ep_len: 31.300\n",
      "epoch:  19 \t loss: 179.758 \t return: 211.288 \t ep_len: 32.301\n",
      "epoch:  20 \t loss: 133.541 \t return: 117.228 \t ep_len: 30.920\n",
      "epoch:  21 \t loss: 127.808 \t return: 173.739 \t ep_len: 31.230\n",
      "epoch:  22 \t loss: 103.112 \t return: 99.273 \t ep_len: 31.161\n",
      "epoch:  23 \t loss: 128.842 \t return: 279.162 \t ep_len: 32.526\n",
      "epoch:  24 \t loss: 111.774 \t return: 221.418 \t ep_len: 31.747\n",
      "epoch:  25 \t loss: 133.673 \t return: 201.088 \t ep_len: 31.616\n",
      "epoch:  26 \t loss: 112.098 \t return: 203.636 \t ep_len: 30.932\n",
      "epoch:  27 \t loss: 80.575 \t return: 78.301 \t ep_len: 30.133\n",
      "epoch:  28 \t loss: 68.790 \t return: 234.082 \t ep_len: 31.741\n",
      "epoch:  29 \t loss: 58.593 \t return: 213.748 \t ep_len: 31.535\n",
      "epoch:  30 \t loss: 38.491 \t return: 168.639 \t ep_len: 30.157\n",
      "epoch:  31 \t loss: 30.151 \t return: 183.847 \t ep_len: 30.877\n",
      "epoch:  32 \t loss: 30.124 \t return: 254.516 \t ep_len: 31.199\n",
      "epoch:  33 \t loss: 17.164 \t return: 171.724 \t ep_len: 30.730\n",
      "epoch:  34 \t loss: 11.424 \t return: 234.114 \t ep_len: 31.709\n",
      "epoch:  35 \t loss: 20.761 \t return: 191.198 \t ep_len: 31.025\n",
      "epoch:  36 \t loss: 31.951 \t return: 198.745 \t ep_len: 31.068\n",
      "epoch:  37 \t loss: 31.414 \t return: 374.006 \t ep_len: 32.445\n",
      "epoch:  38 \t loss: 37.413 \t return: 201.164 \t ep_len: 31.541\n",
      "epoch:  39 \t loss: 31.929 \t return: 314.302 \t ep_len: 31.610\n",
      "epoch:  40 \t loss: 28.401 \t return: 215.951 \t ep_len: 30.963\n",
      "epoch:  41 \t loss: 34.087 \t return: 264.101 \t ep_len: 31.497\n",
      "epoch:  42 \t loss: 29.253 \t return: 212.406 \t ep_len: 31.344\n",
      "epoch:  43 \t loss: 18.472 \t return: 194.887 \t ep_len: 31.528\n",
      "epoch:  44 \t loss: 21.181 \t return: 309.892 \t ep_len: 31.880\n",
      "epoch:  45 \t loss: 24.651 \t return: 238.881 \t ep_len: 31.560\n",
      "epoch:  46 \t loss: 20.252 \t return: 410.417 \t ep_len: 33.291\n",
      "epoch:  47 \t loss: 15.080 \t return: 89.113 \t ep_len: 29.935\n",
      "epoch:  48 \t loss: 23.418 \t return: 389.481 \t ep_len: 32.597\n",
      "epoch:  49 \t loss: 18.000 \t return: 348.316 \t ep_len: 32.329\n"
     ]
    }
   ],
   "source": [
    "train(env_name=env_name, render=render, lr=lr, epochs=epochs)"
   ]
  },
  {
   "cell_type": "code",
   "execution_count": null,
   "metadata": {
    "collapsed": true
   },
   "outputs": [],
   "source": []
  }
 ],
 "metadata": {
  "anaconda-cloud": {},
  "kernelspec": {
   "display_name": "Python [conda env:py36]",
   "language": "python",
   "name": "conda-env-py36-py"
  },
  "language_info": {
   "codemirror_mode": {
    "name": "ipython",
    "version": 3
   },
   "file_extension": ".py",
   "mimetype": "text/x-python",
   "name": "python",
   "nbconvert_exporter": "python",
   "pygments_lexer": "ipython3",
   "version": "3.6.8"
  }
 },
 "nbformat": 4,
 "nbformat_minor": 1
}
