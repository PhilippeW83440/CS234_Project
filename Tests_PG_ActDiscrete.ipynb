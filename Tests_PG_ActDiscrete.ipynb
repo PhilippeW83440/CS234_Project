{
 "cells": [
  {
   "cell_type": "code",
   "execution_count": 1,
   "metadata": {
    "collapsed": true
   },
   "outputs": [],
   "source": [
    "import tensorflow as tf\n",
    "import numpy as np\n",
    "import gym\n",
    "from gym.spaces import Discrete, Box"
   ]
  },
  {
   "cell_type": "markdown",
   "metadata": {},
   "source": [
    "# The most simple PG algo with discrete action space"
   ]
  },
  {
   "cell_type": "code",
   "execution_count": 2,
   "metadata": {
    "collapsed": true
   },
   "outputs": [],
   "source": [
    "def mlp(x, sizes, activation=tf.tanh, output_activation=None):\n",
    "    # Build a feedforward neural network.\n",
    "    for size in sizes[:-1]:\n",
    "        x = tf.layers.dense(x, units=size, activation=activation)\n",
    "    return tf.layers.dense(x, units=sizes[-1], activation=output_activation)\n",
    "\n",
    "def reward_to_go(rews):\n",
    "    n = len(rews)\n",
    "    rtgs = np.zeros_like(rews)\n",
    "    for i in reversed(range(n)):\n",
    "        rtgs[i] = rews[i] + (rtgs[i+1] if i+1 < n else 0)\n",
    "    return rtgs\n",
    "\n",
    "def train(env_name='CartPole-v0', hidden_sizes=[32], lr=1e-2, \n",
    "          epochs=50, batch_size=5000, render=False):\n",
    "\n",
    "    # make environment, check spaces, get obs / act dims\n",
    "    env = gym.make(env_name)\n",
    "    assert isinstance(env.observation_space, Box), \\\n",
    "        \"This example only works for envs with continuous state spaces.\"\n",
    "    assert isinstance(env.action_space, Discrete), \\\n",
    "        \"This example only works for envs with discrete action spaces.\"\n",
    "\n",
    "    obs_dim = env.observation_space.shape[0]\n",
    "    n_acts = env.action_space.n\n",
    "\n",
    "    # make core of policy network\n",
    "    obs_ph = tf.placeholder(shape=(None, obs_dim), dtype=tf.float32)\n",
    "    logits = mlp(obs_ph, sizes=hidden_sizes+[n_acts])\n",
    "\n",
    "    # make action selection op (outputs int actions, sampled from policy)\n",
    "    actions = tf.squeeze(tf.multinomial(logits=logits,num_samples=1), axis=1)\n",
    "\n",
    "    # make loss function whose gradient, for the right data, is policy gradient\n",
    "    weights_ph = tf.placeholder(shape=(None,), dtype=tf.float32)\n",
    "    act_ph = tf.placeholder(shape=(None,), dtype=tf.int32)\n",
    "    action_masks = tf.one_hot(act_ph, n_acts)\n",
    "    log_probs = tf.reduce_sum(action_masks * tf.nn.log_softmax(logits), axis=1)\n",
    "    loss = -tf.reduce_mean(weights_ph * log_probs)\n",
    "\n",
    "    # make train op\n",
    "    train_op = tf.train.AdamOptimizer(learning_rate=lr).minimize(loss)\n",
    "\n",
    "    sess = tf.InteractiveSession()\n",
    "    sess.run(tf.global_variables_initializer())\n",
    "\n",
    "    # for training policy\n",
    "    def train_one_epoch():\n",
    "        # make some empty lists for logging.\n",
    "        batch_obs = []          # for observations\n",
    "        batch_acts = []         # for actions\n",
    "        batch_weights = []      # for reward-to-go weighting in policy gradient\n",
    "        batch_rets = []         # for measuring episode returns\n",
    "        batch_lens = []         # for measuring episode lengths\n",
    "\n",
    "        # reset episode-specific variables\n",
    "        obs = env.reset()       # first obs comes from starting distribution\n",
    "        done = False            # signal from environment that episode is over\n",
    "        ep_rews = []            # list for rewards accrued throughout ep\n",
    "\n",
    "        # render first episode of each epoch\n",
    "        finished_rendering_this_epoch = False\n",
    "\n",
    "        # collect experience by acting in the environment with current policy\n",
    "        while True:\n",
    "\n",
    "            # rendering\n",
    "            if (not finished_rendering_this_epoch) and render:\n",
    "                env.render()\n",
    "\n",
    "            # save obs\n",
    "            batch_obs.append(obs.copy())\n",
    "\n",
    "            # act in the environment\n",
    "            act = sess.run(actions, {obs_ph: obs.reshape(1,-1)})[0]\n",
    "            obs, rew, done, _ = env.step(act)\n",
    "\n",
    "            # save action, reward\n",
    "            batch_acts.append(act)\n",
    "            ep_rews.append(rew)\n",
    "\n",
    "            if done:\n",
    "                # if episode is over, record info about episode\n",
    "                ep_ret, ep_len = sum(ep_rews), len(ep_rews)\n",
    "                batch_rets.append(ep_ret)\n",
    "                batch_lens.append(ep_len)\n",
    "\n",
    "                # the weight for each logprob(a_t|s_t) is reward-to-go from t\n",
    "                batch_weights += list(reward_to_go(ep_rews))\n",
    "\n",
    "                # reset episode-specific variables\n",
    "                obs, done, ep_rews = env.reset(), False, []\n",
    "\n",
    "                # won't render again this epoch\n",
    "                finished_rendering_this_epoch = True\n",
    "\n",
    "                # end experience loop if we have enough of it\n",
    "                if len(batch_obs) > batch_size:\n",
    "                    break\n",
    "\n",
    "        # take a single policy gradient update step\n",
    "        batch_loss, _ = sess.run([loss, train_op],\n",
    "                                 feed_dict={\n",
    "                                    obs_ph: np.array(batch_obs),\n",
    "                                    act_ph: np.array(batch_acts),\n",
    "                                    weights_ph: np.array(batch_weights)\n",
    "                                 })\n",
    "        return batch_loss, batch_rets, batch_lens\n",
    "\n",
    "    # training loop\n",
    "    for i in range(epochs):\n",
    "        batch_loss, batch_rets, batch_lens = train_one_epoch()\n",
    "        print('epoch: %3d \\t loss: %.3f \\t return: %.3f \\t ep_len: %.3f'%\n",
    "                (i, batch_loss, np.mean(batch_rets), np.mean(batch_lens)))"
   ]
  },
  {
   "cell_type": "code",
   "execution_count": 8,
   "metadata": {
    "collapsed": true
   },
   "outputs": [],
   "source": [
    "import gym_act"
   ]
  },
  {
   "cell_type": "code",
   "execution_count": 9,
   "metadata": {
    "collapsed": true
   },
   "outputs": [],
   "source": [
    "env_name='CartPole-v0'\n",
    "#env_name='ActDiscrete-v0'\n",
    "lr=1e-1\n",
    "render=False"
   ]
  },
  {
   "cell_type": "code",
   "execution_count": 7,
   "metadata": {
    "collapsed": false
   },
   "outputs": [
    {
     "name": "stderr",
     "output_type": "stream",
     "text": [
      "[2019-03-15 20:51:57,182] Making new env: CartPole-v0\n",
      "/home/philippew/anaconda3/envs/py36/lib/python3.6/site-packages/gym/envs/registration.py:17: PkgResourcesDeprecationWarning: Parameters to load are deprecated.  Call .resolve and .require separately.\n",
      "  result = entry_point.load(False)\n"
     ]
    },
    {
     "name": "stdout",
     "output_type": "stream",
     "text": [
      "epoch:   0 \t loss: 16.304 \t return: 33.212 \t ep_len: 33.212\n",
      "epoch:   1 \t loss: 12.601 \t return: 34.752 \t ep_len: 34.752\n",
      "epoch:   2 \t loss: 25.358 \t return: 78.531 \t ep_len: 78.531\n",
      "epoch:   3 \t loss: 15.784 \t return: 54.140 \t ep_len: 54.140\n",
      "epoch:   4 \t loss: 21.826 \t return: 84.864 \t ep_len: 84.864\n",
      "epoch:   5 \t loss: 37.547 \t return: 164.839 \t ep_len: 164.839\n",
      "epoch:   6 \t loss: 40.535 \t return: 190.667 \t ep_len: 190.667\n",
      "epoch:   7 \t loss: 41.872 \t return: 200.000 \t ep_len: 200.000\n",
      "epoch:   8 \t loss: 37.999 \t return: 173.862 \t ep_len: 173.862\n",
      "epoch:   9 \t loss: 25.943 \t return: 102.143 \t ep_len: 102.143\n",
      "epoch:  10 \t loss: 33.311 \t return: 139.750 \t ep_len: 139.750\n",
      "epoch:  11 \t loss: 35.438 \t return: 200.000 \t ep_len: 200.000\n",
      "epoch:  12 \t loss: 25.437 \t return: 178.750 \t ep_len: 178.750\n",
      "epoch:  13 \t loss: 18.259 \t return: 154.848 \t ep_len: 154.848\n",
      "epoch:  14 \t loss: 20.116 \t return: 169.567 \t ep_len: 169.567\n",
      "epoch:  15 \t loss: 18.165 \t return: 170.533 \t ep_len: 170.533\n",
      "epoch:  16 \t loss: 14.731 \t return: 146.314 \t ep_len: 146.314\n",
      "epoch:  17 \t loss: 12.776 \t return: 148.441 \t ep_len: 148.441\n",
      "epoch:  18 \t loss: 14.680 \t return: 184.786 \t ep_len: 184.786\n",
      "epoch:  19 \t loss: 15.640 \t return: 200.000 \t ep_len: 200.000\n",
      "epoch:  20 \t loss: 15.093 \t return: 200.000 \t ep_len: 200.000\n",
      "epoch:  21 \t loss: 15.546 \t return: 200.000 \t ep_len: 200.000\n",
      "epoch:  22 \t loss: 16.532 \t return: 200.000 \t ep_len: 200.000\n",
      "epoch:  23 \t loss: 15.267 \t return: 200.000 \t ep_len: 200.000\n",
      "epoch:  24 \t loss: 16.651 \t return: 200.000 \t ep_len: 200.000\n",
      "epoch:  25 \t loss: 13.536 \t return: 200.000 \t ep_len: 200.000\n",
      "epoch:  26 \t loss: 14.791 \t return: 200.000 \t ep_len: 200.000\n",
      "epoch:  27 \t loss: 14.291 \t return: 200.000 \t ep_len: 200.000\n",
      "epoch:  28 \t loss: 14.030 \t return: 200.000 \t ep_len: 200.000\n",
      "epoch:  29 \t loss: 12.704 \t return: 200.000 \t ep_len: 200.000\n",
      "epoch:  30 \t loss: 11.509 \t return: 200.000 \t ep_len: 200.000\n",
      "epoch:  31 \t loss: 11.298 \t return: 200.000 \t ep_len: 200.000\n",
      "epoch:  32 \t loss: 11.392 \t return: 200.000 \t ep_len: 200.000\n",
      "epoch:  33 \t loss: 10.312 \t return: 200.000 \t ep_len: 200.000\n",
      "epoch:  34 \t loss: 11.425 \t return: 200.000 \t ep_len: 200.000\n",
      "epoch:  35 \t loss: 10.064 \t return: 200.000 \t ep_len: 200.000\n",
      "epoch:  36 \t loss: 10.250 \t return: 200.000 \t ep_len: 200.000\n",
      "epoch:  37 \t loss: 10.108 \t return: 200.000 \t ep_len: 200.000\n",
      "epoch:  38 \t loss: 9.441 \t return: 192.296 \t ep_len: 192.296\n",
      "epoch:  39 \t loss: 10.913 \t return: 191.815 \t ep_len: 191.815\n",
      "epoch:  40 \t loss: 11.473 \t return: 191.630 \t ep_len: 191.630\n",
      "epoch:  41 \t loss: 11.148 \t return: 189.296 \t ep_len: 189.296\n",
      "epoch:  42 \t loss: 10.765 \t return: 195.462 \t ep_len: 195.462\n",
      "epoch:  43 \t loss: 10.453 \t return: 195.346 \t ep_len: 195.346\n",
      "epoch:  44 \t loss: 10.859 \t return: 200.000 \t ep_len: 200.000\n",
      "epoch:  45 \t loss: 9.848 \t return: 200.000 \t ep_len: 200.000\n",
      "epoch:  46 \t loss: 9.649 \t return: 200.000 \t ep_len: 200.000\n",
      "epoch:  47 \t loss: 10.225 \t return: 200.000 \t ep_len: 200.000\n",
      "epoch:  48 \t loss: 7.958 \t return: 200.000 \t ep_len: 200.000\n",
      "epoch:  49 \t loss: 7.613 \t return: 199.923 \t ep_len: 199.923\n"
     ]
    }
   ],
   "source": [
    "train(env_name=env_name, render=render, lr=lr)"
   ]
  },
  {
   "cell_type": "code",
   "execution_count": null,
   "metadata": {
    "collapsed": true
   },
   "outputs": [],
   "source": []
  }
 ],
 "metadata": {
  "anaconda-cloud": {},
  "kernelspec": {
   "display_name": "Python [conda env:py36]",
   "language": "python",
   "name": "conda-env-py36-py"
  },
  "language_info": {
   "codemirror_mode": {
    "name": "ipython",
    "version": 3
   },
   "file_extension": ".py",
   "mimetype": "text/x-python",
   "name": "python",
   "nbconvert_exporter": "python",
   "pygments_lexer": "ipython3",
   "version": "3.6.8"
  }
 },
 "nbformat": 4,
 "nbformat_minor": 1
}
